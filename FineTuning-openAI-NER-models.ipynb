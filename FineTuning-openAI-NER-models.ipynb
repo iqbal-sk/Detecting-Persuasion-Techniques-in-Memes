{
 "cells": [
  {
   "cell_type": "code",
   "execution_count": 13,
   "id": "initial_id",
   "metadata": {
    "collapsed": true,
    "ExecuteTime": {
     "end_time": "2024-04-28T07:47:58.458270Z",
     "start_time": "2024-04-28T07:47:58.439732Z"
    }
   },
   "outputs": [],
   "source": [
    "from collections import deque\n",
    "\n",
    "import pandas as pd\n",
    "import matplotlib.pyplot as plt\n",
    "import numpy as np\n",
    "import torch\n",
    "from torch import nn\n",
    "import nltk\n",
    "from torch.utils.data import Dataset\n",
    "import pickle\n",
    "\n",
    "from utils.utils import *\n",
    "from utils.label_decoding import *\n",
    "from utils.HierarchicalLoss import *"
   ]
  },
  {
   "cell_type": "code",
   "outputs": [],
   "source": [
    "class DataSet(Dataset):\n",
    "    def __init__(self, df, labels_at_level, features_file, ner_features_file):\n",
    "        super(DataSet, self).__init__()\n",
    "        self.data_df = df\n",
    "        self.labels_at_level = labels_at_level\n",
    "        self.features_file = features_file\n",
    "        self.features_dict = None\n",
    "        with open(features_file, 'rb') as f:\n",
    "            self.features_dict = pickle.load(f)\n",
    "            \n",
    "        with open(ner_features_file, 'rb') as f:\n",
    "            self.ner_features_dict = pickle.load(f)\n",
    "    \n",
    "    def __len__(self):\n",
    "        return len(self.data_df)\n",
    "    \n",
    "    def __getitem__(self, idx):\n",
    "        id = self.data_df.iloc[idx]['id']\n",
    "        text = self.data_df.iloc[idx]['cleaned_text']\n",
    "        level_1_target = self.encode(self.data_df.iloc[idx]['Level 1'], 1)\n",
    "        level_2_target = self.encode(self.data_df.iloc[idx]['Level 2'], 2)\n",
    "        level_3_target = self.encode(self.data_df.iloc[idx]['Level 3'], 3)\n",
    "        level_4_target = self.encode(self.data_df.iloc[idx]['Level 4'], 4)\n",
    "        level_5_target = self.encode(self.data_df.iloc[idx]['Level 5'], 5)\n",
    "            \n",
    "        \n",
    "        return {'id': id,\n",
    "                'text': text, \n",
    "                'text_features': self.features_dict[id],\n",
    "                'ner_features': self.ner_features_dict[id],\n",
    "                'level_1_target': level_1_target, \n",
    "                'level_2_target': level_2_target, \n",
    "                'level_3_target': level_3_target, \n",
    "                'level_4_target': level_4_target, \n",
    "                'level_5_target': level_5_target }\n",
    "\n",
    "    def encode(self, labels, level):\n",
    "        level_ = f'Level {level}'\n",
    "        \n",
    "        target = torch.zeros(len(self.labels_at_level[level_])+1)\n",
    "        \n",
    "        for label in labels:\n",
    "            label_idx = self.labels_at_level[level_][label]\n",
    "            target[label_idx] = 1\n",
    "        \n",
    "        if len(labels) == 0:\n",
    "            target[-1] = 1\n",
    "        \n",
    "        return target"
   ],
   "metadata": {
    "collapsed": false,
    "ExecuteTime": {
     "end_time": "2024-04-28T07:47:58.871152Z",
     "start_time": "2024-04-28T07:47:58.860125Z"
    }
   },
   "id": "3564e7da1a222734",
   "execution_count": 14
  },
  {
   "cell_type": "code",
   "outputs": [],
   "source": [
    "class TestDataSet(Dataset):\n",
    "    def __init__(self, df, features_file, ner_features_file):\n",
    "        super(TestDataSet, self).__init__()\n",
    "        self.data_df = df\n",
    "        self.features_file = features_file\n",
    "        self.features_dict = None\n",
    "        with open(features_file, 'rb') as f:\n",
    "            self.features_dict = pickle.load(f)\n",
    "            \n",
    "        with open(ner_features_file, 'rb') as f:\n",
    "            self.ner_features_dict = pickle.load(f)\n",
    "    \n",
    "    def __len__(self):\n",
    "        return len(self.data_df)\n",
    "    \n",
    "    def __getitem__(self, idx):\n",
    "        id = self.data_df.iloc[idx]['id']\n",
    "        text = self.data_df.iloc[idx]['cleaned_text']\n",
    "        \n",
    "        return {'id': id,\n",
    "                'text': text, \n",
    "                'text_features': self.features_dict[id],\n",
    "                'ner_features': self.ner_features_dict[id]}"
   ],
   "metadata": {
    "collapsed": false,
    "ExecuteTime": {
     "end_time": "2024-04-28T07:47:59.352862Z",
     "start_time": "2024-04-28T07:47:59.349494Z"
    }
   },
   "id": "35255b67218b0d97",
   "execution_count": 15
  },
  {
   "cell_type": "code",
   "outputs": [],
   "source": [
    "from modules.nn.OpenAiLarge import *"
   ],
   "metadata": {
    "collapsed": false,
    "ExecuteTime": {
     "end_time": "2024-04-28T07:48:01.936140Z",
     "start_time": "2024-04-28T07:48:01.931077Z"
    }
   },
   "id": "53717a232cf9a74c",
   "execution_count": 16
  },
  {
   "cell_type": "code",
   "outputs": [],
   "source": [
    "def evaluate_model(model, dataloader, pred_file_path, gold_file_path, \n",
    "                   evaluator_script_path, id2leaf_label, format=None,validation=False, HL=None, batchsize=None,\n",
    "                   threshold=0.6):\n",
    "    model.eval()\n",
    "    predictions = []\n",
    "    \n",
    "    # HL = HierarchicalLoss(id2label=id2label_1, hierarchical_labels=hierarchy_1, persuasion_techniques=persuasion_techniques_1, device=device)\n",
    "    total_loss = 0\n",
    "    \n",
    "    \n",
    "    with torch.no_grad():\n",
    "        \n",
    "        for batch in dataloader:\n",
    "            if not isinstance(batch['id'], list):\n",
    "                ids = batch['id'].detach().numpy().tolist()\n",
    "            else:\n",
    "                ids = batch['id']\n",
    "        \n",
    "            embeddings = batch['text_features']\n",
    "            embeddings = embeddings.to(device)\n",
    "            \n",
    "            ner_embeddings = batch['ner_features'].to(device)\n",
    "            \n",
    "            pred_1, pred_2, pred_3, pred_4, pred_5 = model(embeddings, ner_embeddings)\n",
    "            \n",
    "            if validation:\n",
    "                y_1, y_2, y_3 = batch['level_1_target'], batch['level_2_target'], batch['level_3_target']\n",
    "                y_4, y_5 = batch['level_4_target'], batch['level_5_target']\n",
    "                \n",
    "                y_1, y_2, y_3, y_4, y_5 = y_1.to(device), y_2.to(device), y_3.to(device), y_4.to(device), y_5.to(device)\n",
    "                \n",
    "                dloss = HL.calculate_dloss([pred_1, pred_2, pred_3, pred_4, pred_5], [y_1, y_2, y_3, y_4, y_5])\n",
    "                lloss = HL.calculate_lloss([pred_1, pred_2, pred_3, pred_4, pred_5], [y_1, y_2, y_3, y_4, y_5])\n",
    "                \n",
    "                total_loss += (dloss + lloss).detach().cpu().item()\n",
    "                \n",
    "            pred_3 = (pred_3.cpu().detach().numpy() > threshold).astype(int)\n",
    "            pred_4 = (pred_4.cpu().detach().numpy() > threshold).astype(int)\n",
    "            pred_5 = (pred_5.cpu().detach().numpy() > threshold).astype(int)\n",
    "            \n",
    "            predictions += get_labels(id2leaf_label, ids, pred_3, pred_4, pred_5, format)\n",
    "\n",
    "        # Writing JSON data\n",
    "        with open(pred_file_path, 'w') as f:\n",
    "            json.dump(predictions, f, indent=4)\n",
    "        \n",
    "        if gold_file_path is None:\n",
    "            return\n",
    "        \n",
    "        prec_h, rec_h, f1_h = evaluate_h(pred_file_path, gold_file_path)\n",
    "        print(\"f1_h={:.5f}\\tprec_h={:.5f}\\trec_h={:.5f}\".format(f1_h, prec_h, rec_h))\n",
    "        if validation:\n",
    "            return prec_h, rec_h, f1_h, total_loss / (len(dataloader))\n",
    "            \n",
    "        # command = [\n",
    "        #         \"python3\", evaluator_script_path,\n",
    "        #         \"--gold_file_path\", gold_file_path,\n",
    "        #         \"--pred_file_path\", pred_file_path\n",
    "        # ]\n",
    "        # \n",
    "        # result = subprocess.run(command, capture_output=True, text=True)\n",
    "        # \n",
    "        # if result.returncode == 0:\n",
    "        #     print(\"Output:\\n\", result.stdout)\n",
    "        # else:\n",
    "        #     print(\"Error:\\n\", result.stderr)\n",
    "        #     \n",
    "        \n",
    "    "
   ],
   "metadata": {
    "collapsed": false,
    "ExecuteTime": {
     "end_time": "2024-04-28T07:48:52.334354Z",
     "start_time": "2024-04-28T07:48:52.324032Z"
    }
   },
   "id": "a9161e49f9be90d8",
   "execution_count": 20
  },
  {
   "cell_type": "code",
   "outputs": [],
   "source": [
    "from torch.utils.data import DataLoader\n",
    "\n",
    "train_json = './semeval2024_dev_release/subtask1/train.json'\n",
    "validation_json = './semeval2024_dev_release/subtask1/validation.json'\n",
    "\n",
    "train_data = process_json(train_json, techniques_to_level_1, hierarchy_1)\n",
    "# val_data = \n",
    "validation_data = process_json(validation_json, techniques_to_level_1, hierarchy_1)\n",
    "\n",
    "\n",
    "training_dataset = DataSet(train_data, indexed_persuasion_techniques_1, \n",
    "                           './TextFeatures/subtask1a/text-embedding-3-large/train_text_features.pkl',\n",
    "                           './TextFeatures/subtask1a/multilingual-ner/train_text_features.pkl')\n",
    "validation_dataset = DataSet(validation_data, indexed_persuasion_techniques_1, \n",
    "                             './TextFeatures/subtask1a/text-embedding-3-large/validation_text_features.pkl',\n",
    "                             './TextFeatures/subtask1a/multilingual-ner/validation_text_features.pkl')"
   ],
   "metadata": {
    "collapsed": false,
    "ExecuteTime": {
     "end_time": "2024-04-26T22:29:14.158622Z",
     "start_time": "2024-04-26T22:29:13.435728Z"
    }
   },
   "id": "b2c83a5976d07f35",
   "execution_count": 6
  },
  {
   "cell_type": "code",
   "outputs": [
    {
     "name": "stdout",
     "output_type": "stream",
     "text": [
      "Using MPS\n"
     ]
    }
   ],
   "source": [
    "device = get_device()\n",
    "\n",
    "device = torch.device('cpu')"
   ],
   "metadata": {
    "collapsed": false,
    "ExecuteTime": {
     "end_time": "2024-04-26T22:29:14.176329Z",
     "start_time": "2024-04-26T22:29:14.159451Z"
    }
   },
   "id": "1632ecd282062412",
   "execution_count": 7
  },
  {
   "cell_type": "code",
   "outputs": [
    {
     "name": "stderr",
     "output_type": "stream",
     "text": [
      "\u001B[34m\u001B[1mwandb\u001B[0m: Currently logged in as: \u001B[33miqbal_shaik\u001B[0m (\u001B[33mphoenix_nlp\u001B[0m). Use \u001B[1m`wandb login --relogin`\u001B[0m to force relogin\n"
     ]
    },
    {
     "name": "stdout",
     "output_type": "stream",
     "text": [
      "Create sweep with ID: kd6j74uy\n",
      "Sweep URL: https://wandb.ai/phoenix_nlp/FineTuning-openAI-Large-m-NER/sweeps/kd6j74uy\n"
     ]
    }
   ],
   "source": [
    "import wandb\n",
    "\n",
    "# Initialize WandB and log in to your account\n",
    "wandb.login()\n",
    "\n",
    "sweep_config = {\n",
    "    'method': 'bayes',  # Using Bayesian optimization\n",
    "    'metric': {\n",
    "        'name': 'val_loss',\n",
    "        'goal': 'minimize'\n",
    "    },\n",
    "    'parameters': {\n",
    "        'learning_rate': {\n",
    "            'min': 1e-5,\n",
    "            'max': 1e-4\n",
    "        },\n",
    "        'batch_size': {\n",
    "            'values': [128, 256]\n",
    "        },\n",
    "        'optimizer': {\n",
    "            'values': ['adam']\n",
    "        },\n",
    "        'beta1': {  # Relevant for Adam\n",
    "            'min': 0.8,\n",
    "            'max': 0.95\n",
    "        },\n",
    "        # 'momentum': {  # Relevant for SGD\n",
    "        #     'min': 0.8,\n",
    "        #     'max': 0.99\n",
    "        # }\n",
    "        'alpha': {\n",
    "            'min': 0.65,\n",
    "            'max': 1.0\n",
    "        },\n",
    "        'beta': {\n",
    "            'min': 0.5,\n",
    "            'max': 1.0\n",
    "        },\n",
    "        'threshold':{\n",
    "            'min': 0.65,\n",
    "            'max': 0.9\n",
    "            }\n",
    "        \n",
    "    }\n",
    "}\n",
    "\n",
    "sweep_id = wandb.sweep(sweep_config, project=\"FineTuning-openAI-Large-m-NER\")\n",
    "# sweep_id = '44uz6ydx'"
   ],
   "metadata": {
    "collapsed": false,
    "ExecuteTime": {
     "end_time": "2024-04-26T22:29:25.453942Z",
     "start_time": "2024-04-26T22:29:14.177620Z"
    }
   },
   "id": "2a5be526fa295071",
   "execution_count": 8
  },
  {
   "cell_type": "code",
   "outputs": [],
   "source": [
    "models_dir = './models/subtask1a/openAI-Large-m-NER/'\n",
    "num_epochs = 100"
   ],
   "metadata": {
    "collapsed": false,
    "ExecuteTime": {
     "end_time": "2024-04-26T22:29:25.458887Z",
     "start_time": "2024-04-26T22:29:25.456685Z"
    }
   },
   "id": "aca259c2697de846",
   "execution_count": 9
  },
  {
   "cell_type": "code",
   "outputs": [],
   "source": [
    "from tqdm import tqdm\n",
    "import json\n",
    "import subprocess\n",
    "from subtask_1_2a import *\n",
    "\n",
    "def train():\n",
    "    \n",
    "    wandb.init()\n",
    "\n",
    "    # Use WandB configurations\n",
    "    config = wandb.config\n",
    "    batch_size = config.batch_size\n",
    "    learning_rate = config.learning_rate\n",
    "    \n",
    "    train_dataloader = DataLoader(training_dataset, batch_size=batch_size, shuffle=True)\n",
    "    validation_dataloader = DataLoader(validation_dataset, batch_size=batch_size, shuffle=True)\n",
    "    \n",
    "    model = OpenAiLargeMultiLingualNER()\n",
    "    model.to(device)\n",
    "    \n",
    "    optimizer = None\n",
    "    \n",
    "    if config.optimizer == 'adam':\n",
    "        optimizer = torch.optim.Adam(\n",
    "            model.parameters(),\n",
    "            lr=learning_rate,\n",
    "            betas=(config.beta1, 0.999)\n",
    "        )\n",
    "    elif config.optimizer == 'sgd':\n",
    "        optimizer = torch.optim.SGD(\n",
    "            model.parameters(),\n",
    "            lr=learning_rate,\n",
    "            momentum=config.momentum\n",
    "        )\n",
    "        \n",
    "    HL = HierarchicalLoss(id2label=id2label_1, hierarchical_labels=hierarchy_1,\n",
    "                          persuasion_techniques=persuasion_techniques_1, device=device, \n",
    "                          alpha=config.alpha, beta=config.beta, threshold=config.threshold)\n",
    "    \n",
    "    for epoch in range(num_epochs):\n",
    "        model.train()\n",
    "        running_loss = 0.0\n",
    "        for batch_idx, batch in enumerate(train_dataloader):\n",
    "            \n",
    "            y_1, y_2, y_3 = batch['level_1_target'], batch['level_2_target'], batch['level_3_target']\n",
    "            y_4, y_5 = batch['level_4_target'], batch['level_5_target']\n",
    "            \n",
    "            embeddings = batch['text_features']\n",
    "            embeddings = embeddings.to(device)\n",
    "            \n",
    "            ner_embeddings = batch['ner_features'].to(device)\n",
    "            \n",
    "            y_1, y_2, y_3, y_4, y_5 = y_1.to(device), y_2.to(device), y_3.to(device), y_4.to(device), y_5.to(device)\n",
    "            \n",
    "            \n",
    "            optimizer.zero_grad()\n",
    "            pred_1, pred_2, pred_3, pred_4, pred_5 = model(embeddings, ner_embeddings)\n",
    "            \n",
    "            dloss = HL.calculate_dloss([pred_1, pred_2, pred_3, pred_4, pred_5], [y_1, y_2, y_3, y_4, y_5])\n",
    "            lloss = HL.calculate_lloss([pred_1, pred_2, pred_3, pred_4, pred_5], [y_1, y_2, y_3, y_4, y_5])\n",
    "    \n",
    "            total_loss = lloss + dloss\n",
    "            \n",
    "            total_loss.backward()\n",
    "            optimizer.step()\n",
    "            \n",
    "            running_loss += total_loss.detach().item()\n",
    "            \n",
    "            # if batch_idx % 20 == 19:\n",
    "            #     print(f\"[{epoch + 1}, {batch_idx + 1}] loss: {running_loss / 20:.3f}\")\n",
    "            #     running_loss = 0.0\n",
    "        \n",
    "        running_loss /= (len(train_dataloader))\n",
    "        \n",
    "        val_pred_file_path = './Predictions/val_predictions_subtask1.json'\n",
    "        val_gold_file_path = './semeval2024_dev_release/subtask1/validation.json'\n",
    "        evaluator_script = './scorer-baseline/subtask_1_2a.py'\n",
    "        \n",
    "        prec_h, rec_h, f1_h, validation_loss = evaluate_model(model, validation_dataloader, val_pred_file_path, \n",
    "                                         val_gold_file_path, evaluator_script,id2leaf_label,\n",
    "                                         validation=True, HL=HL, batchsize=batch_size)\n",
    "        \n",
    "        if epoch % 50 == 49:\n",
    "            print(f'[{epoch+1}/{num_epochs}]')\n",
    "            print(\"f1_h={:.5f}\\tprec_h={:.5f}\\trec_h={:.5f}\".format(f1_h, prec_h, rec_h))\n",
    "        \n",
    "        # Log training metrics\n",
    "        wandb.log({\"epoch\": epoch, \"train_loss\": running_loss})\n",
    "        wandb.log({\"val_loss\": validation_loss})\n",
    "        wandb.log({\"h_precision\": prec_h, \"h_recall\": rec_h, \"h_f1-score\":f1_h})\n",
    "        \n",
    "    \n",
    "    torch.save(model.state_dict(), f\"{models_dir}{wandb.run.name}.pth\")\n",
    "    wandb.join()"
   ],
   "metadata": {
    "collapsed": false,
    "ExecuteTime": {
     "end_time": "2024-04-26T22:29:25.697468Z",
     "start_time": "2024-04-26T22:29:25.459796Z"
    }
   },
   "id": "7bed310f6fcbc792",
   "execution_count": 10
  },
  {
   "cell_type": "code",
   "outputs": [
    {
     "name": "stderr",
     "output_type": "stream",
     "text": [
      "\u001B[34m\u001B[1mwandb\u001B[0m: Agent Starting Run: ac89s9hl with config:\n",
      "\u001B[34m\u001B[1mwandb\u001B[0m: \talpha: 0.9717156696240714\n",
      "\u001B[34m\u001B[1mwandb\u001B[0m: \tbatch_size: 128\n",
      "\u001B[34m\u001B[1mwandb\u001B[0m: \tbeta: 0.6164075655850356\n",
      "\u001B[34m\u001B[1mwandb\u001B[0m: \tbeta1: 0.9311024175323688\n",
      "\u001B[34m\u001B[1mwandb\u001B[0m: \tlearning_rate: 1.710783097020877e-05\n",
      "\u001B[34m\u001B[1mwandb\u001B[0m: \toptimizer: adam\n",
      "\u001B[34m\u001B[1mwandb\u001B[0m: \tthreshold: 0.7322145301229332\n"
     ]
    },
    {
     "data": {
      "text/plain": "<IPython.core.display.HTML object>",
      "text/html": "Tracking run with wandb version 0.16.6"
     },
     "metadata": {},
     "output_type": "display_data"
    },
    {
     "data": {
      "text/plain": "<IPython.core.display.HTML object>",
      "text/html": "Run data is saved locally in <code>/Users/iqbal/Desktop/Python Assignments/Detecting-Persuasion-Techniques-in-Memes/wandb/run-20240426_191437-ac89s9hl</code>"
     },
     "metadata": {},
     "output_type": "display_data"
    },
    {
     "data": {
      "text/plain": "<IPython.core.display.HTML object>",
      "text/html": "Syncing run <strong><a href='https://wandb.ai/phoenix_nlp/FineTuning-openAI-Large-m-NER/runs/ac89s9hl' target=\"_blank\">bumbling-sweep-6</a></strong> to <a href='https://wandb.ai/phoenix_nlp/FineTuning-openAI-Large-m-NER' target=\"_blank\">Weights & Biases</a> (<a href='https://wandb.me/run' target=\"_blank\">docs</a>)<br/>Sweep page: <a href='https://wandb.ai/phoenix_nlp/FineTuning-openAI-Large-m-NER/sweeps/kd6j74uy' target=\"_blank\">https://wandb.ai/phoenix_nlp/FineTuning-openAI-Large-m-NER/sweeps/kd6j74uy</a>"
     },
     "metadata": {},
     "output_type": "display_data"
    },
    {
     "data": {
      "text/plain": "<IPython.core.display.HTML object>",
      "text/html": " View project at <a href='https://wandb.ai/phoenix_nlp/FineTuning-openAI-Large-m-NER' target=\"_blank\">https://wandb.ai/phoenix_nlp/FineTuning-openAI-Large-m-NER</a>"
     },
     "metadata": {},
     "output_type": "display_data"
    },
    {
     "data": {
      "text/plain": "<IPython.core.display.HTML object>",
      "text/html": " View sweep at <a href='https://wandb.ai/phoenix_nlp/FineTuning-openAI-Large-m-NER/sweeps/kd6j74uy' target=\"_blank\">https://wandb.ai/phoenix_nlp/FineTuning-openAI-Large-m-NER/sweeps/kd6j74uy</a>"
     },
     "metadata": {},
     "output_type": "display_data"
    },
    {
     "data": {
      "text/plain": "<IPython.core.display.HTML object>",
      "text/html": " View run at <a href='https://wandb.ai/phoenix_nlp/FineTuning-openAI-Large-m-NER/runs/ac89s9hl' target=\"_blank\">https://wandb.ai/phoenix_nlp/FineTuning-openAI-Large-m-NER/runs/ac89s9hl</a>"
     },
     "metadata": {},
     "output_type": "display_data"
    },
    {
     "name": "stdout",
     "output_type": "stream",
     "text": [
      "[50/100]\n",
      "f1_h=0.43920\tprec_h=0.71202\trec_h=0.31754\n",
      "[100/100]\n",
      "f1_h=0.56899\tprec_h=0.68300\trec_h=0.48760\n"
     ]
    },
    {
     "data": {
      "text/plain": "VBox(children=(Label(value='0.001 MB of 0.007 MB uploaded\\r'), FloatProgress(value=0.14632822044251392, max=1.…",
      "application/vnd.jupyter.widget-view+json": {
       "version_major": 2,
       "version_minor": 0,
       "model_id": "212e404b41cd4715889aef38156f5c06"
      }
     },
     "metadata": {},
     "output_type": "display_data"
    },
    {
     "data": {
      "text/plain": "<IPython.core.display.HTML object>",
      "text/html": "<style>\n    table.wandb td:nth-child(1) { padding: 0 10px; text-align: left ; width: auto;} td:nth-child(2) {text-align: left ; width: 100%}\n    .wandb-row { display: flex; flex-direction: row; flex-wrap: wrap; justify-content: flex-start; width: 100% }\n    .wandb-col { display: flex; flex-direction: column; flex-basis: 100%; flex: 1; padding: 10px; }\n    </style>\n<div class=\"wandb-row\"><div class=\"wandb-col\"><h3>Run history:</h3><br/><table class=\"wandb\"><tr><td>epoch</td><td>▁▁▁▁▂▂▂▂▂▃▃▃▃▃▃▄▄▄▄▄▅▅▅▅▅▅▆▆▆▆▆▇▇▇▇▇▇███</td></tr><tr><td>h_f1-score</td><td>▅▁▁▁▂▃▄▄▅▅▅▅▅▆▆▆▆▆▆▆▆▆▇▇▇▇▇▇▇▇▇▇████████</td></tr><tr><td>h_precision</td><td>▂▁▁█▅▆▅▅▆▆▆▆▆▆▆▆▆▆▆▆▆▆▆▆▆▆▆▆▆▆▆▆▆▆▆▆▆▆▆▆</td></tr><tr><td>h_recall</td><td>█▁▁▁▂▂▂▂▃▂▃▃▃▃▃▃▃▃▄▃▃▃▄▄▄▄▄▄▄▄▄▄▄▄▄▅▅▅▄▅</td></tr><tr><td>train_loss</td><td>█▇▆▆▆▆▅▅▅▅▅▅▄▄▄▄▄▃▃▃▃▃▃▃▃▂▂▂▂▂▂▂▂▂▂▁▁▁▁▁</td></tr><tr><td>val_loss</td><td>█▆▅▆▅▅▄▅▄▄▄▄▃▃▃▃▃▃▂▂▂▂▂▂▂▂▂▂▂▂▂▂▂▁▁▁▁▁▁▁</td></tr></table><br/></div><div class=\"wandb-col\"><h3>Run summary:</h3><br/><table class=\"wandb\"><tr><td>epoch</td><td>99</td></tr><tr><td>h_f1-score</td><td>0.56899</td></tr><tr><td>h_precision</td><td>0.683</td></tr><tr><td>h_recall</td><td>0.4876</td></tr><tr><td>train_loss</td><td>444.84526</td></tr><tr><td>val_loss</td><td>588.67854</td></tr></table><br/></div></div>"
     },
     "metadata": {},
     "output_type": "display_data"
    },
    {
     "data": {
      "text/plain": "<IPython.core.display.HTML object>",
      "text/html": " View run <strong style=\"color:#cdcd00\">bumbling-sweep-6</strong> at: <a href='https://wandb.ai/phoenix_nlp/FineTuning-openAI-Large-m-NER/runs/ac89s9hl' target=\"_blank\">https://wandb.ai/phoenix_nlp/FineTuning-openAI-Large-m-NER/runs/ac89s9hl</a><br/> View project at: <a href='https://wandb.ai/phoenix_nlp/FineTuning-openAI-Large-m-NER' target=\"_blank\">https://wandb.ai/phoenix_nlp/FineTuning-openAI-Large-m-NER</a><br/>Synced 5 W&B file(s), 0 media file(s), 0 artifact file(s) and 0 other file(s)"
     },
     "metadata": {},
     "output_type": "display_data"
    },
    {
     "data": {
      "text/plain": "<IPython.core.display.HTML object>",
      "text/html": "Find logs at: <code>./wandb/run-20240426_191437-ac89s9hl/logs</code>"
     },
     "metadata": {},
     "output_type": "display_data"
    },
    {
     "name": "stderr",
     "output_type": "stream",
     "text": [
      "\u001B[34m\u001B[1mwandb\u001B[0m: Agent Starting Run: yy6gaj1r with config:\n",
      "\u001B[34m\u001B[1mwandb\u001B[0m: \talpha: 0.9654478666765854\n",
      "\u001B[34m\u001B[1mwandb\u001B[0m: \tbatch_size: 128\n",
      "\u001B[34m\u001B[1mwandb\u001B[0m: \tbeta: 0.7870273949525248\n",
      "\u001B[34m\u001B[1mwandb\u001B[0m: \tbeta1: 0.9476979307645412\n",
      "\u001B[34m\u001B[1mwandb\u001B[0m: \tlearning_rate: 2.919434743481965e-05\n",
      "\u001B[34m\u001B[1mwandb\u001B[0m: \toptimizer: adam\n",
      "\u001B[34m\u001B[1mwandb\u001B[0m: \tthreshold: 0.70148548183942\n"
     ]
    },
    {
     "data": {
      "text/plain": "<IPython.core.display.HTML object>",
      "text/html": "Tracking run with wandb version 0.16.6"
     },
     "metadata": {},
     "output_type": "display_data"
    },
    {
     "data": {
      "text/plain": "<IPython.core.display.HTML object>",
      "text/html": "Run data is saved locally in <code>/Users/iqbal/Desktop/Python Assignments/Detecting-Persuasion-Techniques-in-Memes/wandb/run-20240426_192246-yy6gaj1r</code>"
     },
     "metadata": {},
     "output_type": "display_data"
    },
    {
     "data": {
      "text/plain": "<IPython.core.display.HTML object>",
      "text/html": "Syncing run <strong><a href='https://wandb.ai/phoenix_nlp/FineTuning-openAI-Large-m-NER/runs/yy6gaj1r' target=\"_blank\">gallant-sweep-7</a></strong> to <a href='https://wandb.ai/phoenix_nlp/FineTuning-openAI-Large-m-NER' target=\"_blank\">Weights & Biases</a> (<a href='https://wandb.me/run' target=\"_blank\">docs</a>)<br/>Sweep page: <a href='https://wandb.ai/phoenix_nlp/FineTuning-openAI-Large-m-NER/sweeps/kd6j74uy' target=\"_blank\">https://wandb.ai/phoenix_nlp/FineTuning-openAI-Large-m-NER/sweeps/kd6j74uy</a>"
     },
     "metadata": {},
     "output_type": "display_data"
    },
    {
     "data": {
      "text/plain": "<IPython.core.display.HTML object>",
      "text/html": " View project at <a href='https://wandb.ai/phoenix_nlp/FineTuning-openAI-Large-m-NER' target=\"_blank\">https://wandb.ai/phoenix_nlp/FineTuning-openAI-Large-m-NER</a>"
     },
     "metadata": {},
     "output_type": "display_data"
    },
    {
     "data": {
      "text/plain": "<IPython.core.display.HTML object>",
      "text/html": " View sweep at <a href='https://wandb.ai/phoenix_nlp/FineTuning-openAI-Large-m-NER/sweeps/kd6j74uy' target=\"_blank\">https://wandb.ai/phoenix_nlp/FineTuning-openAI-Large-m-NER/sweeps/kd6j74uy</a>"
     },
     "metadata": {},
     "output_type": "display_data"
    },
    {
     "data": {
      "text/plain": "<IPython.core.display.HTML object>",
      "text/html": " View run at <a href='https://wandb.ai/phoenix_nlp/FineTuning-openAI-Large-m-NER/runs/yy6gaj1r' target=\"_blank\">https://wandb.ai/phoenix_nlp/FineTuning-openAI-Large-m-NER/runs/yy6gaj1r</a>"
     },
     "metadata": {},
     "output_type": "display_data"
    },
    {
     "name": "stdout",
     "output_type": "stream",
     "text": [
      "[50/100]\n",
      "f1_h=0.53352\tprec_h=0.71728\trec_h=0.42471\n",
      "[100/100]\n",
      "f1_h=0.59170\tprec_h=0.67890\trec_h=0.52436\n"
     ]
    },
    {
     "data": {
      "text/plain": "VBox(children=(Label(value='0.001 MB of 0.007 MB uploaded\\r'), FloatProgress(value=0.1464474935470724, max=1.0…",
      "application/vnd.jupyter.widget-view+json": {
       "version_major": 2,
       "version_minor": 0,
       "model_id": "a0e4d265d7b54ab3ae57415adca87916"
      }
     },
     "metadata": {},
     "output_type": "display_data"
    },
    {
     "data": {
      "text/plain": "<IPython.core.display.HTML object>",
      "text/html": "<style>\n    table.wandb td:nth-child(1) { padding: 0 10px; text-align: left ; width: auto;} td:nth-child(2) {text-align: left ; width: 100%}\n    .wandb-row { display: flex; flex-direction: row; flex-wrap: wrap; justify-content: flex-start; width: 100% }\n    .wandb-col { display: flex; flex-direction: column; flex-basis: 100%; flex: 1; padding: 10px; }\n    </style>\n<div class=\"wandb-row\"><div class=\"wandb-col\"><h3>Run history:</h3><br/><table class=\"wandb\"><tr><td>epoch</td><td>▁▁▁▁▂▂▂▂▂▃▃▃▃▃▃▄▄▄▄▄▅▅▅▅▅▅▆▆▆▆▆▇▇▇▇▇▇███</td></tr><tr><td>h_f1-score</td><td>▆▁▂▃▄▄▄▅▅▆▆▅▇▆▇▇▇▇▇▇▇▇▇▇██▇▇████████████</td></tr><tr><td>h_precision</td><td>▄▁█▇▇▇▇▇▇▇███████████████████▇▇██▇█▇▇▇█▇</td></tr><tr><td>h_recall</td><td>█▁▁▂▂▃▃▃▄▄▄▃▅▄▅▅▅▅▅▅▅▅▅▅▅▆▅▅▆▆▆▆▆▆▆▆▆▆▆▆</td></tr><tr><td>train_loss</td><td>█▇▆▆▆▆▅▅▅▅▄▄▄▄▄▄▃▃▃▃▃▃▃▃▃▂▂▂▂▂▂▂▂▂▁▁▁▁▁▁</td></tr><tr><td>val_loss</td><td>█▇▆▇▆▆▅▅▄▅▄▃▃▃▃▃▂▂▃▂▂▂▂▂▂▂▂▂▂▂▂▂▂▂▂▂▂▁▁▂</td></tr></table><br/></div><div class=\"wandb-col\"><h3>Run summary:</h3><br/><table class=\"wandb\"><tr><td>epoch</td><td>99</td></tr><tr><td>h_f1-score</td><td>0.5917</td></tr><tr><td>h_precision</td><td>0.6789</td></tr><tr><td>h_recall</td><td>0.52436</td></tr><tr><td>train_loss</td><td>414.77332</td></tr><tr><td>val_loss</td><td>731.39096</td></tr></table><br/></div></div>"
     },
     "metadata": {},
     "output_type": "display_data"
    },
    {
     "data": {
      "text/plain": "<IPython.core.display.HTML object>",
      "text/html": " View run <strong style=\"color:#cdcd00\">gallant-sweep-7</strong> at: <a href='https://wandb.ai/phoenix_nlp/FineTuning-openAI-Large-m-NER/runs/yy6gaj1r' target=\"_blank\">https://wandb.ai/phoenix_nlp/FineTuning-openAI-Large-m-NER/runs/yy6gaj1r</a><br/> View project at: <a href='https://wandb.ai/phoenix_nlp/FineTuning-openAI-Large-m-NER' target=\"_blank\">https://wandb.ai/phoenix_nlp/FineTuning-openAI-Large-m-NER</a><br/>Synced 5 W&B file(s), 0 media file(s), 0 artifact file(s) and 0 other file(s)"
     },
     "metadata": {},
     "output_type": "display_data"
    },
    {
     "data": {
      "text/plain": "<IPython.core.display.HTML object>",
      "text/html": "Find logs at: <code>./wandb/run-20240426_192246-yy6gaj1r/logs</code>"
     },
     "metadata": {},
     "output_type": "display_data"
    },
    {
     "name": "stderr",
     "output_type": "stream",
     "text": [
      "\u001B[34m\u001B[1mwandb\u001B[0m: Agent Starting Run: t9vsveu7 with config:\n",
      "\u001B[34m\u001B[1mwandb\u001B[0m: \talpha: 0.8486148832967625\n",
      "\u001B[34m\u001B[1mwandb\u001B[0m: \tbatch_size: 128\n",
      "\u001B[34m\u001B[1mwandb\u001B[0m: \tbeta: 0.5394001868359992\n",
      "\u001B[34m\u001B[1mwandb\u001B[0m: \tbeta1: 0.9350183224876876\n",
      "\u001B[34m\u001B[1mwandb\u001B[0m: \tlearning_rate: 3.098721504881375e-05\n",
      "\u001B[34m\u001B[1mwandb\u001B[0m: \toptimizer: adam\n",
      "\u001B[34m\u001B[1mwandb\u001B[0m: \tthreshold: 0.8493841086753553\n"
     ]
    },
    {
     "data": {
      "text/plain": "<IPython.core.display.HTML object>",
      "text/html": "Tracking run with wandb version 0.16.6"
     },
     "metadata": {},
     "output_type": "display_data"
    },
    {
     "data": {
      "text/plain": "<IPython.core.display.HTML object>",
      "text/html": "Run data is saved locally in <code>/Users/iqbal/Desktop/Python Assignments/Detecting-Persuasion-Techniques-in-Memes/wandb/run-20240426_193101-t9vsveu7</code>"
     },
     "metadata": {},
     "output_type": "display_data"
    },
    {
     "data": {
      "text/plain": "<IPython.core.display.HTML object>",
      "text/html": "Syncing run <strong><a href='https://wandb.ai/phoenix_nlp/FineTuning-openAI-Large-m-NER/runs/t9vsveu7' target=\"_blank\">cosmic-sweep-8</a></strong> to <a href='https://wandb.ai/phoenix_nlp/FineTuning-openAI-Large-m-NER' target=\"_blank\">Weights & Biases</a> (<a href='https://wandb.me/run' target=\"_blank\">docs</a>)<br/>Sweep page: <a href='https://wandb.ai/phoenix_nlp/FineTuning-openAI-Large-m-NER/sweeps/kd6j74uy' target=\"_blank\">https://wandb.ai/phoenix_nlp/FineTuning-openAI-Large-m-NER/sweeps/kd6j74uy</a>"
     },
     "metadata": {},
     "output_type": "display_data"
    },
    {
     "data": {
      "text/plain": "<IPython.core.display.HTML object>",
      "text/html": " View project at <a href='https://wandb.ai/phoenix_nlp/FineTuning-openAI-Large-m-NER' target=\"_blank\">https://wandb.ai/phoenix_nlp/FineTuning-openAI-Large-m-NER</a>"
     },
     "metadata": {},
     "output_type": "display_data"
    },
    {
     "data": {
      "text/plain": "<IPython.core.display.HTML object>",
      "text/html": " View sweep at <a href='https://wandb.ai/phoenix_nlp/FineTuning-openAI-Large-m-NER/sweeps/kd6j74uy' target=\"_blank\">https://wandb.ai/phoenix_nlp/FineTuning-openAI-Large-m-NER/sweeps/kd6j74uy</a>"
     },
     "metadata": {},
     "output_type": "display_data"
    },
    {
     "data": {
      "text/plain": "<IPython.core.display.HTML object>",
      "text/html": " View run at <a href='https://wandb.ai/phoenix_nlp/FineTuning-openAI-Large-m-NER/runs/t9vsveu7' target=\"_blank\">https://wandb.ai/phoenix_nlp/FineTuning-openAI-Large-m-NER/runs/t9vsveu7</a>"
     },
     "metadata": {},
     "output_type": "display_data"
    },
    {
     "name": "stdout",
     "output_type": "stream",
     "text": [
      "[50/100]\n",
      "f1_h=0.53029\tprec_h=0.71194\trec_h=0.42250\n",
      "[100/100]\n",
      "f1_h=0.56872\tprec_h=0.65106\trec_h=0.50487\n"
     ]
    },
    {
     "data": {
      "text/plain": "VBox(children=(Label(value='0.001 MB of 0.001 MB uploaded\\r'), FloatProgress(value=1.0, max=1.0)))",
      "application/vnd.jupyter.widget-view+json": {
       "version_major": 2,
       "version_minor": 0,
       "model_id": "b8c10a38c39d4d0896f1d4d15635a734"
      }
     },
     "metadata": {},
     "output_type": "display_data"
    },
    {
     "data": {
      "text/plain": "<IPython.core.display.HTML object>",
      "text/html": "<style>\n    table.wandb td:nth-child(1) { padding: 0 10px; text-align: left ; width: auto;} td:nth-child(2) {text-align: left ; width: 100%}\n    .wandb-row { display: flex; flex-direction: row; flex-wrap: wrap; justify-content: flex-start; width: 100% }\n    .wandb-col { display: flex; flex-direction: column; flex-basis: 100%; flex: 1; padding: 10px; }\n    </style>\n<div class=\"wandb-row\"><div class=\"wandb-col\"><h3>Run history:</h3><br/><table class=\"wandb\"><tr><td>epoch</td><td>▁▁▁▁▂▂▂▂▂▃▃▃▃▃▃▄▄▄▄▄▅▅▅▅▅▅▆▆▆▆▆▇▇▇▇▇▇███</td></tr><tr><td>h_f1-score</td><td>▆▁▃▄▄▅▅▅▅▆▆▆▆▇▇▇▇▇▇█▇████████▇██████████</td></tr><tr><td>h_precision</td><td>▄▁▇▇▇▇██████████████████████████▇▇█▇██▇▇</td></tr><tr><td>h_recall</td><td>█▁▂▃▃▃▃▃▄▄▄▄▄▅▅▅▅▅▆▆▆▆▆▆▆▆▆▆▆▆▆▆▆▆▆▆▆▆▇▆</td></tr><tr><td>train_loss</td><td>██▇▇▆▆▆▆▅▅▅▅▅▄▄▄▄▄▄▄▃▃▃▃▃▃▃▂▂▂▂▂▂▂▂▁▁▁▁▁</td></tr><tr><td>val_loss</td><td>█▇▆▆▅▅▄▄▄▄▃▃▂▃▃▂▂▂▃▂▂▂▂▂▂▂▂▁▂▂▂▁▁▂▁▂▁▁▁▂</td></tr></table><br/></div><div class=\"wandb-col\"><h3>Run summary:</h3><br/><table class=\"wandb\"><tr><td>epoch</td><td>99</td></tr><tr><td>h_f1-score</td><td>0.56872</td></tr><tr><td>h_precision</td><td>0.65106</td></tr><tr><td>h_recall</td><td>0.50487</td></tr><tr><td>train_loss</td><td>335.86248</td></tr><tr><td>val_loss</td><td>554.74922</td></tr></table><br/></div></div>"
     },
     "metadata": {},
     "output_type": "display_data"
    },
    {
     "data": {
      "text/plain": "<IPython.core.display.HTML object>",
      "text/html": " View run <strong style=\"color:#cdcd00\">cosmic-sweep-8</strong> at: <a href='https://wandb.ai/phoenix_nlp/FineTuning-openAI-Large-m-NER/runs/t9vsveu7' target=\"_blank\">https://wandb.ai/phoenix_nlp/FineTuning-openAI-Large-m-NER/runs/t9vsveu7</a><br/> View project at: <a href='https://wandb.ai/phoenix_nlp/FineTuning-openAI-Large-m-NER' target=\"_blank\">https://wandb.ai/phoenix_nlp/FineTuning-openAI-Large-m-NER</a><br/>Synced 5 W&B file(s), 0 media file(s), 0 artifact file(s) and 0 other file(s)"
     },
     "metadata": {},
     "output_type": "display_data"
    },
    {
     "data": {
      "text/plain": "<IPython.core.display.HTML object>",
      "text/html": "Find logs at: <code>./wandb/run-20240426_193101-t9vsveu7/logs</code>"
     },
     "metadata": {},
     "output_type": "display_data"
    },
    {
     "name": "stderr",
     "output_type": "stream",
     "text": [
      "\u001B[34m\u001B[1mwandb\u001B[0m: Agent Starting Run: ms8ny34x with config:\n",
      "\u001B[34m\u001B[1mwandb\u001B[0m: \talpha: 0.8265316301970744\n",
      "\u001B[34m\u001B[1mwandb\u001B[0m: \tbatch_size: 128\n",
      "\u001B[34m\u001B[1mwandb\u001B[0m: \tbeta: 0.5711067839857358\n",
      "\u001B[34m\u001B[1mwandb\u001B[0m: \tbeta1: 0.9426835775816698\n",
      "\u001B[34m\u001B[1mwandb\u001B[0m: \tlearning_rate: 2.4594431269102348e-05\n",
      "\u001B[34m\u001B[1mwandb\u001B[0m: \toptimizer: adam\n",
      "\u001B[34m\u001B[1mwandb\u001B[0m: \tthreshold: 0.7162944071458639\n"
     ]
    },
    {
     "data": {
      "text/plain": "<IPython.core.display.HTML object>",
      "text/html": "Tracking run with wandb version 0.16.6"
     },
     "metadata": {},
     "output_type": "display_data"
    },
    {
     "data": {
      "text/plain": "<IPython.core.display.HTML object>",
      "text/html": "Run data is saved locally in <code>/Users/iqbal/Desktop/Python Assignments/Detecting-Persuasion-Techniques-in-Memes/wandb/run-20240426_193916-ms8ny34x</code>"
     },
     "metadata": {},
     "output_type": "display_data"
    },
    {
     "data": {
      "text/plain": "<IPython.core.display.HTML object>",
      "text/html": "Syncing run <strong><a href='https://wandb.ai/phoenix_nlp/FineTuning-openAI-Large-m-NER/runs/ms8ny34x' target=\"_blank\">swept-sweep-9</a></strong> to <a href='https://wandb.ai/phoenix_nlp/FineTuning-openAI-Large-m-NER' target=\"_blank\">Weights & Biases</a> (<a href='https://wandb.me/run' target=\"_blank\">docs</a>)<br/>Sweep page: <a href='https://wandb.ai/phoenix_nlp/FineTuning-openAI-Large-m-NER/sweeps/kd6j74uy' target=\"_blank\">https://wandb.ai/phoenix_nlp/FineTuning-openAI-Large-m-NER/sweeps/kd6j74uy</a>"
     },
     "metadata": {},
     "output_type": "display_data"
    },
    {
     "data": {
      "text/plain": "<IPython.core.display.HTML object>",
      "text/html": " View project at <a href='https://wandb.ai/phoenix_nlp/FineTuning-openAI-Large-m-NER' target=\"_blank\">https://wandb.ai/phoenix_nlp/FineTuning-openAI-Large-m-NER</a>"
     },
     "metadata": {},
     "output_type": "display_data"
    },
    {
     "data": {
      "text/plain": "<IPython.core.display.HTML object>",
      "text/html": " View sweep at <a href='https://wandb.ai/phoenix_nlp/FineTuning-openAI-Large-m-NER/sweeps/kd6j74uy' target=\"_blank\">https://wandb.ai/phoenix_nlp/FineTuning-openAI-Large-m-NER/sweeps/kd6j74uy</a>"
     },
     "metadata": {},
     "output_type": "display_data"
    },
    {
     "data": {
      "text/plain": "<IPython.core.display.HTML object>",
      "text/html": " View run at <a href='https://wandb.ai/phoenix_nlp/FineTuning-openAI-Large-m-NER/runs/ms8ny34x' target=\"_blank\">https://wandb.ai/phoenix_nlp/FineTuning-openAI-Large-m-NER/runs/ms8ny34x</a>"
     },
     "metadata": {},
     "output_type": "display_data"
    },
    {
     "name": "stdout",
     "output_type": "stream",
     "text": [
      "[50/100]\n",
      "f1_h=0.50299\tprec_h=0.70471\trec_h=0.39105\n",
      "[100/100]\n",
      "f1_h=0.55962\tprec_h=0.69657\trec_h=0.46767\n"
     ]
    },
    {
     "data": {
      "text/plain": "VBox(children=(Label(value='0.001 MB of 0.001 MB uploaded\\r'), FloatProgress(value=1.0, max=1.0)))",
      "application/vnd.jupyter.widget-view+json": {
       "version_major": 2,
       "version_minor": 0,
       "model_id": "9d8053ef6e2245e58e76a380b9fad66f"
      }
     },
     "metadata": {},
     "output_type": "display_data"
    },
    {
     "data": {
      "text/plain": "<IPython.core.display.HTML object>",
      "text/html": "<style>\n    table.wandb td:nth-child(1) { padding: 0 10px; text-align: left ; width: auto;} td:nth-child(2) {text-align: left ; width: 100%}\n    .wandb-row { display: flex; flex-direction: row; flex-wrap: wrap; justify-content: flex-start; width: 100% }\n    .wandb-col { display: flex; flex-direction: column; flex-basis: 100%; flex: 1; padding: 10px; }\n    </style>\n<div class=\"wandb-row\"><div class=\"wandb-col\"><h3>Run history:</h3><br/><table class=\"wandb\"><tr><td>epoch</td><td>▁▁▁▁▂▂▂▂▂▃▃▃▃▃▃▄▄▄▄▄▅▅▅▅▅▅▆▆▆▆▆▇▇▇▇▇▇███</td></tr><tr><td>h_f1-score</td><td>▅▁▁▂▃▄▅▄▅▅▅▆▅▆▆▆▇▇▇▇▇▇▇█▇▇▇█████████████</td></tr><tr><td>h_precision</td><td>▃▁█▆▆▆▆▆▆▆▇▆▇▆▆▇▆▆▇▆▆▆▆▆▆▇▆▆▆▆▆▆▆▆▆▆▆▆▆▆</td></tr><tr><td>h_recall</td><td>█▁▁▂▂▂▂▂▃▃▃▃▃▃▄▃▄▄▄▄▄▄▄▅▄▄▄▅▄▅▅▅▅▅▅▅▅▄▅▅</td></tr><tr><td>train_loss</td><td>█▇▆▆▅▅▅▅▅▅▄▄▄▄▄▃▃▃▃▃▃▃▃▃▂▂▂▂▂▂▂▂▂▂▁▁▁▁▁▁</td></tr><tr><td>val_loss</td><td>█▆▅▅▅▅▄▄▄▃▃▃▂▂▂▂▂▂▂▁▂▂▂▁▂▁▁▁▁▁▁▁▁▁▁▁▁▁▁▁</td></tr></table><br/></div><div class=\"wandb-col\"><h3>Run summary:</h3><br/><table class=\"wandb\"><tr><td>epoch</td><td>99</td></tr><tr><td>h_f1-score</td><td>0.55962</td></tr><tr><td>h_precision</td><td>0.69657</td></tr><tr><td>h_recall</td><td>0.46767</td></tr><tr><td>train_loss</td><td>344.51751</td></tr><tr><td>val_loss</td><td>530.54694</td></tr></table><br/></div></div>"
     },
     "metadata": {},
     "output_type": "display_data"
    },
    {
     "data": {
      "text/plain": "<IPython.core.display.HTML object>",
      "text/html": " View run <strong style=\"color:#cdcd00\">swept-sweep-9</strong> at: <a href='https://wandb.ai/phoenix_nlp/FineTuning-openAI-Large-m-NER/runs/ms8ny34x' target=\"_blank\">https://wandb.ai/phoenix_nlp/FineTuning-openAI-Large-m-NER/runs/ms8ny34x</a><br/> View project at: <a href='https://wandb.ai/phoenix_nlp/FineTuning-openAI-Large-m-NER' target=\"_blank\">https://wandb.ai/phoenix_nlp/FineTuning-openAI-Large-m-NER</a><br/>Synced 5 W&B file(s), 0 media file(s), 0 artifact file(s) and 0 other file(s)"
     },
     "metadata": {},
     "output_type": "display_data"
    },
    {
     "data": {
      "text/plain": "<IPython.core.display.HTML object>",
      "text/html": "Find logs at: <code>./wandb/run-20240426_193916-ms8ny34x/logs</code>"
     },
     "metadata": {},
     "output_type": "display_data"
    },
    {
     "name": "stderr",
     "output_type": "stream",
     "text": [
      "\u001B[34m\u001B[1mwandb\u001B[0m: Sweep Agent: Waiting for job.\n",
      "\u001B[34m\u001B[1mwandb\u001B[0m: Job received.\n",
      "\u001B[34m\u001B[1mwandb\u001B[0m: Agent Starting Run: u3qk64cb with config:\n",
      "\u001B[34m\u001B[1mwandb\u001B[0m: \talpha: 0.8363820893739565\n",
      "\u001B[34m\u001B[1mwandb\u001B[0m: \tbatch_size: 128\n",
      "\u001B[34m\u001B[1mwandb\u001B[0m: \tbeta: 0.5231395996281678\n",
      "\u001B[34m\u001B[1mwandb\u001B[0m: \tbeta1: 0.936562515625026\n",
      "\u001B[34m\u001B[1mwandb\u001B[0m: \tlearning_rate: 1.6470120713361317e-05\n",
      "\u001B[34m\u001B[1mwandb\u001B[0m: \toptimizer: adam\n",
      "\u001B[34m\u001B[1mwandb\u001B[0m: \tthreshold: 0.7558571606564068\n"
     ]
    },
    {
     "data": {
      "text/plain": "<IPython.core.display.HTML object>",
      "text/html": "Tracking run with wandb version 0.16.6"
     },
     "metadata": {},
     "output_type": "display_data"
    },
    {
     "data": {
      "text/plain": "<IPython.core.display.HTML object>",
      "text/html": "Run data is saved locally in <code>/Users/iqbal/Desktop/Python Assignments/Detecting-Persuasion-Techniques-in-Memes/wandb/run-20240426_194751-u3qk64cb</code>"
     },
     "metadata": {},
     "output_type": "display_data"
    },
    {
     "data": {
      "text/plain": "<IPython.core.display.HTML object>",
      "text/html": "Syncing run <strong><a href='https://wandb.ai/phoenix_nlp/FineTuning-openAI-Large-m-NER/runs/u3qk64cb' target=\"_blank\">dashing-sweep-10</a></strong> to <a href='https://wandb.ai/phoenix_nlp/FineTuning-openAI-Large-m-NER' target=\"_blank\">Weights & Biases</a> (<a href='https://wandb.me/run' target=\"_blank\">docs</a>)<br/>Sweep page: <a href='https://wandb.ai/phoenix_nlp/FineTuning-openAI-Large-m-NER/sweeps/kd6j74uy' target=\"_blank\">https://wandb.ai/phoenix_nlp/FineTuning-openAI-Large-m-NER/sweeps/kd6j74uy</a>"
     },
     "metadata": {},
     "output_type": "display_data"
    },
    {
     "data": {
      "text/plain": "<IPython.core.display.HTML object>",
      "text/html": " View project at <a href='https://wandb.ai/phoenix_nlp/FineTuning-openAI-Large-m-NER' target=\"_blank\">https://wandb.ai/phoenix_nlp/FineTuning-openAI-Large-m-NER</a>"
     },
     "metadata": {},
     "output_type": "display_data"
    },
    {
     "data": {
      "text/plain": "<IPython.core.display.HTML object>",
      "text/html": " View sweep at <a href='https://wandb.ai/phoenix_nlp/FineTuning-openAI-Large-m-NER/sweeps/kd6j74uy' target=\"_blank\">https://wandb.ai/phoenix_nlp/FineTuning-openAI-Large-m-NER/sweeps/kd6j74uy</a>"
     },
     "metadata": {},
     "output_type": "display_data"
    },
    {
     "data": {
      "text/plain": "<IPython.core.display.HTML object>",
      "text/html": " View run at <a href='https://wandb.ai/phoenix_nlp/FineTuning-openAI-Large-m-NER/runs/u3qk64cb' target=\"_blank\">https://wandb.ai/phoenix_nlp/FineTuning-openAI-Large-m-NER/runs/u3qk64cb</a>"
     },
     "metadata": {},
     "output_type": "display_data"
    },
    {
     "name": "stdout",
     "output_type": "stream",
     "text": [
      "[50/100]\n",
      "f1_h=0.46572\tprec_h=0.69982\trec_h=0.34898\n",
      "[100/100]\n",
      "f1_h=0.56219\tprec_h=0.68358\trec_h=0.47741\n"
     ]
    },
    {
     "data": {
      "text/plain": "VBox(children=(Label(value='0.001 MB of 0.001 MB uploaded\\r'), FloatProgress(value=1.0, max=1.0)))",
      "application/vnd.jupyter.widget-view+json": {
       "version_major": 2,
       "version_minor": 0,
       "model_id": "f5b5bac7d16e4c9081bb1e36e7e4cd15"
      }
     },
     "metadata": {},
     "output_type": "display_data"
    },
    {
     "data": {
      "text/plain": "<IPython.core.display.HTML object>",
      "text/html": "<style>\n    table.wandb td:nth-child(1) { padding: 0 10px; text-align: left ; width: auto;} td:nth-child(2) {text-align: left ; width: 100%}\n    .wandb-row { display: flex; flex-direction: row; flex-wrap: wrap; justify-content: flex-start; width: 100% }\n    .wandb-col { display: flex; flex-direction: column; flex-basis: 100%; flex: 1; padding: 10px; }\n    </style>\n<div class=\"wandb-row\"><div class=\"wandb-col\"><h3>Run history:</h3><br/><table class=\"wandb\"><tr><td>epoch</td><td>▁▁▁▁▂▂▂▂▂▃▃▃▃▃▃▄▄▄▄▄▅▅▅▅▅▅▆▆▆▆▆▇▇▇▇▇▇███</td></tr><tr><td>h_f1-score</td><td>▅▁▁▁▂▃▄▄▄▅▅▅▆▅▆▆▆▆▆▇▆▆▇▇▇▇▇▇▇▇▇█▇██▇████</td></tr><tr><td>h_precision</td><td>▂▁▁█▆▆▆▆▆▆▆▇▆▇▇▇▇▇▇▇▇▇▇▇▇▇▇▇▇▇▇▇▇▇▇▇▆▇▇▆</td></tr><tr><td>h_recall</td><td>█▁▁▁▁▂▂▂▂▂▃▂▃▃▃▃▃▃▃▄▃▃▃▃▄▄▄▄▄▄▄▄▄▄▄▄▄▄▄▄</td></tr><tr><td>train_loss</td><td>█▆▆▅▅▅▅▄▄▄▄▄▄▃▃▃▃▃▃▃▃▂▂▂▂▂▂▂▂▂▂▂▁▁▁▁▁▁▁▁</td></tr><tr><td>val_loss</td><td>██▆▅▅▅▅▄▄▄▄▃▃▃▃▃▃▂▂▃▂▂▂▂▂▂▂▂▂▂▂▁▁▁▁▂▁▂▁▁</td></tr></table><br/></div><div class=\"wandb-col\"><h3>Run summary:</h3><br/><table class=\"wandb\"><tr><td>epoch</td><td>99</td></tr><tr><td>h_f1-score</td><td>0.56219</td></tr><tr><td>h_precision</td><td>0.68358</td></tr><tr><td>h_recall</td><td>0.47741</td></tr><tr><td>train_loss</td><td>402.28136</td></tr><tr><td>val_loss</td><td>507.50011</td></tr></table><br/></div></div>"
     },
     "metadata": {},
     "output_type": "display_data"
    },
    {
     "data": {
      "text/plain": "<IPython.core.display.HTML object>",
      "text/html": " View run <strong style=\"color:#cdcd00\">dashing-sweep-10</strong> at: <a href='https://wandb.ai/phoenix_nlp/FineTuning-openAI-Large-m-NER/runs/u3qk64cb' target=\"_blank\">https://wandb.ai/phoenix_nlp/FineTuning-openAI-Large-m-NER/runs/u3qk64cb</a><br/> View project at: <a href='https://wandb.ai/phoenix_nlp/FineTuning-openAI-Large-m-NER' target=\"_blank\">https://wandb.ai/phoenix_nlp/FineTuning-openAI-Large-m-NER</a><br/>Synced 5 W&B file(s), 0 media file(s), 0 artifact file(s) and 0 other file(s)"
     },
     "metadata": {},
     "output_type": "display_data"
    },
    {
     "data": {
      "text/plain": "<IPython.core.display.HTML object>",
      "text/html": "Find logs at: <code>./wandb/run-20240426_194751-u3qk64cb/logs</code>"
     },
     "metadata": {},
     "output_type": "display_data"
    }
   ],
   "source": [
    "def main():\n",
    "    wandb.agent(sweep_id, train, count=5)\n",
    "\n",
    "if __name__ == \"__main__\":\n",
    "    main()"
   ],
   "metadata": {
    "collapsed": false,
    "ExecuteTime": {
     "end_time": "2024-04-26T23:56:09.844429Z",
     "start_time": "2024-04-26T23:14:34.524566Z"
    }
   },
   "id": "a0309c3d994f613b",
   "execution_count": 12
  },
  {
   "cell_type": "markdown",
   "source": [
    "### Evaluation"
   ],
   "metadata": {
    "collapsed": false
   },
   "id": "b95efa66510f9b3b"
  },
  {
   "cell_type": "markdown",
   "source": [
    "### text-embeddings-Large + BERT-base-NER (only for English)"
   ],
   "metadata": {
    "collapsed": false
   },
   "id": "d8ef1acd3afbefc4"
  },
  {
   "cell_type": "code",
   "outputs": [
    {
     "data": {
      "text/plain": "<All keys matched successfully>"
     },
     "execution_count": 29,
     "metadata": {},
     "output_type": "execute_result"
    }
   ],
   "source": [
    "model = OpenAiLargeNER()\n",
    "\n",
    "model.load_state_dict(torch.load('models/subtask1a/openAI-Large-NER/misty-sweep-4.pth'))"
   ],
   "metadata": {
    "collapsed": false,
    "ExecuteTime": {
     "end_time": "2024-04-28T08:00:04.889145Z",
     "start_time": "2024-04-28T08:00:04.736773Z"
    }
   },
   "id": "e85e4ffbb3821e93",
   "execution_count": 29
  },
  {
   "cell_type": "markdown",
   "source": [
    "#### English"
   ],
   "metadata": {
    "collapsed": false
   },
   "id": "a7fbde1b41538b04"
  },
  {
   "cell_type": "code",
   "outputs": [],
   "source": [
    "en_pred_file_path = './Predictions/en_predictions_subtask1.txt'\n",
    "\n",
    "en_test_data = process_test_json('./test_data/english/en_subtask1_test_unlabeled.json')\n",
    "\n",
    "en_test_dataset = TestDataSet(en_test_data,\n",
    "                              './TextFeatures/subtask1a/text-embedding-3-large/en_test_text_features.pkl',\n",
    "                              './TextFeatures/subtask1a/BERT-NER/en_test_text_features.pkl')\n",
    "en_test_dataloader = DataLoader(en_test_dataset, batch_size=16, shuffle=True)\n",
    "\n",
    "evaluate_model(model, en_test_dataloader, en_pred_file_path, None, evaluator_script, id2leaf_label, validation=False,\n",
    "               threshold=0.3)"
   ],
   "metadata": {
    "collapsed": false,
    "ExecuteTime": {
     "end_time": "2024-04-28T07:49:53.906910Z",
     "start_time": "2024-04-28T07:49:52.938767Z"
    }
   },
   "id": "6da04e8835c2de8f",
   "execution_count": 22
  },
  {
   "cell_type": "markdown",
   "source": [
    "0.62898\t0.66361\t0.59779"
   ],
   "metadata": {
    "collapsed": false
   },
   "id": "8a61fb8003807689"
  },
  {
   "cell_type": "markdown",
   "source": [
    "### text-embeddings-Large + BERT-Multilingual-NER"
   ],
   "metadata": {
    "collapsed": false
   },
   "id": "bcde5c276f2970b7"
  },
  {
   "cell_type": "code",
   "outputs": [
    {
     "data": {
      "text/plain": "<All keys matched successfully>"
     },
     "execution_count": 23,
     "metadata": {},
     "output_type": "execute_result"
    }
   ],
   "source": [
    "from modules.nn.OpenAiLarge import OpenAiLargeMultiLingualNER\n",
    "\n",
    "model = OpenAiLargeMultiLingualNER()\n",
    "device = torch.device('cpu')\n",
    "\n",
    "model.load_state_dict(torch.load('./models/subtask1a/openAI-Large-m-NER/gallant-sweep-7.pth'))"
   ],
   "metadata": {
    "collapsed": false,
    "ExecuteTime": {
     "end_time": "2024-04-28T07:53:27.383529Z",
     "start_time": "2024-04-28T07:53:27.251645Z"
    }
   },
   "id": "6eece44143350e04",
   "execution_count": 23
  },
  {
   "cell_type": "markdown",
   "source": [
    "#### Bulgarian"
   ],
   "metadata": {
    "collapsed": false
   },
   "id": "dc801310e4b3dd18"
  },
  {
   "cell_type": "code",
   "outputs": [
    {
     "name": "stdout",
     "output_type": "stream",
     "text": [
      "f1_h=0.46682\tprec_h=0.52446\trec_h=0.42060\n"
     ]
    }
   ],
   "source": [
    "bulgarian_pred_file_path = './Predictions/bulgarian_predictions_subtask1.txt'\n",
    "bulgarian_gold_file_path = './test_labels_ar_bg_md_version2/test_subtask1_bg.json'\n",
    "evaluator_script = './scorer-baseline/subtask_1_2a.py'\n",
    "\n",
    "bg_test_data = process_test_json(bulgarian_gold_file_path)\n",
    "\n",
    "\n",
    "bg_test_dataset = TestDataSet(bg_test_data, \n",
    "                              './TextFeatures/subtask1a/text-embedding-3-large/bg_test_text_features.pkl',\n",
    "                              './TextFeatures/subtask1a/multilingual-ner/bg_test_text_features.pkl')\n",
    "bg_test_dataloader = DataLoader(bg_test_dataset, batch_size=64, shuffle=True)\n",
    "\n",
    "evaluate_model(model, bg_test_dataloader, bulgarian_pred_file_path, bulgarian_gold_file_path,\n",
    "               evaluator_script, id2leaf_label, validation=False, threshold=0.3)"
   ],
   "metadata": {
    "collapsed": false,
    "ExecuteTime": {
     "end_time": "2024-04-28T07:53:53.914943Z",
     "start_time": "2024-04-28T07:53:53.814369Z"
    }
   },
   "id": "6b0cc08c893ddbef",
   "execution_count": 24
  },
  {
   "cell_type": "markdown",
   "source": [
    "#### North Macedonian"
   ],
   "metadata": {
    "collapsed": false
   },
   "id": "7524312fe435affd"
  },
  {
   "cell_type": "code",
   "outputs": [
    {
     "name": "stdout",
     "output_type": "stream",
     "text": [
      "f1_h=0.44731\tprec_h=0.58300\trec_h=0.36285\n"
     ]
    }
   ],
   "source": [
    "macedonian_pred_file_path = './Predictions/macedonian_predictions_subtask1.txt'\n",
    "macedonian_gold_file_path = './test_labels_ar_bg_md_version2/test_subtask1_md.json'\n",
    "\n",
    "md_test_data = process_test_json(macedonian_gold_file_path)\n",
    "\n",
    "md_test_dataset = TestDataSet(md_test_data, \n",
    "                              './TextFeatures/subtask1a/text-embedding-3-large/md_test_text_features.pkl',\n",
    "                              './TextFeatures/subtask1a/multilingual-ner/md_test_text_features.pkl'\n",
    "                              )\n",
    "md_test_dataloader = DataLoader(md_test_dataset, batch_size=64, shuffle=True)\n",
    "\n",
    "evaluate_model(model, md_test_dataloader, macedonian_pred_file_path, macedonian_gold_file_path,\n",
    "               evaluator_script, id2leaf_label, validation=False, threshold=0.3)"
   ],
   "metadata": {
    "collapsed": false,
    "ExecuteTime": {
     "end_time": "2024-04-28T07:54:20.256468Z",
     "start_time": "2024-04-28T07:54:20.169823Z"
    }
   },
   "id": "5a40ba4db4bdbf1a",
   "execution_count": 25
  },
  {
   "cell_type": "markdown",
   "source": [
    "#### Arabian"
   ],
   "metadata": {
    "collapsed": false
   },
   "id": "10820a91695ffc6c"
  },
  {
   "cell_type": "code",
   "outputs": [
    {
     "name": "stdout",
     "output_type": "stream",
     "text": [
      "f1_h=0.32889\tprec_h=0.44848\trec_h=0.25965\n"
     ]
    }
   ],
   "source": [
    "arabian_pred_file_path = './Predictions/arabian_predictions_subtask1.txt'\n",
    "arabian_gold_file_path = './test_labels_ar_bg_md_version2/test_subtask1_ar.json'\n",
    "\n",
    "ar_test_data = process_test_json(arabian_gold_file_path)\n",
    "\n",
    "ar_test_dataset = TestDataSet(ar_test_data, \n",
    "                              './TextFeatures/subtask1a/text-embedding-3-large/ar_test_text_features.pkl',\n",
    "                              './TextFeatures/subtask1a/multilingual-ner/ar_test_text_features.pkl'\n",
    "                              )\n",
    "ar_test_dataloader = DataLoader(ar_test_dataset, batch_size=128, shuffle=True)\n",
    "\n",
    "evaluate_model(model, ar_test_dataloader, arabian_pred_file_path, arabian_gold_file_path, evaluator_script, \n",
    "               id2leaf_label, format=5, validation=False, threshold=0.3)"
   ],
   "metadata": {
    "collapsed": false,
    "ExecuteTime": {
     "end_time": "2024-04-28T07:54:44.347722Z",
     "start_time": "2024-04-28T07:54:44.310471Z"
    }
   },
   "id": "e6fa5dd55d3bfab5",
   "execution_count": 26
  },
  {
   "cell_type": "markdown",
   "source": [
    "#### English"
   ],
   "metadata": {
    "collapsed": false
   },
   "id": "d25065615c1c3d1d"
  },
  {
   "cell_type": "code",
   "outputs": [],
   "source": [
    "en_pred_file_path = './Predictions/en_predictions_subtask1.txt'\n",
    "\n",
    "en_test_data = process_test_json('./test_data/english/en_subtask1_test_unlabeled.json')\n",
    "\n",
    "en_test_dataset = TestDataSet(en_test_data,\n",
    "                              './TextFeatures/subtask1a/text-embedding-3-large/en_test_text_features.pkl',\n",
    "                              './TextFeatures/subtask1a/multilingual-ner/en_test_text_features.pkl')\n",
    "en_test_dataloader = DataLoader(en_test_dataset, batch_size=16, shuffle=True)\n",
    "\n",
    "evaluate_model(model, en_test_dataloader, en_pred_file_path, None, evaluator_script, id2leaf_label, validation=False,\n",
    "               threshold=0.3)"
   ],
   "metadata": {
    "collapsed": false,
    "ExecuteTime": {
     "end_time": "2024-04-28T07:54:59.620961Z",
     "start_time": "2024-04-28T07:54:58.638716Z"
    }
   },
   "id": "2ca7e7f0f61782bb",
   "execution_count": 27
  },
  {
   "cell_type": "markdown",
   "source": [
    "0.63941\t0.65488\t0.62465"
   ],
   "metadata": {
    "collapsed": false
   },
   "id": "7d3b3f0478c55266"
  }
 ],
 "metadata": {
  "kernelspec": {
   "display_name": "Python 3",
   "language": "python",
   "name": "python3"
  },
  "language_info": {
   "codemirror_mode": {
    "name": "ipython",
    "version": 2
   },
   "file_extension": ".py",
   "mimetype": "text/x-python",
   "name": "python",
   "nbconvert_exporter": "python",
   "pygments_lexer": "ipython2",
   "version": "2.7.6"
  }
 },
 "nbformat": 4,
 "nbformat_minor": 5
}
