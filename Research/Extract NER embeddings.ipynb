{
 "cells": [
  {
   "cell_type": "markdown",
   "id": "77ff47d38903a0ea",
   "metadata": {
    "collapsed": false,
    "jupyter": {
     "outputs_hidden": false
    }
   },
   "source": [
    "### Extracting NER embeddings"
   ]
  },
  {
   "cell_type": "code",
   "execution_count": null,
   "id": "661f00377194cb64",
   "metadata": {
    "collapsed": false,
    "jupyter": {
     "outputs_hidden": false
    }
   },
   "outputs": [],
   "source": [
    "import os\n",
    "import torch\n",
    "import torchvision.transforms as transforms\n",
    "from torchvision.models import resnet50\n",
    "from PIL import Image\n",
    "import pickle\n",
    "\n",
    "import torchvision.models as models\n",
    "from utils.utils import *\n",
    "from utils.label_decoding import *\n",
    "from utils.HierarchicalLoss import *"
   ]
  },
  {
   "cell_type": "code",
   "execution_count": null,
   "id": "4e216a55eab5b3b",
   "metadata": {
    "collapsed": false,
    "jupyter": {
     "outputs_hidden": false
    }
   },
   "outputs": [],
   "source": [
    "from transformers import AutoTokenizer, AutoModelForTokenClassification\n",
    "import torch\n",
    "\n",
    "# Load the model and tokenizer\n",
    "tokenizer = AutoTokenizer.from_pretrained(\"Babelscape/wikineural-multilingual-ner\")\n",
    "model = AutoModelForTokenClassification.from_pretrained(\"Babelscape/wikineural-multilingual-ner\", output_hidden_states=True)\n",
    "\n",
    "# Encode the input text and obtain the model outputs\n",
    "text = \"Insert your text here.\"\n",
    "inputs = tokenizer(text, return_tensors=\"pt\", padding=True, truncation=True, max_length=512)\n",
    "outputs = model(**inputs)\n",
    "hidden_states = outputs.hidden_states\n",
    "token_embeddings = hidden_states[-1][0] \n",
    "\n",
    "cls_embedding = token_embeddings[0]\n"
   ]
  },
  {
   "cell_type": "code",
   "execution_count": null,
   "id": "32cd4b3aa566dc25",
   "metadata": {
    "collapsed": false,
    "jupyter": {
     "outputs_hidden": false
    }
   },
   "outputs": [],
   "source": [
    "cls_embedding.shape"
   ]
  },
  {
   "cell_type": "code",
   "execution_count": null,
   "id": "4db099ecce6e8648",
   "metadata": {
    "collapsed": false,
    "jupyter": {
     "outputs_hidden": false
    }
   },
   "outputs": [],
   "source": [
    "device = get_device()"
   ]
  },
  {
   "cell_type": "code",
   "execution_count": null,
   "id": "f86283fdbca15d28",
   "metadata": {
    "collapsed": false,
    "jupyter": {
     "outputs_hidden": false
    }
   },
   "outputs": [],
   "source": [
    "def process_json(file_path, techniques_to_level, hierarchy):\n",
    "    data_df = pd.read_json(file_path)\n",
    "    data_df['cleaned_text'] = data_df['text'].apply(replace_newlines_with_fullstop)\n",
    "    if 'link' in data_df.columns:\n",
    "        data_df.drop(columns=['link'], inplace=True)\n",
    "\n",
    "    # for level in ['Level 1', 'Level 2', 'Level 3', 'Level 4', 'Level 5']:\n",
    "    #     data_df[level] = pd.Series([[] for _ in range(len(data_df))], index=data_df.index)\n",
    "    \n",
    "    return data_df"
   ]
  },
  {
   "cell_type": "code",
   "execution_count": null,
   "id": "2ed8634e790038b1",
   "metadata": {
    "collapsed": false,
    "jupyter": {
     "outputs_hidden": false
    }
   },
   "outputs": [],
   "source": [
    "def extract_text_features(file_path, tokenizer, text_model, output_file_path, subtask=1, device=torch.device(\"mps\")):\n",
    "    features_dict = {}\n",
    "    \n",
    "    if subtask == 1:\n",
    "        data = process_json(file_path, techniques_to_level_1, hierarchy_1)\n",
    "    else:\n",
    "        data = process_json(file_path, techniques_to_level_2a, hierarchy_subtask_2a)\n",
    "    \n",
    "    step = 0\n",
    "    \n",
    "    for id, text in zip(data['id'], data['cleaned_text']):\n",
    "        # print(data['text'], data['cleaned_text'])\n",
    "        # break\n",
    "        encoded_input = tokenizer(text, return_tensors='pt', add_special_tokens=True, \n",
    "                                  max_length=128, truncation=True, padding='max_length').to(device)\n",
    "        \n",
    "        # input_ids = encoded_input['input_ids'].to('cpu')\n",
    "        # decoded_text = tokenizer.decode(input_ids[0], skip_special_tokens=False)\n",
    "        # print(decoded_text)\n",
    "        # return\n",
    "        with torch.no_grad():\n",
    "            embeddings = text_model(**encoded_input)\n",
    "        features_dict[id] = embeddings.hidden_states[-1][:, 0, :].detach().cpu().squeeze().numpy()\n",
    "        \n",
    "        # print(features_dict[id].shape, features_dict[id].dtype)\n",
    "        \n",
    "        step += 1\n",
    "        \n",
    "        if step % 100 == 0:\n",
    "            print(f'completed {step} steps')\n",
    "            \n",
    "    with open(f'{output_file_path}', 'wb') as f:\n",
    "        pickle.dump(features_dict, f)\n",
    "    \n",
    "    print(f\"Features extracted and stored in {output_file_path}\")"
   ]
  },
  {
   "cell_type": "code",
   "execution_count": null,
   "id": "92ffaf21e67d8adc",
   "metadata": {
    "collapsed": false,
    "jupyter": {
     "outputs_hidden": false
    }
   },
   "outputs": [],
   "source": [
    "tokenizer = AutoTokenizer.from_pretrained(\"dslim/bert-large-NER\")\n",
    "model = AutoModelForTokenClassification.from_pretrained(\"dslim/bert-large-NER\", output_hidden_states=True)\n",
    "\n",
    "model.to(device)\n",
    "\n",
    "dir = './TextFeatures/subtask1a/BERT-NER/'\n",
    "\n",
    "train_input = './semeval2024_dev_release/subtask1/train.json'\n",
    "train_output = dir + 'train_text_features.pkl'\n",
    "\n",
    "val_input = './semeval2024_dev_release/subtask1/validation.json'\n",
    "val_output = dir + 'validation_text_features.pkl'\n",
    "\n",
    "test_en_input = './test_data/english/en_subtask1_test_unlabeled.json'\n",
    "test_en_output = dir + 'en_test_text_features.pkl'\n",
    "\n",
    "test_md_input = './test_labels_ar_bg_md_version2/test_subtask1_md.json'\n",
    "test_md_output = dir + 'md_test_text_features.pkl'\n",
    "\n",
    "test_ar_input = './test_labels_ar_bg_md_version2/test_subtask1_ar.json'\n",
    "test_ar_output = dir + 'ar_test_text_features.pkl'\n",
    "\n",
    "test_bg_input = './test_labels_ar_bg_md_version2/test_subtask1_bg.json'\n",
    "test_bg_output = dir + 'bg_test_text_features.pkl'\n",
    "\n",
    "dev_en_input = './semeval2024_dev_release/subtask1/dev_unlabeled.json'\n",
    "dev_en_output = dir + 'en_dev_text_features.pkl'\n",
    "\n",
    "extract_text_features(train_input, tokenizer, model, train_output)\n",
    "extract_text_features(val_input, tokenizer, model, val_output)\n",
    "\n",
    "extract_text_features(test_en_input, tokenizer, model, test_en_output)\n",
    "extract_text_features(test_md_input, tokenizer, model, test_md_output)\n",
    "extract_text_features(test_ar_input, tokenizer, model, test_ar_output)\n",
    "extract_text_features(test_bg_input, tokenizer, model, test_bg_output)\n",
    "\n",
    "extract_text_features(dev_en_input, tokenizer, model, dev_en_output)"
   ]
  },
  {
   "cell_type": "code",
   "execution_count": null,
   "id": "6e48fc0f7a09d7e3",
   "metadata": {
    "collapsed": false,
    "jupyter": {
     "outputs_hidden": false
    }
   },
   "outputs": [],
   "source": [
    "tokenizer = AutoTokenizer.from_pretrained(\"Babelscape/wikineural-multilingual-ner\")\n",
    "model = AutoModelForTokenClassification.from_pretrained(\"Babelscape/wikineural-multilingual-ner\",\n",
    "                                                        output_hidden_states=True)\n",
    "\n",
    "model.to(device)\n",
    "\n",
    "dir = './TextFeatures/subtask1a/multilingual-ner/'\n",
    "\n",
    "train_input = './semeval2024_dev_release/subtask1/train.json'\n",
    "train_output = dir + 'train_text_features.pkl'\n",
    "\n",
    "val_input = './semeval2024_dev_release/subtask1/validation.json'\n",
    "val_output = dir + 'validation_text_features.pkl'\n",
    "\n",
    "test_en_input = './test_data/english/en_subtask1_test_unlabeled.json'\n",
    "test_en_output = dir + 'en_test_text_features.pkl'\n",
    "\n",
    "test_md_input = './test_labels_ar_bg_md_version2/test_subtask1_md.json'\n",
    "test_md_output = dir + 'md_test_text_features.pkl'\n",
    "\n",
    "test_ar_input = './test_labels_ar_bg_md_version2/test_subtask1_ar.json'\n",
    "test_ar_output = dir + 'ar_test_text_features.pkl'\n",
    "\n",
    "test_bg_input = './test_labels_ar_bg_md_version2/test_subtask1_bg.json'\n",
    "test_bg_output = dir + 'bg_test_text_features.pkl'\n",
    "\n",
    "dev_en_input = './semeval2024_dev_release/subtask1/dev_unlabeled.json'\n",
    "dev_en_output = dir + 'en_dev_text_features.pkl'\n",
    "\n",
    "extract_text_features(train_input, tokenizer, model, train_output)\n",
    "extract_text_features(val_input, tokenizer, model, val_output)\n",
    "\n",
    "extract_text_features(test_en_input, tokenizer, model, test_en_output)\n",
    "extract_text_features(test_md_input, tokenizer, model, test_md_output)\n",
    "extract_text_features(test_ar_input, tokenizer, model, test_ar_output)\n",
    "extract_text_features(test_bg_input, tokenizer, model, test_bg_output)\n",
    "\n",
    "extract_text_features(dev_en_input, tokenizer, model, dev_en_output)"
   ]
  },
  {
   "cell_type": "code",
   "execution_count": null,
   "id": "91f0b2a2cafb8d6e",
   "metadata": {
    "collapsed": false,
    "jupyter": {
     "outputs_hidden": false
    }
   },
   "outputs": [],
   "source": [
    "tokenizer = AutoTokenizer.from_pretrained(\"Babelscape/wikineural-multilingual-ner\")\n",
    "model = AutoModelForTokenClassification.from_pretrained(\"Babelscape/wikineural-multilingual-ner\", \n",
    "                                                        output_hidden_states=True)\n",
    "device = get_device()\n",
    "model.to(device)\n",
    "\n",
    "dir = './TextFeatures/subtask2a/multilingual-ner/'\n",
    "\n",
    "train_input = './semeval2024_dev_release/subtask2a/train.json'\n",
    "train_output = dir + 'train_text_features.pkl'\n",
    "\n",
    "val_input = './semeval2024_dev_release/subtask2a/validation.json'\n",
    "val_output = dir + 'validation_text_features.pkl'\n",
    "\n",
    "test_en_input = './test_data/english/en_subtask2a_test_unlabeled.json'\n",
    "test_en_output = dir + 'en_test_text_features.pkl'\n",
    "\n",
    "test_md_input = './test_labels_ar_bg_md_version2/test_subtask2a_md.json'\n",
    "test_md_output = dir + 'md_test_text_features.pkl'\n",
    "\n",
    "test_ar_input = './test_labels_ar_bg_md_version2/test_subtask2a_ar.json'\n",
    "test_ar_output = dir + 'ar_test_text_features.pkl'\n",
    "\n",
    "test_bg_input = './test_labels_ar_bg_md_version2/test_subtask2a_bg.json'\n",
    "test_bg_output = dir + 'bg_test_text_features.pkl'\n",
    "\n",
    "dev_en_input = './semeval2024_dev_release/subtask1/dev_unlabeled.json'\n",
    "dev_en_output = dir + 'en_dev_text_features.pkl'\n",
    "\n",
    "extract_text_features(train_input, tokenizer, model, train_output)\n",
    "extract_text_features(val_input, tokenizer, model, val_output)\n",
    "\n",
    "extract_text_features(test_en_input, tokenizer, model, test_en_output)\n",
    "extract_text_features(test_md_input, tokenizer, model, test_md_output)\n",
    "extract_text_features(test_ar_input, tokenizer, model, test_ar_output)\n",
    "extract_text_features(test_bg_input, tokenizer, model, test_bg_output)\n",
    "\n",
    "extract_text_features(dev_en_input, tokenizer, model, dev_en_output)"
   ]
  },
  {
   "cell_type": "code",
   "execution_count": null,
   "id": "b9c483a4a74477e6",
   "metadata": {
    "collapsed": false,
    "jupyter": {
     "outputs_hidden": false
    }
   },
   "outputs": [],
   "source": []
  }
 ],
 "metadata": {
  "kernelspec": {
   "display_name": "Python 3 (ipykernel)",
   "language": "python",
   "name": "python3"
  },
  "language_info": {
   "codemirror_mode": {
    "name": "ipython",
    "version": 3
   },
   "file_extension": ".py",
   "mimetype": "text/x-python",
   "name": "python",
   "nbconvert_exporter": "python",
   "pygments_lexer": "ipython3",
   "version": "3.11.8"
  }
 },
 "nbformat": 4,
 "nbformat_minor": 5
}
