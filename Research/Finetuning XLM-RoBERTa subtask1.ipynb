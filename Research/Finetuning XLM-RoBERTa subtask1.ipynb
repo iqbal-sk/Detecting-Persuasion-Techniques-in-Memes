{
 "cells": [
  {
   "cell_type": "code",
   "execution_count": 1,
   "id": "initial_id",
   "metadata": {
    "collapsed": true,
    "ExecuteTime": {
     "end_time": "2024-04-16T18:56:39.409594Z",
     "start_time": "2024-04-16T18:56:37.428031Z"
    }
   },
   "outputs": [],
   "source": [
    "from collections import deque\n",
    "\n",
    "import pandas as pd\n",
    "import matplotlib.pyplot as plt\n",
    "import numpy as np\n",
    "import torch\n",
    "from torch import nn\n",
    "import nltk\n",
    "from torch.utils.data import Dataset\n",
    "import pickle\n",
    "\n",
    "from utils.utils import *\n",
    "from utils.label_decoding import *\n",
    "from utils.HierarchicalLoss import *"
   ]
  },
  {
   "cell_type": "markdown",
   "source": [
    "# SubTask 1"
   ],
   "metadata": {
    "collapsed": false
   },
   "id": "e60ad07d99dbae78"
  },
  {
   "cell_type": "code",
   "outputs": [],
   "source": [
    "class DataSet(Dataset):\n",
    "    def __init__(self, df, labels_at_level, features_file):\n",
    "        super(DataSet, self).__init__()\n",
    "        self.data_df = df\n",
    "        self.labels_at_level = labels_at_level\n",
    "        self.features_file = features_file\n",
    "        self.features_dict = None\n",
    "        with open(features_file, 'rb') as f:\n",
    "            self.features_dict = pickle.load(f)\n",
    "    \n",
    "    def __len__(self):\n",
    "        return len(self.data_df)\n",
    "    \n",
    "    def __getitem__(self, idx):\n",
    "        id = self.data_df.iloc[idx]['id']\n",
    "        text = self.data_df.iloc[idx]['cleaned_text']\n",
    "        level_1_target = self.encode(self.data_df.iloc[idx]['Level 1'], 1)\n",
    "        level_2_target = self.encode(self.data_df.iloc[idx]['Level 2'], 2)\n",
    "        level_3_target = self.encode(self.data_df.iloc[idx]['Level 3'], 3)\n",
    "        level_4_target = self.encode(self.data_df.iloc[idx]['Level 4'], 4)\n",
    "        level_5_target = self.encode(self.data_df.iloc[idx]['Level 5'], 5)\n",
    "            \n",
    "        \n",
    "        return {'id': id,\n",
    "                'text': text, \n",
    "                'text_features': self.features_dict[id],\n",
    "                'level_1_target': level_1_target, \n",
    "                'level_2_target': level_2_target, \n",
    "                'level_3_target': level_3_target, \n",
    "                'level_4_target': level_4_target, \n",
    "                'level_5_target': level_5_target }\n",
    "\n",
    "    def encode(self, labels, level):\n",
    "        level_ = f'Level {level}'\n",
    "        \n",
    "        target = torch.zeros(len(self.labels_at_level[level_])+1)\n",
    "        \n",
    "        for label in labels:\n",
    "            label_idx = self.labels_at_level[level_][label]\n",
    "            target[label_idx] = 1\n",
    "        \n",
    "        if len(labels) == 0:\n",
    "            target[-1] = 1\n",
    "        \n",
    "        return target"
   ],
   "metadata": {
    "collapsed": false,
    "ExecuteTime": {
     "end_time": "2024-04-16T18:56:39.417305Z",
     "start_time": "2024-04-16T18:56:39.411267Z"
    }
   },
   "id": "ca9a0fc432e64d68",
   "execution_count": 2
  },
  {
   "cell_type": "code",
   "outputs": [],
   "source": [
    "class TestDataSet(Dataset):\n",
    "    def __init__(self, df, features_file):\n",
    "        super(TestDataSet, self).__init__()\n",
    "        self.data_df = df\n",
    "        self.features_file = features_file\n",
    "        self.features_dict = None\n",
    "        with open(features_file, 'rb') as f:\n",
    "            self.features_dict = pickle.load(f)\n",
    "    \n",
    "    def __len__(self):\n",
    "        return len(self.data_df)\n",
    "    \n",
    "    def __getitem__(self, idx):\n",
    "        id = self.data_df.iloc[idx]['id']\n",
    "        text = self.data_df.iloc[idx]['cleaned_text']\n",
    "        \n",
    "        return {'id': id,\n",
    "                'text': text, \n",
    "                'text_features': self.features_dict[id] }"
   ],
   "metadata": {
    "collapsed": false,
    "ExecuteTime": {
     "end_time": "2024-04-16T18:56:39.421403Z",
     "start_time": "2024-04-16T18:56:39.418220Z"
    }
   },
   "id": "6eac351a60082cf4",
   "execution_count": 3
  },
  {
   "cell_type": "code",
   "outputs": [],
   "source": [
    "class Baseline(torch.nn.Module):\n",
    "    def __init__(self):\n",
    "        super(Baseline, self).__init__()\n",
    "        \n",
    "        self.linear_level1 = nn.Sequential(nn.Linear(1024, 1024), nn.ReLU(), nn.Linear(1024, 512), nn.ReLU(), nn.Linear(512, 128), nn.ReLU())\n",
    "        self.linear_level2 = nn.Sequential(nn.Linear(1024, 1024), nn.ReLU(), nn.Linear(1024, 512), nn.ReLU(), nn.Linear(512, 128), nn.ReLU())\n",
    "        self.linear_level3 = nn.Sequential(nn.Linear(1024, 1024), nn.ReLU(), nn.Linear(1024, 512), nn.ReLU(), nn.Linear(512, 128), nn.ReLU())\n",
    "        self.linear_level4 = nn.Sequential(nn.Linear(1024, 1024), nn.ReLU(), nn.Linear(1024, 512), nn.ReLU(), nn.Linear(512, 128), nn.ReLU())\n",
    "        self.linear_level5 = nn.Sequential(nn.Linear(1024, 1024), nn.ReLU(), nn.Linear(1024, 512), nn.ReLU(), nn.Linear(512, 128), nn.ReLU())\n",
    "\n",
    "        self.sigmoid_reg1 = nn.Sequential(nn.Linear(128, 2))\n",
    "        self.sigmoid_reg2 = nn.Sequential(nn.Linear(128*2, 4))\n",
    "        self.sigmoid_reg3 = nn.Sequential(nn.Linear(128*3, 13), nn.Sigmoid())\n",
    "        self.sigmoid_reg4 = nn.Sequential(nn.Linear(128*4, 13), nn.Sigmoid())\n",
    "        self.sigmoid_reg5 = nn.Sequential(nn.Linear(128*5, 7), nn.Sigmoid())\n",
    "        \n",
    "        \n",
    "    def forward(self, embeddings):\n",
    "        \n",
    "        lvl1_rep = self.linear_level1(embeddings)\n",
    "        lvl2_rep = self.linear_level2(embeddings)\n",
    "        lvl3_rep = self.linear_level3(embeddings)\n",
    "        lvl4_rep = self.linear_level4(embeddings)\n",
    "        lvl5_rep = self.linear_level5(embeddings)\n",
    "        \n",
    "        lvl1_pred = self.sigmoid_reg1(lvl1_rep)\n",
    "        lvl2_pred = self.sigmoid_reg2(torch.cat((lvl1_rep, lvl2_rep), dim=1))\n",
    "        lvl3_pred = self.sigmoid_reg3(torch.cat((lvl1_rep, lvl2_rep, lvl3_rep), dim=1))\n",
    "        lvl4_pred = self.sigmoid_reg4(torch.cat((lvl1_rep, lvl2_rep, lvl3_rep, lvl4_rep), dim=1))\n",
    "        lvl5_pred = self.sigmoid_reg5(torch.cat((lvl1_rep, lvl2_rep, lvl3_rep, lvl4_rep, lvl5_rep), dim=1))\n",
    "        \n",
    "        return lvl1_pred, lvl2_pred, lvl3_pred, lvl4_pred, lvl5_pred"
   ],
   "metadata": {
    "collapsed": false,
    "ExecuteTime": {
     "end_time": "2024-04-16T18:56:39.428762Z",
     "start_time": "2024-04-16T18:56:39.422990Z"
    }
   },
   "id": "b1932b9eee6e3e3e",
   "execution_count": 4
  },
  {
   "cell_type": "code",
   "outputs": [],
   "source": [
    "class Baseline(torch.nn.Module):\n",
    "    def __init__(self):\n",
    "        super(Baseline, self).__init__()\n",
    "        \n",
    "        self.linear_level1 = nn.Sequential(nn.Linear(1024, 2048), nn.ReLU(), nn.Linear(2048, 1024), nn.ReLU(), nn.Linear(1024, 512), nn.ReLU())\n",
    "        self.linear_level2 = nn.Sequential(nn.Linear(1024, 2048), nn.ReLU(), nn.Linear(2048, 1024), nn.ReLU(), nn.Linear(1024, 512), nn.ReLU())\n",
    "        self.linear_level3 = nn.Sequential(nn.Linear(1024, 2048), nn.ReLU(), nn.Linear(2048, 1024), nn.ReLU(), nn.Linear(1024, 512), nn.ReLU())\n",
    "        self.linear_level4 = nn.Sequential(nn.Linear(1024, 2048), nn.ReLU(), nn.Linear(2048, 1024), nn.ReLU(), nn.Linear(1024, 512), nn.ReLU())\n",
    "        self.linear_level5 = nn.Sequential(nn.Linear(1024, 2048), nn.ReLU(), nn.Linear(2048, 1024), nn.ReLU(), nn.Linear(1024, 512), nn.ReLU())\n",
    "\n",
    "        self.sigmoid_reg1 = nn.Sequential(nn.Linear(512, 2))\n",
    "        self.sigmoid_reg2 = nn.Sequential(nn.Linear(512*2, 4))\n",
    "        self.sigmoid_reg3 = nn.Sequential(nn.Linear(512*3, 13), nn.Sigmoid())\n",
    "        self.sigmoid_reg4 = nn.Sequential(nn.Linear(512*4, 13), nn.Sigmoid())\n",
    "        self.sigmoid_reg5 = nn.Sequential(nn.Linear(512*5, 7), nn.Sigmoid())\n",
    "        \n",
    "        \n",
    "    def forward(self, embeddings):\n",
    "        \n",
    "        lvl1_rep = self.linear_level1(embeddings)\n",
    "        lvl2_rep = self.linear_level2(embeddings)\n",
    "        lvl3_rep = self.linear_level3(embeddings)\n",
    "        lvl4_rep = self.linear_level4(embeddings)\n",
    "        lvl5_rep = self.linear_level5(embeddings)\n",
    "        \n",
    "        lvl1_pred = self.sigmoid_reg1(lvl1_rep)\n",
    "        lvl2_pred = self.sigmoid_reg2(torch.cat((lvl1_rep, lvl2_rep), dim=1))\n",
    "        lvl3_pred = self.sigmoid_reg3(torch.cat((lvl1_rep, lvl2_rep, lvl3_rep), dim=1))\n",
    "        lvl4_pred = self.sigmoid_reg4(torch.cat((lvl1_rep, lvl2_rep, lvl3_rep, lvl4_rep), dim=1))\n",
    "        lvl5_pred = self.sigmoid_reg5(torch.cat((lvl1_rep, lvl2_rep, lvl3_rep, lvl4_rep, lvl5_rep), dim=1))\n",
    "        \n",
    "        return lvl1_pred, lvl2_pred, lvl3_pred, lvl4_pred, lvl5_pred"
   ],
   "metadata": {
    "collapsed": false,
    "ExecuteTime": {
     "end_time": "2024-04-16T18:56:39.434897Z",
     "start_time": "2024-04-16T18:56:39.429404Z"
    }
   },
   "id": "27ed73082d4926a4",
   "execution_count": 5
  },
  {
   "cell_type": "code",
   "outputs": [],
   "source": [
    "def evaluate_model(model, dataloader, pred_file_path, gold_file_path, \n",
    "                   evaluator_script_path, id2leaf_label, format=None,validation=False):\n",
    "    model.eval()\n",
    "    predictions = []\n",
    "    \n",
    "    HL = HierarchicalLoss(id2label=id2label_1, hierarchical_labels=hierarchy_1, persuasion_techniques=persuasion_techniques_1, device=device)\n",
    "    total_loss = 0\n",
    "    \n",
    "    \n",
    "    with torch.no_grad():\n",
    "        \n",
    "        for batch in dataloader:\n",
    "            if not isinstance(batch['id'], list):\n",
    "                ids = batch['id'].detach().numpy().tolist()\n",
    "            else:\n",
    "                ids = batch['id']\n",
    "        \n",
    "            embeddings = batch['text_features']\n",
    "            embeddings = embeddings.to(device)\n",
    "            pred_1, pred_2, pred_3, pred_4, pred_5 = model(embeddings)\n",
    "            \n",
    "            if validation:\n",
    "                y_1, y_2, y_3 = batch['level_1_target'], batch['level_2_target'], batch['level_3_target']\n",
    "                y_4, y_5 = batch['level_4_target'], batch['level_5_target']\n",
    "                \n",
    "                y_1, y_2, y_3, y_4, y_5 = y_1.to(device), y_2.to(device), y_3.to(device), y_4.to(device), y_5.to(device)\n",
    "                \n",
    "                dloss = HL.calculate_dloss([pred_1, pred_2, pred_3, pred_4, pred_5], [y_1, y_2, y_3, y_4, y_5])\n",
    "                lloss = HL.calculate_lloss([pred_1, pred_2, pred_3, pred_4, pred_5], [y_1, y_2, y_3, y_4, y_5])\n",
    "                \n",
    "                total_loss += (dloss + lloss).detach().cpu().item()\n",
    "                \n",
    "            pred_3 = (pred_3.cpu().detach().numpy() > 0.5).astype(int)\n",
    "            pred_4 = (pred_4.cpu().detach().numpy() > 0.5).astype(int)\n",
    "            pred_5 = (pred_5.cpu().detach().numpy() > 0.5).astype(int)\n",
    "            \n",
    "            predictions += get_labels(id2leaf_label, ids, pred_3, pred_4, pred_5, format)\n",
    "\n",
    "        # Writing JSON data\n",
    "        with open(pred_file_path, 'w') as f:\n",
    "            json.dump(predictions, f, indent=4)\n",
    "        \n",
    "        if gold_file_path is None:\n",
    "            return\n",
    "        \n",
    "        prec_h, rec_h, f1_h = evaluate_h(pred_file_path, gold_file_path)\n",
    "        # print(\"f1_h={:.5f}\\tprec_h={:.5f}\\trec_h={:.5f}\".format(f1_h, prec_h, rec_h))\n",
    "        if validation:\n",
    "            return prec_h, rec_h, f1_h, total_loss / len(dataloader)\n",
    "            \n",
    "        # command = [\n",
    "        #         \"python3\", evaluator_script_path,\n",
    "        #         \"--gold_file_path\", gold_file_path,\n",
    "        #         \"--pred_file_path\", pred_file_path\n",
    "        # ]\n",
    "        # \n",
    "        # result = subprocess.run(command, capture_output=True, text=True)\n",
    "        # \n",
    "        # if result.returncode == 0:\n",
    "        #     print(\"Output:\\n\", result.stdout)\n",
    "        # else:\n",
    "        #     print(\"Error:\\n\", result.stderr)\n",
    "        #     \n",
    "        \n",
    "    "
   ],
   "metadata": {
    "collapsed": false,
    "ExecuteTime": {
     "end_time": "2024-04-16T18:56:39.441115Z",
     "start_time": "2024-04-16T18:56:39.435702Z"
    }
   },
   "id": "ec033c418f6dd4da",
   "execution_count": 6
  },
  {
   "cell_type": "code",
   "outputs": [],
   "source": [
    "from torch.utils.data import DataLoader\n",
    "\n",
    "train_json = './semeval2024_dev_release/subtask1/train.json'\n",
    "validation_json = './semeval2024_dev_release/subtask1/validation.json'\n",
    "\n",
    "train_data = process_json(train_json, techniques_to_level_1, hierarchy_1)\n",
    "# val_data = \n",
    "validation_data = process_json(validation_json, techniques_to_level_1, hierarchy_1)\n",
    "\n",
    "\n",
    "training_dataset = DataSet(train_data, indexed_persuasion_techniques_1, \n",
    "                           './TextFeatures/subtask1a/XLM-RoBERTa/train_text_features.pkl')\n",
    "validation_dataset = DataSet(validation_data, indexed_persuasion_techniques_1, \n",
    "                             './TextFeatures/subtask1a/XLM-RoBERTa/validation_text_features.pkl')"
   ],
   "metadata": {
    "collapsed": false,
    "ExecuteTime": {
     "end_time": "2024-04-16T18:56:40.102927Z",
     "start_time": "2024-04-16T18:56:39.441821Z"
    }
   },
   "id": "ad284fce512b8868",
   "execution_count": 7
  },
  {
   "cell_type": "code",
   "outputs": [
    {
     "name": "stdout",
     "output_type": "stream",
     "text": [
      "Using MPS\n"
     ]
    }
   ],
   "source": [
    "device = get_device()\n",
    "\n",
    "device = torch.device('cpu')\n",
    "\n",
    "HL = HierarchicalLoss(id2label=id2label_1, hierarchical_labels=hierarchy_1, persuasion_techniques=persuasion_techniques_1, device=device)"
   ],
   "metadata": {
    "collapsed": false,
    "ExecuteTime": {
     "end_time": "2024-04-16T18:56:40.122273Z",
     "start_time": "2024-04-16T18:56:40.103960Z"
    }
   },
   "id": "20d17410814334b2",
   "execution_count": 8
  },
  {
   "cell_type": "code",
   "outputs": [
    {
     "name": "stderr",
     "output_type": "stream",
     "text": [
      "\u001B[34m\u001B[1mwandb\u001B[0m: Currently logged in as: \u001B[33miqbal_shaik\u001B[0m (\u001B[33mphoenix_nlp\u001B[0m). Use \u001B[1m`wandb login --relogin`\u001B[0m to force relogin\n"
     ]
    },
    {
     "name": "stdout",
     "output_type": "stream",
     "text": [
      "Create sweep with ID: berwitur\n",
      "Sweep URL: https://wandb.ai/phoenix_nlp/FineTuning-XLM-RoBERTa/sweeps/berwitur\n"
     ]
    }
   ],
   "source": [
    "import wandb\n",
    "\n",
    "# Initialize WandB and log in to your account\n",
    "wandb.login()\n",
    "\n",
    "sweep_config = {\n",
    "    'method': 'random',\n",
    "    'metric': {\n",
    "        'name': 'val_loss',\n",
    "        'goal': 'minimize'\n",
    "    },\n",
    "    'parameters': {\n",
    "        'learning_rate': {\n",
    "            'min': 1e-5,\n",
    "            'max': 1e-3\n",
    "        },\n",
    "        'batch_size': {\n",
    "            'values': [64, 128, 256]\n",
    "        },\n",
    "        'optimizer': {\n",
    "            'values': ['adam']\n",
    "        },\n",
    "        'beta1': {  # Relevant for Adam\n",
    "            'min': 0.85,\n",
    "            'max': 0.95\n",
    "        },\n",
    "        'momentum': {  # Relevant for SGD\n",
    "            'min': 0.8,\n",
    "            'max': 0.99\n",
    "        }\n",
    "    }\n",
    "}\n",
    "\n",
    "sweep_id = wandb.sweep(sweep_config, project=\"FineTuning-XLM-RoBERTa\")\n",
    "# sweep_id = '44uz6ydx'"
   ],
   "metadata": {
    "collapsed": false,
    "ExecuteTime": {
     "end_time": "2024-04-16T18:56:42.132192Z",
     "start_time": "2024-04-16T18:56:40.123061Z"
    }
   },
   "id": "883d6589842ebf61",
   "execution_count": 9
  },
  {
   "cell_type": "code",
   "outputs": [],
   "source": [
    "models_dir = './models/subtask1a/XLM-RoBERTa-nn/'\n",
    "num_epochs = 300"
   ],
   "metadata": {
    "collapsed": false,
    "ExecuteTime": {
     "end_time": "2024-04-16T18:56:42.140837Z",
     "start_time": "2024-04-16T18:56:42.137402Z"
    }
   },
   "id": "485514e379b90032",
   "execution_count": 10
  },
  {
   "cell_type": "code",
   "outputs": [],
   "source": [
    "from tqdm import tqdm\n",
    "import json\n",
    "import subprocess\n",
    "from subtask_1_2a import *\n",
    "\n",
    "def train():\n",
    "    \n",
    "    wandb.init()\n",
    "\n",
    "    # Use WandB configurations\n",
    "    config = wandb.config\n",
    "    batch_size = config.batch_size\n",
    "    learning_rate = config.learning_rate\n",
    "    \n",
    "    train_dataloader = DataLoader(training_dataset, batch_size=batch_size, shuffle=True)\n",
    "    validation_dataloader = DataLoader(validation_dataset, batch_size=batch_size, shuffle=True)\n",
    "    \n",
    "    model = Baseline()\n",
    "    model.to(device)\n",
    "    \n",
    "    optimizer = None\n",
    "    \n",
    "    if config.optimizer == 'adam':\n",
    "        optimizer = torch.optim.Adam(\n",
    "            model.parameters(),\n",
    "            lr=learning_rate,\n",
    "            betas=(config.beta1, 0.999)\n",
    "        )\n",
    "    elif config.optimizer == 'sgd':\n",
    "        optimizer = torch.optim.SGD(\n",
    "            model.parameters(),\n",
    "            lr=learning_rate,\n",
    "            momentum=config.momentum\n",
    "        )\n",
    "    \n",
    "    for epoch in range(num_epochs):\n",
    "        model.train()\n",
    "        running_loss = 0.0\n",
    "        for batch_idx, batch in enumerate(train_dataloader):\n",
    "            \n",
    "            y_1, y_2, y_3 = batch['level_1_target'], batch['level_2_target'], batch['level_3_target']\n",
    "            y_4, y_5 = batch['level_4_target'], batch['level_5_target']\n",
    "            \n",
    "            embeddings = batch['text_features']\n",
    "            embeddings = embeddings.to(device)\n",
    "            y_1, y_2, y_3, y_4, y_5 = y_1.to(device), y_2.to(device), y_3.to(device), y_4.to(device), y_5.to(device)\n",
    "            \n",
    "            \n",
    "            optimizer.zero_grad()\n",
    "            pred_1, pred_2, pred_3, pred_4, pred_5 = model(embeddings)\n",
    "            \n",
    "            dloss = HL.calculate_dloss([pred_1, pred_2, pred_3, pred_4, pred_5], [y_1, y_2, y_3, y_4, y_5])\n",
    "            lloss = HL.calculate_lloss([pred_1, pred_2, pred_3, pred_4, pred_5], [y_1, y_2, y_3, y_4, y_5])\n",
    "    \n",
    "            total_loss = lloss + dloss\n",
    "            \n",
    "            total_loss.backward()\n",
    "            optimizer.step()\n",
    "            \n",
    "            running_loss += total_loss.detach().item()\n",
    "            \n",
    "            # if batch_idx % 20 == 19:\n",
    "            #     print(f\"[{epoch + 1}, {batch_idx + 1}] loss: {running_loss / 20:.3f}\")\n",
    "            #     running_loss = 0.0\n",
    "        \n",
    "        running_loss /= len(train_dataloader)\n",
    "        \n",
    "        val_pred_file_path = './Predictions/val_predictions_subtask1.json'\n",
    "        val_gold_file_path = './semeval2024_dev_release/subtask1/validation.json'\n",
    "        evaluator_script = './scorer-baseline/subtask_1_2a.py'\n",
    "        \n",
    "        prec_h, rec_h, f1_h, validation_loss = evaluate_model(model, validation_dataloader, val_pred_file_path, \n",
    "                                         val_gold_file_path, evaluator_script,id2leaf_label,\n",
    "                                         validation=True)\n",
    "        \n",
    "        if epoch % 100 == 99:\n",
    "            print(f'[{epoch+1}/{num_epochs}]')\n",
    "            print(\"f1_h={:.5f}\\tprec_h={:.5f}\\trec_h={:.5f}\".format(f1_h, prec_h, rec_h))\n",
    "            \n",
    "        \n",
    "        # Log training metrics\n",
    "        wandb.log({\"epoch\": epoch, \"train_loss\": running_loss})\n",
    "        wandb.log({\"val_loss\": validation_loss})\n",
    "        wandb.log({\"h_precision\": prec_h, \"h_recall\": rec_h, \"h_f1-score\":f1_h})\n",
    "        \n",
    "    \n",
    "    torch.save(model.state_dict(), f\"{models_dir}{wandb.run.name}.pth\")\n",
    "    wandb.join()"
   ],
   "metadata": {
    "collapsed": false,
    "ExecuteTime": {
     "end_time": "2024-04-16T18:56:42.384464Z",
     "start_time": "2024-04-16T18:56:42.142026Z"
    }
   },
   "id": "d5df83d5c933d40e",
   "execution_count": 11
  },
  {
   "cell_type": "code",
   "outputs": [
    {
     "name": "stderr",
     "output_type": "stream",
     "text": [
      "\u001B[34m\u001B[1mwandb\u001B[0m: Agent Starting Run: 30am8a20 with config:\n",
      "\u001B[34m\u001B[1mwandb\u001B[0m: \tbatch_size: 64\n",
      "\u001B[34m\u001B[1mwandb\u001B[0m: \tbeta1: 0.8945734326666321\n",
      "\u001B[34m\u001B[1mwandb\u001B[0m: \tlearning_rate: 0.00014414356730831033\n",
      "\u001B[34m\u001B[1mwandb\u001B[0m: \tmomentum: 0.9246751923533026\n",
      "\u001B[34m\u001B[1mwandb\u001B[0m: \toptimizer: adam\n"
     ]
    },
    {
     "data": {
      "text/plain": "<IPython.core.display.HTML object>",
      "text/html": "Tracking run with wandb version 0.16.6"
     },
     "metadata": {},
     "output_type": "display_data"
    },
    {
     "data": {
      "text/plain": "<IPython.core.display.HTML object>",
      "text/html": "Run data is saved locally in <code>/Users/iqbal/Desktop/Python Assignments/Detecting-Persuasion-Techniques-in-Memes/wandb/run-20240416_145643-30am8a20</code>"
     },
     "metadata": {},
     "output_type": "display_data"
    },
    {
     "data": {
      "text/plain": "<IPython.core.display.HTML object>",
      "text/html": "Syncing run <strong><a href='https://wandb.ai/phoenix_nlp/FineTuning-XLM-RoBERTa/runs/30am8a20' target=\"_blank\">expert-sweep-1</a></strong> to <a href='https://wandb.ai/phoenix_nlp/FineTuning-XLM-RoBERTa' target=\"_blank\">Weights & Biases</a> (<a href='https://wandb.me/run' target=\"_blank\">docs</a>)<br/>Sweep page: <a href='https://wandb.ai/phoenix_nlp/FineTuning-XLM-RoBERTa/sweeps/berwitur' target=\"_blank\">https://wandb.ai/phoenix_nlp/FineTuning-XLM-RoBERTa/sweeps/berwitur</a>"
     },
     "metadata": {},
     "output_type": "display_data"
    },
    {
     "data": {
      "text/plain": "<IPython.core.display.HTML object>",
      "text/html": " View project at <a href='https://wandb.ai/phoenix_nlp/FineTuning-XLM-RoBERTa' target=\"_blank\">https://wandb.ai/phoenix_nlp/FineTuning-XLM-RoBERTa</a>"
     },
     "metadata": {},
     "output_type": "display_data"
    },
    {
     "data": {
      "text/plain": "<IPython.core.display.HTML object>",
      "text/html": " View sweep at <a href='https://wandb.ai/phoenix_nlp/FineTuning-XLM-RoBERTa/sweeps/berwitur' target=\"_blank\">https://wandb.ai/phoenix_nlp/FineTuning-XLM-RoBERTa/sweeps/berwitur</a>"
     },
     "metadata": {},
     "output_type": "display_data"
    },
    {
     "data": {
      "text/plain": "<IPython.core.display.HTML object>",
      "text/html": " View run at <a href='https://wandb.ai/phoenix_nlp/FineTuning-XLM-RoBERTa/runs/30am8a20' target=\"_blank\">https://wandb.ai/phoenix_nlp/FineTuning-XLM-RoBERTa/runs/30am8a20</a>"
     },
     "metadata": {},
     "output_type": "display_data"
    },
    {
     "name": "stdout",
     "output_type": "stream",
     "text": [
      "[100/300]\n",
      "f1_h=0.44803\tprec_h=0.56928\trec_h=0.36935\n",
      "[200/300]\n",
      "f1_h=0.46916\tprec_h=0.53232\trec_h=0.41940\n",
      "[300/300]\n",
      "f1_h=0.50880\tprec_h=0.53353\trec_h=0.48627\n"
     ]
    },
    {
     "data": {
      "text/plain": "VBox(children=(Label(value='0.001 MB of 0.006 MB uploaded\\r'), FloatProgress(value=0.16993769470404985, max=1.…",
      "application/vnd.jupyter.widget-view+json": {
       "version_major": 2,
       "version_minor": 0,
       "model_id": "cbc8f5181bfc44a0a2c66523b86b70a8"
      }
     },
     "metadata": {},
     "output_type": "display_data"
    },
    {
     "data": {
      "text/plain": "<IPython.core.display.HTML object>",
      "text/html": "<style>\n    table.wandb td:nth-child(1) { padding: 0 10px; text-align: left ; width: auto;} td:nth-child(2) {text-align: left ; width: 100%}\n    .wandb-row { display: flex; flex-direction: row; flex-wrap: wrap; justify-content: flex-start; width: 100% }\n    .wandb-col { display: flex; flex-direction: column; flex-basis: 100%; flex: 1; padding: 10px; }\n    </style>\n<div class=\"wandb-row\"><div class=\"wandb-col\"><h3>Run history:</h3><br/><table class=\"wandb\"><tr><td>epoch</td><td>▁▁▁▁▂▂▂▂▂▃▃▃▃▃▃▄▄▄▄▄▅▅▅▅▅▅▆▆▆▆▆▆▇▇▇▇▇███</td></tr><tr><td>h_f1-score</td><td>▁▂▃▅▆▆▆▇▇▇▇▆▇▇█▇▇█▇███▇▇▇▇▇██▇██████████</td></tr><tr><td>h_precision</td><td>▂█▆▅▄▄▄▃▃▃▂▂▂▂▂▂▂▂▂▁▁▁▁▁▂▁▁▁▂▁▁▁▁▁▂▁▁▂▁▁</td></tr><tr><td>h_recall</td><td>▁▂▂▃▅▅▅▆▅▅▆▅▇▆▇▇▆▇▆▇▇█▇▇▇▇▇▇▇▆██▇▇▇█▇▇██</td></tr><tr><td>train_loss</td><td>██▇▆▆▆▅▅▄▄▄▄▃▃▃▃▃▂▂▂▂▂▂▁▂▁▁▂▂▁▁▁▁▁▁▁▁▁▁▁</td></tr><tr><td>val_loss</td><td>▇█▇▅▆▂▁▂▂▃▂▆▄▃▂▁▃▂▂▂▃▂▅▄▃▂▄▁▂▁▃▄▄▃▄▄▆▂▃▅</td></tr></table><br/></div><div class=\"wandb-col\"><h3>Run summary:</h3><br/><table class=\"wandb\"><tr><td>epoch</td><td>299</td></tr><tr><td>h_f1-score</td><td>0.5088</td></tr><tr><td>h_precision</td><td>0.53353</td></tr><tr><td>h_recall</td><td>0.48627</td></tr><tr><td>train_loss</td><td>294.07921</td></tr><tr><td>val_loss</td><td>685.45056</td></tr></table><br/></div></div>"
     },
     "metadata": {},
     "output_type": "display_data"
    },
    {
     "data": {
      "text/plain": "<IPython.core.display.HTML object>",
      "text/html": " View run <strong style=\"color:#cdcd00\">expert-sweep-1</strong> at: <a href='https://wandb.ai/phoenix_nlp/FineTuning-XLM-RoBERTa/runs/30am8a20' target=\"_blank\">https://wandb.ai/phoenix_nlp/FineTuning-XLM-RoBERTa/runs/30am8a20</a><br/> View project at: <a href='https://wandb.ai/phoenix_nlp/FineTuning-XLM-RoBERTa' target=\"_blank\">https://wandb.ai/phoenix_nlp/FineTuning-XLM-RoBERTa</a><br/>Synced 5 W&B file(s), 0 media file(s), 0 artifact file(s) and 0 other file(s)"
     },
     "metadata": {},
     "output_type": "display_data"
    },
    {
     "data": {
      "text/plain": "<IPython.core.display.HTML object>",
      "text/html": "Find logs at: <code>./wandb/run-20240416_145643-30am8a20/logs</code>"
     },
     "metadata": {},
     "output_type": "display_data"
    },
    {
     "name": "stderr",
     "output_type": "stream",
     "text": [
      "\u001B[34m\u001B[1mwandb\u001B[0m: Agent Starting Run: 1iuu3azu with config:\n",
      "\u001B[34m\u001B[1mwandb\u001B[0m: \tbatch_size: 256\n",
      "\u001B[34m\u001B[1mwandb\u001B[0m: \tbeta1: 0.9405925541813452\n",
      "\u001B[34m\u001B[1mwandb\u001B[0m: \tlearning_rate: 0.0006797736286448581\n",
      "\u001B[34m\u001B[1mwandb\u001B[0m: \tmomentum: 0.9376595760094972\n",
      "\u001B[34m\u001B[1mwandb\u001B[0m: \toptimizer: adam\n"
     ]
    },
    {
     "data": {
      "text/plain": "<IPython.core.display.HTML object>",
      "text/html": "Tracking run with wandb version 0.16.6"
     },
     "metadata": {},
     "output_type": "display_data"
    },
    {
     "data": {
      "text/plain": "<IPython.core.display.HTML object>",
      "text/html": "Run data is saved locally in <code>/Users/iqbal/Desktop/Python Assignments/Detecting-Persuasion-Techniques-in-Memes/wandb/run-20240416_153716-1iuu3azu</code>"
     },
     "metadata": {},
     "output_type": "display_data"
    },
    {
     "data": {
      "text/plain": "<IPython.core.display.HTML object>",
      "text/html": "Syncing run <strong><a href='https://wandb.ai/phoenix_nlp/FineTuning-XLM-RoBERTa/runs/1iuu3azu' target=\"_blank\">decent-sweep-2</a></strong> to <a href='https://wandb.ai/phoenix_nlp/FineTuning-XLM-RoBERTa' target=\"_blank\">Weights & Biases</a> (<a href='https://wandb.me/run' target=\"_blank\">docs</a>)<br/>Sweep page: <a href='https://wandb.ai/phoenix_nlp/FineTuning-XLM-RoBERTa/sweeps/berwitur' target=\"_blank\">https://wandb.ai/phoenix_nlp/FineTuning-XLM-RoBERTa/sweeps/berwitur</a>"
     },
     "metadata": {},
     "output_type": "display_data"
    },
    {
     "data": {
      "text/plain": "<IPython.core.display.HTML object>",
      "text/html": " View project at <a href='https://wandb.ai/phoenix_nlp/FineTuning-XLM-RoBERTa' target=\"_blank\">https://wandb.ai/phoenix_nlp/FineTuning-XLM-RoBERTa</a>"
     },
     "metadata": {},
     "output_type": "display_data"
    },
    {
     "data": {
      "text/plain": "<IPython.core.display.HTML object>",
      "text/html": " View sweep at <a href='https://wandb.ai/phoenix_nlp/FineTuning-XLM-RoBERTa/sweeps/berwitur' target=\"_blank\">https://wandb.ai/phoenix_nlp/FineTuning-XLM-RoBERTa/sweeps/berwitur</a>"
     },
     "metadata": {},
     "output_type": "display_data"
    },
    {
     "data": {
      "text/plain": "<IPython.core.display.HTML object>",
      "text/html": " View run at <a href='https://wandb.ai/phoenix_nlp/FineTuning-XLM-RoBERTa/runs/1iuu3azu' target=\"_blank\">https://wandb.ai/phoenix_nlp/FineTuning-XLM-RoBERTa/runs/1iuu3azu</a>"
     },
     "metadata": {},
     "output_type": "display_data"
    },
    {
     "name": "stdout",
     "output_type": "stream",
     "text": [
      "[100/300]\n",
      "f1_h=0.44807\tprec_h=0.58028\trec_h=0.36492\n",
      "[200/300]\n",
      "f1_h=0.48991\tprec_h=0.53515\trec_h=0.45173\n",
      "[300/300]\n",
      "f1_h=0.45941\tprec_h=0.51866\trec_h=0.41231\n"
     ]
    },
    {
     "data": {
      "text/plain": "VBox(children=(Label(value='0.001 MB of 0.001 MB uploaded\\r'), FloatProgress(value=1.0, max=1.0)))",
      "application/vnd.jupyter.widget-view+json": {
       "version_major": 2,
       "version_minor": 0,
       "model_id": "728d39a45e4e4392a03392b3c724f8bc"
      }
     },
     "metadata": {},
     "output_type": "display_data"
    },
    {
     "data": {
      "text/plain": "<IPython.core.display.HTML object>",
      "text/html": "<style>\n    table.wandb td:nth-child(1) { padding: 0 10px; text-align: left ; width: auto;} td:nth-child(2) {text-align: left ; width: 100%}\n    .wandb-row { display: flex; flex-direction: row; flex-wrap: wrap; justify-content: flex-start; width: 100% }\n    .wandb-col { display: flex; flex-direction: column; flex-basis: 100%; flex: 1; padding: 10px; }\n    </style>\n<div class=\"wandb-row\"><div class=\"wandb-col\"><h3>Run history:</h3><br/><table class=\"wandb\"><tr><td>epoch</td><td>▁▁▁▁▂▂▂▂▂▃▃▃▃▃▃▄▄▄▄▄▅▅▅▅▅▅▆▆▆▆▆▆▇▇▇▇▇███</td></tr><tr><td>h_f1-score</td><td>▁▂▄▄▄▆▇▆▆▇▇▇▇▇▇▇█▇▇█▇█▇█▇██████▇███▇███▇</td></tr><tr><td>h_precision</td><td>▄█▆▇▇▆▄▅▅▄▃▃▃▃▂▂▂▂▂▂▂▂▂▁▂▂▂▁▁▂▂▂▁▁▁▂▁▂▂▁</td></tr><tr><td>h_recall</td><td>▁▂▃▃▃▄▆▄▅▆▆▆▆▆▇▇▇▆▇▇▇▇▇█▇▇██▇▇█▇▇█▇▇█▇▇▇</td></tr><tr><td>train_loss</td><td>█▇▆▆▆▅▅▅▅▄▄▄▄▃▃▃▂▂▂▂▂▂▂▂▂▁▁▂▁▁▁▁▂▁▁▁▁▂▁▁</td></tr><tr><td>val_loss</td><td>█▄▃▃▃▂▂▂▁▁▂▂▁▂▁▁▂▂▂▂▂▃▂▂▃▃▂▄▃▂▂▂▃▂▂▂▃▃▂▃</td></tr></table><br/></div><div class=\"wandb-col\"><h3>Run summary:</h3><br/><table class=\"wandb\"><tr><td>epoch</td><td>299</td></tr><tr><td>h_f1-score</td><td>0.45941</td></tr><tr><td>h_precision</td><td>0.51866</td></tr><tr><td>h_recall</td><td>0.41231</td></tr><tr><td>train_loss</td><td>1144.66356</td></tr><tr><td>val_loss</td><td>2724.06848</td></tr></table><br/></div></div>"
     },
     "metadata": {},
     "output_type": "display_data"
    },
    {
     "data": {
      "text/plain": "<IPython.core.display.HTML object>",
      "text/html": " View run <strong style=\"color:#cdcd00\">decent-sweep-2</strong> at: <a href='https://wandb.ai/phoenix_nlp/FineTuning-XLM-RoBERTa/runs/1iuu3azu' target=\"_blank\">https://wandb.ai/phoenix_nlp/FineTuning-XLM-RoBERTa/runs/1iuu3azu</a><br/> View project at: <a href='https://wandb.ai/phoenix_nlp/FineTuning-XLM-RoBERTa' target=\"_blank\">https://wandb.ai/phoenix_nlp/FineTuning-XLM-RoBERTa</a><br/>Synced 5 W&B file(s), 0 media file(s), 0 artifact file(s) and 0 other file(s)"
     },
     "metadata": {},
     "output_type": "display_data"
    },
    {
     "data": {
      "text/plain": "<IPython.core.display.HTML object>",
      "text/html": "Find logs at: <code>./wandb/run-20240416_153716-1iuu3azu/logs</code>"
     },
     "metadata": {},
     "output_type": "display_data"
    },
    {
     "name": "stderr",
     "output_type": "stream",
     "text": [
      "\u001B[34m\u001B[1mwandb\u001B[0m: Agent Starting Run: d58aot0e with config:\n",
      "\u001B[34m\u001B[1mwandb\u001B[0m: \tbatch_size: 64\n",
      "\u001B[34m\u001B[1mwandb\u001B[0m: \tbeta1: 0.9057460030430386\n",
      "\u001B[34m\u001B[1mwandb\u001B[0m: \tlearning_rate: 0.0006317443811518362\n",
      "\u001B[34m\u001B[1mwandb\u001B[0m: \tmomentum: 0.924422870546914\n",
      "\u001B[34m\u001B[1mwandb\u001B[0m: \toptimizer: adam\n"
     ]
    },
    {
     "data": {
      "text/plain": "<IPython.core.display.HTML object>",
      "text/html": "Tracking run with wandb version 0.16.6"
     },
     "metadata": {},
     "output_type": "display_data"
    },
    {
     "data": {
      "text/plain": "<IPython.core.display.HTML object>",
      "text/html": "Run data is saved locally in <code>/Users/iqbal/Desktop/Python Assignments/Detecting-Persuasion-Techniques-in-Memes/wandb/run-20240416_155759-d58aot0e</code>"
     },
     "metadata": {},
     "output_type": "display_data"
    },
    {
     "data": {
      "text/plain": "<IPython.core.display.HTML object>",
      "text/html": "Syncing run <strong><a href='https://wandb.ai/phoenix_nlp/FineTuning-XLM-RoBERTa/runs/d58aot0e' target=\"_blank\">eager-sweep-3</a></strong> to <a href='https://wandb.ai/phoenix_nlp/FineTuning-XLM-RoBERTa' target=\"_blank\">Weights & Biases</a> (<a href='https://wandb.me/run' target=\"_blank\">docs</a>)<br/>Sweep page: <a href='https://wandb.ai/phoenix_nlp/FineTuning-XLM-RoBERTa/sweeps/berwitur' target=\"_blank\">https://wandb.ai/phoenix_nlp/FineTuning-XLM-RoBERTa/sweeps/berwitur</a>"
     },
     "metadata": {},
     "output_type": "display_data"
    },
    {
     "data": {
      "text/plain": "<IPython.core.display.HTML object>",
      "text/html": " View project at <a href='https://wandb.ai/phoenix_nlp/FineTuning-XLM-RoBERTa' target=\"_blank\">https://wandb.ai/phoenix_nlp/FineTuning-XLM-RoBERTa</a>"
     },
     "metadata": {},
     "output_type": "display_data"
    },
    {
     "data": {
      "text/plain": "<IPython.core.display.HTML object>",
      "text/html": " View sweep at <a href='https://wandb.ai/phoenix_nlp/FineTuning-XLM-RoBERTa/sweeps/berwitur' target=\"_blank\">https://wandb.ai/phoenix_nlp/FineTuning-XLM-RoBERTa/sweeps/berwitur</a>"
     },
     "metadata": {},
     "output_type": "display_data"
    },
    {
     "data": {
      "text/plain": "<IPython.core.display.HTML object>",
      "text/html": " View run at <a href='https://wandb.ai/phoenix_nlp/FineTuning-XLM-RoBERTa/runs/d58aot0e' target=\"_blank\">https://wandb.ai/phoenix_nlp/FineTuning-XLM-RoBERTa/runs/d58aot0e</a>"
     },
     "metadata": {},
     "output_type": "display_data"
    },
    {
     "name": "stdout",
     "output_type": "stream",
     "text": [
      "[100/300]\n",
      "f1_h=0.46859\tprec_h=0.54734\trec_h=0.40965\n",
      "[200/300]\n",
      "f1_h=0.44410\tprec_h=0.52247\trec_h=0.38618\n",
      "[300/300]\n",
      "f1_h=0.44292\tprec_h=0.52000\trec_h=0.38574\n"
     ]
    },
    {
     "data": {
      "text/plain": "VBox(children=(Label(value='0.001 MB of 0.001 MB uploaded\\r'), FloatProgress(value=1.0, max=1.0)))",
      "application/vnd.jupyter.widget-view+json": {
       "version_major": 2,
       "version_minor": 0,
       "model_id": "fac504fd0e2b405ea6ceace1b83279d6"
      }
     },
     "metadata": {},
     "output_type": "display_data"
    },
    {
     "data": {
      "text/plain": "<IPython.core.display.HTML object>",
      "text/html": "<style>\n    table.wandb td:nth-child(1) { padding: 0 10px; text-align: left ; width: auto;} td:nth-child(2) {text-align: left ; width: 100%}\n    .wandb-row { display: flex; flex-direction: row; flex-wrap: wrap; justify-content: flex-start; width: 100% }\n    .wandb-col { display: flex; flex-direction: column; flex-basis: 100%; flex: 1; padding: 10px; }\n    </style>\n<div class=\"wandb-row\"><div class=\"wandb-col\"><h3>Run history:</h3><br/><table class=\"wandb\"><tr><td>epoch</td><td>▁▁▁▁▂▂▂▂▂▃▃▃▃▃▃▄▄▄▄▄▅▅▅▅▅▅▆▆▆▆▆▆▇▇▇▇▇███</td></tr><tr><td>h_f1-score</td><td>▁▂▆▆▅▆▇▇▆▇▇▇▇███▇▇█▇████▇▇▇██▇█████▇█▇▇▇</td></tr><tr><td>h_precision</td><td>█▇▄▄▅▄▄▃▃▃▂▂▂▂▂▂▂▂▁▂▂▂▁▂▂▂▂▁▂▂▂▂▂▂▂▂▂▂▁▂</td></tr><tr><td>h_recall</td><td>▁▂▅▅▃▅▅▆▅▆▆▆▆▇▇▇▆▇▇▇▇▇█▇▆▆▆▇▇▇▇▇▇▇▇▇▇▇▇▆</td></tr><tr><td>train_loss</td><td>██▇▇▆▆▅▅▅▄▄▃▃▃▂▂▂▂▂▂▁▁▂▁▂▁▂▂▁▁▁▁▁▁▁▂▁▁▁▁</td></tr><tr><td>val_loss</td><td>▄█▅▃▃▂▁▅▁▁▃▂▂▃▃▃▄▄▅▅▅▄▇▄▂▅▇▇▃▄▅▄▃▄▄▅▄▃▆▆</td></tr></table><br/></div><div class=\"wandb-col\"><h3>Run summary:</h3><br/><table class=\"wandb\"><tr><td>epoch</td><td>299</td></tr><tr><td>h_f1-score</td><td>0.44292</td></tr><tr><td>h_precision</td><td>0.52</td></tr><tr><td>h_recall</td><td>0.38574</td></tr><tr><td>train_loss</td><td>292.05561</td></tr><tr><td>val_loss</td><td>708.7613</td></tr></table><br/></div></div>"
     },
     "metadata": {},
     "output_type": "display_data"
    },
    {
     "data": {
      "text/plain": "<IPython.core.display.HTML object>",
      "text/html": " View run <strong style=\"color:#cdcd00\">eager-sweep-3</strong> at: <a href='https://wandb.ai/phoenix_nlp/FineTuning-XLM-RoBERTa/runs/d58aot0e' target=\"_blank\">https://wandb.ai/phoenix_nlp/FineTuning-XLM-RoBERTa/runs/d58aot0e</a><br/> View project at: <a href='https://wandb.ai/phoenix_nlp/FineTuning-XLM-RoBERTa' target=\"_blank\">https://wandb.ai/phoenix_nlp/FineTuning-XLM-RoBERTa</a><br/>Synced 5 W&B file(s), 0 media file(s), 0 artifact file(s) and 0 other file(s)"
     },
     "metadata": {},
     "output_type": "display_data"
    },
    {
     "data": {
      "text/plain": "<IPython.core.display.HTML object>",
      "text/html": "Find logs at: <code>./wandb/run-20240416_155759-d58aot0e/logs</code>"
     },
     "metadata": {},
     "output_type": "display_data"
    },
    {
     "name": "stderr",
     "output_type": "stream",
     "text": [
      "\u001B[34m\u001B[1mwandb\u001B[0m: Agent Starting Run: azqqugis with config:\n",
      "\u001B[34m\u001B[1mwandb\u001B[0m: \tbatch_size: 64\n",
      "\u001B[34m\u001B[1mwandb\u001B[0m: \tbeta1: 0.909471233683076\n",
      "\u001B[34m\u001B[1mwandb\u001B[0m: \tlearning_rate: 0.0006861200150334105\n",
      "\u001B[34m\u001B[1mwandb\u001B[0m: \tmomentum: 0.8514585761354115\n",
      "\u001B[34m\u001B[1mwandb\u001B[0m: \toptimizer: adam\n"
     ]
    },
    {
     "data": {
      "text/plain": "<IPython.core.display.HTML object>",
      "text/html": "Tracking run with wandb version 0.16.6"
     },
     "metadata": {},
     "output_type": "display_data"
    },
    {
     "data": {
      "text/plain": "<IPython.core.display.HTML object>",
      "text/html": "Run data is saved locally in <code>/Users/iqbal/Desktop/Python Assignments/Detecting-Persuasion-Techniques-in-Memes/wandb/run-20240416_163722-azqqugis</code>"
     },
     "metadata": {},
     "output_type": "display_data"
    },
    {
     "data": {
      "text/plain": "<IPython.core.display.HTML object>",
      "text/html": "Syncing run <strong><a href='https://wandb.ai/phoenix_nlp/FineTuning-XLM-RoBERTa/runs/azqqugis' target=\"_blank\">clear-sweep-4</a></strong> to <a href='https://wandb.ai/phoenix_nlp/FineTuning-XLM-RoBERTa' target=\"_blank\">Weights & Biases</a> (<a href='https://wandb.me/run' target=\"_blank\">docs</a>)<br/>Sweep page: <a href='https://wandb.ai/phoenix_nlp/FineTuning-XLM-RoBERTa/sweeps/berwitur' target=\"_blank\">https://wandb.ai/phoenix_nlp/FineTuning-XLM-RoBERTa/sweeps/berwitur</a>"
     },
     "metadata": {},
     "output_type": "display_data"
    },
    {
     "data": {
      "text/plain": "<IPython.core.display.HTML object>",
      "text/html": " View project at <a href='https://wandb.ai/phoenix_nlp/FineTuning-XLM-RoBERTa' target=\"_blank\">https://wandb.ai/phoenix_nlp/FineTuning-XLM-RoBERTa</a>"
     },
     "metadata": {},
     "output_type": "display_data"
    },
    {
     "data": {
      "text/plain": "<IPython.core.display.HTML object>",
      "text/html": " View sweep at <a href='https://wandb.ai/phoenix_nlp/FineTuning-XLM-RoBERTa/sweeps/berwitur' target=\"_blank\">https://wandb.ai/phoenix_nlp/FineTuning-XLM-RoBERTa/sweeps/berwitur</a>"
     },
     "metadata": {},
     "output_type": "display_data"
    },
    {
     "data": {
      "text/plain": "<IPython.core.display.HTML object>",
      "text/html": " View run at <a href='https://wandb.ai/phoenix_nlp/FineTuning-XLM-RoBERTa/runs/azqqugis' target=\"_blank\">https://wandb.ai/phoenix_nlp/FineTuning-XLM-RoBERTa/runs/azqqugis</a>"
     },
     "metadata": {},
     "output_type": "display_data"
    },
    {
     "name": "stdout",
     "output_type": "stream",
     "text": [
      "[100/300]\n",
      "f1_h=0.46178\tprec_h=0.55132\trec_h=0.39725\n",
      "[200/300]\n",
      "f1_h=0.45457\tprec_h=0.53441\trec_h=0.39548\n",
      "[300/300]\n",
      "f1_h=0.47557\tprec_h=0.55140\trec_h=0.41807\n"
     ]
    },
    {
     "data": {
      "text/plain": "VBox(children=(Label(value='0.001 MB of 0.006 MB uploaded\\r'), FloatProgress(value=0.16810477657935285, max=1.…",
      "application/vnd.jupyter.widget-view+json": {
       "version_major": 2,
       "version_minor": 0,
       "model_id": "037361a026e54267b6af461e669a17d2"
      }
     },
     "metadata": {},
     "output_type": "display_data"
    },
    {
     "data": {
      "text/plain": "<IPython.core.display.HTML object>",
      "text/html": "<style>\n    table.wandb td:nth-child(1) { padding: 0 10px; text-align: left ; width: auto;} td:nth-child(2) {text-align: left ; width: 100%}\n    .wandb-row { display: flex; flex-direction: row; flex-wrap: wrap; justify-content: flex-start; width: 100% }\n    .wandb-col { display: flex; flex-direction: column; flex-basis: 100%; flex: 1; padding: 10px; }\n    </style>\n<div class=\"wandb-row\"><div class=\"wandb-col\"><h3>Run history:</h3><br/><table class=\"wandb\"><tr><td>epoch</td><td>▁▁▁▁▂▂▂▂▂▃▃▃▃▃▃▄▄▄▄▄▅▅▅▅▅▅▆▆▆▆▆▆▇▇▇▇▇███</td></tr><tr><td>h_f1-score</td><td>▁▃▆▆▅▆▇▆▇█▇████▇███████▇██████▇█▇██▇█▇██</td></tr><tr><td>h_precision</td><td>█▆▄▄▄▄▃▃▂▂▂▃▂▂▂▂▁▂▁▁▂▁▁▁▁▂▁▁▂▁▂▁▁▁▂▂▂▁▁▂</td></tr><tr><td>h_recall</td><td>▁▂▄▅▄▅▆▅▆▇▆▇▇▇▇▇█▇█▇▇▇█▇▇▇▇█▇█▇▇▇█▇▆▇▇█▇</td></tr><tr><td>train_loss</td><td>█▇▇▆▆▆▅▅▄▄▄▄▃▃▂▂▂▂▂▁▁▁▁▂▁▁▁▁▁▁▁▁▁▁▁▁▁▁▁▁</td></tr><tr><td>val_loss</td><td>▂▅▄▁▃▃▁▁▄▂▃▃▃▃▃▅▄▅▅▄▄▄▄▆█▄▅▄▆▄▆▅▇▄▄▆▅▆▆▄</td></tr></table><br/></div><div class=\"wandb-col\"><h3>Run summary:</h3><br/><table class=\"wandb\"><tr><td>epoch</td><td>299</td></tr><tr><td>h_f1-score</td><td>0.47557</td></tr><tr><td>h_precision</td><td>0.5514</td></tr><tr><td>h_recall</td><td>0.41807</td></tr><tr><td>train_loss</td><td>287.87083</td></tr><tr><td>val_loss</td><td>693.18954</td></tr></table><br/></div></div>"
     },
     "metadata": {},
     "output_type": "display_data"
    },
    {
     "data": {
      "text/plain": "<IPython.core.display.HTML object>",
      "text/html": " View run <strong style=\"color:#cdcd00\">clear-sweep-4</strong> at: <a href='https://wandb.ai/phoenix_nlp/FineTuning-XLM-RoBERTa/runs/azqqugis' target=\"_blank\">https://wandb.ai/phoenix_nlp/FineTuning-XLM-RoBERTa/runs/azqqugis</a><br/> View project at: <a href='https://wandb.ai/phoenix_nlp/FineTuning-XLM-RoBERTa' target=\"_blank\">https://wandb.ai/phoenix_nlp/FineTuning-XLM-RoBERTa</a><br/>Synced 5 W&B file(s), 0 media file(s), 0 artifact file(s) and 0 other file(s)"
     },
     "metadata": {},
     "output_type": "display_data"
    },
    {
     "data": {
      "text/plain": "<IPython.core.display.HTML object>",
      "text/html": "Find logs at: <code>./wandb/run-20240416_163722-azqqugis/logs</code>"
     },
     "metadata": {},
     "output_type": "display_data"
    },
    {
     "name": "stderr",
     "output_type": "stream",
     "text": [
      "\u001B[34m\u001B[1mwandb\u001B[0m: Agent Starting Run: t2m890j4 with config:\n",
      "\u001B[34m\u001B[1mwandb\u001B[0m: \tbatch_size: 64\n",
      "\u001B[34m\u001B[1mwandb\u001B[0m: \tbeta1: 0.8683018926344438\n",
      "\u001B[34m\u001B[1mwandb\u001B[0m: \tlearning_rate: 5.165546626884552e-05\n",
      "\u001B[34m\u001B[1mwandb\u001B[0m: \tmomentum: 0.9701328215709653\n",
      "\u001B[34m\u001B[1mwandb\u001B[0m: \toptimizer: adam\n"
     ]
    },
    {
     "data": {
      "text/plain": "<IPython.core.display.HTML object>",
      "text/html": "Tracking run with wandb version 0.16.6"
     },
     "metadata": {},
     "output_type": "display_data"
    },
    {
     "data": {
      "text/plain": "<IPython.core.display.HTML object>",
      "text/html": "Run data is saved locally in <code>/Users/iqbal/Desktop/Python Assignments/Detecting-Persuasion-Techniques-in-Memes/wandb/run-20240416_171646-t2m890j4</code>"
     },
     "metadata": {},
     "output_type": "display_data"
    },
    {
     "data": {
      "text/plain": "<IPython.core.display.HTML object>",
      "text/html": "Syncing run <strong><a href='https://wandb.ai/phoenix_nlp/FineTuning-XLM-RoBERTa/runs/t2m890j4' target=\"_blank\">hearty-sweep-5</a></strong> to <a href='https://wandb.ai/phoenix_nlp/FineTuning-XLM-RoBERTa' target=\"_blank\">Weights & Biases</a> (<a href='https://wandb.me/run' target=\"_blank\">docs</a>)<br/>Sweep page: <a href='https://wandb.ai/phoenix_nlp/FineTuning-XLM-RoBERTa/sweeps/berwitur' target=\"_blank\">https://wandb.ai/phoenix_nlp/FineTuning-XLM-RoBERTa/sweeps/berwitur</a>"
     },
     "metadata": {},
     "output_type": "display_data"
    },
    {
     "data": {
      "text/plain": "<IPython.core.display.HTML object>",
      "text/html": " View project at <a href='https://wandb.ai/phoenix_nlp/FineTuning-XLM-RoBERTa' target=\"_blank\">https://wandb.ai/phoenix_nlp/FineTuning-XLM-RoBERTa</a>"
     },
     "metadata": {},
     "output_type": "display_data"
    },
    {
     "data": {
      "text/plain": "<IPython.core.display.HTML object>",
      "text/html": " View sweep at <a href='https://wandb.ai/phoenix_nlp/FineTuning-XLM-RoBERTa/sweeps/berwitur' target=\"_blank\">https://wandb.ai/phoenix_nlp/FineTuning-XLM-RoBERTa/sweeps/berwitur</a>"
     },
     "metadata": {},
     "output_type": "display_data"
    },
    {
     "data": {
      "text/plain": "<IPython.core.display.HTML object>",
      "text/html": " View run at <a href='https://wandb.ai/phoenix_nlp/FineTuning-XLM-RoBERTa/runs/t2m890j4' target=\"_blank\">https://wandb.ai/phoenix_nlp/FineTuning-XLM-RoBERTa/runs/t2m890j4</a>"
     },
     "metadata": {},
     "output_type": "display_data"
    },
    {
     "name": "stderr",
     "output_type": "stream",
     "text": [
      "wandb: Network error (ConnectionError), entering retry loop.\n",
      "\u001B[34m\u001B[1mwandb\u001B[0m: Network error (ConnectionError), entering retry loop.\n",
      "\u001B[34m\u001B[1mwandb\u001B[0m: Network error (ConnectionError), entering retry loop.\n"
     ]
    },
    {
     "name": "stdout",
     "output_type": "stream",
     "text": [
      "[100/300]\n",
      "f1_h=0.41006\tprec_h=0.70716\trec_h=0.28875\n",
      "[200/300]\n",
      "f1_h=0.46918\tprec_h=0.58632\trec_h=0.39105\n"
     ]
    },
    {
     "name": "stderr",
     "output_type": "stream",
     "text": [
      "\u001B[34m\u001B[1mwandb\u001B[0m: Ctrl + C detected. Stopping sweep.\n"
     ]
    }
   ],
   "source": [
    "def main():\n",
    "    wandb.agent(sweep_id, train, count=10)\n",
    "\n",
    "if __name__ == \"__main__\":\n",
    "    main()"
   ],
   "metadata": {
    "collapsed": false,
    "ExecuteTime": {
     "end_time": "2024-04-16T23:31:49.688941Z",
     "start_time": "2024-04-16T18:56:42.385444Z"
    }
   },
   "id": "52f1db23db548f9",
   "execution_count": 12
  }
 ],
 "metadata": {
  "kernelspec": {
   "display_name": "Python 3",
   "language": "python",
   "name": "python3"
  },
  "language_info": {
   "codemirror_mode": {
    "name": "ipython",
    "version": 2
   },
   "file_extension": ".py",
   "mimetype": "text/x-python",
   "name": "python",
   "nbconvert_exporter": "python",
   "pygments_lexer": "ipython2",
   "version": "2.7.6"
  }
 },
 "nbformat": 4,
 "nbformat_minor": 5
}
