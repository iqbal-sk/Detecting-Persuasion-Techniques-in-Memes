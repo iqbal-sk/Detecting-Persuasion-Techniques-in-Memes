{
 "cells": [
  {
   "cell_type": "code",
   "execution_count": 1,
   "id": "initial_id",
   "metadata": {
    "collapsed": true,
    "ExecuteTime": {
     "end_time": "2024-05-07T03:32:23.278874Z",
     "start_time": "2024-05-07T03:32:21.729790Z"
    }
   },
   "outputs": [],
   "source": [
    "from collections import deque\n",
    "\n",
    "import pandas as pd\n",
    "import matplotlib.pyplot as plt\n",
    "import numpy as np\n",
    "import torch\n",
    "from torch import nn\n",
    "import nltk\n",
    "from torch.utils.data import Dataset\n",
    "import pickle\n",
    "\n",
    "from utils.utils import *\n",
    "from utils.label_decoding import *\n",
    "from utils.HierarchicalLoss import *"
   ]
  },
  {
   "cell_type": "markdown",
   "source": [
    "# SubTask 1"
   ],
   "metadata": {
    "collapsed": false
   },
   "id": "e60ad07d99dbae78"
  },
  {
   "cell_type": "code",
   "outputs": [],
   "source": [
    "class DataSet(Dataset):\n",
    "    def __init__(self, df, labels_at_level, features_file):\n",
    "        super(DataSet, self).__init__()\n",
    "        self.data_df = df\n",
    "        self.labels_at_level = labels_at_level\n",
    "        self.features_file = features_file\n",
    "        self.features_dict = None\n",
    "        with open(features_file, 'rb') as f:\n",
    "            self.features_dict = pickle.load(f)\n",
    "    \n",
    "    def __len__(self):\n",
    "        return len(self.data_df)\n",
    "    \n",
    "    def __getitem__(self, idx):\n",
    "        id = self.data_df.iloc[idx]['id']\n",
    "        text = self.data_df.iloc[idx]['cleaned_text']\n",
    "        level_1_target = self.encode(self.data_df.iloc[idx]['Level 1'], 1)\n",
    "        level_2_target = self.encode(self.data_df.iloc[idx]['Level 2'], 2)\n",
    "        level_3_target = self.encode(self.data_df.iloc[idx]['Level 3'], 3)\n",
    "        level_4_target = self.encode(self.data_df.iloc[idx]['Level 4'], 4)\n",
    "        level_5_target = self.encode(self.data_df.iloc[idx]['Level 5'], 5)\n",
    "            \n",
    "        \n",
    "        return {'id': id,\n",
    "                'text': text, \n",
    "                'text_features': self.features_dict[id],\n",
    "                'level_1_target': level_1_target, \n",
    "                'level_2_target': level_2_target, \n",
    "                'level_3_target': level_3_target, \n",
    "                'level_4_target': level_4_target, \n",
    "                'level_5_target': level_5_target }\n",
    "\n",
    "    def encode(self, labels, level):\n",
    "        level_ = f'Level {level}'\n",
    "        \n",
    "        target = torch.zeros(len(self.labels_at_level[level_])+1)\n",
    "        \n",
    "        for label in labels:\n",
    "            label_idx = self.labels_at_level[level_][label]\n",
    "            target[label_idx] = 1\n",
    "        \n",
    "        if len(labels) == 0:\n",
    "            target[-1] = 1\n",
    "        \n",
    "        return target"
   ],
   "metadata": {
    "collapsed": false,
    "ExecuteTime": {
     "end_time": "2024-05-07T03:32:23.285650Z",
     "start_time": "2024-05-07T03:32:23.280525Z"
    }
   },
   "id": "ca9a0fc432e64d68",
   "execution_count": 2
  },
  {
   "cell_type": "code",
   "outputs": [],
   "source": [
    "class TestDataSet(Dataset):\n",
    "    def __init__(self, df, features_file):\n",
    "        super(TestDataSet, self).__init__()\n",
    "        self.data_df = df\n",
    "        self.features_file = features_file\n",
    "        self.features_dict = None\n",
    "        with open(features_file, 'rb') as f:\n",
    "            self.features_dict = pickle.load(f)\n",
    "    \n",
    "    def __len__(self):\n",
    "        return len(self.data_df)\n",
    "    \n",
    "    def __getitem__(self, idx):\n",
    "        id = self.data_df.iloc[idx]['id']\n",
    "        text = self.data_df.iloc[idx]['cleaned_text']\n",
    "        \n",
    "        return {'id': id,\n",
    "                'text': text, \n",
    "                'text_features': self.features_dict[id] }"
   ],
   "metadata": {
    "collapsed": false,
    "ExecuteTime": {
     "end_time": "2024-05-07T03:32:23.289364Z",
     "start_time": "2024-05-07T03:32:23.286560Z"
    }
   },
   "id": "6eac351a60082cf4",
   "execution_count": 3
  },
  {
   "cell_type": "code",
   "outputs": [],
   "source": [
    "def evaluate_model(model, dataloader, pred_file_path, gold_file_path, \n",
    "                   evaluator_script_path, id2leaf_label, format=None,validation=False, threshold=0.3):\n",
    "    model.eval()\n",
    "    predictions = []\n",
    "    \n",
    "    HL = HierarchicalLoss(id2label=id2label_1, hierarchical_labels=hierarchy_1, persuasion_techniques=persuasion_techniques_1, device=device)\n",
    "    total_loss = 0\n",
    "    \n",
    "    \n",
    "    with torch.no_grad():\n",
    "        \n",
    "        for batch in tqdm(dataloader):\n",
    "            if not isinstance(batch['id'], list):\n",
    "                ids = batch['id'].detach().numpy().tolist()\n",
    "            else:\n",
    "                ids = batch['id']\n",
    "        \n",
    "            embeddings = batch['text_features']\n",
    "            embeddings = embeddings.to(device)\n",
    "            pred_1, pred_2, pred_3, pred_4, pred_5 = model(embeddings)\n",
    "            \n",
    "            if validation:\n",
    "                y_1, y_2, y_3 = batch['level_1_target'], batch['level_2_target'], batch['level_3_target']\n",
    "                y_4, y_5 = batch['level_4_target'], batch['level_5_target']\n",
    "                \n",
    "                y_1, y_2, y_3, y_4, y_5 = y_1.to(device), y_2.to(device), y_3.to(device), y_4.to(device), y_5.to(device)\n",
    "                \n",
    "                dloss = HL.calculate_dloss([pred_1, pred_2, pred_3, pred_4, pred_5], [y_1, y_2, y_3, y_4, y_5])\n",
    "                lloss = HL.calculate_lloss([pred_1, pred_2, pred_3, pred_4, pred_5], [y_1, y_2, y_3, y_4, y_5])\n",
    "                \n",
    "                total_loss += (dloss + lloss).detach().cpu().item()\n",
    "                \n",
    "            pred_3 = (pred_3.cpu().detach().numpy() > threshold).astype(int)\n",
    "            pred_4 = (pred_4.cpu().detach().numpy() > threshold).astype(int)\n",
    "            pred_5 = (pred_5.cpu().detach().numpy() > threshold).astype(int)\n",
    "            \n",
    "            predictions += get_labels(id2leaf_label, ids, pred_3, pred_4, pred_5, format)\n",
    "\n",
    "        # Writing JSON data\n",
    "        with open(pred_file_path, 'w') as f:\n",
    "            json.dump(predictions, f, indent=4)\n",
    "        \n",
    "        if gold_file_path is None:\n",
    "            return\n",
    "            \n",
    "        command = [\n",
    "                \"python3\", evaluator_script_path,\n",
    "                \"--gold_file_path\", gold_file_path,\n",
    "                \"--pred_file_path\", pred_file_path\n",
    "        ]\n",
    "        \n",
    "        result = subprocess.run(command, capture_output=True, text=True)\n",
    "        \n",
    "        if result.returncode == 0:\n",
    "            print(\"Output:\\n\", result.stdout)\n",
    "        else:\n",
    "            print(\"Error:\\n\", result.stderr)\n",
    "            \n",
    "        if validation:\n",
    "            return total_loss / len(dataloader)"
   ],
   "metadata": {
    "collapsed": false,
    "ExecuteTime": {
     "end_time": "2024-05-07T03:32:24.383181Z",
     "start_time": "2024-05-07T03:32:24.375030Z"
    }
   },
   "id": "ec033c418f6dd4da",
   "execution_count": 4
  },
  {
   "cell_type": "code",
   "outputs": [],
   "source": [
    "from torch.utils.data import DataLoader\n",
    "\n",
    "train_data = process_json('./semeval2024_dev_release/subtask1/train.json', techniques_to_level_1, hierarchy_1)\n",
    "# val_data = \n",
    "validation_data = process_json('./semeval2024_dev_release/subtask1/validation.json', techniques_to_level_1, hierarchy_1)\n",
    "\n",
    "training_dataset = DataSet(train_data, indexed_persuasion_techniques_1, \n",
    "                           './TextFeatures/subtask1a/mBERT/train_text_features.pkl')\n",
    "validation_dataset = DataSet(validation_data, indexed_persuasion_techniques_1, \n",
    "                             './TextFeatures/subtask1a/mBERT/validation_text_features.pkl')\n",
    "\n",
    "batch_size = 256\n",
    "\n",
    "train_dataloader = DataLoader(training_dataset, batch_size=batch_size, shuffle=True)\n",
    "validation_dataloader = DataLoader(validation_dataset, batch_size=batch_size, shuffle=True)\n"
   ],
   "metadata": {
    "collapsed": false,
    "ExecuteTime": {
     "end_time": "2024-05-07T03:32:40.533770Z",
     "start_time": "2024-05-07T03:32:39.760196Z"
    }
   },
   "id": "ad284fce512b8868",
   "execution_count": 5
  },
  {
   "cell_type": "code",
   "outputs": [],
   "source": [
    "alpha = 0.7764469620072395\n",
    "batch_size = 256\n",
    "beta = 0.95\n",
    "beta1 = 0.9094170903394552\n",
    "learning_rate = 3.906930058023181e-05\n",
    "threshold = 0.8256232754296409"
   ],
   "metadata": {
    "collapsed": false,
    "ExecuteTime": {
     "end_time": "2024-05-07T03:32:42.559668Z",
     "start_time": "2024-05-07T03:32:42.557070Z"
    }
   },
   "id": "859b0a5dc9196624",
   "execution_count": 6
  },
  {
   "cell_type": "code",
   "outputs": [
    {
     "name": "stdout",
     "output_type": "stream",
     "text": [
      "Using MPS\n"
     ]
    }
   ],
   "source": [
    "num_epochs = 100\n",
    "device = get_device()\n",
    "device = torch.device(\"cpu\")\n",
    "\n",
    "HL = HierarchicalLoss(id2label=id2label_1, hierarchical_labels=hierarchy_1,\n",
    "                      persuasion_techniques=persuasion_techniques_1,\n",
    "                      device=device, alpha=alpha, beta=beta, threshold=threshold)\n",
    "\n"
   ],
   "metadata": {
    "collapsed": false,
    "ExecuteTime": {
     "end_time": "2024-05-07T03:32:43.244600Z",
     "start_time": "2024-05-07T03:32:43.223689Z"
    }
   },
   "id": "20d17410814334b2",
   "execution_count": 7
  },
  {
   "cell_type": "markdown",
   "source": [
    "### Model"
   ],
   "metadata": {
    "collapsed": false
   },
   "id": "d73018686502c960"
  },
  {
   "cell_type": "code",
   "outputs": [
    {
     "data": {
      "text/plain": "mBERT(\n  (linear_level1): Sequential(\n    (0): Linear(in_features=768, out_features=1024, bias=True)\n    (1): ReLU()\n    (2): Dropout(p=0.15, inplace=False)\n    (3): Linear(in_features=1024, out_features=512, bias=True)\n    (4): ReLU()\n    (5): Dropout(p=0.15, inplace=False)\n    (6): Linear(in_features=512, out_features=128, bias=True)\n    (7): ReLU()\n  )\n  (linear_level2): Sequential(\n    (0): Linear(in_features=768, out_features=1024, bias=True)\n    (1): ReLU()\n    (2): Dropout(p=0.15, inplace=False)\n    (3): Linear(in_features=1024, out_features=512, bias=True)\n    (4): ReLU()\n    (5): Dropout(p=0.15, inplace=False)\n    (6): Linear(in_features=512, out_features=128, bias=True)\n    (7): ReLU()\n  )\n  (linear_level3): Sequential(\n    (0): Linear(in_features=768, out_features=1024, bias=True)\n    (1): ReLU()\n    (2): Dropout(p=0.15, inplace=False)\n    (3): Linear(in_features=1024, out_features=512, bias=True)\n    (4): ReLU()\n    (5): Dropout(p=0.15, inplace=False)\n    (6): Linear(in_features=512, out_features=128, bias=True)\n    (7): ReLU()\n  )\n  (linear_level4): Sequential(\n    (0): Linear(in_features=768, out_features=1024, bias=True)\n    (1): ReLU()\n    (2): Dropout(p=0.15, inplace=False)\n    (3): Linear(in_features=1024, out_features=512, bias=True)\n    (4): ReLU()\n    (5): Dropout(p=0.15, inplace=False)\n    (6): Linear(in_features=512, out_features=128, bias=True)\n    (7): ReLU()\n  )\n  (linear_level5): Sequential(\n    (0): Linear(in_features=768, out_features=1024, bias=True)\n    (1): ReLU()\n    (2): Dropout(p=0.15, inplace=False)\n    (3): Linear(in_features=1024, out_features=512, bias=True)\n    (4): ReLU()\n    (5): Dropout(p=0.15, inplace=False)\n    (6): Linear(in_features=512, out_features=128, bias=True)\n    (7): ReLU()\n  )\n  (sigmoid_reg1): Sequential(\n    (0): Linear(in_features=128, out_features=2, bias=True)\n  )\n  (sigmoid_reg2): Sequential(\n    (0): Linear(in_features=256, out_features=4, bias=True)\n  )\n  (sigmoid_reg3): Sequential(\n    (0): Linear(in_features=384, out_features=13, bias=True)\n    (1): Sigmoid()\n  )\n  (sigmoid_reg4): Sequential(\n    (0): Linear(in_features=512, out_features=13, bias=True)\n    (1): Sigmoid()\n  )\n  (sigmoid_reg5): Sequential(\n    (0): Linear(in_features=640, out_features=7, bias=True)\n    (1): Sigmoid()\n  )\n)"
     },
     "execution_count": 8,
     "metadata": {},
     "output_type": "execute_result"
    }
   ],
   "source": [
    "from modules.nn.mBERT import mBERT\n",
    "\n",
    "model = mBERT()\n",
    "model.to(device)"
   ],
   "metadata": {
    "collapsed": false,
    "ExecuteTime": {
     "end_time": "2024-05-07T03:32:46.064804Z",
     "start_time": "2024-05-07T03:32:46.025235Z"
    }
   },
   "id": "30ec7416987a643",
   "execution_count": 8
  },
  {
   "cell_type": "code",
   "outputs": [
    {
     "name": "stdout",
     "output_type": "stream",
     "text": [
      "[1, 20] loss: 2361.058\n"
     ]
    },
    {
     "name": "stderr",
     "output_type": "stream",
     "text": [
      "100%|██████████| 2/2 [00:00<00:00, 15.57it/s]\n"
     ]
    },
    {
     "name": "stdout",
     "output_type": "stream",
     "text": [
      "Output:\n",
      " f1_h=0.42557\tprec_h=0.54414\trec_h=0.34942\n",
      "[2, 20] loss: 2276.223\n"
     ]
    },
    {
     "name": "stderr",
     "output_type": "stream",
     "text": [
      "100%|██████████| 2/2 [00:00<00:00, 15.57it/s]\n"
     ]
    },
    {
     "name": "stdout",
     "output_type": "stream",
     "text": [
      "Output:\n",
      " f1_h=0.35059\tprec_h=0.59283\trec_h=0.24889\n",
      "[3, 20] loss: 2262.271\n"
     ]
    },
    {
     "name": "stderr",
     "output_type": "stream",
     "text": [
      "100%|██████████| 2/2 [00:00<00:00, 15.78it/s]\n"
     ]
    },
    {
     "name": "stdout",
     "output_type": "stream",
     "text": [
      "Output:\n",
      " f1_h=0.39125\tprec_h=0.60463\trec_h=0.28919\n",
      "[4, 20] loss: 2188.651\n"
     ]
    },
    {
     "name": "stderr",
     "output_type": "stream",
     "text": [
      "100%|██████████| 2/2 [00:00<00:00, 15.71it/s]\n"
     ]
    },
    {
     "name": "stdout",
     "output_type": "stream",
     "text": [
      "Output:\n",
      " f1_h=0.31909\tprec_h=0.64770\trec_h=0.21169\n",
      "[5, 20] loss: 2168.533\n"
     ]
    },
    {
     "name": "stderr",
     "output_type": "stream",
     "text": [
      "100%|██████████| 2/2 [00:00<00:00, 15.81it/s]\n"
     ]
    },
    {
     "name": "stdout",
     "output_type": "stream",
     "text": [
      "Output:\n",
      " f1_h=0.38519\tprec_h=0.64749\trec_h=0.27414\n",
      "[6, 20] loss: 2142.512\n"
     ]
    },
    {
     "name": "stderr",
     "output_type": "stream",
     "text": [
      "100%|██████████| 2/2 [00:00<00:00, 15.96it/s]\n"
     ]
    },
    {
     "name": "stdout",
     "output_type": "stream",
     "text": [
      "Output:\n",
      " f1_h=0.45445\tprec_h=0.56039\trec_h=0.38220\n",
      "[7, 20] loss: 2096.203\n"
     ]
    },
    {
     "name": "stderr",
     "output_type": "stream",
     "text": [
      "100%|██████████| 2/2 [00:00<00:00, 16.16it/s]\n"
     ]
    },
    {
     "name": "stdout",
     "output_type": "stream",
     "text": [
      "Output:\n",
      " f1_h=0.45274\tprec_h=0.58811\trec_h=0.36802\n",
      "[8, 20] loss: 2085.452\n"
     ]
    },
    {
     "name": "stderr",
     "output_type": "stream",
     "text": [
      "100%|██████████| 2/2 [00:00<00:00, 16.00it/s]\n"
     ]
    },
    {
     "name": "stdout",
     "output_type": "stream",
     "text": [
      "Output:\n",
      " f1_h=0.40843\tprec_h=0.63842\trec_h=0.30027\n",
      "[9, 20] loss: 2068.049\n"
     ]
    },
    {
     "name": "stderr",
     "output_type": "stream",
     "text": [
      "100%|██████████| 2/2 [00:00<00:00, 16.19it/s]\n"
     ]
    },
    {
     "name": "stdout",
     "output_type": "stream",
     "text": [
      "Output:\n",
      " f1_h=0.41743\tprec_h=0.63139\trec_h=0.31178\n",
      "[10, 20] loss: 2055.489\n"
     ]
    },
    {
     "name": "stderr",
     "output_type": "stream",
     "text": [
      "100%|██████████| 2/2 [00:00<00:00, 16.13it/s]\n"
     ]
    },
    {
     "name": "stdout",
     "output_type": "stream",
     "text": [
      "Output:\n",
      " f1_h=0.47423\tprec_h=0.55562\trec_h=0.41364\n",
      "[11, 20] loss: 2051.780\n"
     ]
    },
    {
     "name": "stderr",
     "output_type": "stream",
     "text": [
      "100%|██████████| 2/2 [00:00<00:00, 16.07it/s]\n"
     ]
    },
    {
     "name": "stdout",
     "output_type": "stream",
     "text": [
      "Output:\n",
      " f1_h=0.44603\tprec_h=0.62781\trec_h=0.34588\n",
      "[12, 20] loss: 2057.175\n"
     ]
    },
    {
     "name": "stderr",
     "output_type": "stream",
     "text": [
      "100%|██████████| 2/2 [00:00<00:00, 15.92it/s]\n"
     ]
    },
    {
     "name": "stdout",
     "output_type": "stream",
     "text": [
      "Output:\n",
      " f1_h=0.49623\tprec_h=0.55046\trec_h=0.45173\n",
      "[13, 20] loss: 2028.081\n"
     ]
    },
    {
     "name": "stderr",
     "output_type": "stream",
     "text": [
      "100%|██████████| 2/2 [00:00<00:00, 15.89it/s]\n"
     ]
    },
    {
     "name": "stdout",
     "output_type": "stream",
     "text": [
      "Output:\n",
      " f1_h=0.45399\tprec_h=0.60058\trec_h=0.36492\n",
      "[14, 20] loss: 2008.560\n"
     ]
    },
    {
     "name": "stderr",
     "output_type": "stream",
     "text": [
      "100%|██████████| 2/2 [00:00<00:00, 16.15it/s]\n"
     ]
    },
    {
     "name": "stdout",
     "output_type": "stream",
     "text": [
      "Output:\n",
      " f1_h=0.45885\tprec_h=0.61288\trec_h=0.36670\n",
      "[15, 20] loss: 1988.420\n"
     ]
    },
    {
     "name": "stderr",
     "output_type": "stream",
     "text": [
      "100%|██████████| 2/2 [00:00<00:00, 15.95it/s]\n"
     ]
    },
    {
     "name": "stdout",
     "output_type": "stream",
     "text": [
      "Output:\n",
      " f1_h=0.50911\tprec_h=0.55486\trec_h=0.47033\n",
      "[16, 20] loss: 2004.613\n"
     ]
    },
    {
     "name": "stderr",
     "output_type": "stream",
     "text": [
      "100%|██████████| 2/2 [00:00<00:00, 16.17it/s]\n"
     ]
    },
    {
     "name": "stdout",
     "output_type": "stream",
     "text": [
      "Output:\n",
      " f1_h=0.48731\tprec_h=0.56297\trec_h=0.42958\n",
      "[17, 20] loss: 2015.623\n"
     ]
    },
    {
     "name": "stderr",
     "output_type": "stream",
     "text": [
      "100%|██████████| 2/2 [00:00<00:00, 16.05it/s]\n"
     ]
    },
    {
     "name": "stdout",
     "output_type": "stream",
     "text": [
      "Output:\n",
      " f1_h=0.47754\tprec_h=0.58683\trec_h=0.40257\n",
      "[18, 20] loss: 2004.623\n"
     ]
    },
    {
     "name": "stderr",
     "output_type": "stream",
     "text": [
      "100%|██████████| 2/2 [00:00<00:00, 16.54it/s]\n"
     ]
    },
    {
     "name": "stdout",
     "output_type": "stream",
     "text": [
      "Output:\n",
      " f1_h=0.50077\tprec_h=0.60025\trec_h=0.42958\n",
      "[19, 20] loss: 1996.413\n"
     ]
    },
    {
     "name": "stderr",
     "output_type": "stream",
     "text": [
      "100%|██████████| 2/2 [00:00<00:00, 16.25it/s]\n"
     ]
    },
    {
     "name": "stdout",
     "output_type": "stream",
     "text": [
      "Output:\n",
      " f1_h=0.50840\tprec_h=0.55503\trec_h=0.46900\n",
      "[20, 20] loss: 1994.206\n"
     ]
    },
    {
     "name": "stderr",
     "output_type": "stream",
     "text": [
      "100%|██████████| 2/2 [00:00<00:00, 16.43it/s]\n"
     ]
    },
    {
     "name": "stdout",
     "output_type": "stream",
     "text": [
      "Output:\n",
      " f1_h=0.48608\tprec_h=0.56738\trec_h=0.42516\n",
      "[21, 20] loss: 1991.283\n"
     ]
    },
    {
     "name": "stderr",
     "output_type": "stream",
     "text": [
      "100%|██████████| 2/2 [00:00<00:00, 16.27it/s]\n"
     ]
    },
    {
     "name": "stdout",
     "output_type": "stream",
     "text": [
      "Output:\n",
      " f1_h=0.53380\tprec_h=0.56569\trec_h=0.50531\n",
      "[22, 20] loss: 1983.247\n"
     ]
    },
    {
     "name": "stderr",
     "output_type": "stream",
     "text": [
      "100%|██████████| 2/2 [00:00<00:00, 16.06it/s]\n"
     ]
    },
    {
     "name": "stdout",
     "output_type": "stream",
     "text": [
      "Output:\n",
      " f1_h=0.51082\tprec_h=0.59149\trec_h=0.44951\n",
      "[23, 20] loss: 1979.621\n"
     ]
    },
    {
     "name": "stderr",
     "output_type": "stream",
     "text": [
      "100%|██████████| 2/2 [00:00<00:00, 15.54it/s]\n"
     ]
    },
    {
     "name": "stdout",
     "output_type": "stream",
     "text": [
      "Output:\n",
      " f1_h=0.53300\tprec_h=0.53867\trec_h=0.52746\n",
      "[24, 20] loss: 1956.797\n"
     ]
    },
    {
     "name": "stderr",
     "output_type": "stream",
     "text": [
      "100%|██████████| 2/2 [00:00<00:00, 15.76it/s]\n"
     ]
    },
    {
     "name": "stdout",
     "output_type": "stream",
     "text": [
      "Output:\n",
      " f1_h=0.47574\tprec_h=0.58801\trec_h=0.39947\n",
      "[25, 20] loss: 1966.459\n"
     ]
    },
    {
     "name": "stderr",
     "output_type": "stream",
     "text": [
      "100%|██████████| 2/2 [00:00<00:00, 16.06it/s]\n"
     ]
    },
    {
     "name": "stdout",
     "output_type": "stream",
     "text": [
      "Output:\n",
      " f1_h=0.53333\tprec_h=0.55449\trec_h=0.51373\n",
      "[26, 20] loss: 1962.987\n"
     ]
    },
    {
     "name": "stderr",
     "output_type": "stream",
     "text": [
      "100%|██████████| 2/2 [00:00<00:00, 16.45it/s]\n"
     ]
    },
    {
     "name": "stdout",
     "output_type": "stream",
     "text": [
      "Output:\n",
      " f1_h=0.52594\tprec_h=0.56842\trec_h=0.48937\n",
      "[27, 20] loss: 1925.512\n"
     ]
    },
    {
     "name": "stderr",
     "output_type": "stream",
     "text": [
      "100%|██████████| 2/2 [00:00<00:00, 15.60it/s]\n"
     ]
    },
    {
     "name": "stdout",
     "output_type": "stream",
     "text": [
      "Output:\n",
      " f1_h=0.54212\tprec_h=0.52909\trec_h=0.55580\n",
      "[28, 20] loss: 1946.205\n"
     ]
    },
    {
     "name": "stderr",
     "output_type": "stream",
     "text": [
      "100%|██████████| 2/2 [00:00<00:00, 16.39it/s]\n"
     ]
    },
    {
     "name": "stdout",
     "output_type": "stream",
     "text": [
      "Output:\n",
      " f1_h=0.53128\tprec_h=0.55263\trec_h=0.51151\n",
      "[29, 20] loss: 1946.517\n"
     ]
    },
    {
     "name": "stderr",
     "output_type": "stream",
     "text": [
      "100%|██████████| 2/2 [00:00<00:00, 15.71it/s]\n"
     ]
    },
    {
     "name": "stdout",
     "output_type": "stream",
     "text": [
      "Output:\n",
      " f1_h=0.51688\tprec_h=0.57235\trec_h=0.47121\n",
      "[30, 20] loss: 1934.522\n"
     ]
    },
    {
     "name": "stderr",
     "output_type": "stream",
     "text": [
      "100%|██████████| 2/2 [00:00<00:00, 16.37it/s]\n"
     ]
    },
    {
     "name": "stdout",
     "output_type": "stream",
     "text": [
      "Output:\n",
      " f1_h=0.52071\tprec_h=0.58732\trec_h=0.46767\n",
      "[31, 20] loss: 1903.017\n"
     ]
    },
    {
     "name": "stderr",
     "output_type": "stream",
     "text": [
      "100%|██████████| 2/2 [00:00<00:00, 16.40it/s]\n"
     ]
    },
    {
     "name": "stdout",
     "output_type": "stream",
     "text": [
      "Output:\n",
      " f1_h=0.49436\tprec_h=0.60657\trec_h=0.41718\n",
      "[32, 20] loss: 1918.734\n"
     ]
    },
    {
     "name": "stderr",
     "output_type": "stream",
     "text": [
      "100%|██████████| 2/2 [00:00<00:00, 15.58it/s]\n"
     ]
    },
    {
     "name": "stdout",
     "output_type": "stream",
     "text": [
      "Output:\n",
      " f1_h=0.50683\tprec_h=0.53133\trec_h=0.48450\n",
      "[33, 20] loss: 1904.203\n"
     ]
    },
    {
     "name": "stderr",
     "output_type": "stream",
     "text": [
      "100%|██████████| 2/2 [00:00<00:00, 15.89it/s]\n"
     ]
    },
    {
     "name": "stdout",
     "output_type": "stream",
     "text": [
      "Output:\n",
      " f1_h=0.54469\tprec_h=0.57738\trec_h=0.51550\n",
      "[34, 20] loss: 1916.937\n"
     ]
    },
    {
     "name": "stderr",
     "output_type": "stream",
     "text": [
      "100%|██████████| 2/2 [00:00<00:00, 16.24it/s]\n"
     ]
    },
    {
     "name": "stdout",
     "output_type": "stream",
     "text": [
      "Output:\n",
      " f1_h=0.51063\tprec_h=0.57774\trec_h=0.45748\n",
      "[35, 20] loss: 1880.805\n"
     ]
    },
    {
     "name": "stderr",
     "output_type": "stream",
     "text": [
      "100%|██████████| 2/2 [00:00<00:00, 15.85it/s]\n"
     ]
    },
    {
     "name": "stdout",
     "output_type": "stream",
     "text": [
      "Output:\n",
      " f1_h=0.54100\tprec_h=0.53863\trec_h=0.54340\n",
      "[36, 20] loss: 1882.450\n"
     ]
    },
    {
     "name": "stderr",
     "output_type": "stream",
     "text": [
      "100%|██████████| 2/2 [00:00<00:00, 16.25it/s]\n"
     ]
    },
    {
     "name": "stdout",
     "output_type": "stream",
     "text": [
      "Output:\n",
      " f1_h=0.52564\tprec_h=0.59288\trec_h=0.47210\n",
      "[37, 20] loss: 1929.659\n"
     ]
    },
    {
     "name": "stderr",
     "output_type": "stream",
     "text": [
      "100%|██████████| 2/2 [00:00<00:00, 16.13it/s]\n"
     ]
    },
    {
     "name": "stdout",
     "output_type": "stream",
     "text": [
      "Output:\n",
      " f1_h=0.53739\tprec_h=0.54348\trec_h=0.53144\n",
      "[38, 20] loss: 1859.022\n"
     ]
    },
    {
     "name": "stderr",
     "output_type": "stream",
     "text": [
      "100%|██████████| 2/2 [00:00<00:00, 15.81it/s]\n"
     ]
    },
    {
     "name": "stdout",
     "output_type": "stream",
     "text": [
      "Output:\n",
      " f1_h=0.53699\tprec_h=0.55419\trec_h=0.52081\n",
      "[39, 20] loss: 1874.086\n"
     ]
    },
    {
     "name": "stderr",
     "output_type": "stream",
     "text": [
      "100%|██████████| 2/2 [00:00<00:00, 16.00it/s]\n"
     ]
    },
    {
     "name": "stdout",
     "output_type": "stream",
     "text": [
      "Output:\n",
      " f1_h=0.54406\tprec_h=0.53990\trec_h=0.54827\n",
      "[40, 20] loss: 1877.268\n"
     ]
    },
    {
     "name": "stderr",
     "output_type": "stream",
     "text": [
      "100%|██████████| 2/2 [00:00<00:00, 15.75it/s]\n"
     ]
    },
    {
     "name": "stdout",
     "output_type": "stream",
     "text": [
      "Output:\n",
      " f1_h=0.54984\tprec_h=0.54400\trec_h=0.55580\n",
      "[41, 20] loss: 1839.572\n"
     ]
    },
    {
     "name": "stderr",
     "output_type": "stream",
     "text": [
      "100%|██████████| 2/2 [00:00<00:00, 15.77it/s]\n"
     ]
    },
    {
     "name": "stdout",
     "output_type": "stream",
     "text": [
      "Output:\n",
      " f1_h=0.53027\tprec_h=0.55675\trec_h=0.50620\n",
      "[42, 20] loss: 1858.456\n"
     ]
    },
    {
     "name": "stderr",
     "output_type": "stream",
     "text": [
      "100%|██████████| 2/2 [00:00<00:00, 16.20it/s]\n"
     ]
    },
    {
     "name": "stdout",
     "output_type": "stream",
     "text": [
      "Output:\n",
      " f1_h=0.53526\tprec_h=0.58619\trec_h=0.49247\n",
      "[43, 20] loss: 1835.846\n"
     ]
    },
    {
     "name": "stderr",
     "output_type": "stream",
     "text": [
      "100%|██████████| 2/2 [00:00<00:00, 15.88it/s]\n"
     ]
    },
    {
     "name": "stdout",
     "output_type": "stream",
     "text": [
      "Output:\n",
      " f1_h=0.54999\tprec_h=0.52608\trec_h=0.57617\n",
      "[44, 20] loss: 1800.334\n"
     ]
    },
    {
     "name": "stderr",
     "output_type": "stream",
     "text": [
      "100%|██████████| 2/2 [00:00<00:00, 16.02it/s]\n"
     ]
    },
    {
     "name": "stdout",
     "output_type": "stream",
     "text": [
      "Output:\n",
      " f1_h=0.52205\tprec_h=0.56173\trec_h=0.48760\n",
      "[45, 20] loss: 1828.131\n"
     ]
    },
    {
     "name": "stderr",
     "output_type": "stream",
     "text": [
      "100%|██████████| 2/2 [00:00<00:00, 15.90it/s]\n"
     ]
    },
    {
     "name": "stdout",
     "output_type": "stream",
     "text": [
      "Output:\n",
      " f1_h=0.52745\tprec_h=0.58718\trec_h=0.47874\n",
      "[46, 20] loss: 1807.787\n"
     ]
    },
    {
     "name": "stderr",
     "output_type": "stream",
     "text": [
      "100%|██████████| 2/2 [00:00<00:00, 15.77it/s]\n"
     ]
    },
    {
     "name": "stdout",
     "output_type": "stream",
     "text": [
      "Output:\n",
      " f1_h=0.54604\tprec_h=0.52861\trec_h=0.56466\n",
      "[47, 20] loss: 1808.861\n"
     ]
    },
    {
     "name": "stderr",
     "output_type": "stream",
     "text": [
      "100%|██████████| 2/2 [00:00<00:00, 15.66it/s]\n"
     ]
    },
    {
     "name": "stdout",
     "output_type": "stream",
     "text": [
      "Output:\n",
      " f1_h=0.53764\tprec_h=0.55259\trec_h=0.52347\n",
      "[48, 20] loss: 1801.288\n"
     ]
    },
    {
     "name": "stderr",
     "output_type": "stream",
     "text": [
      "100%|██████████| 2/2 [00:00<00:00, 15.61it/s]\n"
     ]
    },
    {
     "name": "stdout",
     "output_type": "stream",
     "text": [
      "Output:\n",
      " f1_h=0.52926\tprec_h=0.57995\trec_h=0.48671\n",
      "[49, 20] loss: 1780.822\n"
     ]
    },
    {
     "name": "stderr",
     "output_type": "stream",
     "text": [
      "100%|██████████| 2/2 [00:00<00:00, 16.09it/s]\n"
     ]
    },
    {
     "name": "stdout",
     "output_type": "stream",
     "text": [
      "Output:\n",
      " f1_h=0.53803\tprec_h=0.52816\trec_h=0.54827\n",
      "[50, 20] loss: 1796.036\n"
     ]
    },
    {
     "name": "stderr",
     "output_type": "stream",
     "text": [
      "100%|██████████| 2/2 [00:00<00:00, 15.92it/s]\n"
     ]
    },
    {
     "name": "stdout",
     "output_type": "stream",
     "text": [
      "Output:\n",
      " f1_h=0.54396\tprec_h=0.54409\trec_h=0.54384\n",
      "[51, 20] loss: 1720.315\n"
     ]
    },
    {
     "name": "stderr",
     "output_type": "stream",
     "text": [
      "100%|██████████| 2/2 [00:00<00:00, 15.87it/s]\n"
     ]
    },
    {
     "name": "stdout",
     "output_type": "stream",
     "text": [
      "Output:\n",
      " f1_h=0.51830\tprec_h=0.57717\trec_h=0.47033\n",
      "[52, 20] loss: 1711.140\n"
     ]
    },
    {
     "name": "stderr",
     "output_type": "stream",
     "text": [
      "100%|██████████| 2/2 [00:00<00:00, 16.19it/s]\n"
     ]
    },
    {
     "name": "stdout",
     "output_type": "stream",
     "text": [
      "Output:\n",
      " f1_h=0.51927\tprec_h=0.55708\trec_h=0.48627\n",
      "[53, 20] loss: 1734.596\n"
     ]
    },
    {
     "name": "stderr",
     "output_type": "stream",
     "text": [
      "100%|██████████| 2/2 [00:00<00:00, 16.28it/s]\n"
     ]
    },
    {
     "name": "stdout",
     "output_type": "stream",
     "text": [
      "Output:\n",
      " f1_h=0.54614\tprec_h=0.51765\trec_h=0.57795\n",
      "[54, 20] loss: 1758.797\n"
     ]
    },
    {
     "name": "stderr",
     "output_type": "stream",
     "text": [
      "100%|██████████| 2/2 [00:00<00:00, 16.48it/s]\n"
     ]
    },
    {
     "name": "stdout",
     "output_type": "stream",
     "text": [
      "Output:\n",
      " f1_h=0.53106\tprec_h=0.56176\trec_h=0.50354\n",
      "[55, 20] loss: 1734.780\n"
     ]
    },
    {
     "name": "stderr",
     "output_type": "stream",
     "text": [
      "100%|██████████| 2/2 [00:00<00:00, 16.23it/s]\n"
     ]
    },
    {
     "name": "stdout",
     "output_type": "stream",
     "text": [
      "Output:\n",
      " f1_h=0.52729\tprec_h=0.55179\trec_h=0.50487\n",
      "[56, 20] loss: 1742.948\n"
     ]
    },
    {
     "name": "stderr",
     "output_type": "stream",
     "text": [
      "100%|██████████| 2/2 [00:00<00:00, 16.39it/s]\n"
     ]
    },
    {
     "name": "stdout",
     "output_type": "stream",
     "text": [
      "Output:\n",
      " f1_h=0.53458\tprec_h=0.52521\trec_h=0.54429\n",
      "[57, 20] loss: 1729.754\n"
     ]
    },
    {
     "name": "stderr",
     "output_type": "stream",
     "text": [
      "100%|██████████| 2/2 [00:00<00:00, 15.71it/s]\n"
     ]
    },
    {
     "name": "stdout",
     "output_type": "stream",
     "text": [
      "Output:\n",
      " f1_h=0.54190\tprec_h=0.55618\trec_h=0.52834\n",
      "[58, 20] loss: 1738.156\n"
     ]
    },
    {
     "name": "stderr",
     "output_type": "stream",
     "text": [
      "100%|██████████| 2/2 [00:00<00:00, 16.34it/s]\n"
     ]
    },
    {
     "name": "stdout",
     "output_type": "stream",
     "text": [
      "Output:\n",
      " f1_h=0.54682\tprec_h=0.54537\trec_h=0.54827\n",
      "[59, 20] loss: 1678.507\n"
     ]
    },
    {
     "name": "stderr",
     "output_type": "stream",
     "text": [
      "100%|██████████| 2/2 [00:00<00:00, 16.21it/s]\n"
     ]
    },
    {
     "name": "stdout",
     "output_type": "stream",
     "text": [
      "Output:\n",
      " f1_h=0.51916\tprec_h=0.57403\trec_h=0.47387\n",
      "[60, 20] loss: 1684.663\n"
     ]
    },
    {
     "name": "stderr",
     "output_type": "stream",
     "text": [
      "100%|██████████| 2/2 [00:00<00:00, 16.10it/s]\n"
     ]
    },
    {
     "name": "stdout",
     "output_type": "stream",
     "text": [
      "Output:\n",
      " f1_h=0.54302\tprec_h=0.52185\trec_h=0.56599\n",
      "[61, 20] loss: 1664.171\n"
     ]
    },
    {
     "name": "stderr",
     "output_type": "stream",
     "text": [
      "100%|██████████| 2/2 [00:00<00:00, 16.35it/s]\n"
     ]
    },
    {
     "name": "stdout",
     "output_type": "stream",
     "text": [
      "Output:\n",
      " f1_h=0.52592\tprec_h=0.55632\trec_h=0.49867\n",
      "[62, 20] loss: 1674.884\n"
     ]
    },
    {
     "name": "stderr",
     "output_type": "stream",
     "text": [
      "100%|██████████| 2/2 [00:00<00:00, 16.45it/s]\n"
     ]
    },
    {
     "name": "stdout",
     "output_type": "stream",
     "text": [
      "Output:\n",
      " f1_h=0.55185\tprec_h=0.50515\trec_h=0.60806\n",
      "[63, 20] loss: 1671.549\n"
     ]
    },
    {
     "name": "stderr",
     "output_type": "stream",
     "text": [
      "100%|██████████| 2/2 [00:00<00:00, 16.56it/s]\n"
     ]
    },
    {
     "name": "stdout",
     "output_type": "stream",
     "text": [
      "Output:\n",
      " f1_h=0.51659\tprec_h=0.56033\trec_h=0.47919\n",
      "[64, 20] loss: 1613.896\n"
     ]
    },
    {
     "name": "stderr",
     "output_type": "stream",
     "text": [
      "100%|██████████| 2/2 [00:00<00:00, 16.41it/s]\n"
     ]
    },
    {
     "name": "stdout",
     "output_type": "stream",
     "text": [
      "Output:\n",
      " f1_h=0.55532\tprec_h=0.53440\trec_h=0.57795\n",
      "[65, 20] loss: 1627.136\n"
     ]
    },
    {
     "name": "stderr",
     "output_type": "stream",
     "text": [
      "100%|██████████| 2/2 [00:00<00:00, 16.38it/s]\n"
     ]
    },
    {
     "name": "stdout",
     "output_type": "stream",
     "text": [
      "Output:\n",
      " f1_h=0.52936\tprec_h=0.55368\trec_h=0.50709\n",
      "[66, 20] loss: 1625.361\n"
     ]
    },
    {
     "name": "stderr",
     "output_type": "stream",
     "text": [
      "100%|██████████| 2/2 [00:00<00:00, 16.56it/s]\n"
     ]
    },
    {
     "name": "stdout",
     "output_type": "stream",
     "text": [
      "Output:\n",
      " f1_h=0.53776\tprec_h=0.51740\trec_h=0.55979\n",
      "[67, 20] loss: 1607.981\n"
     ]
    },
    {
     "name": "stderr",
     "output_type": "stream",
     "text": [
      "100%|██████████| 2/2 [00:00<00:00, 14.92it/s]\n"
     ]
    },
    {
     "name": "stdout",
     "output_type": "stream",
     "text": [
      "Output:\n",
      " f1_h=0.52404\tprec_h=0.55105\trec_h=0.49956\n",
      "[68, 20] loss: 1573.503\n"
     ]
    },
    {
     "name": "stderr",
     "output_type": "stream",
     "text": [
      "100%|██████████| 2/2 [00:00<00:00, 16.30it/s]\n"
     ]
    },
    {
     "name": "stdout",
     "output_type": "stream",
     "text": [
      "Output:\n",
      " f1_h=0.54100\tprec_h=0.54902\trec_h=0.53322\n",
      "[69, 20] loss: 1590.811\n"
     ]
    },
    {
     "name": "stderr",
     "output_type": "stream",
     "text": [
      "100%|██████████| 2/2 [00:00<00:00, 16.08it/s]\n"
     ]
    },
    {
     "name": "stdout",
     "output_type": "stream",
     "text": [
      "Output:\n",
      " f1_h=0.51841\tprec_h=0.58150\trec_h=0.46767\n",
      "[70, 20] loss: 1588.467\n"
     ]
    },
    {
     "name": "stderr",
     "output_type": "stream",
     "text": [
      "100%|██████████| 2/2 [00:00<00:00, 16.22it/s]\n"
     ]
    },
    {
     "name": "stdout",
     "output_type": "stream",
     "text": [
      "Output:\n",
      " f1_h=0.52148\tprec_h=0.50626\trec_h=0.53764\n",
      "[71, 20] loss: 1593.084\n"
     ]
    },
    {
     "name": "stderr",
     "output_type": "stream",
     "text": [
      "100%|██████████| 2/2 [00:00<00:00, 16.40it/s]\n"
     ]
    },
    {
     "name": "stdout",
     "output_type": "stream",
     "text": [
      "Output:\n",
      " f1_h=0.55410\tprec_h=0.55374\trec_h=0.55447\n",
      "[72, 20] loss: 1539.544\n"
     ]
    },
    {
     "name": "stderr",
     "output_type": "stream",
     "text": [
      "100%|██████████| 2/2 [00:00<00:00, 16.29it/s]\n"
     ]
    },
    {
     "name": "stdout",
     "output_type": "stream",
     "text": [
      "Output:\n",
      " f1_h=0.51691\tprec_h=0.55928\trec_h=0.48051\n",
      "[73, 20] loss: 1544.549\n"
     ]
    },
    {
     "name": "stderr",
     "output_type": "stream",
     "text": [
      "100%|██████████| 2/2 [00:00<00:00, 16.49it/s]\n"
     ]
    },
    {
     "name": "stdout",
     "output_type": "stream",
     "text": [
      "Output:\n",
      " f1_h=0.55416\tprec_h=0.52674\trec_h=0.58459\n",
      "[74, 20] loss: 1560.376\n"
     ]
    },
    {
     "name": "stderr",
     "output_type": "stream",
     "text": [
      "100%|██████████| 2/2 [00:00<00:00, 15.96it/s]\n"
     ]
    },
    {
     "name": "stdout",
     "output_type": "stream",
     "text": [
      "Output:\n",
      " f1_h=0.52454\tprec_h=0.56457\trec_h=0.48981\n",
      "[75, 20] loss: 1542.690\n"
     ]
    },
    {
     "name": "stderr",
     "output_type": "stream",
     "text": [
      "100%|██████████| 2/2 [00:00<00:00, 15.66it/s]\n"
     ]
    },
    {
     "name": "stdout",
     "output_type": "stream",
     "text": [
      "Output:\n",
      " f1_h=0.54249\tprec_h=0.52011\trec_h=0.56687\n",
      "[76, 20] loss: 1562.019\n"
     ]
    },
    {
     "name": "stderr",
     "output_type": "stream",
     "text": [
      "100%|██████████| 2/2 [00:00<00:00, 16.34it/s]\n"
     ]
    },
    {
     "name": "stdout",
     "output_type": "stream",
     "text": [
      "Output:\n",
      " f1_h=0.54346\tprec_h=0.56047\trec_h=0.52746\n",
      "[77, 20] loss: 1527.017\n"
     ]
    },
    {
     "name": "stderr",
     "output_type": "stream",
     "text": [
      "100%|██████████| 2/2 [00:00<00:00, 16.20it/s]\n"
     ]
    },
    {
     "name": "stdout",
     "output_type": "stream",
     "text": [
      "Output:\n",
      " f1_h=0.55581\tprec_h=0.52028\trec_h=0.59655\n",
      "[78, 20] loss: 1541.039\n"
     ]
    },
    {
     "name": "stderr",
     "output_type": "stream",
     "text": [
      "100%|██████████| 2/2 [00:00<00:00, 16.30it/s]\n"
     ]
    },
    {
     "name": "stdout",
     "output_type": "stream",
     "text": [
      "Output:\n",
      " f1_h=0.53649\tprec_h=0.53102\trec_h=0.54207\n",
      "[79, 20] loss: 1490.422\n"
     ]
    },
    {
     "name": "stderr",
     "output_type": "stream",
     "text": [
      "100%|██████████| 2/2 [00:00<00:00, 15.99it/s]\n"
     ]
    },
    {
     "name": "stdout",
     "output_type": "stream",
     "text": [
      "Output:\n",
      " f1_h=0.50542\tprec_h=0.57008\trec_h=0.45394\n",
      "[80, 20] loss: 1493.900\n"
     ]
    },
    {
     "name": "stderr",
     "output_type": "stream",
     "text": [
      "100%|██████████| 2/2 [00:00<00:00, 16.20it/s]\n"
     ]
    },
    {
     "name": "stdout",
     "output_type": "stream",
     "text": [
      "Output:\n",
      " f1_h=0.54205\tprec_h=0.51139\trec_h=0.57662\n",
      "[81, 20] loss: 1458.962\n"
     ]
    },
    {
     "name": "stderr",
     "output_type": "stream",
     "text": [
      "100%|██████████| 2/2 [00:00<00:00, 16.29it/s]\n"
     ]
    },
    {
     "name": "stdout",
     "output_type": "stream",
     "text": [
      "Output:\n",
      " f1_h=0.53985\tprec_h=0.52559\trec_h=0.55492\n",
      "[82, 20] loss: 1482.395\n"
     ]
    },
    {
     "name": "stderr",
     "output_type": "stream",
     "text": [
      "100%|██████████| 2/2 [00:00<00:00, 16.24it/s]\n"
     ]
    },
    {
     "name": "stdout",
     "output_type": "stream",
     "text": [
      "Output:\n",
      " f1_h=0.53927\tprec_h=0.52449\trec_h=0.55492\n",
      "[83, 20] loss: 1442.866\n"
     ]
    },
    {
     "name": "stderr",
     "output_type": "stream",
     "text": [
      "100%|██████████| 2/2 [00:00<00:00, 16.30it/s]\n"
     ]
    },
    {
     "name": "stdout",
     "output_type": "stream",
     "text": [
      "Output:\n",
      " f1_h=0.52452\tprec_h=0.54628\trec_h=0.50443\n",
      "[84, 20] loss: 1423.350\n"
     ]
    },
    {
     "name": "stderr",
     "output_type": "stream",
     "text": [
      "100%|██████████| 2/2 [00:00<00:00, 16.32it/s]\n"
     ]
    },
    {
     "name": "stdout",
     "output_type": "stream",
     "text": [
      "Output:\n",
      " f1_h=0.53286\tprec_h=0.53608\trec_h=0.52967\n",
      "[85, 20] loss: 1429.754\n"
     ]
    },
    {
     "name": "stderr",
     "output_type": "stream",
     "text": [
      "100%|██████████| 2/2 [00:00<00:00, 16.04it/s]\n"
     ]
    },
    {
     "name": "stdout",
     "output_type": "stream",
     "text": [
      "Output:\n",
      " f1_h=0.53318\tprec_h=0.54762\trec_h=0.51949\n",
      "[86, 20] loss: 1397.815\n"
     ]
    },
    {
     "name": "stderr",
     "output_type": "stream",
     "text": [
      "100%|██████████| 2/2 [00:00<00:00, 15.96it/s]\n"
     ]
    },
    {
     "name": "stdout",
     "output_type": "stream",
     "text": [
      "Output:\n",
      " f1_h=0.54089\tprec_h=0.54282\trec_h=0.53897\n",
      "[87, 20] loss: 1413.906\n"
     ]
    },
    {
     "name": "stderr",
     "output_type": "stream",
     "text": [
      "100%|██████████| 2/2 [00:00<00:00, 15.67it/s]\n"
     ]
    },
    {
     "name": "stdout",
     "output_type": "stream",
     "text": [
      "Output:\n",
      " f1_h=0.50345\tprec_h=0.56856\trec_h=0.45173\n",
      "[88, 20] loss: 1441.654\n"
     ]
    },
    {
     "name": "stderr",
     "output_type": "stream",
     "text": [
      "100%|██████████| 2/2 [00:00<00:00, 16.01it/s]\n"
     ]
    },
    {
     "name": "stdout",
     "output_type": "stream",
     "text": [
      "Output:\n",
      " f1_h=0.53893\tprec_h=0.54616\trec_h=0.53189\n",
      "[89, 20] loss: 1389.432\n"
     ]
    },
    {
     "name": "stderr",
     "output_type": "stream",
     "text": [
      "100%|██████████| 2/2 [00:00<00:00, 15.97it/s]\n"
     ]
    },
    {
     "name": "stdout",
     "output_type": "stream",
     "text": [
      "Output:\n",
      " f1_h=0.53705\tprec_h=0.54140\trec_h=0.53277\n",
      "[90, 20] loss: 1391.930\n"
     ]
    },
    {
     "name": "stderr",
     "output_type": "stream",
     "text": [
      "100%|██████████| 2/2 [00:00<00:00, 15.90it/s]\n"
     ]
    },
    {
     "name": "stdout",
     "output_type": "stream",
     "text": [
      "Output:\n",
      " f1_h=0.54607\tprec_h=0.52675\trec_h=0.56687\n",
      "[91, 20] loss: 1380.029\n"
     ]
    },
    {
     "name": "stderr",
     "output_type": "stream",
     "text": [
      "100%|██████████| 2/2 [00:00<00:00, 16.32it/s]\n"
     ]
    },
    {
     "name": "stdout",
     "output_type": "stream",
     "text": [
      "Output:\n",
      " f1_h=0.53937\tprec_h=0.53284\trec_h=0.54606\n",
      "[92, 20] loss: 1378.125\n"
     ]
    },
    {
     "name": "stderr",
     "output_type": "stream",
     "text": [
      "100%|██████████| 2/2 [00:00<00:00, 16.07it/s]\n"
     ]
    },
    {
     "name": "stdout",
     "output_type": "stream",
     "text": [
      "Output:\n",
      " f1_h=0.52558\tprec_h=0.53750\trec_h=0.51417\n",
      "[93, 20] loss: 1384.092\n"
     ]
    },
    {
     "name": "stderr",
     "output_type": "stream",
     "text": [
      "100%|██████████| 2/2 [00:00<00:00, 16.23it/s]\n"
     ]
    },
    {
     "name": "stdout",
     "output_type": "stream",
     "text": [
      "Output:\n",
      " f1_h=0.52955\tprec_h=0.52944\trec_h=0.52967\n",
      "[94, 20] loss: 1336.486\n"
     ]
    },
    {
     "name": "stderr",
     "output_type": "stream",
     "text": [
      "100%|██████████| 2/2 [00:00<00:00, 15.79it/s]\n"
     ]
    },
    {
     "name": "stdout",
     "output_type": "stream",
     "text": [
      "Output:\n",
      " f1_h=0.53876\tprec_h=0.52712\trec_h=0.55093\n",
      "[95, 20] loss: 1361.782\n"
     ]
    },
    {
     "name": "stderr",
     "output_type": "stream",
     "text": [
      "100%|██████████| 2/2 [00:00<00:00, 15.88it/s]\n"
     ]
    },
    {
     "name": "stdout",
     "output_type": "stream",
     "text": [
      "Output:\n",
      " f1_h=0.54210\tprec_h=0.53692\trec_h=0.54739\n",
      "[96, 20] loss: 1348.853\n"
     ]
    },
    {
     "name": "stderr",
     "output_type": "stream",
     "text": [
      "100%|██████████| 2/2 [00:00<00:00, 16.16it/s]\n"
     ]
    },
    {
     "name": "stdout",
     "output_type": "stream",
     "text": [
      "Output:\n",
      " f1_h=0.53036\tprec_h=0.54511\trec_h=0.51639\n",
      "[97, 20] loss: 1316.197\n"
     ]
    },
    {
     "name": "stderr",
     "output_type": "stream",
     "text": [
      "100%|██████████| 2/2 [00:00<00:00, 14.50it/s]\n"
     ]
    },
    {
     "name": "stdout",
     "output_type": "stream",
     "text": [
      "Output:\n",
      " f1_h=0.53313\tprec_h=0.51224\trec_h=0.55580\n",
      "[98, 20] loss: 1345.953\n"
     ]
    },
    {
     "name": "stderr",
     "output_type": "stream",
     "text": [
      "100%|██████████| 2/2 [00:00<00:00, 15.52it/s]\n"
     ]
    },
    {
     "name": "stdout",
     "output_type": "stream",
     "text": [
      "Output:\n",
      " f1_h=0.51372\tprec_h=0.52624\trec_h=0.50177\n",
      "[99, 20] loss: 1299.464\n"
     ]
    },
    {
     "name": "stderr",
     "output_type": "stream",
     "text": [
      "100%|██████████| 2/2 [00:00<00:00, 16.37it/s]\n"
     ]
    },
    {
     "name": "stdout",
     "output_type": "stream",
     "text": [
      "Output:\n",
      " f1_h=0.53163\tprec_h=0.53679\trec_h=0.52657\n",
      "[100, 20] loss: 1265.277\n"
     ]
    },
    {
     "name": "stderr",
     "output_type": "stream",
     "text": [
      "100%|██████████| 2/2 [00:00<00:00, 16.02it/s]\n"
     ]
    },
    {
     "name": "stdout",
     "output_type": "stream",
     "text": [
      "Output:\n",
      " f1_h=0.52133\tprec_h=0.52053\trec_h=0.52214\n",
      "\n",
      "best validation loss occurred in epoch 28 \n"
     ]
    }
   ],
   "source": [
    "from tqdm import tqdm\n",
    "import json\n",
    "import subprocess\n",
    "\n",
    "optimizer = torch.optim.Adam(model.parameters(), lr=0.0004306099142228309, betas=(0.8923286832300139, 0.999))\n",
    "min_val_loss = float('inf')\n",
    "best_epoch = None\n",
    "\n",
    "train_loss_history = []\n",
    "val_loss_history = []\n",
    "\n",
    "for epoch in range(num_epochs):\n",
    "    model.train()\n",
    "    running_loss = 0.0\n",
    "    for batch_idx, batch in enumerate(train_dataloader):\n",
    "        # input_ids, masks, type_ids  = batch['input_ids'], batch['attention_mask'], batch['token_type_ids']\n",
    "        # encoded_inputs = batch['encoded_input']\n",
    "        # input_ids, masks = encoded_inputs['input_ids'], encoded_inputs['attention_mask'], \n",
    "        # type_ids = encoded_inputs['token_type_ids']\n",
    "        y_1, y_2, y_3 = batch['level_1_target'], batch['level_2_target'], batch['level_3_target']\n",
    "        y_4, y_5 = batch['level_4_target'], batch['level_5_target']\n",
    "        \n",
    "        # input_ids = input_ids.squeeze().to(device)\n",
    "        # masks = masks.squeeze().to(device)\n",
    "        # type_ids = type_ids.squeeze().to(device)\n",
    "        # encoded_inputs = encoded_inputs.to(device)\n",
    "        \n",
    "        # print(type(batch['text_features']))\n",
    "        \n",
    "        embeddings = batch['text_features']\n",
    "        embeddings = embeddings.to(device)\n",
    "        y_1, y_2, y_3, y_4, y_5 = y_1.to(device), y_2.to(device), y_3.to(device), y_4.to(device), y_5.to(device)\n",
    "        \n",
    "        \n",
    "        optimizer.zero_grad()\n",
    "        pred_1, pred_2, pred_3, pred_4, pred_5 = model(embeddings)\n",
    "        # loss_ = loss(pred_1, y_1) + loss(pred_2, y_2) + loss(pred_3, y_3) + loss(pred_4, y_4) + loss(pred_5, y_5)\n",
    "        \n",
    "        dloss = HL.calculate_dloss([pred_1, pred_2, pred_3, pred_4, pred_5], [y_1, y_2, y_3, y_4, y_5])\n",
    "        lloss = HL.calculate_lloss([pred_1, pred_2, pred_3, pred_4, pred_5], [y_1, y_2, y_3, y_4, y_5])\n",
    "\n",
    "        total_loss = lloss + dloss\n",
    "        # loss_.backward()\n",
    "        \n",
    "        total_loss.backward()\n",
    "        optimizer.step()\n",
    "        \n",
    "        running_loss += total_loss.detach().item()\n",
    "        \n",
    "        if batch_idx % 20 == 19:\n",
    "            print(f\"[{epoch + 1}, {batch_idx + 1}] loss: {running_loss / 20:.3f}\")\n",
    "            running_loss = 0.0\n",
    "    \n",
    "    \n",
    "    \n",
    "    running_loss /= len(train_dataloader)\n",
    "    \n",
    "    val_pred_file_path = './Predictions/val_predictions_subtask1.json'\n",
    "    val_gold_file_path = './semeval2024_dev_release/subtask1/validation.json'\n",
    "    evaluator_script = './scorer-baseline/subtask_1_2a.py'\n",
    "    \n",
    "    validation_loss = evaluate_model(model, validation_dataloader, val_pred_file_path, \n",
    "                                     val_gold_file_path, evaluator_script,id2leaf_label,\n",
    "                                     validation=True)\n",
    "    \n",
    "    train_loss_history.append(running_loss)\n",
    "    val_loss_history.append(validation_loss)\n",
    "    \n",
    "    if validation_loss < min_val_loss:\n",
    "        min_val_loss = validation_loss\n",
    "        best_epoch = epoch\n",
    "        # torch.save(model.state_dict(), './models/best_subtask1_baseline.pth')\n",
    "\n",
    "print(f'best validation loss occurred in epoch {best_epoch} ')\n",
    "        "
   ],
   "metadata": {
    "collapsed": false,
    "ExecuteTime": {
     "end_time": "2024-05-07T03:38:48.356895Z",
     "start_time": "2024-05-07T03:33:01.753281Z"
    }
   },
   "id": "d5df83d5c933d40e",
   "execution_count": 10
  },
  {
   "cell_type": "markdown",
   "source": [
    "### Evaluation"
   ],
   "metadata": {
    "collapsed": false
   },
   "id": "451ffa2b1dd6efcb"
  },
  {
   "cell_type": "markdown",
   "source": [
    "#### Bulgarian"
   ],
   "metadata": {
    "collapsed": false
   },
   "id": "1e28d86721d601ea"
  },
  {
   "cell_type": "code",
   "outputs": [
    {
     "name": "stderr",
     "output_type": "stream",
     "text": [
      "100%|██████████| 7/7 [00:00<00:00, 168.21it/s]\n"
     ]
    },
    {
     "name": "stdout",
     "output_type": "stream",
     "text": [
      "Output:\n",
      " f1_h=0.40142\tprec_h=0.42295\trec_h=0.38197\n"
     ]
    }
   ],
   "source": [
    "from tqdm import tqdm\n",
    "import json\n",
    "import subprocess\n",
    "\n",
    "bulgarian_pred_file_path = './Predictions/bulgarian_predictions_subtask1.txt'\n",
    "bulgarian_gold_file_path = './test_labels_ar_bg_md_version2/test_subtask1_bg.json'\n",
    "evaluator_script = './scorer-baseline/subtask_1_2a.py'\n",
    "\n",
    "bg_test_data = process_test_json(bulgarian_gold_file_path)\n",
    "\n",
    "\n",
    "bg_test_dataset = TestDataSet(bg_test_data, './TextFeatures/subtask1a/mBERT/bg_test_text_features.pkl')\n",
    "bg_test_dataloader = DataLoader(bg_test_dataset, batch_size=64, shuffle=True)\n",
    "\n",
    "evaluate_model(model, bg_test_dataloader, bulgarian_pred_file_path, bulgarian_gold_file_path,\n",
    "               evaluator_script, id2leaf_label, validation=False, threshold=0.3)"
   ],
   "metadata": {
    "collapsed": false,
    "ExecuteTime": {
     "end_time": "2024-05-07T04:38:12.458148Z",
     "start_time": "2024-05-07T04:38:11.560376Z"
    }
   },
   "id": "4ea39e7341d42058",
   "execution_count": 11
  },
  {
   "cell_type": "markdown",
   "source": [
    "#### North Macedonian"
   ],
   "metadata": {
    "collapsed": false
   },
   "id": "6449d039338dd725"
  },
  {
   "cell_type": "code",
   "outputs": [
    {
     "name": "stderr",
     "output_type": "stream",
     "text": [
      "100%|██████████| 5/5 [00:00<00:00, 169.97it/s]\n"
     ]
    },
    {
     "name": "stdout",
     "output_type": "stream",
     "text": [
      "Output:\n",
      " f1_h=0.40495\tprec_h=0.49643\trec_h=0.34194\n"
     ]
    }
   ],
   "source": [
    "macedonian_pred_file_path = './Predictions/macedonian_predictions_subtask1.txt'\n",
    "macedonian_gold_file_path = './test_labels_ar_bg_md_version2/test_subtask1_md.json'\n",
    "\n",
    "md_test_data = process_test_json(macedonian_gold_file_path)\n",
    "\n",
    "md_test_dataset = TestDataSet(md_test_data, './TextFeatures/subtask1a/mBERT/md_test_text_features.pkl')\n",
    "md_test_dataloader = DataLoader(md_test_dataset, batch_size=64, shuffle=True)\n",
    "\n",
    "evaluate_model(model, md_test_dataloader, macedonian_pred_file_path, macedonian_gold_file_path,\n",
    "               evaluator_script, id2leaf_label, validation=False, threshold=0.3)"
   ],
   "metadata": {
    "collapsed": false,
    "ExecuteTime": {
     "end_time": "2024-05-07T04:38:15.995064Z",
     "start_time": "2024-05-07T04:38:15.249687Z"
    }
   },
   "id": "cc2bfd0a1c8c0be6",
   "execution_count": 12
  },
  {
   "cell_type": "markdown",
   "source": [
    "#### Arabian"
   ],
   "metadata": {
    "collapsed": false
   },
   "id": "d40e62c0b95c12c9"
  },
  {
   "cell_type": "code",
   "outputs": [
    {
     "name": "stderr",
     "output_type": "stream",
     "text": [
      "100%|██████████| 1/1 [00:00<00:00, 86.21it/s]\n"
     ]
    },
    {
     "name": "stdout",
     "output_type": "stream",
     "text": [
      "Output:\n",
      " f1_h=0.30508\tprec_h=0.38503\trec_h=0.25263\n"
     ]
    }
   ],
   "source": [
    "arabian_pred_file_path = './Predictions/arabian_predictions_subtask1.txt'\n",
    "arabian_gold_file_path = './test_labels_ar_bg_md_version2/test_subtask1_ar.json'\n",
    "\n",
    "ar_test_data = process_test_json(arabian_gold_file_path)\n",
    "\n",
    "ar_test_dataset = TestDataSet(ar_test_data, './TextFeatures/subtask1a/mBERT/ar_test_text_features.pkl')\n",
    "ar_test_dataloader = DataLoader(ar_test_dataset, batch_size=128, shuffle=True)\n",
    "\n",
    "evaluate_model(model, ar_test_dataloader, arabian_pred_file_path, arabian_gold_file_path, evaluator_script, \n",
    "               id2leaf_label, format=5, validation=False, threshold=0.3)"
   ],
   "metadata": {
    "collapsed": false,
    "ExecuteTime": {
     "end_time": "2024-05-07T04:38:19.183200Z",
     "start_time": "2024-05-07T04:38:18.360965Z"
    }
   },
   "id": "c9290f37d694f195",
   "execution_count": 13
  },
  {
   "cell_type": "markdown",
   "source": [
    "#### English"
   ],
   "metadata": {
    "collapsed": false
   },
   "id": "a48eeae07b80b484"
  },
  {
   "cell_type": "code",
   "outputs": [
    {
     "name": "stderr",
     "output_type": "stream",
     "text": [
      "100%|██████████| 94/94 [00:00<00:00, 176.52it/s]\n"
     ]
    }
   ],
   "source": [
    "en_pred_file_path = './Predictions/en_predictions_subtask1.txt'\n",
    "\n",
    "en_test_data = process_test_json('./test_data/english/en_subtask1_test_unlabeled.json')\n",
    "\n",
    "en_test_dataset = TestDataSet(en_test_data, './TextFeatures/subtask1a/mBERT/en_test_text_features.pkl')\n",
    "en_test_dataloader = DataLoader(en_test_dataset, batch_size=16, shuffle=True)\n",
    "\n",
    "evaluate_model(model, en_test_dataloader, en_pred_file_path, None, evaluator_script, id2leaf_label, validation=False)"
   ],
   "metadata": {
    "collapsed": false,
    "ExecuteTime": {
     "end_time": "2024-05-07T04:38:21.828534Z",
     "start_time": "2024-05-07T04:38:21.254805Z"
    }
   },
   "id": "38e92cd24285bce6",
   "execution_count": 14
  }
 ],
 "metadata": {
  "kernelspec": {
   "display_name": "Python 3",
   "language": "python",
   "name": "python3"
  },
  "language_info": {
   "codemirror_mode": {
    "name": "ipython",
    "version": 2
   },
   "file_extension": ".py",
   "mimetype": "text/x-python",
   "name": "python",
   "nbconvert_exporter": "python",
   "pygments_lexer": "ipython2",
   "version": "2.7.6"
  }
 },
 "nbformat": 4,
 "nbformat_minor": 5
}
