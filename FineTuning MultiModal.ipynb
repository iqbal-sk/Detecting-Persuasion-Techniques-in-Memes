{
 "cells": [
  {
   "cell_type": "code",
   "execution_count": 1,
   "id": "initial_id",
   "metadata": {
    "ExecuteTime": {
     "end_time": "2024-04-27T22:51:19.748098Z",
     "start_time": "2024-04-27T22:51:18.027907Z"
    }
   },
   "outputs": [],
   "source": [
    "import pandas as pd\n",
    "import matplotlib.pyplot as plt\n",
    "import numpy as np\n",
    "import torch\n",
    "from torch import nn\n",
    "import nltk\n",
    "from utils.utils import *\n",
    "from utils.label_decoding import *\n",
    "from utils.HierarchicalLoss import *\n",
    "\n",
    "import torchvision.models as models\n",
    "\n",
    "from tqdm import tqdm\n",
    "import json\n",
    "import subprocess\n",
    "from subtask_1_2a import *"
   ]
  },
  {
   "cell_type": "code",
   "execution_count": 2,
   "id": "1757e1e47358e1da",
   "metadata": {
    "ExecuteTime": {
     "end_time": "2024-04-27T22:51:19.753173Z",
     "start_time": "2024-04-27T22:51:19.748957Z"
    },
    "collapsed": false,
    "jupyter": {
     "outputs_hidden": false
    }
   },
   "outputs": [],
   "source": [
    "from torch.utils.data import Dataset\n",
    "import pickle\n",
    "\n",
    "class DataSet(Dataset):\n",
    "    def __init__(self, df, labels_at_level, text_features_file, image_features_file):\n",
    "        super(DataSet, self).__init__()\n",
    "        self.data_df = df\n",
    "        self.labels_at_level = labels_at_level\n",
    "        # self.tokenizer = tokenizer\n",
    "        #self.max_len = max_len\n",
    "        # self.image_folder = image_folder\n",
    "        self.image_features = None\n",
    "        self.text_features = None\n",
    "        \n",
    "        with open(image_features_file, 'rb') as f:\n",
    "          self.image_features = pickle.load(f)\n",
    "        \n",
    "        with open(text_features_file, 'rb') as f:\n",
    "            self.text_features = pickle.load(f)\n",
    "\n",
    "    def __len__(self):\n",
    "        return len(self.data_df)\n",
    "\n",
    "    def __getitem__(self, idx):\n",
    "        id = self.data_df.iloc[idx]['id']\n",
    "        text = self.data_df.iloc[idx]['cleaned_text']\n",
    "        image_name = self.data_df.iloc[idx]['image']\n",
    "        level_1_target = self.encode(self.data_df.iloc[idx]['Level 1'], 1)\n",
    "        level_2_target = self.encode(self.data_df.iloc[idx]['Level 2'], 2)\n",
    "        level_3_target = self.encode(self.data_df.iloc[idx]['Level 3'], 3)\n",
    "        level_4_target = self.encode(self.data_df.iloc[idx]['Level 4'], 4)\n",
    "        level_5_target = self.encode(self.data_df.iloc[idx]['Level 5'], 5)\n",
    "\n",
    "        # Tokenize text\n",
    "        # encoded_input = tokenizer(text, return_tensors='pt', add_special_tokens=True, \n",
    "        #                           max_length=self.max_len, truncation=True, padding='max_length')\n",
    "        # ids = inputs['input_ids']\n",
    "        # mask = inputs['attention_mask']\n",
    "        # token_type_ids = inputs[\"token_type_ids\"]\n",
    "        image_features = self.image_features[image_name]\n",
    "        text_features = self.text_features[id]\n",
    "\n",
    "        return {\n",
    "            'id': id,\n",
    "            'text': text,\n",
    "            # 'image': image,\n",
    "            'image_features': image_features,  \n",
    "            # 'input_ids': torch.tensor(ids, dtype=torch.long),\n",
    "            # 'attention_mask': torch.tensor(mask, dtype=torch.long),\n",
    "            # 'token_type_ids': torch.tensor(token_type_ids, dtype=torch.long),\n",
    "            'text_features': text_features,\n",
    "            'level_1_target': level_1_target,\n",
    "            'level_2_target': level_2_target,\n",
    "            'level_3_target': level_3_target,\n",
    "            'level_4_target': level_4_target,\n",
    "            'level_5_target': level_5_target\n",
    "        }\n",
    "\n",
    "    def encode(self, labels, level):\n",
    "        level_ = f'Level {level}'\n",
    "        target = torch.zeros(len(self.labels_at_level[level_]) + 1)\n",
    "        for label in labels:\n",
    "            label_idx = self.labels_at_level[level_][label]\n",
    "            target[label_idx] = 1\n",
    "        if len(labels) == 0:\n",
    "            target[-1] = 1\n",
    "        return target"
   ]
  },
  {
   "cell_type": "code",
   "execution_count": 3,
   "id": "dcc6f8ab40dee038",
   "metadata": {
    "ExecuteTime": {
     "end_time": "2024-04-27T22:51:19.756478Z",
     "start_time": "2024-04-27T22:51:19.753830Z"
    },
    "collapsed": false,
    "jupyter": {
     "outputs_hidden": false
    }
   },
   "outputs": [],
   "source": [
    "class TestDataSet(Dataset):\n",
    "    def __init__(self, df, text_features_file, image_features_file, max_len=128):\n",
    "        super(TestDataSet, self).__init__()\n",
    "        self.data_df = df\n",
    "        \n",
    "        self.image_features = None\n",
    "        self.text_features = None\n",
    "        self.max_len = max_len\n",
    "        # self.tokenizer = tokenizer\n",
    "        with open(image_features_file, 'rb') as f:\n",
    "            self.image_features = pickle.load(f)\n",
    "            \n",
    "        with open(text_features_file, 'rb') as f:\n",
    "            self.text_features = pickle.load(f)\n",
    "            \n",
    "    \n",
    "    def __len__(self):\n",
    "        return len(self.data_df)\n",
    "    \n",
    "    def __getitem__(self, idx):\n",
    "        id = self.data_df.iloc[idx]['id']\n",
    "        text = self.data_df.iloc[idx]['cleaned_text']\n",
    "        image_name = self.data_df.iloc[idx]['image']\n",
    "        # encoded_input = self.tokenizer(text, return_tensors='pt', add_special_tokens=True, \n",
    "        #                           max_length=self.max_len, truncation=True, padding='max_length')\n",
    "        text_features = self.text_features[id]\n",
    "        \n",
    "        return {'id': id,\n",
    "                'text': text,\n",
    "                'text_features': text_features,\n",
    "                'image_features': self.image_features[image_name] }"
   ]
  },
  {
   "cell_type": "code",
   "execution_count": 4,
   "id": "32dfb3e0f679e988",
   "metadata": {
    "ExecuteTime": {
     "end_time": "2024-04-27T22:51:20.041235Z",
     "start_time": "2024-04-27T22:51:20.037754Z"
    },
    "collapsed": false,
    "jupyter": {
     "outputs_hidden": false
    }
   },
   "outputs": [],
   "source": [
    "from modules.nn.MultiModal import MultiModalBaseline"
   ]
  },
  {
   "cell_type": "code",
   "execution_count": 14,
   "id": "adb76f8d9e3a62bd",
   "metadata": {
    "ExecuteTime": {
     "end_time": "2024-04-27T23:34:06.775757Z",
     "start_time": "2024-04-27T23:34:06.770648Z"
    },
    "collapsed": false,
    "jupyter": {
     "outputs_hidden": false
    }
   },
   "outputs": [],
   "source": [
    "def evaluate_model(model, dataloader, pred_file_path, gold_file_path, \n",
    "                   evaluator_script_path, id2leaf_label, format=None, validation=False, threshold=0.3):\n",
    "    model.eval()\n",
    "    predictions = []\n",
    "    \n",
    "    HL = HierarchicalLoss(id2label=id2label_subtask_2a, hierarchical_labels=hierarchy_subtask_2a,\n",
    "                        persuasion_techniques=persuasion_techniques_2a, device=device)\n",
    "\n",
    "    total_loss = 0\n",
    "    \n",
    "    \n",
    "    with torch.no_grad():\n",
    "        \n",
    "        for batch in dataloader:\n",
    "            if not isinstance(batch['id'], list):\n",
    "                ids = batch['id'].detach().numpy().tolist()\n",
    "            else:\n",
    "                ids = batch['id']\n",
    "            # encoded_inputs = batch['encoded_input']\n",
    "            # \n",
    "            # input_ids, masks = encoded_inputs['input_ids'], encoded_inputs['attention_mask']\n",
    "            # type_ids = encoded_inputs['token_type_ids']\n",
    "            \n",
    "            \n",
    "            # input_ids = input_ids.squeeze().to(device)\n",
    "            # masks = masks.squeeze().to(device)\n",
    "            # type_ids = type_ids.squeeze().to(device)\n",
    "        \n",
    "            text_features = batch['text_features']\n",
    "            image_features = batch['image_features']\n",
    "            \n",
    "            text_features = text_features.to(device)\n",
    "            image_features = image_features.to(device)\n",
    "            \n",
    "            pred_1, pred_2, pred_3, pred_4, pred_5 = model(text_features,image_features)\n",
    "            \n",
    "            if validation:\n",
    "                y_1, y_2, y_3 = batch['level_1_target'], batch['level_2_target'], batch['level_3_target']\n",
    "                y_4, y_5 = batch['level_4_target'], batch['level_5_target']\n",
    "                \n",
    "                y_1, y_2, y_3, y_4, y_5 = y_1.to(device), y_2.to(device), y_3.to(device), y_4.to(device), y_5.to(device)\n",
    "                \n",
    "                dloss = HL.calculate_dloss([pred_1, pred_2, pred_3, pred_4, pred_5], [y_1, y_2, y_3, y_4, y_5])\n",
    "                lloss = HL.calculate_lloss([pred_1, pred_2, pred_3, pred_4, pred_5], [y_1, y_2, y_3, y_4, y_5])\n",
    "                \n",
    "                total_loss += (dloss + lloss).detach().cpu().item()\n",
    "                \n",
    "            pred_3 = (pred_3.cpu().detach().numpy() > threshold).astype(int)\n",
    "            pred_4 = (pred_4.cpu().detach().numpy() > threshold).astype(int)\n",
    "            pred_5 = (pred_5.cpu().detach().numpy() > threshold).astype(int)\n",
    "            \n",
    "            predictions += get_labels(id2leaf_label, ids, pred_3, pred_4, pred_5, format)\n",
    "\n",
    "        # Writing JSON data\n",
    "        with open(pred_file_path, 'w') as f:\n",
    "            json.dump(predictions, f, indent=4)\n",
    "        \n",
    "        if gold_file_path is None:\n",
    "            return\n",
    "            \n",
    "        prec_h, rec_h, f1_h = evaluate_h(pred_file_path, gold_file_path)\n",
    "        print(\"f1_h={:.5f}\\tprec_h={:.5f}\\trec_h={:.5f}\".format(f1_h, prec_h, rec_h))\n",
    "        if validation:\n",
    "            return prec_h, rec_h, f1_h, total_loss / (len(dataloader))\n",
    "    "
   ]
  },
  {
   "cell_type": "code",
   "execution_count": 6,
   "id": "c6480b33f19a6eff",
   "metadata": {
    "ExecuteTime": {
     "end_time": "2024-04-27T22:51:21.754104Z",
     "start_time": "2024-04-27T22:51:21.206585Z"
    },
    "collapsed": false,
    "jupyter": {
     "outputs_hidden": false
    }
   },
   "outputs": [],
   "source": [
    "from torch.utils.data import DataLoader\n",
    "\n",
    "train_data = process_json('./semeval2024_dev_release/subtask2a/train.json', \n",
    "                          techniques_to_level_2a, hierarchy_subtask_2a)\n",
    "# val_data = \n",
    "test_data = process_json('./semeval2024_dev_release/subtask2a/validation.json',\n",
    "                         techniques_to_level_2a, hierarchy_subtask_2a)\n",
    "\n",
    "training_dataset = DataSet(train_data, indexed_persuasion_techniques_2a, \n",
    "                           text_features_file='./TextFeatures/subtask2a/mBERT/train_text_features.pkl',\n",
    "                           image_features_file='./ImageFeatures/ResNet/train_images_features.pkl')\n",
    "test_dataset = DataSet(test_data, indexed_persuasion_techniques_2a, \n",
    "                       text_features_file='./TextFeatures/subtask2a/mBERT/validation_text_features.pkl', \n",
    "                       image_features_file='./ImageFeatures/ResNet/validation_images_features.pkl')"
   ]
  },
  {
   "cell_type": "code",
   "execution_count": 7,
   "id": "16f63badca9edd10",
   "metadata": {
    "ExecuteTime": {
     "end_time": "2024-04-27T22:51:22.285534Z",
     "start_time": "2024-04-27T22:51:22.265630Z"
    },
    "collapsed": false,
    "jupyter": {
     "outputs_hidden": false
    }
   },
   "outputs": [
    {
     "name": "stdout",
     "output_type": "stream",
     "text": [
      "Using MPS\n"
     ]
    }
   ],
   "source": [
    "device = get_device()\n",
    "\n",
    "device = torch.device('cpu')"
   ]
  },
  {
   "cell_type": "code",
   "execution_count": 8,
   "id": "b44a75926da4f6e3",
   "metadata": {
    "ExecuteTime": {
     "end_time": "2024-04-27T22:51:25.576903Z",
     "start_time": "2024-04-27T22:51:22.926371Z"
    },
    "collapsed": false,
    "jupyter": {
     "outputs_hidden": false
    }
   },
   "outputs": [
    {
     "name": "stderr",
     "output_type": "stream",
     "text": [
      "\u001b[34m\u001b[1mwandb\u001b[0m: Currently logged in as: \u001b[33miqbal_shaik\u001b[0m (\u001b[33mphoenix_nlp\u001b[0m). Use \u001b[1m`wandb login --relogin`\u001b[0m to force relogin\n"
     ]
    },
    {
     "name": "stdout",
     "output_type": "stream",
     "text": [
      "Create sweep with ID: mr8ih6s1\n",
      "Sweep URL: https://wandb.ai/phoenix_nlp/FineTuning-MultiModal-mBERT-ResNet/sweeps/mr8ih6s1\n"
     ]
    }
   ],
   "source": [
    "import wandb\n",
    "\n",
    "# Initialize WandB and log in to your account\n",
    "wandb.login()\n",
    "\n",
    "sweep_config = {\n",
    "    'method': 'bayes',  # Using Bayesian optimization\n",
    "    'metric': {\n",
    "        'name': 'val_loss',\n",
    "        'goal': 'minimize'\n",
    "    },\n",
    "    'parameters': {\n",
    "        'learning_rate': {\n",
    "            'min': 1e-5,\n",
    "            'max': 1e-4\n",
    "        },\n",
    "        'batch_size': {\n",
    "            'values': [128, 256]\n",
    "        },\n",
    "        'optimizer': {\n",
    "            'values': ['adam']\n",
    "        },\n",
    "        'beta1': {  # Relevant for Adam\n",
    "            'min': 0.8,\n",
    "            'max': 0.95\n",
    "        },\n",
    "        # 'momentum': {  # Relevant for SGD\n",
    "        #     'min': 0.8,\n",
    "        #     'max': 0.99\n",
    "        # }\n",
    "        'alpha': {\n",
    "            'min': 0.65,\n",
    "            'max': 1.0\n",
    "        },\n",
    "        'beta': {\n",
    "            'min': 0.5,\n",
    "            'max': 1.0\n",
    "        },\n",
    "        'threshold':{\n",
    "            'min': 0.65,\n",
    "            'max': 0.9\n",
    "            }\n",
    "        \n",
    "    }\n",
    "}\n",
    "\n",
    "sweep_id = wandb.sweep(sweep_config, project=\"FineTuning-MultiModal-mBERT-ResNet\")\n",
    "# sweep_id = '44uz6ydx'"
   ]
  },
  {
   "cell_type": "code",
   "execution_count": 9,
   "id": "9f7f2d6769c8d7bf",
   "metadata": {
    "ExecuteTime": {
     "end_time": "2024-04-27T22:51:26.424192Z",
     "start_time": "2024-04-27T22:51:26.421517Z"
    },
    "collapsed": false,
    "jupyter": {
     "outputs_hidden": false
    }
   },
   "outputs": [],
   "source": [
    "models_dir = './models/subtask2a/MultiModal-mBERT-ResNet/'\n",
    "num_epochs = 100"
   ]
  },
  {
   "cell_type": "code",
   "execution_count": 10,
   "id": "f23511341846e972",
   "metadata": {
    "ExecuteTime": {
     "end_time": "2024-04-27T22:51:27.350474Z",
     "start_time": "2024-04-27T22:51:27.341615Z"
    },
    "collapsed": false,
    "jupyter": {
     "outputs_hidden": false
    }
   },
   "outputs": [],
   "source": [
    "def train():\n",
    "    wandb.init()\n",
    "\n",
    "    # Use WandB configurations\n",
    "    config = wandb.config\n",
    "    batch_size = config.batch_size\n",
    "    learning_rate = config.learning_rate\n",
    "    \n",
    "    train_dataloader = DataLoader(training_dataset, batch_size=batch_size, shuffle=True)\n",
    "    test_dataloader = DataLoader(test_dataset, batch_size=batch_size, shuffle=True)\n",
    "    \n",
    "    # change according to model that is fine-tuning \n",
    "    model = MultiModalBaseline(img_feature_size=2048, text_feature_size=768)\n",
    "    model.to(device)\n",
    "    \n",
    "    optimizer = None\n",
    "    \n",
    "    if config.optimizer == 'adam':\n",
    "        optimizer = torch.optim.Adam(\n",
    "            model.parameters(),\n",
    "            lr=learning_rate,\n",
    "            betas=(config.beta1, 0.999)\n",
    "        )\n",
    "    elif config.optimizer == 'sgd':\n",
    "        optimizer = torch.optim.SGD(\n",
    "            model.parameters(),\n",
    "            lr=learning_rate,\n",
    "            momentum=config.momentum\n",
    "        )\n",
    "        \n",
    "    HL = HierarchicalLoss(id2label=id2label_subtask_2a, hierarchical_labels=hierarchy_subtask_2a,\n",
    "                        persuasion_techniques=persuasion_techniques_2a, device=device, \n",
    "                          alpha=config.alpha, beta=config.beta, threshold=config.threshold)\n",
    "    \n",
    "    \n",
    "    \n",
    "    for epoch in range(num_epochs):\n",
    "        model.train()\n",
    "        running_loss = 0.0\n",
    "        for batch_idx, batch in enumerate(train_dataloader):\n",
    "            \n",
    "            y_1, y_2, y_3 = batch['level_1_target'], batch['level_2_target'], batch['level_3_target']\n",
    "            y_4, y_5 = batch['level_4_target'], batch['level_5_target']\n",
    "            \n",
    "            # encoded_inputs = batch['encoded_input']\n",
    "            images_features = batch['image_features']\n",
    "            text_features = batch['text_features']\n",
    "                \n",
    "            # input_ids, masks = encoded_inputs['input_ids'], encoded_inputs['attention_mask']\n",
    "            # type_ids = encoded_inputs['token_type_ids']\n",
    "            \n",
    "            # input_ids = input_ids.squeeze().to(device)\n",
    "            # masks = masks.squeeze().to(device)\n",
    "            # type_ids = type_ids.squeeze().to(device)\n",
    "            \n",
    "            y_1, y_2, y_3, y_4, y_5 = y_1.to(device), y_2.to(device), y_3.to(device), y_4.to(device), y_5.to(device)\n",
    "            \n",
    "            images_features = images_features.to(device)\n",
    "            text_features = text_features.to(device)\n",
    "            \n",
    "            \n",
    "            optimizer.zero_grad()\n",
    "            pred_1, pred_2, pred_3, pred_4, pred_5 = model(text_features, images_features)\n",
    "            # loss_ = loss(pred_1, y_1) + loss(pred_2, y_2) + loss(pred_3, y_3) + loss(pred_4, y_4) + loss(pred_5, y_5)\n",
    "            \n",
    "            dloss = HL.calculate_dloss([pred_1, pred_2, pred_3, pred_4, pred_5], [y_1, y_2, y_3, y_4, y_5])\n",
    "            lloss = HL.calculate_lloss([pred_1, pred_2, pred_3, pred_4, pred_5], [y_1, y_2, y_3, y_4, y_5])\n",
    "    \n",
    "            total_loss = lloss + dloss\n",
    "            # loss_.backward()\n",
    "            \n",
    "            total_loss.backward()\n",
    "            optimizer.step()\n",
    "            \n",
    "            running_loss += total_loss.detach().item()\n",
    "            \n",
    "            # if batch_idx % 20 == 19:\n",
    "            #     print(f\"[{epoch + 1}, {batch_idx + 1}] loss: {running_loss / 20:.3f}\")\n",
    "            #     running_loss = 0.0\n",
    "                \n",
    "        running_loss /= len(train_dataloader)\n",
    "        \n",
    "        val_pred_file_path = './Predictions/val_predictions_subtask2a.json'\n",
    "        val_gold_file_path = './semeval2024_dev_release/subtask2a/validation.json'\n",
    "        evaluator_script = './scorer-baseline/subtask_1_2a.py'\n",
    "        prec_h, rec_h, f1_h, validation_loss = evaluate_model(model, test_dataloader, val_pred_file_path, val_gold_file_path, evaluator_script,\n",
    "                       id2leaf_label_subtask_2a, validation=True)\n",
    "        \n",
    "        if epoch % 50 == 49:\n",
    "            print(f'[{epoch+1}/{num_epochs}]')\n",
    "            print(\"f1_h={:.5f}\\tprec_h={:.5f}\\trec_h={:.5f}\".format(f1_h, prec_h, rec_h))\n",
    "        \n",
    "        # Log training metrics\n",
    "        wandb.log({\"epoch\": epoch, \"train_loss\": running_loss})\n",
    "        wandb.log({\"val_loss\": validation_loss})\n",
    "        wandb.log({\"h_precision\": prec_h, \"h_recall\": rec_h, \"h_f1-score\":f1_h})\n",
    "        \n",
    "    \n",
    "    torch.save(model.state_dict(), f\"{models_dir}{wandb.run.name}.pth\")\n",
    "    wandb.join()\n",
    "    \n",
    "    "
   ]
  },
  {
   "cell_type": "code",
   "execution_count": 11,
   "id": "9de3bd4e79725578",
   "metadata": {
    "ExecuteTime": {
     "end_time": "2024-04-27T23:24:32.775203Z",
     "start_time": "2024-04-27T22:51:28.678093Z"
    },
    "collapsed": false,
    "jupyter": {
     "outputs_hidden": false
    }
   },
   "outputs": [
    {
     "name": "stderr",
     "output_type": "stream",
     "text": [
      "\u001b[34m\u001b[1mwandb\u001b[0m: Agent Starting Run: ht88rij5 with config:\n",
      "\u001b[34m\u001b[1mwandb\u001b[0m: \talpha: 0.935574211033404\n",
      "\u001b[34m\u001b[1mwandb\u001b[0m: \tbatch_size: 256\n",
      "\u001b[34m\u001b[1mwandb\u001b[0m: \tbeta: 0.8030505187968329\n",
      "\u001b[34m\u001b[1mwandb\u001b[0m: \tbeta1: 0.8329077941261983\n",
      "\u001b[34m\u001b[1mwandb\u001b[0m: \tlearning_rate: 4.9930601279458824e-05\n",
      "\u001b[34m\u001b[1mwandb\u001b[0m: \toptimizer: adam\n",
      "\u001b[34m\u001b[1mwandb\u001b[0m: \tthreshold: 0.8183396883000924\n"
     ]
    },
    {
     "data": {
      "text/html": [
       "Tracking run with wandb version 0.16.6"
      ],
      "text/plain": [
       "<IPython.core.display.HTML object>"
      ]
     },
     "metadata": {},
     "output_type": "display_data"
    },
    {
     "data": {
      "text/html": [
       "Run data is saved locally in <code>/Users/iqbal/Desktop/Python Assignments/Detecting-Persuasion-Techniques-in-Memes/wandb/run-20240427_185130-ht88rij5</code>"
      ],
      "text/plain": [
       "<IPython.core.display.HTML object>"
      ]
     },
     "metadata": {},
     "output_type": "display_data"
    },
    {
     "data": {
      "text/html": [
       "Syncing run <strong><a href='https://wandb.ai/phoenix_nlp/FineTuning-MultiModal-mBERT-ResNet/runs/ht88rij5' target=\"_blank\">good-sweep-1</a></strong> to <a href='https://wandb.ai/phoenix_nlp/FineTuning-MultiModal-mBERT-ResNet' target=\"_blank\">Weights & Biases</a> (<a href='https://wandb.me/run' target=\"_blank\">docs</a>)<br/>Sweep page: <a href='https://wandb.ai/phoenix_nlp/FineTuning-MultiModal-mBERT-ResNet/sweeps/mr8ih6s1' target=\"_blank\">https://wandb.ai/phoenix_nlp/FineTuning-MultiModal-mBERT-ResNet/sweeps/mr8ih6s1</a>"
      ],
      "text/plain": [
       "<IPython.core.display.HTML object>"
      ]
     },
     "metadata": {},
     "output_type": "display_data"
    },
    {
     "data": {
      "text/html": [
       " View project at <a href='https://wandb.ai/phoenix_nlp/FineTuning-MultiModal-mBERT-ResNet' target=\"_blank\">https://wandb.ai/phoenix_nlp/FineTuning-MultiModal-mBERT-ResNet</a>"
      ],
      "text/plain": [
       "<IPython.core.display.HTML object>"
      ]
     },
     "metadata": {},
     "output_type": "display_data"
    },
    {
     "data": {
      "text/html": [
       " View sweep at <a href='https://wandb.ai/phoenix_nlp/FineTuning-MultiModal-mBERT-ResNet/sweeps/mr8ih6s1' target=\"_blank\">https://wandb.ai/phoenix_nlp/FineTuning-MultiModal-mBERT-ResNet/sweeps/mr8ih6s1</a>"
      ],
      "text/plain": [
       "<IPython.core.display.HTML object>"
      ]
     },
     "metadata": {},
     "output_type": "display_data"
    },
    {
     "data": {
      "text/html": [
       " View run at <a href='https://wandb.ai/phoenix_nlp/FineTuning-MultiModal-mBERT-ResNet/runs/ht88rij5' target=\"_blank\">https://wandb.ai/phoenix_nlp/FineTuning-MultiModal-mBERT-ResNet/runs/ht88rij5</a>"
      ],
      "text/plain": [
       "<IPython.core.display.HTML object>"
      ]
     },
     "metadata": {},
     "output_type": "display_data"
    },
    {
     "name": "stdout",
     "output_type": "stream",
     "text": [
      "[50/100]\n",
      "f1_h=0.57550\tprec_h=0.62684\trec_h=0.53194\n",
      "[100/100]\n",
      "f1_h=0.55346\tprec_h=0.62473\trec_h=0.49679\n"
     ]
    },
    {
     "data": {
      "application/vnd.jupyter.widget-view+json": {
       "model_id": "8e7244a5fee74941b7614b43dd4b7a4a",
       "version_major": 2,
       "version_minor": 0
      },
      "text/plain": [
       "VBox(children=(Label(value='0.001 MB of 0.007 MB uploaded\\r'), FloatProgress(value=0.14508263343267408, max=1.…"
      ]
     },
     "metadata": {},
     "output_type": "display_data"
    },
    {
     "data": {
      "text/html": [
       "<style>\n",
       "    table.wandb td:nth-child(1) { padding: 0 10px; text-align: left ; width: auto;} td:nth-child(2) {text-align: left ; width: 100%}\n",
       "    .wandb-row { display: flex; flex-direction: row; flex-wrap: wrap; justify-content: flex-start; width: 100% }\n",
       "    .wandb-col { display: flex; flex-direction: column; flex-basis: 100%; flex: 1; padding: 10px; }\n",
       "    </style>\n",
       "<div class=\"wandb-row\"><div class=\"wandb-col\"><h3>Run history:</h3><br/><table class=\"wandb\"><tr><td>epoch</td><td>▁▁▁▁▂▂▂▂▂▃▃▃▃▃▃▄▄▄▄▄▅▅▅▅▅▅▆▆▆▆▆▇▇▇▇▇▇███</td></tr><tr><td>h_f1-score</td><td>▁▂▆▇▇█████▇██▇▇▇▇▆▇▇▇▇▆▆▆▆▆▆▆▆▆▆▆▆▆▆▆▆▆▆</td></tr><tr><td>h_precision</td><td>█▆▅▇▇▃▃▄▃▃▃▃▂▂▂▃▁▂▂▁▃▃▃▂▂▁▂▂▂▂▃▂▂▃▁▂▁▃▂▂</td></tr><tr><td>h_recall</td><td>▁▂▆▆▆█████▇██▇▇▇▇▇▇▇▇▇▆▆▆▇▆▆▆▆▆▆▆▆▆▆▆▅▆▆</td></tr><tr><td>train_loss</td><td>█▇▇▇▆▆▆▅▅▅▅▅▄▄▄▄▃▃▃▃▃▃▂▂▂▂▂▂▂▂▂▂▁▁▁▁▁▁▁▁</td></tr><tr><td>val_loss</td><td>▃▄▃▂▁▃▃▄▃▃▃▃▃▄▃▅▆▄▄▄▄▄▄▆▅▇▆▇▅▆▇▆▇▆███▇█▇</td></tr></table><br/></div><div class=\"wandb-col\"><h3>Run summary:</h3><br/><table class=\"wandb\"><tr><td>epoch</td><td>99</td></tr><tr><td>h_f1-score</td><td>0.55346</td></tr><tr><td>h_precision</td><td>0.62473</td></tr><tr><td>h_recall</td><td>0.49679</td></tr><tr><td>train_loss</td><td>182.02866</td></tr><tr><td>val_loss</td><td>2151.73346</td></tr></table><br/></div></div>"
      ],
      "text/plain": [
       "<IPython.core.display.HTML object>"
      ]
     },
     "metadata": {},
     "output_type": "display_data"
    },
    {
     "data": {
      "text/html": [
       " View run <strong style=\"color:#cdcd00\">good-sweep-1</strong> at: <a href='https://wandb.ai/phoenix_nlp/FineTuning-MultiModal-mBERT-ResNet/runs/ht88rij5' target=\"_blank\">https://wandb.ai/phoenix_nlp/FineTuning-MultiModal-mBERT-ResNet/runs/ht88rij5</a><br/> View project at: <a href='https://wandb.ai/phoenix_nlp/FineTuning-MultiModal-mBERT-ResNet' target=\"_blank\">https://wandb.ai/phoenix_nlp/FineTuning-MultiModal-mBERT-ResNet</a><br/>Synced 5 W&B file(s), 0 media file(s), 0 artifact file(s) and 0 other file(s)"
      ],
      "text/plain": [
       "<IPython.core.display.HTML object>"
      ]
     },
     "metadata": {},
     "output_type": "display_data"
    },
    {
     "data": {
      "text/html": [
       "Find logs at: <code>./wandb/run-20240427_185130-ht88rij5/logs</code>"
      ],
      "text/plain": [
       "<IPython.core.display.HTML object>"
      ]
     },
     "metadata": {},
     "output_type": "display_data"
    },
    {
     "name": "stderr",
     "output_type": "stream",
     "text": [
      "\u001b[34m\u001b[1mwandb\u001b[0m: Agent Starting Run: oo6zeb7y with config:\n",
      "\u001b[34m\u001b[1mwandb\u001b[0m: \talpha: 0.726389028551985\n",
      "\u001b[34m\u001b[1mwandb\u001b[0m: \tbatch_size: 128\n",
      "\u001b[34m\u001b[1mwandb\u001b[0m: \tbeta: 0.946233884918784\n",
      "\u001b[34m\u001b[1mwandb\u001b[0m: \tbeta1: 0.8612194943795504\n",
      "\u001b[34m\u001b[1mwandb\u001b[0m: \tlearning_rate: 4.0324893372644154e-05\n",
      "\u001b[34m\u001b[1mwandb\u001b[0m: \toptimizer: adam\n",
      "\u001b[34m\u001b[1mwandb\u001b[0m: \tthreshold: 0.8397630205881123\n"
     ]
    },
    {
     "data": {
      "text/html": [
       "Tracking run with wandb version 0.16.6"
      ],
      "text/plain": [
       "<IPython.core.display.HTML object>"
      ]
     },
     "metadata": {},
     "output_type": "display_data"
    },
    {
     "data": {
      "text/html": [
       "Run data is saved locally in <code>/Users/iqbal/Desktop/Python Assignments/Detecting-Persuasion-Techniques-in-Memes/wandb/run-20240427_190103-oo6zeb7y</code>"
      ],
      "text/plain": [
       "<IPython.core.display.HTML object>"
      ]
     },
     "metadata": {},
     "output_type": "display_data"
    },
    {
     "data": {
      "text/html": [
       "Syncing run <strong><a href='https://wandb.ai/phoenix_nlp/FineTuning-MultiModal-mBERT-ResNet/runs/oo6zeb7y' target=\"_blank\">morning-sweep-2</a></strong> to <a href='https://wandb.ai/phoenix_nlp/FineTuning-MultiModal-mBERT-ResNet' target=\"_blank\">Weights & Biases</a> (<a href='https://wandb.me/run' target=\"_blank\">docs</a>)<br/>Sweep page: <a href='https://wandb.ai/phoenix_nlp/FineTuning-MultiModal-mBERT-ResNet/sweeps/mr8ih6s1' target=\"_blank\">https://wandb.ai/phoenix_nlp/FineTuning-MultiModal-mBERT-ResNet/sweeps/mr8ih6s1</a>"
      ],
      "text/plain": [
       "<IPython.core.display.HTML object>"
      ]
     },
     "metadata": {},
     "output_type": "display_data"
    },
    {
     "data": {
      "text/html": [
       " View project at <a href='https://wandb.ai/phoenix_nlp/FineTuning-MultiModal-mBERT-ResNet' target=\"_blank\">https://wandb.ai/phoenix_nlp/FineTuning-MultiModal-mBERT-ResNet</a>"
      ],
      "text/plain": [
       "<IPython.core.display.HTML object>"
      ]
     },
     "metadata": {},
     "output_type": "display_data"
    },
    {
     "data": {
      "text/html": [
       " View sweep at <a href='https://wandb.ai/phoenix_nlp/FineTuning-MultiModal-mBERT-ResNet/sweeps/mr8ih6s1' target=\"_blank\">https://wandb.ai/phoenix_nlp/FineTuning-MultiModal-mBERT-ResNet/sweeps/mr8ih6s1</a>"
      ],
      "text/plain": [
       "<IPython.core.display.HTML object>"
      ]
     },
     "metadata": {},
     "output_type": "display_data"
    },
    {
     "data": {
      "text/html": [
       " View run at <a href='https://wandb.ai/phoenix_nlp/FineTuning-MultiModal-mBERT-ResNet/runs/oo6zeb7y' target=\"_blank\">https://wandb.ai/phoenix_nlp/FineTuning-MultiModal-mBERT-ResNet/runs/oo6zeb7y</a>"
      ],
      "text/plain": [
       "<IPython.core.display.HTML object>"
      ]
     },
     "metadata": {},
     "output_type": "display_data"
    },
    {
     "name": "stdout",
     "output_type": "stream",
     "text": [
      "[50/100]\n",
      "f1_h=0.56723\tprec_h=0.64058\trec_h=0.50896\n",
      "[100/100]\n",
      "f1_h=0.55658\tprec_h=0.63111\trec_h=0.49780\n"
     ]
    },
    {
     "data": {
      "application/vnd.jupyter.widget-view+json": {
       "model_id": "a8cdebc707b04622bad2083bb9b32469",
       "version_major": 2,
       "version_minor": 0
      },
      "text/plain": [
       "VBox(children=(Label(value='0.001 MB of 0.001 MB uploaded\\r'), FloatProgress(value=1.0, max=1.0)))"
      ]
     },
     "metadata": {},
     "output_type": "display_data"
    },
    {
     "data": {
      "text/html": [
       "<style>\n",
       "    table.wandb td:nth-child(1) { padding: 0 10px; text-align: left ; width: auto;} td:nth-child(2) {text-align: left ; width: 100%}\n",
       "    .wandb-row { display: flex; flex-direction: row; flex-wrap: wrap; justify-content: flex-start; width: 100% }\n",
       "    .wandb-col { display: flex; flex-direction: column; flex-basis: 100%; flex: 1; padding: 10px; }\n",
       "    </style>\n",
       "<div class=\"wandb-row\"><div class=\"wandb-col\"><h3>Run history:</h3><br/><table class=\"wandb\"><tr><td>epoch</td><td>▁▁▁▁▂▂▂▂▂▃▃▃▃▃▃▄▄▄▄▄▅▅▅▅▅▅▆▆▆▆▆▇▇▇▇▇▇███</td></tr><tr><td>h_f1-score</td><td>▁▂▆▇▇██▇█▇▇▇▇▇▆▆▆▆▆▆▆▆▆▆▆▆▆▆▆▆▆▅▆▅▆▆▆▅▅▅</td></tr><tr><td>h_precision</td><td>▇█▇▆▅▅▂▄▃▃▁▄▃▃▂▂▃▂▃▃▃▃▂▃▂▃▂▃▃▃▂▃▄▃▂▃▁▃▃▃</td></tr><tr><td>h_recall</td><td>▁▂▅▆▇▇█▇▇▇▇▇▆▇▆▆▆▆▆▅▆▆▆▅▆▆▅▆▅▅▅▅▅▅▆▅▆▅▅▅</td></tr><tr><td>train_loss</td><td>██▇▇▆▆▆▅▅▅▅▄▄▄▄▃▃▃▃▃▃▂▂▂▂▂▂▂▂▂▁▁▁▁▁▁▁▁▁▁</td></tr><tr><td>val_loss</td><td>▁▄▂▄▃▃▁▂▃▂▃▃▄▄▅▅▅▆▄▅▄▆█▅▅▆▆▆▆▆▇▇▆▇███▇█▇</td></tr></table><br/></div><div class=\"wandb-col\"><h3>Run summary:</h3><br/><table class=\"wandb\"><tr><td>epoch</td><td>99</td></tr><tr><td>h_f1-score</td><td>0.55658</td></tr><tr><td>h_precision</td><td>0.63111</td></tr><tr><td>h_recall</td><td>0.4978</td></tr><tr><td>train_loss</td><td>29.52875</td></tr><tr><td>val_loss</td><td>1089.92023</td></tr></table><br/></div></div>"
      ],
      "text/plain": [
       "<IPython.core.display.HTML object>"
      ]
     },
     "metadata": {},
     "output_type": "display_data"
    },
    {
     "data": {
      "text/html": [
       " View run <strong style=\"color:#cdcd00\">morning-sweep-2</strong> at: <a href='https://wandb.ai/phoenix_nlp/FineTuning-MultiModal-mBERT-ResNet/runs/oo6zeb7y' target=\"_blank\">https://wandb.ai/phoenix_nlp/FineTuning-MultiModal-mBERT-ResNet/runs/oo6zeb7y</a><br/> View project at: <a href='https://wandb.ai/phoenix_nlp/FineTuning-MultiModal-mBERT-ResNet' target=\"_blank\">https://wandb.ai/phoenix_nlp/FineTuning-MultiModal-mBERT-ResNet</a><br/>Synced 5 W&B file(s), 0 media file(s), 0 artifact file(s) and 0 other file(s)"
      ],
      "text/plain": [
       "<IPython.core.display.HTML object>"
      ]
     },
     "metadata": {},
     "output_type": "display_data"
    },
    {
     "data": {
      "text/html": [
       "Find logs at: <code>./wandb/run-20240427_190103-oo6zeb7y/logs</code>"
      ],
      "text/plain": [
       "<IPython.core.display.HTML object>"
      ]
     },
     "metadata": {},
     "output_type": "display_data"
    },
    {
     "name": "stderr",
     "output_type": "stream",
     "text": [
      "\u001b[34m\u001b[1mwandb\u001b[0m: Agent Starting Run: w1phk93m with config:\n",
      "\u001b[34m\u001b[1mwandb\u001b[0m: \talpha: 0.9042846126907492\n",
      "\u001b[34m\u001b[1mwandb\u001b[0m: \tbatch_size: 256\n",
      "\u001b[34m\u001b[1mwandb\u001b[0m: \tbeta: 0.9519596826599416\n",
      "\u001b[34m\u001b[1mwandb\u001b[0m: \tbeta1: 0.850153254817608\n",
      "\u001b[34m\u001b[1mwandb\u001b[0m: \tlearning_rate: 6.788879078500291e-05\n",
      "\u001b[34m\u001b[1mwandb\u001b[0m: \toptimizer: adam\n",
      "\u001b[34m\u001b[1mwandb\u001b[0m: \tthreshold: 0.8819605127504911\n"
     ]
    },
    {
     "data": {
      "text/html": [
       "Tracking run with wandb version 0.16.6"
      ],
      "text/plain": [
       "<IPython.core.display.HTML object>"
      ]
     },
     "metadata": {},
     "output_type": "display_data"
    },
    {
     "data": {
      "text/html": [
       "Run data is saved locally in <code>/Users/iqbal/Desktop/Python Assignments/Detecting-Persuasion-Techniques-in-Memes/wandb/run-20240427_191504-w1phk93m</code>"
      ],
      "text/plain": [
       "<IPython.core.display.HTML object>"
      ]
     },
     "metadata": {},
     "output_type": "display_data"
    },
    {
     "data": {
      "text/html": [
       "Syncing run <strong><a href='https://wandb.ai/phoenix_nlp/FineTuning-MultiModal-mBERT-ResNet/runs/w1phk93m' target=\"_blank\">northern-sweep-3</a></strong> to <a href='https://wandb.ai/phoenix_nlp/FineTuning-MultiModal-mBERT-ResNet' target=\"_blank\">Weights & Biases</a> (<a href='https://wandb.me/run' target=\"_blank\">docs</a>)<br/>Sweep page: <a href='https://wandb.ai/phoenix_nlp/FineTuning-MultiModal-mBERT-ResNet/sweeps/mr8ih6s1' target=\"_blank\">https://wandb.ai/phoenix_nlp/FineTuning-MultiModal-mBERT-ResNet/sweeps/mr8ih6s1</a>"
      ],
      "text/plain": [
       "<IPython.core.display.HTML object>"
      ]
     },
     "metadata": {},
     "output_type": "display_data"
    },
    {
     "data": {
      "text/html": [
       " View project at <a href='https://wandb.ai/phoenix_nlp/FineTuning-MultiModal-mBERT-ResNet' target=\"_blank\">https://wandb.ai/phoenix_nlp/FineTuning-MultiModal-mBERT-ResNet</a>"
      ],
      "text/plain": [
       "<IPython.core.display.HTML object>"
      ]
     },
     "metadata": {},
     "output_type": "display_data"
    },
    {
     "data": {
      "text/html": [
       " View sweep at <a href='https://wandb.ai/phoenix_nlp/FineTuning-MultiModal-mBERT-ResNet/sweeps/mr8ih6s1' target=\"_blank\">https://wandb.ai/phoenix_nlp/FineTuning-MultiModal-mBERT-ResNet/sweeps/mr8ih6s1</a>"
      ],
      "text/plain": [
       "<IPython.core.display.HTML object>"
      ]
     },
     "metadata": {},
     "output_type": "display_data"
    },
    {
     "data": {
      "text/html": [
       " View run at <a href='https://wandb.ai/phoenix_nlp/FineTuning-MultiModal-mBERT-ResNet/runs/w1phk93m' target=\"_blank\">https://wandb.ai/phoenix_nlp/FineTuning-MultiModal-mBERT-ResNet/runs/w1phk93m</a>"
      ],
      "text/plain": [
       "<IPython.core.display.HTML object>"
      ]
     },
     "metadata": {},
     "output_type": "display_data"
    },
    {
     "name": "stdout",
     "output_type": "stream",
     "text": [
      "[50/100]\n",
      "f1_h=0.57216\tprec_h=0.62550\trec_h=0.52721\n",
      "[100/100]\n",
      "f1_h=0.56906\tprec_h=0.64204\trec_h=0.51098\n"
     ]
    },
    {
     "data": {
      "application/vnd.jupyter.widget-view+json": {
       "model_id": "30c3ebac1c0a45fa893610ff86ae082e",
       "version_major": 2,
       "version_minor": 0
      },
      "text/plain": [
       "VBox(children=(Label(value='0.007 MB of 0.007 MB uploaded\\r'), FloatProgress(value=1.0, max=1.0)))"
      ]
     },
     "metadata": {},
     "output_type": "display_data"
    },
    {
     "data": {
      "text/html": [
       "<style>\n",
       "    table.wandb td:nth-child(1) { padding: 0 10px; text-align: left ; width: auto;} td:nth-child(2) {text-align: left ; width: 100%}\n",
       "    .wandb-row { display: flex; flex-direction: row; flex-wrap: wrap; justify-content: flex-start; width: 100% }\n",
       "    .wandb-col { display: flex; flex-direction: column; flex-basis: 100%; flex: 1; padding: 10px; }\n",
       "    </style>\n",
       "<div class=\"wandb-row\"><div class=\"wandb-col\"><h3>Run history:</h3><br/><table class=\"wandb\"><tr><td>epoch</td><td>▁▁▁▁▂▂▂▂▂▃▃▃▃▃▃▄▄▄▄▄▅▅▅▅▅▅▆▆▆▆▆▇▇▇▇▇▇███</td></tr><tr><td>h_f1-score</td><td>▁▂▆▇▇▇█▇▇▇▇▇▇▇▆▇▆▆▆▆▆▆▆▆▆▆▅▆▆▆▆▆▆▆▆▆▆▆▆▆</td></tr><tr><td>h_precision</td><td>███▆▄▄▂▃▃▄▁▂▃▃▂▁▂▃▃▂▂▃▃▃▄▃▃▃▄▄▂▄▄▃▃▃▄▄▃▄</td></tr><tr><td>h_recall</td><td>▁▁▅▇▇▇█▇▇▆▇▇▆▆▆▇▆▆▅▆▅▆▆▅▅▆▅▅▅▅▆▅▆▅▆▆▅▅▅▆</td></tr><tr><td>train_loss</td><td>██▇▇▇▆▆▆▅▅▅▅▄▄▄▄▃▃▃▃▃▂▂▂▂▂▂▂▂▂▁▁▁▁▁▁▁▁▁▁</td></tr><tr><td>val_loss</td><td>▂▃▁▃▁▂▃▃▂▃▄▃▃▄▃▄▄▄▄▅▅▅▅▆▅▇▆▆▆▅▇▆▆▇▆█▆▇▇█</td></tr></table><br/></div><div class=\"wandb-col\"><h3>Run summary:</h3><br/><table class=\"wandb\"><tr><td>epoch</td><td>99</td></tr><tr><td>h_f1-score</td><td>0.56906</td></tr><tr><td>h_precision</td><td>0.64204</td></tr><tr><td>h_recall</td><td>0.51098</td></tr><tr><td>train_loss</td><td>93.42405</td></tr><tr><td>val_loss</td><td>2276.27002</td></tr></table><br/></div></div>"
      ],
      "text/plain": [
       "<IPython.core.display.HTML object>"
      ]
     },
     "metadata": {},
     "output_type": "display_data"
    },
    {
     "data": {
      "text/html": [
       " View run <strong style=\"color:#cdcd00\">northern-sweep-3</strong> at: <a href='https://wandb.ai/phoenix_nlp/FineTuning-MultiModal-mBERT-ResNet/runs/w1phk93m' target=\"_blank\">https://wandb.ai/phoenix_nlp/FineTuning-MultiModal-mBERT-ResNet/runs/w1phk93m</a><br/> View project at: <a href='https://wandb.ai/phoenix_nlp/FineTuning-MultiModal-mBERT-ResNet' target=\"_blank\">https://wandb.ai/phoenix_nlp/FineTuning-MultiModal-mBERT-ResNet</a><br/>Synced 5 W&B file(s), 0 media file(s), 0 artifact file(s) and 0 other file(s)"
      ],
      "text/plain": [
       "<IPython.core.display.HTML object>"
      ]
     },
     "metadata": {},
     "output_type": "display_data"
    },
    {
     "data": {
      "text/html": [
       "Find logs at: <code>./wandb/run-20240427_191504-w1phk93m/logs</code>"
      ],
      "text/plain": [
       "<IPython.core.display.HTML object>"
      ]
     },
     "metadata": {},
     "output_type": "display_data"
    }
   ],
   "source": [
    "def main():\n",
    "    wandb.agent(sweep_id, train, count=3)\n",
    "\n",
    "if __name__ == \"__main__\":\n",
    "    main()"
   ]
  },
  {
   "cell_type": "markdown",
   "id": "970f0870b75dee2d",
   "metadata": {
    "collapsed": false,
    "jupyter": {
     "outputs_hidden": false
    }
   },
   "source": [
    "### OpenAI - Large + CLIP"
   ]
  },
  {
   "cell_type": "code",
   "execution_count": 22,
   "id": "cecd2f8fd335f629",
   "metadata": {
    "ExecuteTime": {
     "end_time": "2024-04-27T23:51:16.208933Z",
     "start_time": "2024-04-27T23:51:15.724853Z"
    },
    "collapsed": false,
    "jupyter": {
     "outputs_hidden": false
    }
   },
   "outputs": [
    {
     "data": {
      "text/plain": [
       "<All keys matched successfully>"
      ]
     },
     "execution_count": 22,
     "metadata": {},
     "output_type": "execute_result"
    }
   ],
   "source": [
    "model = MultiModalBaseline(512, 3072)\n",
    "\n",
    "model.load_state_dict(torch.load('./models/subtask2a/MultiModal-OpenAI-Large/fresh-sweep-3.pth'))"
   ]
  },
  {
   "cell_type": "code",
   "execution_count": 23,
   "id": "cb2038df198f7d4b",
   "metadata": {
    "ExecuteTime": {
     "end_time": "2024-04-27T23:51:16.806770Z",
     "start_time": "2024-04-27T23:51:16.732502Z"
    },
    "collapsed": false,
    "jupyter": {
     "outputs_hidden": false
    }
   },
   "outputs": [
    {
     "name": "stdout",
     "output_type": "stream",
     "text": [
      "f1_h=0.52197\tprec_h=0.44014\trec_h=0.64120\n"
     ]
    }
   ],
   "source": [
    "ar_pred_file_path = './Predictions/subtask2a/ar_predictions_subtask2a.txt'\n",
    "ar_gold_file_path = './test_labels_ar_bg_md_version2/test_subtask2a_ar.json'\n",
    "evaluator_script = './scorer-baseline/subtask_1_2a.py'\n",
    "\n",
    "ar_test_data = process_json(ar_gold_file_path, techniques_to_level_2a, hierarchy_subtask_2a)\n",
    "ar_test_dataset = TestDataSet(df=ar_test_data, \n",
    "                          text_features_file='./TextFeatures/subtask2a/text-embedding-3-large/ar_test_text_features.pkl',\n",
    "                          image_features_file='./ImageFeatures/CLIP-ViT/ar_test_images_features.pkl')\n",
    "\n",
    "ar_test_dataloader =  DataLoader(ar_test_dataset, batch_size=64, shuffle=True)\n",
    "\n",
    "evaluate_model(model, ar_test_dataloader, ar_pred_file_path, ar_gold_file_path, evaluator_script, \n",
    "               id2leaf_label_subtask_2a, format=5, validation=False, threshold=0.3)"
   ]
  },
  {
   "cell_type": "code",
   "execution_count": 24,
   "id": "d4f20f6a6a3d2711",
   "metadata": {
    "ExecuteTime": {
     "end_time": "2024-04-27T23:51:18.777764Z",
     "start_time": "2024-04-27T23:51:18.499820Z"
    },
    "collapsed": false,
    "jupyter": {
     "outputs_hidden": false
    }
   },
   "outputs": [
    {
     "name": "stdout",
     "output_type": "stream",
     "text": [
      "f1_h=0.65849\tprec_h=0.64199\trec_h=0.67586\n"
     ]
    }
   ],
   "source": [
    "bg_pred_file_path = './Predictions/subtask2a/bg_predictions_subtask2a.txt'\n",
    "bg_gold_file_path = './test_labels_ar_bg_md_version2/test_subtask2a_bg.json'\n",
    "\n",
    "bg_test_data = process_json(bg_gold_file_path, techniques_to_level_2a, hierarchy_subtask_2a)\n",
    "bg_test_dataset = DataSet(bg_test_data, indexed_persuasion_techniques_2a, \n",
    "                           text_features_file='./TextFeatures/subtask2a/text-embedding-3-large/bg_test_text_features.pkl',\n",
    "                          image_features_file='./ImageFeatures/CLIP-ViT/bulgarian_test_images_features.pkl')\n",
    "\n",
    "bg_test_dataloader = DataLoader(bg_test_dataset, batch_size=64, shuffle=True)\n",
    "\n",
    "evaluate_model(model, bg_test_dataloader, bg_pred_file_path, bg_gold_file_path, evaluator_script, \n",
    "               id2leaf_label_subtask_2a, threshold=0.3)"
   ]
  },
  {
   "cell_type": "code",
   "execution_count": 25,
   "id": "b44372c8f8c23e51",
   "metadata": {
    "ExecuteTime": {
     "end_time": "2024-04-27T23:51:20.948795Z",
     "start_time": "2024-04-27T23:51:20.607050Z"
    },
    "collapsed": false,
    "jupyter": {
     "outputs_hidden": false
    }
   },
   "outputs": [
    {
     "name": "stdout",
     "output_type": "stream",
     "text": [
      "f1_h=0.68926\tprec_h=0.73154\trec_h=0.65160\n"
     ]
    }
   ],
   "source": [
    "\n",
    "md_pred_file_path = './Predictions/subtask2a/md_predictions_subtask2a.txt'\n",
    "md_gold_file_path = 'test_labels_ar_bg_md_version2/test_subtask2a_md.json'\n",
    "\n",
    "md_test_data = process_json(md_gold_file_path, techniques_to_level_2a, hierarchy_subtask_2a)\n",
    "md_test_dataset = DataSet(md_test_data, indexed_persuasion_techniques_2a, \n",
    "                          text_features_file='./TextFeatures/subtask2a/text-embedding-3-large/md_test_text_features.pkl',\n",
    "                          image_features_file='./ImageFeatures/CLIP-ViT/nm_test_images_features.pkl')\n",
    "\n",
    "md_test_dataloader = DataLoader(md_test_dataset, batch_size=64, shuffle=True)\n",
    "\n",
    "evaluate_model(model, md_test_dataloader, md_pred_file_path, md_gold_file_path, evaluator_script, \n",
    "               id2leaf_label_subtask_2a, threshold=0.3)"
   ]
  },
  {
   "cell_type": "code",
   "execution_count": 26,
   "id": "6bb2a7ce5cface0e",
   "metadata": {
    "ExecuteTime": {
     "end_time": "2024-04-27T23:51:26.937033Z",
     "start_time": "2024-04-27T23:51:26.222050Z"
    },
    "collapsed": false,
    "jupyter": {
     "outputs_hidden": false
    }
   },
   "outputs": [],
   "source": [
    "en_pred_file_path = './Predictions/subtask2a/en_predictions_subtask2a.txt'\n",
    "\n",
    "eng_test_data = process_test_json('./test_data/english/en_subtask2a_test_unlabeled.json')\n",
    "\n",
    "eng_test_dataset = TestDataSet(eng_test_data, './TextFeatures/subtask2a/text-embedding-3-large/en_test_text_features.pkl', './ImageFeatures/CLIP-ViT/english_test_images_features.pkl')\n",
    "eng_test_dataloader = DataLoader(eng_test_dataset, batch_size=64, shuffle=True)\n",
    "\n",
    "evaluate_model(model, eng_test_dataloader, en_pred_file_path, None, evaluator_script, \n",
    "               id2leaf_label_subtask_2a, threshold=0.3)"
   ]
  },
  {
   "cell_type": "markdown",
   "id": "1b4d8647493f8b72",
   "metadata": {
    "collapsed": false,
    "jupyter": {
     "outputs_hidden": false
    }
   },
   "source": [
    "score for above is \t0.67989\t0.71163\t0.65087"
   ]
  },
  {
   "cell_type": "markdown",
   "id": "f8d76e6202fc9ecf",
   "metadata": {
    "collapsed": false,
    "jupyter": {
     "outputs_hidden": false
    }
   },
   "source": [
    "### OpenAI-Small + CLIP"
   ]
  },
  {
   "cell_type": "code",
   "execution_count": 27,
   "id": "e437ef570d0510fe",
   "metadata": {
    "ExecuteTime": {
     "end_time": "2024-04-27T23:52:00.014521Z",
     "start_time": "2024-04-27T23:51:59.721377Z"
    },
    "collapsed": false,
    "jupyter": {
     "outputs_hidden": false
    }
   },
   "outputs": [
    {
     "data": {
      "text/plain": [
       "<All keys matched successfully>"
      ]
     },
     "execution_count": 27,
     "metadata": {},
     "output_type": "execute_result"
    }
   ],
   "source": [
    "model = MultiModalBaseline(512, 1536)\n",
    "\n",
    "model.load_state_dict(torch.load('./models/subtask2a/MultiModal-OpenAI-Small/splendid-sweep-4.pth'))"
   ]
  },
  {
   "cell_type": "code",
   "execution_count": 28,
   "id": "b19d2ad2962fa0aa",
   "metadata": {
    "ExecuteTime": {
     "end_time": "2024-04-27T23:52:00.585681Z",
     "start_time": "2024-04-27T23:52:00.513432Z"
    },
    "collapsed": false,
    "jupyter": {
     "outputs_hidden": false
    }
   },
   "outputs": [
    {
     "name": "stdout",
     "output_type": "stream",
     "text": [
      "f1_h=0.52780\tprec_h=0.47657\trec_h=0.59136\n"
     ]
    }
   ],
   "source": [
    "ar_pred_file_path = './Predictions/subtask2a/ar_predictions_subtask2a.txt'\n",
    "ar_gold_file_path = './test_labels_ar_bg_md_version2/test_subtask2a_ar.json'\n",
    "evaluator_script = './scorer-baseline/subtask_1_2a.py'\n",
    "\n",
    "ar_test_data = process_json(ar_gold_file_path, techniques_to_level_2a, hierarchy_subtask_2a)\n",
    "ar_test_dataset = TestDataSet(df=ar_test_data, \n",
    "                          text_features_file='./TextFeatures/subtask2a/text-embedding-3-small/ar_test_text_features.pkl',\n",
    "                          image_features_file='./ImageFeatures/CLIP-ViT/ar_test_images_features.pkl')\n",
    "\n",
    "ar_test_dataloader =  DataLoader(ar_test_dataset, batch_size=64, shuffle=True)\n",
    "\n",
    "evaluate_model(model, ar_test_dataloader, ar_pred_file_path, ar_gold_file_path, evaluator_script, \n",
    "               id2leaf_label_subtask_2a, format=5, validation=False, threshold=0.3)"
   ]
  },
  {
   "cell_type": "code",
   "execution_count": 29,
   "id": "9a73438955e0d77f",
   "metadata": {
    "ExecuteTime": {
     "end_time": "2024-04-27T23:52:02.792551Z",
     "start_time": "2024-04-27T23:52:02.569291Z"
    },
    "collapsed": false,
    "jupyter": {
     "outputs_hidden": false
    }
   },
   "outputs": [
    {
     "name": "stdout",
     "output_type": "stream",
     "text": [
      "f1_h=0.64443\tprec_h=0.64928\trec_h=0.63966\n"
     ]
    }
   ],
   "source": [
    "bg_pred_file_path = './Predictions/subtask2a/bg_predictions_subtask2a.txt'\n",
    "bg_gold_file_path = './test_labels_ar_bg_md_version2/test_subtask2a_bg.json'\n",
    "\n",
    "bg_test_data = process_json(bg_gold_file_path, techniques_to_level_2a, hierarchy_subtask_2a)\n",
    "bg_test_dataset = DataSet(bg_test_data, indexed_persuasion_techniques_2a, \n",
    "                           text_features_file='./TextFeatures/subtask2a/text-embedding-3-small/bg_test_text_features.pkl',\n",
    "                          \n",
    "                          image_features_file='./ImageFeatures/CLIP-ViT/bulgarian_test_images_features.pkl')\n",
    "\n",
    "bg_test_dataloader = DataLoader(bg_test_dataset, batch_size=64, shuffle=True)\n",
    "\n",
    "evaluate_model(model, bg_test_dataloader, bg_pred_file_path, bg_gold_file_path, evaluator_script, \n",
    "               id2leaf_label_subtask_2a, threshold=0.3)"
   ]
  },
  {
   "cell_type": "code",
   "execution_count": 30,
   "id": "e0d28e8e88a7fb68",
   "metadata": {
    "ExecuteTime": {
     "end_time": "2024-04-27T23:52:04.865427Z",
     "start_time": "2024-04-27T23:52:04.707627Z"
    },
    "collapsed": false,
    "jupyter": {
     "outputs_hidden": false
    }
   },
   "outputs": [
    {
     "name": "stdout",
     "output_type": "stream",
     "text": [
      "f1_h=0.67714\tprec_h=0.71721\trec_h=0.64130\n"
     ]
    }
   ],
   "source": [
    "\n",
    "md_pred_file_path = './Predictions/subtask2a/md_predictions_subtask2a.txt'\n",
    "md_gold_file_path = 'test_labels_ar_bg_md_version2/test_subtask2a_md.json'\n",
    "\n",
    "md_test_data = process_json(md_gold_file_path, techniques_to_level_2a, hierarchy_subtask_2a)\n",
    "md_test_dataset = DataSet(md_test_data, indexed_persuasion_techniques_2a, \n",
    "                          text_features_file='./TextFeatures/subtask2a/text-embedding-3-small/md_test_text_features.pkl',\n",
    "                          image_features_file='./ImageFeatures/CLIP-ViT/nm_test_images_features.pkl')\n",
    "\n",
    "md_test_dataloader = DataLoader(md_test_dataset, batch_size=64, shuffle=True)\n",
    "\n",
    "evaluate_model(model, md_test_dataloader, md_pred_file_path, md_gold_file_path, evaluator_script, \n",
    "               id2leaf_label_subtask_2a, threshold=0.3)"
   ]
  },
  {
   "cell_type": "code",
   "execution_count": 31,
   "id": "8fc55453667ca68d",
   "metadata": {
    "ExecuteTime": {
     "end_time": "2024-04-27T23:52:10.045663Z",
     "start_time": "2024-04-27T23:52:09.401368Z"
    },
    "collapsed": false,
    "jupyter": {
     "outputs_hidden": false
    }
   },
   "outputs": [],
   "source": [
    "en_pred_file_path = './Predictions/subtask2a/en_predictions_subtask2a.txt'\n",
    "\n",
    "eng_test_data = process_test_json('./test_data/english/en_subtask2a_test_unlabeled.json')\n",
    "\n",
    "eng_test_dataset = TestDataSet(eng_test_data,\n",
    "                               './TextFeatures/subtask2a/text-embedding-3-small/en_test_text_features.pkl',\n",
    "                               './ImageFeatures/CLIP-ViT/english_test_images_features.pkl')\n",
    "eng_test_dataloader = DataLoader(eng_test_dataset, batch_size=64, shuffle=True)\n",
    "\n",
    "evaluate_model(model, eng_test_dataloader, en_pred_file_path, None, evaluator_script, \n",
    "               id2leaf_label_subtask_2a, threshold=0.3)"
   ]
  },
  {
   "cell_type": "markdown",
   "id": "8874d171b7487d5e",
   "metadata": {
    "collapsed": false,
    "jupyter": {
     "outputs_hidden": false
    }
   },
   "source": [
    "0.66918\t0.70682\t0.63535"
   ]
  },
  {
   "cell_type": "code",
   "execution_count": null,
   "id": "af17b798462e7349",
   "metadata": {
    "collapsed": false,
    "jupyter": {
     "outputs_hidden": false
    }
   },
   "outputs": [],
   "source": []
  },
  {
   "cell_type": "markdown",
   "id": "7ed3b8af163165f6",
   "metadata": {
    "collapsed": false,
    "jupyter": {
     "outputs_hidden": false
    }
   },
   "source": [
    "### mBERT + ResNet"
   ]
  },
  {
   "cell_type": "code",
   "execution_count": 32,
   "id": "739cdb80fe91f3af",
   "metadata": {
    "ExecuteTime": {
     "end_time": "2024-04-27T23:52:34.431935Z",
     "start_time": "2024-04-27T23:52:34.036462Z"
    },
    "collapsed": false,
    "jupyter": {
     "outputs_hidden": false
    }
   },
   "outputs": [
    {
     "data": {
      "text/plain": [
       "<All keys matched successfully>"
      ]
     },
     "execution_count": 32,
     "metadata": {},
     "output_type": "execute_result"
    }
   ],
   "source": [
    "model = MultiModalBaseline(img_feature_size=2048, text_feature_size=768)\n",
    "\n",
    "model.load_state_dict(torch.load('./models/subtask2a/MultiModal-mBERT-ResNet/northern-sweep-3.pth'))"
   ]
  },
  {
   "cell_type": "code",
   "execution_count": 33,
   "id": "5142b45a9d45e2fd",
   "metadata": {
    "ExecuteTime": {
     "end_time": "2024-04-27T23:52:37.460943Z",
     "start_time": "2024-04-27T23:52:37.387535Z"
    },
    "collapsed": false,
    "jupyter": {
     "outputs_hidden": false
    }
   },
   "outputs": [
    {
     "name": "stdout",
     "output_type": "stream",
     "text": [
      "f1_h=0.43099\tprec_h=0.46449\trec_h=0.40199\n"
     ]
    }
   ],
   "source": [
    "ar_pred_file_path = './Predictions/subtask2a/ar_predictions_subtask2a.txt'\n",
    "ar_gold_file_path = './test_labels_ar_bg_md_version2/test_subtask2a_ar.json'\n",
    "evaluator_script = './scorer-baseline/subtask_1_2a.py'\n",
    "\n",
    "ar_test_data = process_json(ar_gold_file_path, techniques_to_level_2a, hierarchy_subtask_2a)\n",
    "ar_test_dataset = TestDataSet(df=ar_test_data, \n",
    "                          text_features_file='./TextFeatures/subtask2a/mBERT/ar_test_text_features.pkl',\n",
    "                          image_features_file='./ImageFeatures/ResNet/ar_test_images_features.pkl')\n",
    "\n",
    "ar_test_dataloader =  DataLoader(ar_test_dataset, batch_size=64, shuffle=True)\n",
    "\n",
    "evaluate_model(model, ar_test_dataloader, ar_pred_file_path, ar_gold_file_path, evaluator_script, \n",
    "               id2leaf_label_subtask_2a, format=5, validation=False, threshold=0.3)"
   ]
  },
  {
   "cell_type": "code",
   "execution_count": 34,
   "id": "dab45cdc0e5a9acc",
   "metadata": {
    "ExecuteTime": {
     "end_time": "2024-04-27T23:52:40.122066Z",
     "start_time": "2024-04-27T23:52:39.873110Z"
    },
    "collapsed": false,
    "jupyter": {
     "outputs_hidden": false
    }
   },
   "outputs": [
    {
     "name": "stdout",
     "output_type": "stream",
     "text": [
      "f1_h=0.54716\tprec_h=0.65067\trec_h=0.47207\n"
     ]
    }
   ],
   "source": [
    "bg_pred_file_path = './Predictions/subtask2a/bg_predictions_subtask2a.txt'\n",
    "bg_gold_file_path = './test_labels_ar_bg_md_version2/test_subtask2a_bg.json'\n",
    "\n",
    "bg_test_data = process_json(bg_gold_file_path, techniques_to_level_2a, hierarchy_subtask_2a)\n",
    "bg_test_dataset = DataSet(bg_test_data, indexed_persuasion_techniques_2a, \n",
    "                           text_features_file='./TextFeatures/subtask2a/mBERT/bg_test_text_features.pkl',\n",
    "                          image_features_file='./ImageFeatures/ResNet/bulgarian_test_images_features.pkl')\n",
    "\n",
    "bg_test_dataloader = DataLoader(bg_test_dataset, batch_size=64, shuffle=True)\n",
    "\n",
    "evaluate_model(model, bg_test_dataloader, bg_pred_file_path, bg_gold_file_path, evaluator_script, \n",
    "               id2leaf_label_subtask_2a, threshold=0.3)"
   ]
  },
  {
   "cell_type": "code",
   "execution_count": 35,
   "id": "96aaee30f5c306e3",
   "metadata": {
    "ExecuteTime": {
     "end_time": "2024-04-27T23:52:43.092635Z",
     "start_time": "2024-04-27T23:52:42.910020Z"
    },
    "collapsed": false,
    "jupyter": {
     "outputs_hidden": false
    }
   },
   "outputs": [
    {
     "name": "stdout",
     "output_type": "stream",
     "text": [
      "f1_h=0.56688\tprec_h=0.67510\trec_h=0.48856\n"
     ]
    }
   ],
   "source": [
    "\n",
    "md_pred_file_path = './Predictions/subtask2a/md_predictions_subtask2a.txt'\n",
    "md_gold_file_path = 'test_labels_ar_bg_md_version2/test_subtask2a_md.json'\n",
    "\n",
    "md_test_data = process_json(md_gold_file_path, techniques_to_level_2a, hierarchy_subtask_2a)\n",
    "md_test_dataset = DataSet(md_test_data, indexed_persuasion_techniques_2a, \n",
    "                          text_features_file='./TextFeatures/subtask2a/mBERT/md_test_text_features.pkl',\n",
    "                          image_features_file='./ImageFeatures/ResNet/nm_test_images_features.pkl')\n",
    "\n",
    "md_test_dataloader = DataLoader(md_test_dataset, batch_size=64, shuffle=True)\n",
    "\n",
    "evaluate_model(model, md_test_dataloader, md_pred_file_path, md_gold_file_path, evaluator_script, \n",
    "               id2leaf_label_subtask_2a, threshold=0.3)"
   ]
  },
  {
   "cell_type": "code",
   "execution_count": 36,
   "id": "272f0b91c9c33683",
   "metadata": {
    "ExecuteTime": {
     "end_time": "2024-04-27T23:52:47.439171Z",
     "start_time": "2024-04-27T23:52:46.775113Z"
    },
    "collapsed": false,
    "jupyter": {
     "outputs_hidden": false
    }
   },
   "outputs": [],
   "source": [
    "en_pred_file_path = './Predictions/subtask2a/en_predictions_subtask2a.txt'\n",
    "\n",
    "eng_test_data = process_test_json('./test_data/english/en_subtask2a_test_unlabeled.json')\n",
    "\n",
    "eng_test_dataset = TestDataSet(eng_test_data, \n",
    "                               './TextFeatures/subtask2a/mBERT/en_test_text_features.pkl',\n",
    "                               'ImageFeatures/ResNet/test_images_english.pkl')\n",
    "eng_test_dataloader = DataLoader(eng_test_dataset, batch_size=64, shuffle=True)\n",
    "\n",
    "evaluate_model(model, eng_test_dataloader, en_pred_file_path, None, evaluator_script, \n",
    "               id2leaf_label_subtask_2a, threshold=0.3)"
   ]
  },
  {
   "cell_type": "markdown",
   "id": "cc4a1bdb-ab80-4f86-b83b-e8c29c987c9f",
   "metadata": {
    "collapsed": false,
    "jupyter": {
     "outputs_hidden": false
    }
   },
   "source": [
    "0.55771\t0.65197\t0.48727 (got these results after submission)"
   ]
  },
  {
   "cell_type": "code",
   "execution_count": null,
   "id": "8452b52f6bdaefa2",
   "metadata": {
    "collapsed": false,
    "jupyter": {
     "outputs_hidden": false
    }
   },
   "outputs": [],
   "source": []
  }
 ],
 "metadata": {
  "kernelspec": {
   "display_name": "Python 3 (ipykernel)",
   "language": "python",
   "name": "python3"
  },
  "language_info": {
   "codemirror_mode": {
    "name": "ipython",
    "version": 3
   },
   "file_extension": ".py",
   "mimetype": "text/x-python",
   "name": "python",
   "nbconvert_exporter": "python",
   "pygments_lexer": "ipython3",
   "version": "3.11.8"
  }
 },
 "nbformat": 4,
 "nbformat_minor": 5
}
