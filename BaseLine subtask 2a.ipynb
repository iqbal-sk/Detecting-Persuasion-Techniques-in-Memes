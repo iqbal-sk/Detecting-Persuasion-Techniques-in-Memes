{
 "cells": [
  {
   "cell_type": "code",
   "execution_count": 5,
   "id": "initial_id",
   "metadata": {
    "ExecuteTime": {
     "end_time": "2024-04-27T21:13:02.571726Z",
     "start_time": "2024-04-27T21:13:02.568490Z"
    }
   },
   "outputs": [],
   "source": [
    "import pandas as pd\n",
    "import matplotlib.pyplot as plt\n",
    "import numpy as np\n",
    "import torch\n",
    "from torch import nn\n",
    "import nltk\n",
    "from utils.utils import *\n",
    "from utils.label_decoding import *\n",
    "from utils.HierarchicalLoss import *\n",
    "\n",
    "import torchvision.models as models"
   ]
  },
  {
   "cell_type": "code",
   "execution_count": 6,
   "id": "1da0a16f7a320bc",
   "metadata": {
    "collapsed": false,
    "ExecuteTime": {
     "end_time": "2024-04-27T21:13:03.255654Z",
     "start_time": "2024-04-27T21:13:03.248798Z"
    }
   },
   "outputs": [],
   "source": [
    "from torch.utils.data import Dataset\n",
    "import pickle\n",
    "\n",
    "class DataSet(Dataset):\n",
    "    def __init__(self, df, labels_at_level, text_features_file, image_features_file, max_len=128):\n",
    "        super(DataSet, self).__init__()\n",
    "        self.data_df = df\n",
    "        self.labels_at_level = labels_at_level\n",
    "        # self.tokenizer = tokenizer\n",
    "        self.max_len = max_len\n",
    "        # self.image_folder = image_folder\n",
    "        self.image_features = None\n",
    "        self.text_features = None\n",
    "        \n",
    "        with open(image_features_file, 'rb') as f:\n",
    "          self.image_features = pickle.load(f)\n",
    "        \n",
    "        with open(text_features_file, 'rb') as f:\n",
    "            self.text_features = pickle.load(f)\n",
    "\n",
    "    def __len__(self):\n",
    "        return len(self.data_df)\n",
    "\n",
    "    def __getitem__(self, idx):\n",
    "        id = self.data_df.iloc[idx]['id']\n",
    "        text = self.data_df.iloc[idx]['cleaned_text']\n",
    "        image_name = self.data_df.iloc[idx]['image']\n",
    "        level_1_target = self.encode(self.data_df.iloc[idx]['Level 1'], 1)\n",
    "        level_2_target = self.encode(self.data_df.iloc[idx]['Level 2'], 2)\n",
    "        level_3_target = self.encode(self.data_df.iloc[idx]['Level 3'], 3)\n",
    "        level_4_target = self.encode(self.data_df.iloc[idx]['Level 4'], 4)\n",
    "        level_5_target = self.encode(self.data_df.iloc[idx]['Level 5'], 5)\n",
    "\n",
    "        # Tokenize text\n",
    "        # encoded_input = tokenizer(text, return_tensors='pt', add_special_tokens=True, \n",
    "        #                           max_length=self.max_len, truncation=True, padding='max_length')\n",
    "        # ids = inputs['input_ids']\n",
    "        # mask = inputs['attention_mask']\n",
    "        # token_type_ids = inputs[\"token_type_ids\"]\n",
    "        image_features = self.image_features[image_name]\n",
    "        text_features = self.text_features[id]\n",
    "\n",
    "        return {\n",
    "            'id': id,\n",
    "            'text': text,\n",
    "            # 'image': image,\n",
    "            'image_features': image_features,  \n",
    "            # 'input_ids': torch.tensor(ids, dtype=torch.long),\n",
    "            # 'attention_mask': torch.tensor(mask, dtype=torch.long),\n",
    "            # 'token_type_ids': torch.tensor(token_type_ids, dtype=torch.long),\n",
    "            'text_features': text_features,\n",
    "            'level_1_target': level_1_target,\n",
    "            'level_2_target': level_2_target,\n",
    "            'level_3_target': level_3_target,\n",
    "            'level_4_target': level_4_target,\n",
    "            'level_5_target': level_5_target\n",
    "        }\n",
    "\n",
    "    def encode(self, labels, level):\n",
    "        level_ = f'Level {level}'\n",
    "        target = torch.zeros(len(self.labels_at_level[level_]) + 1)\n",
    "        for label in labels:\n",
    "            label_idx = self.labels_at_level[level_][label]\n",
    "            target[label_idx] = 1\n",
    "        if len(labels) == 0:\n",
    "            target[-1] = 1\n",
    "        return target"
   ]
  },
  {
   "cell_type": "code",
   "execution_count": 7,
   "id": "4e118c5b-16e1-4fa5-8b2b-2a9814ccb3b9",
   "metadata": {
    "ExecuteTime": {
     "end_time": "2024-04-27T21:13:03.757680Z",
     "start_time": "2024-04-27T21:13:03.754848Z"
    }
   },
   "outputs": [],
   "source": [
    "class TestDataSet(Dataset):\n",
    "    def __init__(self, df, text_features_file, image_features_file, max_len=128):\n",
    "        super(TestDataSet, self).__init__()\n",
    "        self.data_df = df\n",
    "        \n",
    "        self.image_features = None\n",
    "        self.text_features = None\n",
    "        self.max_len = max_len\n",
    "        # self.tokenizer = tokenizer\n",
    "        with open(image_features_file, 'rb') as f:\n",
    "            self.image_features = pickle.load(f)\n",
    "            \n",
    "        with open(text_features_file, 'rb') as f:\n",
    "            self.text_features = pickle.load(f)\n",
    "            \n",
    "    \n",
    "    def __len__(self):\n",
    "        return len(self.data_df)\n",
    "    \n",
    "    def __getitem__(self, idx):\n",
    "        id = self.data_df.iloc[idx]['id']\n",
    "        text = self.data_df.iloc[idx]['cleaned_text']\n",
    "        image_name = self.data_df.iloc[idx]['image']\n",
    "        # encoded_input = self.tokenizer(text, return_tensors='pt', add_special_tokens=True, \n",
    "        #                           max_length=self.max_len, truncation=True, padding='max_length')\n",
    "        text_features = self.text_features[id]\n",
    "        \n",
    "        return {'id': id,\n",
    "                'text': text,\n",
    "                'text_features': text_features,\n",
    "                'image_features': self.image_features[image_name] }"
   ]
  },
  {
   "cell_type": "code",
   "execution_count": 8,
   "id": "bf98506560ee3b49",
   "metadata": {
    "collapsed": false,
    "ExecuteTime": {
     "end_time": "2024-04-27T21:13:04.819271Z",
     "start_time": "2024-04-27T21:13:04.812338Z"
    }
   },
   "outputs": [],
   "source": [
    "def evaluate_model(model, dataloader, pred_file_path, gold_file_path, \n",
    "                   evaluator_script_path, id2leaf_label, format=None, validation=False, threshold=0.3):\n",
    "    model.eval()\n",
    "    predictions = []\n",
    "    \n",
    "    HL = HierarchicalLoss(id2label=id2label_subtask_2a, hierarchical_labels=hierarchy_subtask_2a,\n",
    "                        persuasion_techniques=persuasion_techniques_2a, device=device)\n",
    "\n",
    "    total_loss = 0\n",
    "    \n",
    "    \n",
    "    with torch.no_grad():\n",
    "        \n",
    "        for batch in tqdm(dataloader):\n",
    "            if not isinstance(batch['id'], list):\n",
    "                ids = batch['id'].detach().numpy().tolist()\n",
    "            else:\n",
    "                ids = batch['id']\n",
    "        \n",
    "            text_features = batch['text_features']\n",
    "            image_features = batch['image_features']\n",
    "            \n",
    "            text_features = text_features.to(device)\n",
    "            image_features = image_features.to(device)\n",
    "            \n",
    "            pred_1, pred_2, pred_3, pred_4, pred_5 = model(text_features,image_features)\n",
    "            \n",
    "            if validation:\n",
    "                y_1, y_2, y_3 = batch['level_1_target'], batch['level_2_target'], batch['level_3_target']\n",
    "                y_4, y_5 = batch['level_4_target'], batch['level_5_target']\n",
    "                \n",
    "                y_1, y_2, y_3, y_4, y_5 = y_1.to(device), y_2.to(device), y_3.to(device), y_4.to(device), y_5.to(device)\n",
    "                \n",
    "                dloss = HL.calculate_dloss([pred_1, pred_2, pred_3, pred_4, pred_5], [y_1, y_2, y_3, y_4, y_5])\n",
    "                lloss = HL.calculate_lloss([pred_1, pred_2, pred_3, pred_4, pred_5], [y_1, y_2, y_3, y_4, y_5])\n",
    "                \n",
    "                total_loss += (dloss + lloss).detach().cpu().item()\n",
    "                \n",
    "            pred_3 = (pred_3.cpu().detach().numpy() > threshold).astype(int)\n",
    "            pred_4 = (pred_4.cpu().detach().numpy() > threshold).astype(int)\n",
    "            pred_5 = (pred_5.cpu().detach().numpy() > threshold).astype(int)\n",
    "            \n",
    "            predictions += get_labels(id2leaf_label, ids, pred_3, pred_4, pred_5, format)\n",
    "\n",
    "        # Writing JSON data\n",
    "        with open(pred_file_path, 'w') as f:\n",
    "            json.dump(predictions, f, indent=4)\n",
    "        \n",
    "        if gold_file_path is None:\n",
    "            return\n",
    "            \n",
    "        command = [\n",
    "                \"python3\", evaluator_script_path,\n",
    "                \"--gold_file_path\", gold_file_path,\n",
    "                \"--pred_file_path\", pred_file_path\n",
    "        ]\n",
    "        \n",
    "        result = subprocess.run(command, capture_output=True, text=True)\n",
    "        \n",
    "        if result.returncode == 0:\n",
    "            print(\"Output:\\n\", result.stdout)\n",
    "        else:\n",
    "            print(\"Error:\\n\", result.stderr)\n",
    "            \n",
    "        if validation:\n",
    "            return total_loss / len(dataloader)\n",
    "    "
   ]
  },
  {
   "cell_type": "code",
   "execution_count": 9,
   "id": "39aa4592cb97a4e1",
   "metadata": {
    "collapsed": false,
    "ExecuteTime": {
     "end_time": "2024-04-27T21:13:07.462659Z",
     "start_time": "2024-04-27T21:13:06.976396Z"
    }
   },
   "outputs": [],
   "source": [
    "train_data = process_json('./semeval2024_dev_release/subtask2a/train.json', \n",
    "                          techniques_to_level_2a, hierarchy_subtask_2a)\n",
    "# val_data = \n",
    "test_data = process_json('./semeval2024_dev_release/subtask2a/validation.json',\n",
    "                         techniques_to_level_2a, hierarchy_subtask_2a)"
   ]
  },
  {
   "cell_type": "code",
   "execution_count": 14,
   "id": "cb74ddce3a0b85cc",
   "metadata": {
    "collapsed": false,
    "ExecuteTime": {
     "end_time": "2024-04-24T04:15:30.415652Z",
     "start_time": "2024-04-24T04:15:30.413809Z"
    }
   },
   "outputs": [],
   "source": [
    "# from transformers import BertTokenizer, BertModel\n",
    "# \n",
    "# tokenizer = BertTokenizer.from_pretrained('bert-base-multilingual-cased')"
   ]
  },
  {
   "cell_type": "code",
   "execution_count": 16,
   "id": "7dabb33d4cebeb36",
   "metadata": {
    "collapsed": false,
    "ExecuteTime": {
     "end_time": "2024-04-27T21:14:37.104060Z",
     "start_time": "2024-04-27T21:14:37.046979Z"
    }
   },
   "outputs": [],
   "source": [
    "from torch.utils.data import DataLoader\n",
    "\n",
    "training_dataset = DataSet(train_data, indexed_persuasion_techniques_2a, \n",
    "                           text_features_file='./TextFeatures/subtask2a/text-embedding-3-large/train_text_features.pkl',\n",
    "                           image_features_file='./ImageFeatures/CLIP-ViT/train_images_features.pkl')\n",
    "test_dataset = DataSet(test_data, indexed_persuasion_techniques_2a, \n",
    "                       text_features_file='./TextFeatures/subtask2a/text-embedding-3-large/validation_text_features.pkl', \n",
    "                       image_features_file='./ImageFeatures/CLIP-ViT/validation_images_features.pkl')"
   ]
  },
  {
   "cell_type": "code",
   "execution_count": 17,
   "id": "f7e4d1a5c631c5a",
   "metadata": {
    "collapsed": false,
    "ExecuteTime": {
     "end_time": "2024-04-27T21:14:38.563010Z",
     "start_time": "2024-04-27T21:14:38.559736Z"
    }
   },
   "outputs": [
    {
     "name": "stdout",
     "output_type": "stream",
     "text": [
      "Using MPS\n"
     ]
    }
   ],
   "source": [
    "from tqdm import tqdm\n",
    "import json\n",
    "import subprocess\n",
    "\n",
    "num_epochs = 100\n",
    "batch_size = 128\n",
    "device = get_device()\n",
    "device = torch.device('cpu')\n",
    "HL = HierarchicalLoss(id2label=id2label_subtask_2a, hierarchical_labels=hierarchy_subtask_2a,\n",
    "                        persuasion_techniques=persuasion_techniques_2a, device=device)\n",
    "\n",
    "train_dataloader = DataLoader(training_dataset, batch_size=batch_size, shuffle=True)\n",
    "test_dataloader = DataLoader(test_dataset, batch_size=batch_size, shuffle=True)\n"
   ]
  },
  {
   "cell_type": "code",
   "outputs": [],
   "source": [
    "alpha = 0.7764469620072395\n",
    "batch_size = 256\n",
    "beta = 0.9992511127909072\n",
    "beta1 = 0.9094170903394552\n",
    "learning_rate = 3.906930058023181e-05\n",
    "threshold = 0.8256232754296409"
   ],
   "metadata": {
    "collapsed": false
   },
   "id": "aa5ab5e92b145904"
  },
  {
   "cell_type": "code",
   "execution_count": 11,
   "id": "1a4b74034639a37f",
   "metadata": {
    "collapsed": false,
    "ExecuteTime": {
     "end_time": "2024-04-24T05:30:58.934656Z",
     "start_time": "2024-04-24T05:08:26.482499Z"
    }
   },
   "outputs": [
    {
     "name": "stdout",
     "output_type": "stream",
     "text": [
      "[1, 20] loss: 1641.765\n",
      "[1, 40] loss: 954.579\n"
     ]
    },
    {
     "name": "stderr",
     "output_type": "stream",
     "text": [
      "100%|██████████| 4/4 [00:00<00:00, 14.91it/s]\n"
     ]
    },
    {
     "name": "stdout",
     "output_type": "stream",
     "text": [
      "Output:\n",
      " f1_h=0.49921\tprec_h=0.59915\trec_h=0.42785\n",
      "[2, 20] loss: 892.742\n",
      "[2, 40] loss: 892.053\n"
     ]
    },
    {
     "name": "stderr",
     "output_type": "stream",
     "text": [
      "100%|██████████| 4/4 [00:00<00:00, 14.52it/s]\n"
     ]
    },
    {
     "name": "stdout",
     "output_type": "stream",
     "text": [
      "Output:\n",
      " f1_h=0.49221\tprec_h=0.62598\trec_h=0.40554\n",
      "[3, 20] loss: 865.038\n",
      "[3, 40] loss: 860.364\n"
     ]
    },
    {
     "name": "stderr",
     "output_type": "stream",
     "text": [
      "100%|██████████| 4/4 [00:00<00:00, 12.47it/s]\n"
     ]
    },
    {
     "name": "stdout",
     "output_type": "stream",
     "text": [
      "Output:\n",
      " f1_h=0.55529\tprec_h=0.66137\trec_h=0.47854\n",
      "[4, 20] loss: 820.578\n",
      "[4, 40] loss: 853.731\n"
     ]
    },
    {
     "name": "stderr",
     "output_type": "stream",
     "text": [
      "100%|██████████| 4/4 [00:00<00:00, 12.94it/s]\n"
     ]
    },
    {
     "name": "stdout",
     "output_type": "stream",
     "text": [
      "Output:\n",
      " f1_h=0.57222\tprec_h=0.68488\trec_h=0.49138\n",
      "[5, 20] loss: 815.729\n",
      "[5, 40] loss: 846.259\n"
     ]
    },
    {
     "name": "stderr",
     "output_type": "stream",
     "text": [
      "100%|██████████| 4/4 [00:00<00:00, 12.62it/s]\n"
     ]
    },
    {
     "name": "stdout",
     "output_type": "stream",
     "text": [
      "Output:\n",
      " f1_h=0.60509\tprec_h=0.69692\trec_h=0.53464\n",
      "[6, 20] loss: 834.457\n",
      "[6, 40] loss: 801.933\n"
     ]
    },
    {
     "name": "stderr",
     "output_type": "stream",
     "text": [
      "100%|██████████| 4/4 [00:00<00:00, 13.49it/s]\n"
     ]
    },
    {
     "name": "stdout",
     "output_type": "stream",
     "text": [
      "Output:\n",
      " f1_h=0.62243\tprec_h=0.68924\trec_h=0.56742\n",
      "[7, 20] loss: 793.913\n",
      "[7, 40] loss: 769.774\n"
     ]
    },
    {
     "name": "stderr",
     "output_type": "stream",
     "text": [
      "100%|██████████| 4/4 [00:00<00:00, 12.19it/s]\n"
     ]
    },
    {
     "name": "stdout",
     "output_type": "stream",
     "text": [
      "Output:\n",
      " f1_h=0.65233\tprec_h=0.64841\trec_h=0.65630\n",
      "[8, 20] loss: 727.584\n",
      "[8, 40] loss: 758.582\n"
     ]
    },
    {
     "name": "stderr",
     "output_type": "stream",
     "text": [
      "100%|██████████| 4/4 [00:00<00:00, 13.95it/s]\n"
     ]
    },
    {
     "name": "stdout",
     "output_type": "stream",
     "text": [
      "Output:\n",
      " f1_h=0.63976\tprec_h=0.67175\trec_h=0.61068\n",
      "[9, 20] loss: 724.997\n",
      "[9, 40] loss: 701.412\n"
     ]
    },
    {
     "name": "stderr",
     "output_type": "stream",
     "text": [
      "100%|██████████| 4/4 [00:00<00:00, 12.50it/s]\n"
     ]
    },
    {
     "name": "stdout",
     "output_type": "stream",
     "text": [
      "Output:\n",
      " f1_h=0.65489\tprec_h=0.67152\trec_h=0.63907\n",
      "[10, 20] loss: 697.628\n",
      "[10, 40] loss: 675.338\n"
     ]
    },
    {
     "name": "stderr",
     "output_type": "stream",
     "text": [
      "100%|██████████| 4/4 [00:00<00:00, 13.72it/s]\n"
     ]
    },
    {
     "name": "stdout",
     "output_type": "stream",
     "text": [
      "Output:\n",
      " f1_h=0.66385\tprec_h=0.66329\trec_h=0.66441\n",
      "[11, 20] loss: 656.854\n",
      "[11, 40] loss: 645.354\n"
     ]
    },
    {
     "name": "stderr",
     "output_type": "stream",
     "text": [
      "100%|██████████| 4/4 [00:00<00:00, 14.16it/s]\n"
     ]
    },
    {
     "name": "stdout",
     "output_type": "stream",
     "text": [
      "Output:\n",
      " f1_h=0.66101\tprec_h=0.67767\trec_h=0.64515\n",
      "[12, 20] loss: 624.867\n",
      "[12, 40] loss: 642.564\n"
     ]
    },
    {
     "name": "stderr",
     "output_type": "stream",
     "text": [
      "100%|██████████| 4/4 [00:00<00:00, 13.86it/s]\n"
     ]
    },
    {
     "name": "stdout",
     "output_type": "stream",
     "text": [
      "Output:\n",
      " f1_h=0.67166\tprec_h=0.69303\trec_h=0.65157\n",
      "[13, 20] loss: 586.986\n",
      "[13, 40] loss: 603.564\n"
     ]
    },
    {
     "name": "stderr",
     "output_type": "stream",
     "text": [
      "100%|██████████| 4/4 [00:00<00:00, 13.78it/s]\n"
     ]
    },
    {
     "name": "stdout",
     "output_type": "stream",
     "text": [
      "Output:\n",
      " f1_h=0.66450\tprec_h=0.67220\trec_h=0.65698\n",
      "[14, 20] loss: 559.670\n",
      "[14, 40] loss: 564.239\n"
     ]
    },
    {
     "name": "stderr",
     "output_type": "stream",
     "text": [
      "100%|██████████| 4/4 [00:00<00:00, 14.56it/s]\n"
     ]
    },
    {
     "name": "stdout",
     "output_type": "stream",
     "text": [
      "Output:\n",
      " f1_h=0.66585\tprec_h=0.68602\trec_h=0.64684\n",
      "[15, 20] loss: 539.025\n",
      "[15, 40] loss: 537.700\n"
     ]
    },
    {
     "name": "stderr",
     "output_type": "stream",
     "text": [
      "100%|██████████| 4/4 [00:00<00:00, 13.23it/s]\n"
     ]
    },
    {
     "name": "stdout",
     "output_type": "stream",
     "text": [
      "Output:\n",
      " f1_h=0.66846\tprec_h=0.66678\trec_h=0.67016\n",
      "[16, 20] loss: 506.308\n",
      "[16, 40] loss: 508.175\n"
     ]
    },
    {
     "name": "stderr",
     "output_type": "stream",
     "text": [
      "100%|██████████| 4/4 [00:00<00:00, 13.04it/s]\n"
     ]
    },
    {
     "name": "stdout",
     "output_type": "stream",
     "text": [
      "Output:\n",
      " f1_h=0.66837\tprec_h=0.67482\trec_h=0.66205\n",
      "[17, 20] loss: 494.976\n",
      "[17, 40] loss: 500.067\n"
     ]
    },
    {
     "name": "stderr",
     "output_type": "stream",
     "text": [
      "100%|██████████| 4/4 [00:00<00:00, 14.50it/s]\n"
     ]
    },
    {
     "name": "stdout",
     "output_type": "stream",
     "text": [
      "Output:\n",
      " f1_h=0.66982\tprec_h=0.69646\trec_h=0.64515\n",
      "[18, 20] loss: 477.046\n",
      "[18, 40] loss: 476.080\n"
     ]
    },
    {
     "name": "stderr",
     "output_type": "stream",
     "text": [
      "100%|██████████| 4/4 [00:00<00:00, 14.42it/s]\n"
     ]
    },
    {
     "name": "stdout",
     "output_type": "stream",
     "text": [
      "Output:\n",
      " f1_h=0.66988\tprec_h=0.68330\trec_h=0.65698\n",
      "[19, 20] loss: 443.888\n",
      "[19, 40] loss: 450.497\n"
     ]
    },
    {
     "name": "stderr",
     "output_type": "stream",
     "text": [
      "100%|██████████| 4/4 [00:00<00:00, 15.98it/s]\n"
     ]
    },
    {
     "name": "stdout",
     "output_type": "stream",
     "text": [
      "Output:\n",
      " f1_h=0.67185\tprec_h=0.68779\trec_h=0.65664\n",
      "[20, 20] loss: 431.879\n",
      "[20, 40] loss: 427.667\n"
     ]
    },
    {
     "name": "stderr",
     "output_type": "stream",
     "text": [
      "100%|██████████| 4/4 [00:00<00:00, 15.08it/s]\n"
     ]
    },
    {
     "name": "stdout",
     "output_type": "stream",
     "text": [
      "Output:\n",
      " f1_h=0.66435\tprec_h=0.68209\trec_h=0.64752\n",
      "[21, 20] loss: 422.963\n",
      "[21, 40] loss: 405.989\n"
     ]
    },
    {
     "name": "stderr",
     "output_type": "stream",
     "text": [
      "100%|██████████| 4/4 [00:00<00:00, 14.40it/s]\n"
     ]
    },
    {
     "name": "stdout",
     "output_type": "stream",
     "text": [
      "Output:\n",
      " f1_h=0.67034\tprec_h=0.68427\trec_h=0.65698\n",
      "[22, 20] loss: 392.854\n",
      "[22, 40] loss: 407.337\n"
     ]
    },
    {
     "name": "stderr",
     "output_type": "stream",
     "text": [
      "100%|██████████| 4/4 [00:00<00:00, 14.99it/s]\n"
     ]
    },
    {
     "name": "stdout",
     "output_type": "stream",
     "text": [
      "Output:\n",
      " f1_h=0.66620\tprec_h=0.69653\trec_h=0.63839\n",
      "[23, 20] loss: 383.114\n",
      "[23, 40] loss: 379.535\n"
     ]
    },
    {
     "name": "stderr",
     "output_type": "stream",
     "text": [
      "100%|██████████| 4/4 [00:00<00:00, 12.78it/s]\n"
     ]
    },
    {
     "name": "stdout",
     "output_type": "stream",
     "text": [
      "Output:\n",
      " f1_h=0.66667\tprec_h=0.69756\trec_h=0.63839\n",
      "[24, 20] loss: 364.112\n",
      "[24, 40] loss: 349.014\n"
     ]
    },
    {
     "name": "stderr",
     "output_type": "stream",
     "text": [
      "100%|██████████| 4/4 [00:00<00:00, 14.09it/s]\n"
     ]
    },
    {
     "name": "stdout",
     "output_type": "stream",
     "text": [
      "Output:\n",
      " f1_h=0.67190\tprec_h=0.69430\trec_h=0.65090\n",
      "[25, 20] loss: 340.486\n",
      "[25, 40] loss: 332.704\n"
     ]
    },
    {
     "name": "stderr",
     "output_type": "stream",
     "text": [
      "100%|██████████| 4/4 [00:00<00:00, 13.84it/s]\n"
     ]
    },
    {
     "name": "stdout",
     "output_type": "stream",
     "text": [
      "Output:\n",
      " f1_h=0.66326\tprec_h=0.69373\trec_h=0.63535\n",
      "[26, 20] loss: 315.596\n",
      "[26, 40] loss: 313.966\n"
     ]
    },
    {
     "name": "stderr",
     "output_type": "stream",
     "text": [
      "100%|██████████| 4/4 [00:00<00:00, 14.88it/s]\n"
     ]
    },
    {
     "name": "stdout",
     "output_type": "stream",
     "text": [
      "Output:\n",
      " f1_h=0.66434\tprec_h=0.68510\trec_h=0.64481\n",
      "[27, 20] loss: 292.769\n",
      "[27, 40] loss: 308.671\n"
     ]
    },
    {
     "name": "stderr",
     "output_type": "stream",
     "text": [
      "100%|██████████| 4/4 [00:00<00:00, 12.45it/s]\n"
     ]
    },
    {
     "name": "stdout",
     "output_type": "stream",
     "text": [
      "Output:\n",
      " f1_h=0.66725\tprec_h=0.68632\trec_h=0.64921\n",
      "[28, 20] loss: 262.421\n",
      "[28, 40] loss: 291.295\n"
     ]
    },
    {
     "name": "stderr",
     "output_type": "stream",
     "text": [
      "100%|██████████| 4/4 [00:00<00:00, 14.12it/s]\n"
     ]
    },
    {
     "name": "stdout",
     "output_type": "stream",
     "text": [
      "Output:\n",
      " f1_h=0.65957\tprec_h=0.69417\trec_h=0.62825\n",
      "[29, 20] loss: 253.465\n",
      "[29, 40] loss: 257.045\n"
     ]
    },
    {
     "name": "stderr",
     "output_type": "stream",
     "text": [
      "100%|██████████| 4/4 [00:00<00:00, 13.37it/s]\n"
     ]
    },
    {
     "name": "stdout",
     "output_type": "stream",
     "text": [
      "Output:\n",
      " f1_h=0.66538\tprec_h=0.69276\trec_h=0.64008\n",
      "[30, 20] loss: 235.219\n",
      "[30, 40] loss: 239.395\n"
     ]
    },
    {
     "name": "stderr",
     "output_type": "stream",
     "text": [
      "100%|██████████| 4/4 [00:00<00:00, 14.57it/s]\n"
     ]
    },
    {
     "name": "stdout",
     "output_type": "stream",
     "text": [
      "Output:\n",
      " f1_h=0.66481\tprec_h=0.68457\trec_h=0.64616\n",
      "[31, 20] loss: 234.883\n",
      "[31, 40] loss: 222.877\n"
     ]
    },
    {
     "name": "stderr",
     "output_type": "stream",
     "text": [
      "100%|██████████| 4/4 [00:00<00:00, 14.00it/s]\n"
     ]
    },
    {
     "name": "stdout",
     "output_type": "stream",
     "text": [
      "Output:\n",
      " f1_h=0.66063\tprec_h=0.69611\trec_h=0.62859\n",
      "[32, 20] loss: 186.174\n",
      "[32, 40] loss: 201.887\n"
     ]
    },
    {
     "name": "stderr",
     "output_type": "stream",
     "text": [
      "100%|██████████| 4/4 [00:00<00:00, 13.86it/s]\n"
     ]
    },
    {
     "name": "stdout",
     "output_type": "stream",
     "text": [
      "Output:\n",
      " f1_h=0.66183\tprec_h=0.67679\trec_h=0.64752\n",
      "[33, 20] loss: 189.324\n",
      "[33, 40] loss: 183.221\n"
     ]
    },
    {
     "name": "stderr",
     "output_type": "stream",
     "text": [
      "100%|██████████| 4/4 [00:00<00:00, 14.69it/s]\n"
     ]
    },
    {
     "name": "stdout",
     "output_type": "stream",
     "text": [
      "Output:\n",
      " f1_h=0.66045\tprec_h=0.68920\trec_h=0.63400\n",
      "[34, 20] loss: 166.176\n",
      "[34, 40] loss: 166.323\n"
     ]
    },
    {
     "name": "stderr",
     "output_type": "stream",
     "text": [
      "100%|██████████| 4/4 [00:00<00:00, 13.94it/s]\n"
     ]
    },
    {
     "name": "stdout",
     "output_type": "stream",
     "text": [
      "Output:\n",
      " f1_h=0.66461\tprec_h=0.67420\trec_h=0.65529\n",
      "[35, 20] loss: 155.810\n",
      "[35, 40] loss: 157.448\n"
     ]
    },
    {
     "name": "stderr",
     "output_type": "stream",
     "text": [
      "100%|██████████| 4/4 [00:00<00:00, 14.19it/s]\n"
     ]
    },
    {
     "name": "stdout",
     "output_type": "stream",
     "text": [
      "Output:\n",
      " f1_h=0.66077\tprec_h=0.69354\trec_h=0.63096\n",
      "[36, 20] loss: 139.777\n",
      "[36, 40] loss: 153.382\n"
     ]
    },
    {
     "name": "stderr",
     "output_type": "stream",
     "text": [
      "100%|██████████| 4/4 [00:00<00:00, 13.02it/s]\n"
     ]
    },
    {
     "name": "stdout",
     "output_type": "stream",
     "text": [
      "Output:\n",
      " f1_h=0.66000\tprec_h=0.68663\trec_h=0.63535\n",
      "[37, 20] loss: 138.288\n",
      "[37, 40] loss: 130.601\n"
     ]
    },
    {
     "name": "stderr",
     "output_type": "stream",
     "text": [
      "100%|██████████| 4/4 [00:00<00:00, 14.99it/s]\n"
     ]
    },
    {
     "name": "stdout",
     "output_type": "stream",
     "text": [
      "Output:\n",
      " f1_h=0.66025\tprec_h=0.69819\trec_h=0.62623\n",
      "[38, 20] loss: 117.766\n",
      "[38, 40] loss: 123.672\n"
     ]
    },
    {
     "name": "stderr",
     "output_type": "stream",
     "text": [
      "100%|██████████| 4/4 [00:00<00:00, 12.25it/s]\n"
     ]
    },
    {
     "name": "stdout",
     "output_type": "stream",
     "text": [
      "Output:\n",
      " f1_h=0.66177\tprec_h=0.68614\trec_h=0.63907\n",
      "[39, 20] loss: 114.931\n",
      "[39, 40] loss: 120.536\n"
     ]
    },
    {
     "name": "stderr",
     "output_type": "stream",
     "text": [
      "100%|██████████| 4/4 [00:00<00:00, 12.88it/s]\n"
     ]
    },
    {
     "name": "stdout",
     "output_type": "stream",
     "text": [
      "Output:\n",
      " f1_h=0.65934\tprec_h=0.68170\trec_h=0.63839\n",
      "[40, 20] loss: 103.980\n",
      "[40, 40] loss: 117.067\n"
     ]
    },
    {
     "name": "stderr",
     "output_type": "stream",
     "text": [
      "100%|██████████| 4/4 [00:00<00:00, 13.47it/s]\n"
     ]
    },
    {
     "name": "stdout",
     "output_type": "stream",
     "text": [
      "Output:\n",
      " f1_h=0.65963\tprec_h=0.67589\trec_h=0.64414\n",
      "[41, 20] loss: 102.103\n",
      "[41, 40] loss: 103.594\n"
     ]
    },
    {
     "name": "stderr",
     "output_type": "stream",
     "text": [
      "100%|██████████| 4/4 [00:00<00:00, 13.05it/s]\n"
     ]
    },
    {
     "name": "stdout",
     "output_type": "stream",
     "text": [
      "Output:\n",
      " f1_h=0.65811\tprec_h=0.70762\trec_h=0.61507\n",
      "[42, 20] loss: 98.776\n",
      "[42, 40] loss: 95.356\n"
     ]
    },
    {
     "name": "stderr",
     "output_type": "stream",
     "text": [
      "100%|██████████| 4/4 [00:00<00:00, 14.72it/s]\n"
     ]
    },
    {
     "name": "stdout",
     "output_type": "stream",
     "text": [
      "Output:\n",
      " f1_h=0.65968\tprec_h=0.70901\trec_h=0.61676\n",
      "[43, 20] loss: 86.486\n",
      "[43, 40] loss: 99.713\n"
     ]
    },
    {
     "name": "stderr",
     "output_type": "stream",
     "text": [
      "100%|██████████| 4/4 [00:00<00:00, 14.11it/s]\n"
     ]
    },
    {
     "name": "stdout",
     "output_type": "stream",
     "text": [
      "Output:\n",
      " f1_h=0.65491\tprec_h=0.70027\trec_h=0.61507\n",
      "[44, 20] loss: 82.998\n",
      "[44, 40] loss: 86.484\n"
     ]
    },
    {
     "name": "stderr",
     "output_type": "stream",
     "text": [
      "100%|██████████| 4/4 [00:00<00:00, 15.16it/s]\n"
     ]
    },
    {
     "name": "stdout",
     "output_type": "stream",
     "text": [
      "Output:\n",
      " f1_h=0.65913\tprec_h=0.69034\trec_h=0.63062\n",
      "[45, 20] loss: 79.975\n",
      "[45, 40] loss: 81.302\n"
     ]
    },
    {
     "name": "stderr",
     "output_type": "stream",
     "text": [
      "100%|██████████| 4/4 [00:00<00:00, 13.87it/s]\n"
     ]
    },
    {
     "name": "stdout",
     "output_type": "stream",
     "text": [
      "Output:\n",
      " f1_h=0.65777\tprec_h=0.69433\trec_h=0.62487\n",
      "[46, 20] loss: 74.923\n",
      "[46, 40] loss: 74.243\n"
     ]
    },
    {
     "name": "stderr",
     "output_type": "stream",
     "text": [
      "100%|██████████| 4/4 [00:00<00:00, 13.17it/s]\n"
     ]
    },
    {
     "name": "stdout",
     "output_type": "stream",
     "text": [
      "Output:\n",
      " f1_h=0.66068\tprec_h=0.69010\trec_h=0.63366\n",
      "[47, 20] loss: 71.639\n",
      "[47, 40] loss: 68.933\n"
     ]
    },
    {
     "name": "stderr",
     "output_type": "stream",
     "text": [
      "100%|██████████| 4/4 [00:00<00:00, 14.39it/s]\n"
     ]
    },
    {
     "name": "stdout",
     "output_type": "stream",
     "text": [
      "Output:\n",
      " f1_h=0.65740\tprec_h=0.69518\trec_h=0.62352\n",
      "[48, 20] loss: 66.226\n",
      "[48, 40] loss: 60.743\n"
     ]
    },
    {
     "name": "stderr",
     "output_type": "stream",
     "text": [
      "100%|██████████| 4/4 [00:00<00:00, 13.30it/s]\n"
     ]
    },
    {
     "name": "stdout",
     "output_type": "stream",
     "text": [
      "Output:\n",
      " f1_h=0.65746\tprec_h=0.70000\trec_h=0.61980\n",
      "[49, 20] loss: 51.285\n",
      "[49, 40] loss: 63.672\n"
     ]
    },
    {
     "name": "stderr",
     "output_type": "stream",
     "text": [
      "100%|██████████| 4/4 [00:00<00:00, 14.53it/s]\n"
     ]
    },
    {
     "name": "stdout",
     "output_type": "stream",
     "text": [
      "Output:\n",
      " f1_h=0.66162\tprec_h=0.69016\trec_h=0.63535\n",
      "[50, 20] loss: 56.189\n",
      "[50, 40] loss: 59.255\n"
     ]
    },
    {
     "name": "stderr",
     "output_type": "stream",
     "text": [
      "100%|██████████| 4/4 [00:00<00:00, 14.30it/s]\n"
     ]
    },
    {
     "name": "stdout",
     "output_type": "stream",
     "text": [
      "Output:\n",
      " f1_h=0.65383\tprec_h=0.69912\trec_h=0.61406\n",
      "[51, 20] loss: 53.580\n",
      "[51, 40] loss: 55.988\n"
     ]
    },
    {
     "name": "stderr",
     "output_type": "stream",
     "text": [
      "100%|██████████| 4/4 [00:00<00:00, 13.07it/s]\n"
     ]
    },
    {
     "name": "stdout",
     "output_type": "stream",
     "text": [
      "Output:\n",
      " f1_h=0.65777\tprec_h=0.70550\trec_h=0.61609\n",
      "[52, 20] loss: 47.822\n",
      "[52, 40] loss: 54.133\n"
     ]
    },
    {
     "name": "stderr",
     "output_type": "stream",
     "text": [
      "100%|██████████| 4/4 [00:00<00:00, 14.84it/s]\n"
     ]
    },
    {
     "name": "stdout",
     "output_type": "stream",
     "text": [
      "Output:\n",
      " f1_h=0.65479\tprec_h=0.70000\trec_h=0.61507\n",
      "[53, 20] loss: 44.962\n",
      "[53, 40] loss: 45.223\n"
     ]
    },
    {
     "name": "stderr",
     "output_type": "stream",
     "text": [
      "100%|██████████| 4/4 [00:00<00:00, 13.65it/s]\n"
     ]
    },
    {
     "name": "stdout",
     "output_type": "stream",
     "text": [
      "Output:\n",
      " f1_h=0.66024\tprec_h=0.70027\trec_h=0.62454\n",
      "[54, 20] loss: 39.641\n",
      "[54, 40] loss: 44.902\n"
     ]
    },
    {
     "name": "stderr",
     "output_type": "stream",
     "text": [
      "100%|██████████| 4/4 [00:00<00:00, 14.75it/s]\n"
     ]
    },
    {
     "name": "stdout",
     "output_type": "stream",
     "text": [
      "Output:\n",
      " f1_h=0.65885\tprec_h=0.69464\trec_h=0.62656\n",
      "[55, 20] loss: 37.874\n",
      "[55, 40] loss: 38.525\n"
     ]
    },
    {
     "name": "stderr",
     "output_type": "stream",
     "text": [
      "100%|██████████| 4/4 [00:00<00:00, 14.24it/s]\n"
     ]
    },
    {
     "name": "stdout",
     "output_type": "stream",
     "text": [
      "Output:\n",
      " f1_h=0.65649\tprec_h=0.69147\trec_h=0.62487\n",
      "[56, 20] loss: 39.497\n",
      "[56, 40] loss: 40.447\n"
     ]
    },
    {
     "name": "stderr",
     "output_type": "stream",
     "text": [
      "100%|██████████| 4/4 [00:00<00:00, 13.93it/s]\n"
     ]
    },
    {
     "name": "stdout",
     "output_type": "stream",
     "text": [
      "Output:\n",
      " f1_h=0.65785\tprec_h=0.68794\trec_h=0.63028\n",
      "[57, 20] loss: 31.977\n",
      "[57, 40] loss: 36.567\n"
     ]
    },
    {
     "name": "stderr",
     "output_type": "stream",
     "text": [
      "100%|██████████| 4/4 [00:00<00:00, 14.95it/s]\n"
     ]
    },
    {
     "name": "stdout",
     "output_type": "stream",
     "text": [
      "Output:\n",
      " f1_h=0.65956\tprec_h=0.70874\trec_h=0.61676\n",
      "[58, 20] loss: 32.609\n",
      "[58, 40] loss: 32.104\n"
     ]
    },
    {
     "name": "stderr",
     "output_type": "stream",
     "text": [
      "100%|██████████| 4/4 [00:00<00:00, 14.96it/s]\n"
     ]
    },
    {
     "name": "stdout",
     "output_type": "stream",
     "text": [
      "Output:\n",
      " f1_h=0.65761\tprec_h=0.69776\trec_h=0.62183\n",
      "[59, 20] loss: 30.387\n",
      "[59, 40] loss: 27.538\n"
     ]
    },
    {
     "name": "stderr",
     "output_type": "stream",
     "text": [
      "100%|██████████| 4/4 [00:00<00:00, 14.01it/s]\n"
     ]
    },
    {
     "name": "stdout",
     "output_type": "stream",
     "text": [
      "Output:\n",
      " f1_h=0.65517\tprec_h=0.69912\trec_h=0.61642\n",
      "[60, 20] loss: 22.367\n",
      "[60, 40] loss: 25.765\n"
     ]
    },
    {
     "name": "stderr",
     "output_type": "stream",
     "text": [
      "100%|██████████| 4/4 [00:00<00:00, 13.16it/s]\n"
     ]
    },
    {
     "name": "stdout",
     "output_type": "stream",
     "text": [
      "Output:\n",
      " f1_h=0.64902\tprec_h=0.68401\trec_h=0.61744\n",
      "[61, 20] loss: 22.885\n",
      "[61, 40] loss: 23.351\n"
     ]
    },
    {
     "name": "stderr",
     "output_type": "stream",
     "text": [
      "100%|██████████| 4/4 [00:00<00:00, 14.29it/s]\n"
     ]
    },
    {
     "name": "stdout",
     "output_type": "stream",
     "text": [
      "Output:\n",
      " f1_h=0.66074\tprec_h=0.68201\trec_h=0.64076\n",
      "[62, 20] loss: 17.998\n",
      "[62, 40] loss: 24.555\n"
     ]
    },
    {
     "name": "stderr",
     "output_type": "stream",
     "text": [
      "100%|██████████| 4/4 [00:00<00:00, 14.45it/s]\n"
     ]
    },
    {
     "name": "stdout",
     "output_type": "stream",
     "text": [
      "Output:\n",
      " f1_h=0.65776\tprec_h=0.70636\trec_h=0.61541\n",
      "[63, 20] loss: 18.863\n",
      "[63, 40] loss: 18.495\n"
     ]
    },
    {
     "name": "stderr",
     "output_type": "stream",
     "text": [
      "100%|██████████| 4/4 [00:00<00:00, 12.58it/s]\n"
     ]
    },
    {
     "name": "stdout",
     "output_type": "stream",
     "text": [
      "Output:\n",
      " f1_h=0.65782\tprec_h=0.70080\trec_h=0.61980\n",
      "[64, 20] loss: 15.044\n",
      "[64, 40] loss: 19.962\n"
     ]
    },
    {
     "name": "stderr",
     "output_type": "stream",
     "text": [
      "100%|██████████| 4/4 [00:00<00:00, 13.22it/s]\n"
     ]
    },
    {
     "name": "stdout",
     "output_type": "stream",
     "text": [
      "Output:\n",
      " f1_h=0.65674\tprec_h=0.69079\trec_h=0.62589\n",
      "[65, 20] loss: 17.300\n",
      "[65, 40] loss: 18.443\n"
     ]
    },
    {
     "name": "stderr",
     "output_type": "stream",
     "text": [
      "100%|██████████| 4/4 [00:00<00:00, 13.50it/s]\n"
     ]
    },
    {
     "name": "stdout",
     "output_type": "stream",
     "text": [
      "Output:\n",
      " f1_h=0.65080\tprec_h=0.69178\trec_h=0.61440\n",
      "[66, 20] loss: 14.292\n",
      "[66, 40] loss: 17.737\n"
     ]
    },
    {
     "name": "stderr",
     "output_type": "stream",
     "text": [
      "100%|██████████| 4/4 [00:00<00:00, 13.66it/s]\n"
     ]
    },
    {
     "name": "stdout",
     "output_type": "stream",
     "text": [
      "Output:\n",
      " f1_h=0.65720\tprec_h=0.68294\trec_h=0.63332\n",
      "[67, 20] loss: 13.310\n",
      "[67, 40] loss: 14.305\n"
     ]
    },
    {
     "name": "stderr",
     "output_type": "stream",
     "text": [
      "100%|██████████| 4/4 [00:00<00:00, 13.77it/s]\n"
     ]
    },
    {
     "name": "stdout",
     "output_type": "stream",
     "text": [
      "Output:\n",
      " f1_h=0.65786\tprec_h=0.70838\trec_h=0.61406\n",
      "[68, 20] loss: 8.419\n",
      "[68, 40] loss: 13.230\n"
     ]
    },
    {
     "name": "stderr",
     "output_type": "stream",
     "text": [
      "100%|██████████| 4/4 [00:00<00:00, 11.41it/s]\n"
     ]
    },
    {
     "name": "stdout",
     "output_type": "stream",
     "text": [
      "Output:\n",
      " f1_h=0.65996\tprec_h=0.70437\trec_h=0.62082\n",
      "[69, 20] loss: 9.139\n",
      "[69, 40] loss: 11.341\n"
     ]
    },
    {
     "name": "stderr",
     "output_type": "stream",
     "text": [
      "100%|██████████| 4/4 [00:00<00:00, 12.38it/s]\n"
     ]
    },
    {
     "name": "stdout",
     "output_type": "stream",
     "text": [
      "Output:\n",
      " f1_h=0.64889\tprec_h=0.68455\trec_h=0.61676\n",
      "[70, 20] loss: 8.012\n",
      "[70, 40] loss: 13.074\n"
     ]
    },
    {
     "name": "stderr",
     "output_type": "stream",
     "text": [
      "100%|██████████| 4/4 [00:00<00:00, 14.02it/s]\n"
     ]
    },
    {
     "name": "stdout",
     "output_type": "stream",
     "text": [
      "Output:\n",
      " f1_h=0.65173\tprec_h=0.71388\trec_h=0.59953\n",
      "[71, 20] loss: 8.805\n",
      "[71, 40] loss: 12.132\n"
     ]
    },
    {
     "name": "stderr",
     "output_type": "stream",
     "text": [
      "100%|██████████| 4/4 [00:00<00:00, 12.98it/s]\n"
     ]
    },
    {
     "name": "stdout",
     "output_type": "stream",
     "text": [
      "Output:\n",
      " f1_h=0.65462\tprec_h=0.70357\trec_h=0.61203\n",
      "[72, 20] loss: 10.635\n",
      "[72, 40] loss: 10.020\n"
     ]
    },
    {
     "name": "stderr",
     "output_type": "stream",
     "text": [
      "100%|██████████| 4/4 [00:00<00:00, 14.49it/s]\n"
     ]
    },
    {
     "name": "stdout",
     "output_type": "stream",
     "text": [
      "Output:\n",
      " f1_h=0.65626\tprec_h=0.69985\trec_h=0.61778\n",
      "[73, 20] loss: 10.164\n",
      "[73, 40] loss: 11.556\n"
     ]
    },
    {
     "name": "stderr",
     "output_type": "stream",
     "text": [
      "100%|██████████| 4/4 [00:00<00:00, 12.99it/s]\n"
     ]
    },
    {
     "name": "stdout",
     "output_type": "stream",
     "text": [
      "Output:\n",
      " f1_h=0.65556\tprec_h=0.69783\trec_h=0.61811\n",
      "[74, 20] loss: 6.649\n",
      "[74, 40] loss: 9.078\n"
     ]
    },
    {
     "name": "stderr",
     "output_type": "stream",
     "text": [
      "100%|██████████| 4/4 [00:00<00:00, 12.99it/s]\n"
     ]
    },
    {
     "name": "stdout",
     "output_type": "stream",
     "text": [
      "Output:\n",
      " f1_h=0.65361\tprec_h=0.68390\trec_h=0.62589\n",
      "[75, 20] loss: 6.713\n",
      "[75, 40] loss: 9.022\n"
     ]
    },
    {
     "name": "stderr",
     "output_type": "stream",
     "text": [
      "100%|██████████| 4/4 [00:00<00:00, 13.46it/s]\n"
     ]
    },
    {
     "name": "stdout",
     "output_type": "stream",
     "text": [
      "Output:\n",
      " f1_h=0.65301\tprec_h=0.69040\trec_h=0.61947\n",
      "[76, 20] loss: 8.314\n",
      "[76, 40] loss: 6.490\n"
     ]
    },
    {
     "name": "stderr",
     "output_type": "stream",
     "text": [
      "100%|██████████| 4/4 [00:00<00:00, 13.81it/s]\n"
     ]
    },
    {
     "name": "stdout",
     "output_type": "stream",
     "text": [
      "Output:\n",
      " f1_h=0.65412\tprec_h=0.70378\trec_h=0.61102\n",
      "[77, 20] loss: 11.551\n",
      "[77, 40] loss: 7.498\n"
     ]
    },
    {
     "name": "stderr",
     "output_type": "stream",
     "text": [
      "100%|██████████| 4/4 [00:00<00:00, 13.84it/s]\n"
     ]
    },
    {
     "name": "stdout",
     "output_type": "stream",
     "text": [
      "Output:\n",
      " f1_h=0.65354\tprec_h=0.69456\trec_h=0.61710\n",
      "[78, 20] loss: 7.192\n",
      "[78, 40] loss: 8.645\n"
     ]
    },
    {
     "name": "stderr",
     "output_type": "stream",
     "text": [
      "100%|██████████| 4/4 [00:00<00:00, 13.80it/s]\n"
     ]
    },
    {
     "name": "stdout",
     "output_type": "stream",
     "text": [
      "Output:\n",
      " f1_h=0.65632\tprec_h=0.70438\trec_h=0.61440\n",
      "[79, 20] loss: 6.006\n",
      "[79, 40] loss: 11.322\n"
     ]
    },
    {
     "name": "stderr",
     "output_type": "stream",
     "text": [
      "100%|██████████| 4/4 [00:00<00:00, 14.41it/s]\n"
     ]
    },
    {
     "name": "stdout",
     "output_type": "stream",
     "text": [
      "Output:\n",
      " f1_h=0.65770\tprec_h=0.70053\trec_h=0.61980\n",
      "[80, 20] loss: 5.344\n",
      "[80, 40] loss: 6.540\n"
     ]
    },
    {
     "name": "stderr",
     "output_type": "stream",
     "text": [
      "100%|██████████| 4/4 [00:00<00:00, 11.72it/s]\n"
     ]
    },
    {
     "name": "stdout",
     "output_type": "stream",
     "text": [
      "Output:\n",
      " f1_h=0.65497\tprec_h=0.68089\trec_h=0.63096\n",
      "[81, 20] loss: 5.570\n",
      "[81, 40] loss: 8.752\n"
     ]
    },
    {
     "name": "stderr",
     "output_type": "stream",
     "text": [
      "100%|██████████| 4/4 [00:00<00:00, 13.98it/s]\n"
     ]
    },
    {
     "name": "stdout",
     "output_type": "stream",
     "text": [
      "Output:\n",
      " f1_h=0.65612\tprec_h=0.71024\trec_h=0.60967\n",
      "[82, 20] loss: 5.254\n",
      "[82, 40] loss: 7.006\n"
     ]
    },
    {
     "name": "stderr",
     "output_type": "stream",
     "text": [
      "100%|██████████| 4/4 [00:00<00:00, 13.88it/s]\n"
     ]
    },
    {
     "name": "stdout",
     "output_type": "stream",
     "text": [
      "Output:\n",
      " f1_h=0.65881\tprec_h=0.69833\trec_h=0.62352\n",
      "[83, 20] loss: 6.894\n",
      "[83, 40] loss: 6.137\n"
     ]
    },
    {
     "name": "stderr",
     "output_type": "stream",
     "text": [
      "100%|██████████| 4/4 [00:00<00:00, 12.18it/s]\n"
     ]
    },
    {
     "name": "stdout",
     "output_type": "stream",
     "text": [
      "Output:\n",
      " f1_h=0.65542\tprec_h=0.70724\trec_h=0.61068\n",
      "[84, 20] loss: 4.959\n",
      "[84, 40] loss: 8.624\n"
     ]
    },
    {
     "name": "stderr",
     "output_type": "stream",
     "text": [
      "100%|██████████| 4/4 [00:00<00:00, 13.84it/s]\n"
     ]
    },
    {
     "name": "stdout",
     "output_type": "stream",
     "text": [
      "Output:\n",
      " f1_h=0.65546\tprec_h=0.70462\trec_h=0.61271\n",
      "[85, 20] loss: 5.530\n",
      "[85, 40] loss: 5.317\n"
     ]
    },
    {
     "name": "stderr",
     "output_type": "stream",
     "text": [
      "100%|██████████| 4/4 [00:00<00:00, 13.34it/s]\n"
     ]
    },
    {
     "name": "stdout",
     "output_type": "stream",
     "text": [
      "Output:\n",
      " f1_h=0.65711\tprec_h=0.69920\trec_h=0.61980\n",
      "[86, 20] loss: 6.807\n",
      "[86, 40] loss: 6.125\n"
     ]
    },
    {
     "name": "stderr",
     "output_type": "stream",
     "text": [
      "100%|██████████| 4/4 [00:00<00:00, 14.36it/s]\n"
     ]
    },
    {
     "name": "stdout",
     "output_type": "stream",
     "text": [
      "Output:\n",
      " f1_h=0.65348\tprec_h=0.70544\trec_h=0.60865\n",
      "[87, 20] loss: 3.804\n",
      "[87, 40] loss: 5.794\n"
     ]
    },
    {
     "name": "stderr",
     "output_type": "stream",
     "text": [
      "100%|██████████| 4/4 [00:00<00:00, 13.35it/s]\n"
     ]
    },
    {
     "name": "stdout",
     "output_type": "stream",
     "text": [
      "Output:\n",
      " f1_h=0.65273\tprec_h=0.70641\trec_h=0.60662\n",
      "[88, 20] loss: 5.444\n",
      "[88, 40] loss: 6.100\n"
     ]
    },
    {
     "name": "stderr",
     "output_type": "stream",
     "text": [
      "100%|██████████| 4/4 [00:00<00:00, 12.02it/s]\n"
     ]
    },
    {
     "name": "stdout",
     "output_type": "stream",
     "text": [
      "Output:\n",
      " f1_h=0.65150\tprec_h=0.70584\trec_h=0.60493\n",
      "[89, 20] loss: 6.621\n",
      "[89, 40] loss: 5.014\n"
     ]
    },
    {
     "name": "stderr",
     "output_type": "stream",
     "text": [
      "100%|██████████| 4/4 [00:00<00:00, 12.66it/s]\n"
     ]
    },
    {
     "name": "stdout",
     "output_type": "stream",
     "text": [
      "Output:\n",
      " f1_h=0.65307\tprec_h=0.70089\trec_h=0.61136\n",
      "[90, 20] loss: 4.459\n",
      "[90, 40] loss: 6.822\n"
     ]
    },
    {
     "name": "stderr",
     "output_type": "stream",
     "text": [
      "100%|██████████| 4/4 [00:00<00:00, 13.27it/s]\n"
     ]
    },
    {
     "name": "stdout",
     "output_type": "stream",
     "text": [
      "Output:\n",
      " f1_h=0.65566\tprec_h=0.70779\trec_h=0.61068\n",
      "[91, 20] loss: 5.030\n",
      "[91, 40] loss: 5.455\n"
     ]
    },
    {
     "name": "stderr",
     "output_type": "stream",
     "text": [
      "100%|██████████| 4/4 [00:00<00:00, 12.60it/s]\n"
     ]
    },
    {
     "name": "stdout",
     "output_type": "stream",
     "text": [
      "Output:\n",
      " f1_h=0.65464\tprec_h=0.70186\trec_h=0.61338\n",
      "[92, 20] loss: 3.872\n",
      "[92, 40] loss: 7.176\n"
     ]
    },
    {
     "name": "stderr",
     "output_type": "stream",
     "text": [
      "100%|██████████| 4/4 [00:00<00:00, 13.24it/s]\n"
     ]
    },
    {
     "name": "stdout",
     "output_type": "stream",
     "text": [
      "Output:\n",
      " f1_h=0.65265\tprec_h=0.71852\trec_h=0.59784\n",
      "[93, 20] loss: 4.300\n",
      "[93, 40] loss: 8.260\n"
     ]
    },
    {
     "name": "stderr",
     "output_type": "stream",
     "text": [
      "100%|██████████| 4/4 [00:00<00:00, 12.57it/s]\n"
     ]
    },
    {
     "name": "stdout",
     "output_type": "stream",
     "text": [
      "Output:\n",
      " f1_h=0.65995\tprec_h=0.69174\trec_h=0.63096\n",
      "[94, 20] loss: 5.730\n",
      "[94, 40] loss: 4.850\n"
     ]
    },
    {
     "name": "stderr",
     "output_type": "stream",
     "text": [
      "100%|██████████| 4/4 [00:00<00:00, 14.07it/s]\n"
     ]
    },
    {
     "name": "stdout",
     "output_type": "stream",
     "text": [
      "Output:\n",
      " f1_h=0.66334\tprec_h=0.70090\trec_h=0.62960\n",
      "[95, 20] loss: 3.948\n",
      "[95, 40] loss: 6.144\n"
     ]
    },
    {
     "name": "stderr",
     "output_type": "stream",
     "text": [
      "100%|██████████| 4/4 [00:00<00:00, 13.70it/s]\n"
     ]
    },
    {
     "name": "stdout",
     "output_type": "stream",
     "text": [
      "Output:\n",
      " f1_h=0.65486\tprec_h=0.70369\trec_h=0.61237\n",
      "[96, 20] loss: 8.007\n",
      "[96, 40] loss: 8.058\n"
     ]
    },
    {
     "name": "stderr",
     "output_type": "stream",
     "text": [
      "100%|██████████| 4/4 [00:00<00:00, 12.68it/s]\n"
     ]
    },
    {
     "name": "stdout",
     "output_type": "stream",
     "text": [
      "Output:\n",
      " f1_h=0.65530\tprec_h=0.69049\trec_h=0.62352\n",
      "[97, 20] loss: 5.532\n",
      "[97, 40] loss: 7.102\n"
     ]
    },
    {
     "name": "stderr",
     "output_type": "stream",
     "text": [
      "100%|██████████| 4/4 [00:00<00:00, 13.29it/s]\n"
     ]
    },
    {
     "name": "stdout",
     "output_type": "stream",
     "text": [
      "Output:\n",
      " f1_h=0.65490\tprec_h=0.70922\trec_h=0.60831\n",
      "[98, 20] loss: 6.127\n",
      "[98, 40] loss: 4.391\n"
     ]
    },
    {
     "name": "stderr",
     "output_type": "stream",
     "text": [
      "100%|██████████| 4/4 [00:00<00:00, 13.82it/s]\n"
     ]
    },
    {
     "name": "stdout",
     "output_type": "stream",
     "text": [
      "Output:\n",
      " f1_h=0.65757\tprec_h=0.70111\trec_h=0.61913\n",
      "[99, 20] loss: 7.675\n",
      "[99, 40] loss: 4.862\n"
     ]
    },
    {
     "name": "stderr",
     "output_type": "stream",
     "text": [
      "100%|██████████| 4/4 [00:00<00:00, 12.48it/s]\n"
     ]
    },
    {
     "name": "stdout",
     "output_type": "stream",
     "text": [
      "Output:\n",
      " f1_h=0.65478\tprec_h=0.69268\trec_h=0.62082\n",
      "[100, 20] loss: 6.311\n",
      "[100, 40] loss: 5.290\n"
     ]
    },
    {
     "name": "stderr",
     "output_type": "stream",
     "text": [
      "100%|██████████| 4/4 [00:00<00:00, 14.54it/s]\n"
     ]
    },
    {
     "name": "stdout",
     "output_type": "stream",
     "text": [
      "Output:\n",
      " f1_h=0.65503\tprec_h=0.70054\trec_h=0.61507\n"
     ]
    }
   ],
   "source": [
    "from modules.nn.MultiModal import MultiModalBaseline\n",
    "\n",
    "model = MultiModalBaseline(img_feature_size=512, text_feature_size=3072)\n",
    "model.to(device)\n",
    "optimizer = torch.optim.Adam(model.parameters(), lr=0.0001)\n",
    "\n",
    "min_val_loss = float('inf')\n",
    "best_epoch = None\n",
    "\n",
    "train_loss_history = []\n",
    "val_loss_history = []\n",
    "\n",
    "for epoch in range(num_epochs):\n",
    "    model.train()\n",
    "    running_loss = 0.0\n",
    "    for batch_idx, batch in enumerate(train_dataloader):\n",
    "        \n",
    "        y_1, y_2, y_3 = batch['level_1_target'], batch['level_2_target'], batch['level_3_target']\n",
    "        y_4, y_5 = batch['level_4_target'], batch['level_5_target']\n",
    "        \n",
    "        \n",
    "        images_features = batch['image_features']\n",
    "        text_features = batch['text_features']\n",
    "        \n",
    "        \n",
    "        y_1, y_2, y_3, y_4, y_5 = y_1.to(device), y_2.to(device), y_3.to(device), y_4.to(device), y_5.to(device)\n",
    "        \n",
    "        images_features = images_features.to(device)\n",
    "        text_features = text_features.to(device)\n",
    "        \n",
    "        \n",
    "        optimizer.zero_grad()\n",
    "        pred_1, pred_2, pred_3, pred_4, pred_5 = model(text_features, images_features)\n",
    "        # loss_ = loss(pred_1, y_1) + loss(pred_2, y_2) + loss(pred_3, y_3) + loss(pred_4, y_4) + loss(pred_5, y_5)\n",
    "        \n",
    "        dloss = HL.calculate_dloss([pred_1, pred_2, pred_3, pred_4, pred_5], [y_1, y_2, y_3, y_4, y_5])\n",
    "        lloss = HL.calculate_lloss([pred_1, pred_2, pred_3, pred_4, pred_5], [y_1, y_2, y_3, y_4, y_5])\n",
    "\n",
    "        total_loss = lloss + dloss\n",
    "        # loss_.backward()\n",
    "        \n",
    "        total_loss.backward()\n",
    "        optimizer.step()\n",
    "        \n",
    "        running_loss += total_loss.detach().item()\n",
    "        \n",
    "        if batch_idx % 20 == 19:\n",
    "            print(f\"[{epoch + 1}, {batch_idx + 1}] loss: {running_loss / 20:.3f}\")\n",
    "            running_loss = 0.0\n",
    "            \n",
    "    running_loss /= len(train_dataloader)\n",
    "    \n",
    "    val_pred_file_path = './Predictions/val_predictions_subtask2a.json'\n",
    "    val_gold_file_path = './semeval2024_dev_release/subtask2a/validation.json'\n",
    "    evaluator_script = './scorer-baseline/subtask_1_2a.py'\n",
    "    validation_loss = evaluate_model(model, test_dataloader, val_pred_file_path, val_gold_file_path, evaluator_script,\n",
    "                   id2leaf_label_subtask_2a, validation=True)\n",
    "    \n",
    "    train_loss_history.append(running_loss)\n",
    "    val_loss_history.append(validation_loss)\n",
    "    \n",
    "    if validation_loss < min_val_loss:\n",
    "        min_val_loss = validation_loss\n",
    "        best_epoch = epoch\n",
    "        # torch.save(model.state_dict(), './models/subtask2a/best_subtask2a_baseline.pt')\n",
    "    "
   ]
  },
  {
   "cell_type": "code",
   "execution_count": 12,
   "id": "11b594737818087c",
   "metadata": {
    "collapsed": false,
    "ExecuteTime": {
     "end_time": "2024-04-24T05:31:04.928675Z",
     "start_time": "2024-04-24T05:31:04.033929Z"
    }
   },
   "outputs": [],
   "source": [
    "torch.save(model.state_dict(), './models/subtask2a/ViT-OpenAI-Large/vit_openai_large.pt')"
   ]
  },
  {
   "cell_type": "code",
   "execution_count": 33,
   "id": "ff33c61a6dbf4257",
   "metadata": {
    "ExecuteTime": {
     "end_time": "2024-03-30T23:47:56.085786Z",
     "start_time": "2024-03-30T23:47:55.518839Z"
    },
    "collapsed": false
   },
   "outputs": [
    {
     "data": {
      "text/plain": [
       "<All keys matched successfully>"
      ]
     },
     "execution_count": 33,
     "metadata": {},
     "output_type": "execute_result"
    }
   ],
   "source": [
    "model.load_state_dict(torch.load('./models/subtask2a/best_subtask2a_baseline.pt'))"
   ]
  },
  {
   "cell_type": "code",
   "execution_count": 34,
   "id": "eed9c748",
   "metadata": {},
   "outputs": [
    {
     "data": {
      "text/plain": [
       "<All keys matched successfully>"
      ]
     },
     "execution_count": 34,
     "metadata": {},
     "output_type": "execute_result"
    }
   ],
   "source": [
    "model.load_state_dict(torch.load('./models/subtask2a/subtask_2a_multilingual_baseline.pt'))"
   ]
  },
  {
   "cell_type": "code",
   "outputs": [],
   "source": [],
   "metadata": {
    "collapsed": false
   },
   "id": "fda8031635902acc"
  },
  {
   "cell_type": "code",
   "outputs": [],
   "source": [],
   "metadata": {
    "collapsed": false
   },
   "id": "bd5dfa2cececae2"
  },
  {
   "cell_type": "markdown",
   "source": [
    "### Evaluation"
   ],
   "metadata": {
    "collapsed": false
   },
   "id": "95e01608d3353c26"
  },
  {
   "cell_type": "code",
   "outputs": [],
   "source": [
    "from tqdm import tqdm\n",
    "import json\n",
    "import subprocess\n",
    "from torch.utils.data import DataLoader"
   ],
   "metadata": {
    "collapsed": false,
    "ExecuteTime": {
     "end_time": "2024-04-27T21:14:59.042544Z",
     "start_time": "2024-04-27T21:14:59.040910Z"
    }
   },
   "id": "dec86cba1f1d44ec",
   "execution_count": 18
  },
  {
   "cell_type": "markdown",
   "source": [
    "### OpenAI Small + CLIP"
   ],
   "metadata": {
    "collapsed": false
   },
   "id": "755032f1ec85c1aa"
  },
  {
   "cell_type": "code",
   "outputs": [
    {
     "data": {
      "text/plain": "<All keys matched successfully>"
     },
     "execution_count": 19,
     "metadata": {},
     "output_type": "execute_result"
    }
   ],
   "source": [
    "from modules.nn.MultiModal import MultiModalBaseline\n",
    "\n",
    "model = MultiModalBaseline(512, 1536)\n",
    "model.load_state_dict(torch.load('models/subtask2a/MultiModal-OpenAI-Small/splendid-sweep-4.pth'))"
   ],
   "metadata": {
    "collapsed": false,
    "ExecuteTime": {
     "end_time": "2024-04-27T21:15:00.036266Z",
     "start_time": "2024-04-27T21:14:59.803551Z"
    }
   },
   "id": "e31686a59f95223f",
   "execution_count": 19
  },
  {
   "cell_type": "code",
   "execution_count": 20,
   "id": "df3858d8-8c31-4306-8270-44ba225bea3c",
   "metadata": {
    "ExecuteTime": {
     "end_time": "2024-04-27T21:15:02.028153Z",
     "start_time": "2024-04-27T21:15:01.219612Z"
    }
   },
   "outputs": [
    {
     "name": "stderr",
     "output_type": "stream",
     "text": [
      "100%|██████████| 2/2 [00:00<00:00, 50.73it/s]\n"
     ]
    },
    {
     "name": "stdout",
     "output_type": "stream",
     "text": [
      "Output:\n",
      " f1_h=0.52780\tprec_h=0.47657\trec_h=0.59136\n"
     ]
    }
   ],
   "source": [
    "ar_pred_file_path = './Predictions/subtask2a/ar_predictions_subtask2a.txt'\n",
    "ar_gold_file_path = './test_labels_ar_bg_md_version2/test_subtask2a_ar.json'\n",
    "evaluator_script = './scorer-baseline/subtask_1_2a.py'\n",
    "\n",
    "ar_test_data = process_json(ar_gold_file_path, techniques_to_level_2a, hierarchy_subtask_2a)\n",
    "ar_test_dataset = TestDataSet(df=ar_test_data, \n",
    "                          text_features_file='./TextFeatures/subtask2a/text-embedding-3-small/ar_test_text_features.pkl',\n",
    "                          image_features_file='./ImageFeatures/CLIP-ViT/ar_test_images_features.pkl')\n",
    "\n",
    "ar_test_dataloader =  DataLoader(ar_test_dataset, batch_size=64, shuffle=True)\n",
    "\n",
    "evaluate_model(model, ar_test_dataloader, ar_pred_file_path, ar_gold_file_path, evaluator_script, \n",
    "               id2leaf_label_subtask_2a, format=5, validation=False, threshold=0.3)"
   ]
  },
  {
   "cell_type": "code",
   "execution_count": 21,
   "id": "da082eef-b1af-438f-a8bb-ba20b0958a82",
   "metadata": {
    "ExecuteTime": {
     "end_time": "2024-04-27T21:15:10.932591Z",
     "start_time": "2024-04-27T21:15:10.141745Z"
    }
   },
   "outputs": [
    {
     "name": "stderr",
     "output_type": "stream",
     "text": [
      "100%|██████████| 7/7 [00:00<00:00, 43.03it/s]\n"
     ]
    },
    {
     "name": "stdout",
     "output_type": "stream",
     "text": [
      "Output:\n",
      " f1_h=0.64443\tprec_h=0.64928\trec_h=0.63966\n"
     ]
    }
   ],
   "source": [
    "bg_pred_file_path = './Predictions/subtask2a/bg_predictions_subtask2a.txt'\n",
    "bg_gold_file_path = './test_labels_ar_bg_md_version2/test_subtask2a_bg.json'\n",
    "\n",
    "bg_test_data = process_json(bg_gold_file_path, techniques_to_level_2a, hierarchy_subtask_2a)\n",
    "bg_test_dataset = DataSet(bg_test_data, indexed_persuasion_techniques_2a, \n",
    "                           text_features_file='./TextFeatures/subtask2a/text-embedding-3-small/bg_test_text_features.pkl',\n",
    "                          image_features_file='./ImageFeatures/CLIP-ViT/bulgarian_test_images_features.pkl')\n",
    "\n",
    "bg_test_dataloader = DataLoader(bg_test_dataset, batch_size=64, shuffle=True)\n",
    "\n",
    "evaluate_model(model, bg_test_dataloader, bg_pred_file_path, bg_gold_file_path, evaluator_script, \n",
    "               id2leaf_label_subtask_2a, threshold=0.3)"
   ]
  },
  {
   "cell_type": "code",
   "execution_count": 22,
   "id": "d8d59d97-e954-4b1d-af02-e9bf1c2cd025",
   "metadata": {
    "ExecuteTime": {
     "end_time": "2024-04-27T21:15:31.861360Z",
     "start_time": "2024-04-27T21:15:31.033634Z"
    }
   },
   "outputs": [
    {
     "name": "stderr",
     "output_type": "stream",
     "text": [
      "100%|██████████| 5/5 [00:00<00:00, 44.21it/s]\n"
     ]
    },
    {
     "name": "stdout",
     "output_type": "stream",
     "text": [
      "Output:\n",
      " f1_h=0.67714\tprec_h=0.71721\trec_h=0.64130\n"
     ]
    }
   ],
   "source": [
    "\n",
    "md_pred_file_path = './Predictions/subtask2a/md_predictions_subtask2a.txt'\n",
    "md_gold_file_path = 'test_labels_ar_bg_md_version2/test_subtask2a_md.json'\n",
    "\n",
    "md_test_data = process_json(md_gold_file_path, techniques_to_level_2a, hierarchy_subtask_2a)\n",
    "md_test_dataset = DataSet(md_test_data, indexed_persuasion_techniques_2a, \n",
    "                          text_features_file='./TextFeatures/subtask2a/text-embedding-3-small/md_test_text_features.pkl',\n",
    "                          image_features_file='./ImageFeatures/CLIP-ViT/nm_test_images_features.pkl')\n",
    "\n",
    "md_test_dataloader = DataLoader(md_test_dataset, batch_size=64, shuffle=True)\n",
    "\n",
    "evaluate_model(model, md_test_dataloader, md_pred_file_path, md_gold_file_path, evaluator_script, \n",
    "               id2leaf_label_subtask_2a, threshold=0.3)"
   ]
  },
  {
   "cell_type": "code",
   "execution_count": 23,
   "id": "08ef5903-e3b7-4831-ba61-77d8861c9f72",
   "metadata": {
    "ExecuteTime": {
     "end_time": "2024-04-27T21:16:14.429458Z",
     "start_time": "2024-04-27T21:16:13.981033Z"
    }
   },
   "outputs": [
    {
     "name": "stderr",
     "output_type": "stream",
     "text": [
      "100%|██████████| 24/24 [00:00<00:00, 59.39it/s]\n"
     ]
    }
   ],
   "source": [
    "en_pred_file_path = './Predictions/subtask2a/en_predictions_subtask2a.txt'\n",
    "\n",
    "eng_test_data = process_test_json('./test_data/english/en_subtask2a_test_unlabeled.json')\n",
    "\n",
    "eng_test_dataset = TestDataSet(eng_test_data, \n",
    "                               './TextFeatures/subtask2a/text-embedding-3-small/en_test_text_features.pkl',\n",
    "                               './ImageFeatures/CLIP-ViT/english_test_images_features.pkl')\n",
    "eng_test_dataloader = DataLoader(eng_test_dataset, batch_size=64, shuffle=True)\n",
    "\n",
    "evaluate_model(model, eng_test_dataloader, en_pred_file_path, None, evaluator_script, \n",
    "               id2leaf_label_subtask_2a, threshold=0.4)"
   ]
  },
  {
   "cell_type": "markdown",
   "source": [
    "0.64640\t0.76090\t0.56184"
   ],
   "metadata": {
    "collapsed": false
   },
   "id": "afd4347daa9e51cb"
  },
  {
   "cell_type": "markdown",
   "source": [
    "### OpenAI Large + CLIP"
   ],
   "metadata": {
    "collapsed": false
   },
   "id": "e4913f477f98dc01"
  },
  {
   "cell_type": "code",
   "outputs": [
    {
     "data": {
      "text/plain": "<All keys matched successfully>"
     },
     "execution_count": 24,
     "metadata": {},
     "output_type": "execute_result"
    }
   ],
   "source": [
    "from modules.nn.MultiModal import MultiModalBaseline\n",
    "\n",
    "model = MultiModalBaseline(512, 3072)\n",
    "model.load_state_dict(torch.load('models/subtask2a/MultiModal-OpenAI-Large/fresh-sweep-3.pth'))"
   ],
   "metadata": {
    "collapsed": false,
    "ExecuteTime": {
     "end_time": "2024-04-27T21:17:55.760471Z",
     "start_time": "2024-04-27T21:17:55.308158Z"
    }
   },
   "id": "d31c5ce230988518",
   "execution_count": 24
  },
  {
   "cell_type": "code",
   "outputs": [
    {
     "name": "stderr",
     "output_type": "stream",
     "text": [
      "100%|██████████| 2/2 [00:00<00:00, 41.44it/s]\n"
     ]
    },
    {
     "name": "stdout",
     "output_type": "stream",
     "text": [
      "Output:\n",
      " f1_h=0.52197\tprec_h=0.44014\trec_h=0.64120\n"
     ]
    }
   ],
   "source": [
    "ar_pred_file_path = './Predictions/subtask2a/ar_predictions_subtask2a.txt'\n",
    "ar_gold_file_path = './test_labels_ar_bg_md_version2/test_subtask2a_ar.json'\n",
    "evaluator_script = './scorer-baseline/subtask_1_2a.py'\n",
    "\n",
    "ar_test_data = process_json(ar_gold_file_path, techniques_to_level_2a, hierarchy_subtask_2a)\n",
    "ar_test_dataset = TestDataSet(df=ar_test_data, \n",
    "                          text_features_file='./TextFeatures/subtask2a/text-embedding-3-large/ar_test_text_features.pkl',\n",
    "                          image_features_file='./ImageFeatures/CLIP-ViT/ar_test_images_features.pkl')\n",
    "\n",
    "ar_test_dataloader =  DataLoader(ar_test_dataset, batch_size=64, shuffle=True)\n",
    "\n",
    "evaluate_model(model, ar_test_dataloader, ar_pred_file_path, ar_gold_file_path, evaluator_script, \n",
    "               id2leaf_label_subtask_2a, format=5, validation=False, threshold=0.3)"
   ],
   "metadata": {
    "collapsed": false,
    "ExecuteTime": {
     "end_time": "2024-04-27T21:18:02.133451Z",
     "start_time": "2024-04-27T21:18:01.407410Z"
    }
   },
   "id": "5c8dfd30f0053645",
   "execution_count": 25
  },
  {
   "cell_type": "code",
   "outputs": [
    {
     "name": "stderr",
     "output_type": "stream",
     "text": [
      "100%|██████████| 7/7 [00:00<00:00, 37.81it/s]\n"
     ]
    },
    {
     "name": "stdout",
     "output_type": "stream",
     "text": [
      "Output:\n",
      " f1_h=0.65849\tprec_h=0.64199\trec_h=0.67586\n"
     ]
    }
   ],
   "source": [
    "bg_pred_file_path = './Predictions/subtask2a/bg_predictions_subtask2a.txt'\n",
    "bg_gold_file_path = './test_labels_ar_bg_md_version2/test_subtask2a_bg.json'\n",
    "\n",
    "bg_test_data = process_json(bg_gold_file_path, techniques_to_level_2a, hierarchy_subtask_2a)\n",
    "bg_test_dataset = DataSet(bg_test_data, indexed_persuasion_techniques_2a, \n",
    "                           text_features_file='./TextFeatures/subtask2a/text-embedding-3-large/bg_test_text_features.pkl',\n",
    "                          image_features_file='./ImageFeatures/CLIP-ViT/bulgarian_test_images_features.pkl')\n",
    "\n",
    "bg_test_dataloader = DataLoader(bg_test_dataset, batch_size=64, shuffle=True)\n",
    "\n",
    "evaluate_model(model, bg_test_dataloader, bg_pred_file_path, bg_gold_file_path, evaluator_script, \n",
    "               id2leaf_label_subtask_2a, threshold=0.3)"
   ],
   "metadata": {
    "collapsed": false,
    "ExecuteTime": {
     "end_time": "2024-04-27T21:18:11.951425Z",
     "start_time": "2024-04-27T21:18:10.982848Z"
    }
   },
   "id": "42d5053765edf09f",
   "execution_count": 26
  },
  {
   "cell_type": "code",
   "outputs": [
    {
     "name": "stderr",
     "output_type": "stream",
     "text": [
      "100%|██████████| 5/5 [00:00<00:00, 35.83it/s]\n"
     ]
    },
    {
     "name": "stdout",
     "output_type": "stream",
     "text": [
      "Output:\n",
      " f1_h=0.68926\tprec_h=0.73154\trec_h=0.65160\n"
     ]
    }
   ],
   "source": [
    "\n",
    "md_pred_file_path = './Predictions/subtask2a/md_predictions_subtask2a.txt'\n",
    "md_gold_file_path = 'test_labels_ar_bg_md_version2/test_subtask2a_md.json'\n",
    "\n",
    "md_test_data = process_json(md_gold_file_path, techniques_to_level_2a, hierarchy_subtask_2a)\n",
    "md_test_dataset = DataSet(md_test_data, indexed_persuasion_techniques_2a, \n",
    "                          text_features_file='./TextFeatures/subtask2a/text-embedding-3-large/md_test_text_features.pkl',\n",
    "                          image_features_file='./ImageFeatures/CLIP-ViT/nm_test_images_features.pkl')\n",
    "\n",
    "md_test_dataloader = DataLoader(md_test_dataset, batch_size=64, shuffle=True)\n",
    "\n",
    "evaluate_model(model, md_test_dataloader, md_pred_file_path, md_gold_file_path, evaluator_script, \n",
    "               id2leaf_label_subtask_2a, threshold=0.3)"
   ],
   "metadata": {
    "collapsed": false,
    "ExecuteTime": {
     "end_time": "2024-04-27T21:18:18.076720Z",
     "start_time": "2024-04-27T21:18:17.275198Z"
    }
   },
   "id": "34257e580e861230",
   "execution_count": 27
  },
  {
   "cell_type": "code",
   "outputs": [
    {
     "name": "stderr",
     "output_type": "stream",
     "text": [
      "100%|██████████| 24/24 [00:00<00:00, 46.77it/s]\n"
     ]
    }
   ],
   "source": [
    "en_pred_file_path = './Predictions/subtask2a/en_predictions_subtask2a.txt'\n",
    "\n",
    "eng_test_data = process_test_json('./test_data/english/en_subtask2a_test_unlabeled.json')\n",
    "\n",
    "eng_test_dataset = TestDataSet(eng_test_data, \n",
    "                               './TextFeatures/subtask2a/text-embedding-3-large/en_test_text_features.pkl',\n",
    "                               './ImageFeatures/CLIP-ViT/english_test_images_features.pkl')\n",
    "eng_test_dataloader = DataLoader(eng_test_dataset, batch_size=64, shuffle=True)\n",
    "\n",
    "evaluate_model(model, eng_test_dataloader, en_pred_file_path, None, evaluator_script, \n",
    "               id2leaf_label_subtask_2a, threshold=0.4)"
   ],
   "metadata": {
    "collapsed": false,
    "ExecuteTime": {
     "end_time": "2024-04-27T21:18:23.368302Z",
     "start_time": "2024-04-27T21:18:22.818442Z"
    }
   },
   "id": "7ed8e149277fbc8b",
   "execution_count": 28
  },
  {
   "cell_type": "markdown",
   "source": [
    "0.65305\t0.76524\t0.56955"
   ],
   "metadata": {
    "collapsed": false
   },
   "id": "1b8e953e96d355df"
  }
 ],
 "metadata": {
  "kernelspec": {
   "display_name": "Python 3 (ipykernel)",
   "language": "python",
   "name": "python3"
  },
  "language_info": {
   "codemirror_mode": {
    "name": "ipython",
    "version": 3
   },
   "file_extension": ".py",
   "mimetype": "text/x-python",
   "name": "python",
   "nbconvert_exporter": "python",
   "pygments_lexer": "ipython3",
   "version": "3.11.7"
  }
 },
 "nbformat": 4,
 "nbformat_minor": 5
}
