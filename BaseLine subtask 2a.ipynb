{
 "cells": [
  {
   "cell_type": "code",
   "execution_count": 1,
   "id": "initial_id",
   "metadata": {
    "ExecuteTime": {
     "end_time": "2024-05-07T03:10:39.259990Z",
     "start_time": "2024-05-07T03:10:36.271575Z"
    }
   },
   "outputs": [],
   "source": [
    "import pandas as pd\n",
    "import matplotlib.pyplot as plt\n",
    "import numpy as np\n",
    "import torch\n",
    "from torch import nn\n",
    "import nltk\n",
    "from utils.utils import *\n",
    "from utils.label_decoding import *\n",
    "from utils.HierarchicalLoss import *\n",
    "\n",
    "import torchvision.models as models"
   ]
  },
  {
   "cell_type": "code",
   "execution_count": 2,
   "id": "1da0a16f7a320bc",
   "metadata": {
    "collapsed": false,
    "ExecuteTime": {
     "end_time": "2024-05-07T03:10:42.469036Z",
     "start_time": "2024-05-07T03:10:42.462047Z"
    }
   },
   "outputs": [],
   "source": [
    "from torch.utils.data import Dataset\n",
    "import pickle\n",
    "\n",
    "class DataSet(Dataset):\n",
    "    def __init__(self, df, labels_at_level, text_features_file, image_features_file, max_len=128):\n",
    "        super(DataSet, self).__init__()\n",
    "        self.data_df = df\n",
    "        self.labels_at_level = labels_at_level\n",
    "        # self.tokenizer = tokenizer\n",
    "        self.max_len = max_len\n",
    "        # self.image_folder = image_folder\n",
    "        self.image_features = None\n",
    "        self.text_features = None\n",
    "        \n",
    "        with open(image_features_file, 'rb') as f:\n",
    "          self.image_features = pickle.load(f)\n",
    "        \n",
    "        with open(text_features_file, 'rb') as f:\n",
    "            self.text_features = pickle.load(f)\n",
    "\n",
    "    def __len__(self):\n",
    "        return len(self.data_df)\n",
    "\n",
    "    def __getitem__(self, idx):\n",
    "        id = self.data_df.iloc[idx]['id']\n",
    "        text = self.data_df.iloc[idx]['cleaned_text']\n",
    "        image_name = self.data_df.iloc[idx]['image']\n",
    "        level_1_target = self.encode(self.data_df.iloc[idx]['Level 1'], 1)\n",
    "        level_2_target = self.encode(self.data_df.iloc[idx]['Level 2'], 2)\n",
    "        level_3_target = self.encode(self.data_df.iloc[idx]['Level 3'], 3)\n",
    "        level_4_target = self.encode(self.data_df.iloc[idx]['Level 4'], 4)\n",
    "        level_5_target = self.encode(self.data_df.iloc[idx]['Level 5'], 5)\n",
    "\n",
    "        # Tokenize text\n",
    "        # encoded_input = tokenizer(text, return_tensors='pt', add_special_tokens=True, \n",
    "        #                           max_length=self.max_len, truncation=True, padding='max_length')\n",
    "        # ids = inputs['input_ids']\n",
    "        # mask = inputs['attention_mask']\n",
    "        # token_type_ids = inputs[\"token_type_ids\"]\n",
    "        image_features = self.image_features[image_name]\n",
    "        text_features = self.text_features[id]\n",
    "\n",
    "        return {\n",
    "            'id': id,\n",
    "            'text': text,\n",
    "            # 'image': image,\n",
    "            'image_features': image_features,  \n",
    "            # 'input_ids': torch.tensor(ids, dtype=torch.long),\n",
    "            # 'attention_mask': torch.tensor(mask, dtype=torch.long),\n",
    "            # 'token_type_ids': torch.tensor(token_type_ids, dtype=torch.long),\n",
    "            'text_features': text_features,\n",
    "            'level_1_target': level_1_target,\n",
    "            'level_2_target': level_2_target,\n",
    "            'level_3_target': level_3_target,\n",
    "            'level_4_target': level_4_target,\n",
    "            'level_5_target': level_5_target\n",
    "        }\n",
    "\n",
    "    def encode(self, labels, level):\n",
    "        level_ = f'Level {level}'\n",
    "        target = torch.zeros(len(self.labels_at_level[level_]) + 1)\n",
    "        for label in labels:\n",
    "            label_idx = self.labels_at_level[level_][label]\n",
    "            target[label_idx] = 1\n",
    "        if len(labels) == 0:\n",
    "            target[-1] = 1\n",
    "        return target"
   ]
  },
  {
   "cell_type": "code",
   "execution_count": 3,
   "id": "4e118c5b-16e1-4fa5-8b2b-2a9814ccb3b9",
   "metadata": {
    "ExecuteTime": {
     "end_time": "2024-05-07T03:10:43.243901Z",
     "start_time": "2024-05-07T03:10:43.240284Z"
    }
   },
   "outputs": [],
   "source": [
    "class TestDataSet(Dataset):\n",
    "    def __init__(self, df, text_features_file, image_features_file, max_len=128):\n",
    "        super(TestDataSet, self).__init__()\n",
    "        self.data_df = df\n",
    "        \n",
    "        self.image_features = None\n",
    "        self.text_features = None\n",
    "        self.max_len = max_len\n",
    "        # self.tokenizer = tokenizer\n",
    "        with open(image_features_file, 'rb') as f:\n",
    "            self.image_features = pickle.load(f)\n",
    "            \n",
    "        with open(text_features_file, 'rb') as f:\n",
    "            self.text_features = pickle.load(f)\n",
    "            \n",
    "    \n",
    "    def __len__(self):\n",
    "        return len(self.data_df)\n",
    "    \n",
    "    def __getitem__(self, idx):\n",
    "        id = self.data_df.iloc[idx]['id']\n",
    "        text = self.data_df.iloc[idx]['cleaned_text']\n",
    "        image_name = self.data_df.iloc[idx]['image']\n",
    "        # encoded_input = self.tokenizer(text, return_tensors='pt', add_special_tokens=True, \n",
    "        #                           max_length=self.max_len, truncation=True, padding='max_length')\n",
    "        text_features = self.text_features[id]\n",
    "        \n",
    "        return {'id': id,\n",
    "                'text': text,\n",
    "                'text_features': text_features,\n",
    "                'image_features': self.image_features[image_name] }"
   ]
  },
  {
   "cell_type": "code",
   "execution_count": 4,
   "id": "bf98506560ee3b49",
   "metadata": {
    "collapsed": false,
    "ExecuteTime": {
     "end_time": "2024-05-07T03:10:43.942305Z",
     "start_time": "2024-05-07T03:10:43.936179Z"
    }
   },
   "outputs": [],
   "source": [
    "def evaluate_model(model, dataloader, pred_file_path, gold_file_path, \n",
    "                   evaluator_script_path, id2leaf_label, format=None, validation=False, threshold=0.3):\n",
    "    model.eval()\n",
    "    predictions = []\n",
    "    \n",
    "    HL = HierarchicalLoss(id2label=id2label_subtask_2a, hierarchical_labels=hierarchy_subtask_2a,\n",
    "                        persuasion_techniques=persuasion_techniques_2a, device=device)\n",
    "\n",
    "    total_loss = 0\n",
    "    \n",
    "    \n",
    "    with torch.no_grad():\n",
    "        \n",
    "        for batch in tqdm(dataloader):\n",
    "            if not isinstance(batch['id'], list):\n",
    "                ids = batch['id'].detach().numpy().tolist()\n",
    "            else:\n",
    "                ids = batch['id']\n",
    "        \n",
    "            text_features = batch['text_features']\n",
    "            image_features = batch['image_features']\n",
    "            \n",
    "            text_features = text_features.to(device)\n",
    "            image_features = image_features.to(device)\n",
    "            \n",
    "            pred_1, pred_2, pred_3, pred_4, pred_5 = model(text_features,image_features)\n",
    "            \n",
    "            if validation:\n",
    "                y_1, y_2, y_3 = batch['level_1_target'], batch['level_2_target'], batch['level_3_target']\n",
    "                y_4, y_5 = batch['level_4_target'], batch['level_5_target']\n",
    "                \n",
    "                y_1, y_2, y_3, y_4, y_5 = y_1.to(device), y_2.to(device), y_3.to(device), y_4.to(device), y_5.to(device)\n",
    "                \n",
    "                dloss = HL.calculate_dloss([pred_1, pred_2, pred_3, pred_4, pred_5], [y_1, y_2, y_3, y_4, y_5])\n",
    "                lloss = HL.calculate_lloss([pred_1, pred_2, pred_3, pred_4, pred_5], [y_1, y_2, y_3, y_4, y_5])\n",
    "                \n",
    "                total_loss += (dloss + lloss).detach().cpu().item()\n",
    "                \n",
    "            pred_3 = (pred_3.cpu().detach().numpy() > threshold).astype(int)\n",
    "            pred_4 = (pred_4.cpu().detach().numpy() > threshold).astype(int)\n",
    "            pred_5 = (pred_5.cpu().detach().numpy() > threshold).astype(int)\n",
    "            \n",
    "            predictions += get_labels(id2leaf_label, ids, pred_3, pred_4, pred_5, format)\n",
    "\n",
    "        # Writing JSON data\n",
    "        with open(pred_file_path, 'w') as f:\n",
    "            json.dump(predictions, f, indent=4)\n",
    "        \n",
    "        if gold_file_path is None:\n",
    "            return\n",
    "            \n",
    "        command = [\n",
    "                \"python3\", evaluator_script_path,\n",
    "                \"--gold_file_path\", gold_file_path,\n",
    "                \"--pred_file_path\", pred_file_path\n",
    "        ]\n",
    "        \n",
    "        result = subprocess.run(command, capture_output=True, text=True)\n",
    "        \n",
    "        if result.returncode == 0:\n",
    "            print(\"Output:\\n\", result.stdout)\n",
    "        else:\n",
    "            print(\"Error:\\n\", result.stderr)\n",
    "            \n",
    "        if validation:\n",
    "            return total_loss / len(dataloader)\n",
    "    "
   ]
  },
  {
   "cell_type": "code",
   "execution_count": 5,
   "id": "39aa4592cb97a4e1",
   "metadata": {
    "collapsed": false,
    "ExecuteTime": {
     "end_time": "2024-05-07T03:10:46.224924Z",
     "start_time": "2024-05-07T03:10:45.416966Z"
    }
   },
   "outputs": [],
   "source": [
    "train_data = process_json('./semeval2024_dev_release/subtask2a/train.json', \n",
    "                          techniques_to_level_2a, hierarchy_subtask_2a)\n",
    "# val_data = \n",
    "test_data = process_json('./semeval2024_dev_release/subtask2a/validation.json',\n",
    "                         techniques_to_level_2a, hierarchy_subtask_2a)"
   ]
  },
  {
   "cell_type": "code",
   "execution_count": 6,
   "id": "cb74ddce3a0b85cc",
   "metadata": {
    "collapsed": false,
    "ExecuteTime": {
     "end_time": "2024-05-07T03:10:47.211294Z",
     "start_time": "2024-05-07T03:10:47.209278Z"
    }
   },
   "outputs": [],
   "source": [
    "# from transformers import BertTokenizer, BertModel\n",
    "# \n",
    "# tokenizer = BertTokenizer.from_pretrained('bert-base-multilingual-cased')"
   ]
  },
  {
   "cell_type": "code",
   "execution_count": 7,
   "id": "7dabb33d4cebeb36",
   "metadata": {
    "collapsed": false,
    "ExecuteTime": {
     "end_time": "2024-05-07T03:11:08.698805Z",
     "start_time": "2024-05-07T03:11:08.635734Z"
    }
   },
   "outputs": [],
   "source": [
    "from torch.utils.data import DataLoader\n",
    "\n",
    "training_dataset = DataSet(train_data, indexed_persuasion_techniques_2a, \n",
    "                           text_features_file='./TextFeatures/subtask2a/mBERT/train_text_features.pkl',\n",
    "                           image_features_file='./ImageFeatures/ResNet/train_images_features.pkl')\n",
    "test_dataset = DataSet(test_data, indexed_persuasion_techniques_2a, \n",
    "                       text_features_file='./TextFeatures/subtask2a/mBERT/validation_text_features.pkl', \n",
    "                       image_features_file='./ImageFeatures/ResNet/validation_images_features.pkl')"
   ]
  },
  {
   "cell_type": "code",
   "execution_count": 8,
   "id": "f7e4d1a5c631c5a",
   "metadata": {
    "collapsed": false,
    "ExecuteTime": {
     "end_time": "2024-05-07T03:11:13.011661Z",
     "start_time": "2024-05-07T03:11:12.982589Z"
    }
   },
   "outputs": [
    {
     "name": "stdout",
     "output_type": "stream",
     "text": [
      "Using MPS\n"
     ]
    }
   ],
   "source": [
    "from tqdm import tqdm\n",
    "import json\n",
    "import subprocess\n",
    "\n",
    "num_epochs = 100\n",
    "batch_size = 128\n",
    "device = get_device()\n",
    "device = torch.device('cpu')\n",
    "HL = HierarchicalLoss(id2label=id2label_subtask_2a, hierarchical_labels=hierarchy_subtask_2a,\n",
    "                        persuasion_techniques=persuasion_techniques_2a, device=device)\n",
    "\n",
    "train_dataloader = DataLoader(training_dataset, batch_size=batch_size, shuffle=True)\n",
    "test_dataloader = DataLoader(test_dataset, batch_size=batch_size, shuffle=True)\n"
   ]
  },
  {
   "cell_type": "code",
   "outputs": [],
   "source": [
    "alpha = 0.7764469620072395\n",
    "batch_size = 256\n",
    "beta = 0.9992511127909072\n",
    "beta1 = 0.9094170903394552\n",
    "learning_rate = 3.906930058023181e-05\n",
    "threshold = 0.8256232754296409"
   ],
   "metadata": {
    "collapsed": false,
    "ExecuteTime": {
     "end_time": "2024-05-07T03:11:14.879806Z",
     "start_time": "2024-05-07T03:11:14.877297Z"
    }
   },
   "id": "aa5ab5e92b145904",
   "execution_count": 9
  },
  {
   "cell_type": "code",
   "execution_count": 15,
   "id": "1a4b74034639a37f",
   "metadata": {
    "collapsed": false,
    "ExecuteTime": {
     "end_time": "2024-05-07T03:30:01.906377Z",
     "start_time": "2024-05-07T03:12:37.776926Z"
    }
   },
   "outputs": [
    {
     "name": "stdout",
     "output_type": "stream",
     "text": [
      "[1, 20] loss: 946.711\n",
      "[1, 40] loss: 1004.895\n"
     ]
    },
    {
     "name": "stderr",
     "output_type": "stream",
     "text": [
      "100%|██████████| 4/4 [00:00<00:00, 16.10it/s]\n"
     ]
    },
    {
     "name": "stdout",
     "output_type": "stream",
     "text": [
      "Output:\n",
      " f1_h=0.47786\tprec_h=0.66768\trec_h=0.37209\n",
      "[2, 20] loss: 946.138\n",
      "[2, 40] loss: 952.240\n"
     ]
    },
    {
     "name": "stderr",
     "output_type": "stream",
     "text": [
      "100%|██████████| 4/4 [00:00<00:00, 16.86it/s]\n"
     ]
    },
    {
     "name": "stdout",
     "output_type": "stream",
     "text": [
      "Output:\n",
      " f1_h=0.51831\tprec_h=0.65648\trec_h=0.42819\n",
      "[3, 20] loss: 878.148\n",
      "[3, 40] loss: 915.148\n"
     ]
    },
    {
     "name": "stderr",
     "output_type": "stream",
     "text": [
      "100%|██████████| 4/4 [00:00<00:00, 16.92it/s]\n"
     ]
    },
    {
     "name": "stdout",
     "output_type": "stream",
     "text": [
      "Output:\n",
      " f1_h=0.57523\tprec_h=0.65683\trec_h=0.51166\n",
      "[4, 20] loss: 834.381\n",
      "[4, 40] loss: 847.335\n"
     ]
    },
    {
     "name": "stderr",
     "output_type": "stream",
     "text": [
      "100%|██████████| 4/4 [00:00<00:00, 16.83it/s]\n"
     ]
    },
    {
     "name": "stdout",
     "output_type": "stream",
     "text": [
      "Output:\n",
      " f1_h=0.57714\tprec_h=0.66994\trec_h=0.50693\n",
      "[5, 20] loss: 807.421\n",
      "[5, 40] loss: 825.863\n"
     ]
    },
    {
     "name": "stderr",
     "output_type": "stream",
     "text": [
      "100%|██████████| 4/4 [00:00<00:00, 16.57it/s]\n"
     ]
    },
    {
     "name": "stdout",
     "output_type": "stream",
     "text": [
      "Output:\n",
      " f1_h=0.58519\tprec_h=0.64483\trec_h=0.53565\n",
      "[6, 20] loss: 811.669\n",
      "[6, 40] loss: 818.802\n"
     ]
    },
    {
     "name": "stderr",
     "output_type": "stream",
     "text": [
      "100%|██████████| 4/4 [00:00<00:00, 16.93it/s]\n"
     ]
    },
    {
     "name": "stdout",
     "output_type": "stream",
     "text": [
      "Output:\n",
      " f1_h=0.58638\tprec_h=0.65894\trec_h=0.52822\n",
      "[7, 20] loss: 796.398\n",
      "[7, 40] loss: 781.129\n"
     ]
    },
    {
     "name": "stderr",
     "output_type": "stream",
     "text": [
      "100%|██████████| 4/4 [00:00<00:00, 16.91it/s]\n"
     ]
    },
    {
     "name": "stdout",
     "output_type": "stream",
     "text": [
      "Output:\n",
      " f1_h=0.59609\tprec_h=0.64802\trec_h=0.55188\n",
      "[8, 20] loss: 758.820\n",
      "[8, 40] loss: 727.340\n"
     ]
    },
    {
     "name": "stderr",
     "output_type": "stream",
     "text": [
      "100%|██████████| 4/4 [00:00<00:00, 17.14it/s]\n"
     ]
    },
    {
     "name": "stdout",
     "output_type": "stream",
     "text": [
      "Output:\n",
      " f1_h=0.59986\tprec_h=0.62514\trec_h=0.57655\n",
      "[9, 20] loss: 716.874\n",
      "[9, 40] loss: 698.674\n"
     ]
    },
    {
     "name": "stderr",
     "output_type": "stream",
     "text": [
      "100%|██████████| 4/4 [00:00<00:00, 17.38it/s]\n"
     ]
    },
    {
     "name": "stdout",
     "output_type": "stream",
     "text": [
      "Output:\n",
      " f1_h=0.58982\tprec_h=0.61131\trec_h=0.56979\n",
      "[10, 20] loss: 690.256\n",
      "[10, 40] loss: 658.959\n"
     ]
    },
    {
     "name": "stderr",
     "output_type": "stream",
     "text": [
      "100%|██████████| 4/4 [00:00<00:00, 17.64it/s]\n"
     ]
    },
    {
     "name": "stdout",
     "output_type": "stream",
     "text": [
      "Output:\n",
      " f1_h=0.57424\tprec_h=0.66861\trec_h=0.50321\n",
      "[11, 20] loss: 626.058\n",
      "[11, 40] loss: 638.701\n"
     ]
    },
    {
     "name": "stderr",
     "output_type": "stream",
     "text": [
      "100%|██████████| 4/4 [00:00<00:00, 17.64it/s]\n"
     ]
    },
    {
     "name": "stdout",
     "output_type": "stream",
     "text": [
      "Output:\n",
      " f1_h=0.59240\tprec_h=0.59718\trec_h=0.58770\n",
      "[12, 20] loss: 598.865\n",
      "[12, 40] loss: 583.095\n"
     ]
    },
    {
     "name": "stderr",
     "output_type": "stream",
     "text": [
      "100%|██████████| 4/4 [00:00<00:00, 17.59it/s]\n"
     ]
    },
    {
     "name": "stdout",
     "output_type": "stream",
     "text": [
      "Output:\n",
      " f1_h=0.58634\tprec_h=0.60658\trec_h=0.56742\n",
      "[13, 20] loss: 560.030\n",
      "[13, 40] loss: 551.730\n"
     ]
    },
    {
     "name": "stderr",
     "output_type": "stream",
     "text": [
      "100%|██████████| 4/4 [00:00<00:00, 17.30it/s]\n"
     ]
    },
    {
     "name": "stdout",
     "output_type": "stream",
     "text": [
      "Output:\n",
      " f1_h=0.58305\tprec_h=0.62665\trec_h=0.54512\n",
      "[14, 20] loss: 513.972\n",
      "[14, 40] loss: 522.857\n"
     ]
    },
    {
     "name": "stderr",
     "output_type": "stream",
     "text": [
      "100%|██████████| 4/4 [00:00<00:00, 17.39it/s]\n"
     ]
    },
    {
     "name": "stdout",
     "output_type": "stream",
     "text": [
      "Output:\n",
      " f1_h=0.58463\tprec_h=0.60367\trec_h=0.56675\n",
      "[15, 20] loss: 484.218\n",
      "[15, 40] loss: 449.436\n"
     ]
    },
    {
     "name": "stderr",
     "output_type": "stream",
     "text": [
      "100%|██████████| 4/4 [00:00<00:00, 17.31it/s]\n"
     ]
    },
    {
     "name": "stdout",
     "output_type": "stream",
     "text": [
      "Output:\n",
      " f1_h=0.59004\tprec_h=0.61572\trec_h=0.56641\n",
      "[16, 20] loss: 434.117\n",
      "[16, 40] loss: 450.776\n"
     ]
    },
    {
     "name": "stderr",
     "output_type": "stream",
     "text": [
      "100%|██████████| 4/4 [00:00<00:00, 17.28it/s]\n"
     ]
    },
    {
     "name": "stdout",
     "output_type": "stream",
     "text": [
      "Output:\n",
      " f1_h=0.56350\tprec_h=0.61765\trec_h=0.51808\n",
      "[17, 20] loss: 406.323\n",
      "[17, 40] loss: 395.193\n"
     ]
    },
    {
     "name": "stderr",
     "output_type": "stream",
     "text": [
      "100%|██████████| 4/4 [00:00<00:00, 17.34it/s]\n"
     ]
    },
    {
     "name": "stdout",
     "output_type": "stream",
     "text": [
      "Output:\n",
      " f1_h=0.56167\tprec_h=0.62708\trec_h=0.50862\n",
      "[18, 20] loss: 377.650\n",
      "[18, 40] loss: 364.426\n"
     ]
    },
    {
     "name": "stderr",
     "output_type": "stream",
     "text": [
      "100%|██████████| 4/4 [00:00<00:00, 17.41it/s]\n"
     ]
    },
    {
     "name": "stdout",
     "output_type": "stream",
     "text": [
      "Output:\n",
      " f1_h=0.57514\tprec_h=0.62644\trec_h=0.53160\n",
      "[19, 20] loss: 334.164\n",
      "[19, 40] loss: 323.041\n"
     ]
    },
    {
     "name": "stderr",
     "output_type": "stream",
     "text": [
      "100%|██████████| 4/4 [00:00<00:00, 10.09it/s]\n"
     ]
    },
    {
     "name": "stdout",
     "output_type": "stream",
     "text": [
      "Output:\n",
      " f1_h=0.57684\tprec_h=0.64852\trec_h=0.51943\n",
      "[20, 20] loss: 298.808\n",
      "[20, 40] loss: 289.529\n"
     ]
    },
    {
     "name": "stderr",
     "output_type": "stream",
     "text": [
      "100%|██████████| 4/4 [00:00<00:00, 17.09it/s]\n"
     ]
    },
    {
     "name": "stdout",
     "output_type": "stream",
     "text": [
      "Output:\n",
      " f1_h=0.57137\tprec_h=0.64103\trec_h=0.51538\n",
      "[21, 20] loss: 278.977\n",
      "[21, 40] loss: 263.496\n"
     ]
    },
    {
     "name": "stderr",
     "output_type": "stream",
     "text": [
      "100%|██████████| 4/4 [00:00<00:00, 17.07it/s]\n"
     ]
    },
    {
     "name": "stdout",
     "output_type": "stream",
     "text": [
      "Output:\n",
      " f1_h=0.55568\tprec_h=0.62933\trec_h=0.49747\n",
      "[22, 20] loss: 238.309\n",
      "[22, 40] loss: 234.173\n"
     ]
    },
    {
     "name": "stderr",
     "output_type": "stream",
     "text": [
      "100%|██████████| 4/4 [00:00<00:00, 17.17it/s]\n"
     ]
    },
    {
     "name": "stdout",
     "output_type": "stream",
     "text": [
      "Output:\n",
      " f1_h=0.57987\tprec_h=0.61295\trec_h=0.55019\n",
      "[23, 20] loss: 213.432\n",
      "[23, 40] loss: 209.544\n"
     ]
    },
    {
     "name": "stderr",
     "output_type": "stream",
     "text": [
      "100%|██████████| 4/4 [00:00<00:00, 16.84it/s]\n"
     ]
    },
    {
     "name": "stdout",
     "output_type": "stream",
     "text": [
      "Output:\n",
      " f1_h=0.56149\tprec_h=0.62819\trec_h=0.50760\n",
      "[24, 20] loss: 188.417\n",
      "[24, 40] loss: 189.968\n"
     ]
    },
    {
     "name": "stderr",
     "output_type": "stream",
     "text": [
      "100%|██████████| 4/4 [00:00<00:00, 16.99it/s]\n"
     ]
    },
    {
     "name": "stdout",
     "output_type": "stream",
     "text": [
      "Output:\n",
      " f1_h=0.55903\tprec_h=0.62615\trec_h=0.50490\n",
      "[25, 20] loss: 162.940\n",
      "[25, 40] loss: 155.783\n"
     ]
    },
    {
     "name": "stderr",
     "output_type": "stream",
     "text": [
      "100%|██████████| 4/4 [00:00<00:00, 16.47it/s]\n"
     ]
    },
    {
     "name": "stdout",
     "output_type": "stream",
     "text": [
      "Output:\n",
      " f1_h=0.56246\tprec_h=0.62397\trec_h=0.51200\n",
      "[26, 20] loss: 142.988\n",
      "[26, 40] loss: 148.752\n"
     ]
    },
    {
     "name": "stderr",
     "output_type": "stream",
     "text": [
      "100%|██████████| 4/4 [00:00<00:00, 17.11it/s]\n"
     ]
    },
    {
     "name": "stdout",
     "output_type": "stream",
     "text": [
      "Output:\n",
      " f1_h=0.56880\tprec_h=0.62319\trec_h=0.52315\n",
      "[27, 20] loss: 134.844\n",
      "[27, 40] loss: 134.573\n"
     ]
    },
    {
     "name": "stderr",
     "output_type": "stream",
     "text": [
      "100%|██████████| 4/4 [00:00<00:00, 17.50it/s]\n"
     ]
    },
    {
     "name": "stdout",
     "output_type": "stream",
     "text": [
      "Output:\n",
      " f1_h=0.55776\tprec_h=0.63305\trec_h=0.49848\n",
      "[28, 20] loss: 111.926\n",
      "[28, 40] loss: 120.150\n"
     ]
    },
    {
     "name": "stderr",
     "output_type": "stream",
     "text": [
      "100%|██████████| 4/4 [00:00<00:00, 17.43it/s]\n"
     ]
    },
    {
     "name": "stdout",
     "output_type": "stream",
     "text": [
      "Output:\n",
      " f1_h=0.56269\tprec_h=0.62807\trec_h=0.50963\n",
      "[29, 20] loss: 103.260\n",
      "[29, 40] loss: 100.892\n"
     ]
    },
    {
     "name": "stderr",
     "output_type": "stream",
     "text": [
      "100%|██████████| 4/4 [00:00<00:00, 17.47it/s]\n"
     ]
    },
    {
     "name": "stdout",
     "output_type": "stream",
     "text": [
      "Output:\n",
      " f1_h=0.56628\tprec_h=0.63709\trec_h=0.50963\n",
      "[30, 20] loss: 88.862\n",
      "[30, 40] loss: 88.938\n"
     ]
    },
    {
     "name": "stderr",
     "output_type": "stream",
     "text": [
      "100%|██████████| 4/4 [00:00<00:00, 16.78it/s]\n"
     ]
    },
    {
     "name": "stdout",
     "output_type": "stream",
     "text": [
      "Output:\n",
      " f1_h=0.55572\tprec_h=0.63549\trec_h=0.49375\n",
      "[31, 20] loss: 83.029\n",
      "[31, 40] loss: 72.335\n"
     ]
    },
    {
     "name": "stderr",
     "output_type": "stream",
     "text": [
      "100%|██████████| 4/4 [00:00<00:00, 17.65it/s]\n"
     ]
    },
    {
     "name": "stdout",
     "output_type": "stream",
     "text": [
      "Output:\n",
      " f1_h=0.56356\tprec_h=0.63764\trec_h=0.50490\n",
      "[32, 20] loss: 65.417\n",
      "[32, 40] loss: 68.282\n"
     ]
    },
    {
     "name": "stderr",
     "output_type": "stream",
     "text": [
      "100%|██████████| 4/4 [00:00<00:00, 17.38it/s]\n"
     ]
    },
    {
     "name": "stdout",
     "output_type": "stream",
     "text": [
      "Output:\n",
      " f1_h=0.56032\tprec_h=0.63098\trec_h=0.50389\n",
      "[33, 20] loss: 64.233\n",
      "[33, 40] loss: 59.451\n"
     ]
    },
    {
     "name": "stderr",
     "output_type": "stream",
     "text": [
      "100%|██████████| 4/4 [00:00<00:00, 17.75it/s]\n"
     ]
    },
    {
     "name": "stdout",
     "output_type": "stream",
     "text": [
      "Output:\n",
      " f1_h=0.55183\tprec_h=0.63259\trec_h=0.48935\n",
      "[34, 20] loss: 55.552\n",
      "[34, 40] loss: 51.898\n"
     ]
    },
    {
     "name": "stderr",
     "output_type": "stream",
     "text": [
      "100%|██████████| 4/4 [00:00<00:00, 14.68it/s]\n"
     ]
    },
    {
     "name": "stdout",
     "output_type": "stream",
     "text": [
      "Output:\n",
      " f1_h=0.57765\tprec_h=0.63681\trec_h=0.52856\n",
      "[35, 20] loss: 46.914\n",
      "[35, 40] loss: 46.952\n"
     ]
    },
    {
     "name": "stderr",
     "output_type": "stream",
     "text": [
      "100%|██████████| 4/4 [00:00<00:00, 17.39it/s]\n"
     ]
    },
    {
     "name": "stdout",
     "output_type": "stream",
     "text": [
      "Output:\n",
      " f1_h=0.55697\tprec_h=0.63428\trec_h=0.49645\n",
      "[36, 20] loss: 45.029\n",
      "[36, 40] loss: 43.145\n"
     ]
    },
    {
     "name": "stderr",
     "output_type": "stream",
     "text": [
      "100%|██████████| 4/4 [00:00<00:00, 17.46it/s]\n"
     ]
    },
    {
     "name": "stdout",
     "output_type": "stream",
     "text": [
      "Output:\n",
      " f1_h=0.54744\tprec_h=0.63418\trec_h=0.48158\n",
      "[37, 20] loss: 33.128\n",
      "[37, 40] loss: 40.966\n"
     ]
    },
    {
     "name": "stderr",
     "output_type": "stream",
     "text": [
      "100%|██████████| 4/4 [00:00<00:00, 17.52it/s]\n"
     ]
    },
    {
     "name": "stdout",
     "output_type": "stream",
     "text": [
      "Output:\n",
      " f1_h=0.55611\tprec_h=0.64163\trec_h=0.49071\n",
      "[38, 20] loss: 29.265\n",
      "[38, 40] loss: 37.676\n"
     ]
    },
    {
     "name": "stderr",
     "output_type": "stream",
     "text": [
      "100%|██████████| 4/4 [00:00<00:00, 17.42it/s]\n"
     ]
    },
    {
     "name": "stdout",
     "output_type": "stream",
     "text": [
      "Output:\n",
      " f1_h=0.54748\tprec_h=0.65084\trec_h=0.47246\n",
      "[39, 20] loss: 29.171\n",
      "[39, 40] loss: 26.163\n"
     ]
    },
    {
     "name": "stderr",
     "output_type": "stream",
     "text": [
      "100%|██████████| 4/4 [00:00<00:00, 17.31it/s]\n"
     ]
    },
    {
     "name": "stdout",
     "output_type": "stream",
     "text": [
      "Output:\n",
      " f1_h=0.56110\tprec_h=0.63350\trec_h=0.50355\n",
      "[40, 20] loss: 25.125\n",
      "[40, 40] loss: 23.142\n"
     ]
    },
    {
     "name": "stderr",
     "output_type": "stream",
     "text": [
      "100%|██████████| 4/4 [00:00<00:00, 17.53it/s]\n"
     ]
    },
    {
     "name": "stdout",
     "output_type": "stream",
     "text": [
      "Output:\n",
      " f1_h=0.54803\tprec_h=0.64357\trec_h=0.47719\n",
      "[41, 20] loss: 20.947\n",
      "[41, 40] loss: 25.947\n"
     ]
    },
    {
     "name": "stderr",
     "output_type": "stream",
     "text": [
      "100%|██████████| 4/4 [00:00<00:00, 17.10it/s]\n"
     ]
    },
    {
     "name": "stdout",
     "output_type": "stream",
     "text": [
      "Output:\n",
      " f1_h=0.55494\tprec_h=0.63290\trec_h=0.49409\n",
      "[42, 20] loss: 19.243\n",
      "[42, 40] loss: 22.395\n"
     ]
    },
    {
     "name": "stderr",
     "output_type": "stream",
     "text": [
      "100%|██████████| 4/4 [00:00<00:00, 17.58it/s]\n"
     ]
    },
    {
     "name": "stdout",
     "output_type": "stream",
     "text": [
      "Output:\n",
      " f1_h=0.56078\tprec_h=0.62536\trec_h=0.50828\n",
      "[43, 20] loss: 17.389\n",
      "[43, 40] loss: 18.050\n"
     ]
    },
    {
     "name": "stderr",
     "output_type": "stream",
     "text": [
      "100%|██████████| 4/4 [00:00<00:00, 17.43it/s]\n"
     ]
    },
    {
     "name": "stdout",
     "output_type": "stream",
     "text": [
      "Output:\n",
      " f1_h=0.56102\tprec_h=0.62751\trec_h=0.50727\n",
      "[44, 20] loss: 13.324\n",
      "[44, 40] loss: 18.915\n"
     ]
    },
    {
     "name": "stderr",
     "output_type": "stream",
     "text": [
      "100%|██████████| 4/4 [00:00<00:00, 17.42it/s]\n"
     ]
    },
    {
     "name": "stdout",
     "output_type": "stream",
     "text": [
      "Output:\n",
      " f1_h=0.56037\tprec_h=0.62693\trec_h=0.50659\n",
      "[45, 20] loss: 12.923\n",
      "[45, 40] loss: 13.929\n"
     ]
    },
    {
     "name": "stderr",
     "output_type": "stream",
     "text": [
      "100%|██████████| 4/4 [00:00<00:00, 17.49it/s]\n"
     ]
    },
    {
     "name": "stdout",
     "output_type": "stream",
     "text": [
      "Output:\n",
      " f1_h=0.54918\tprec_h=0.62511\trec_h=0.48969\n",
      "[46, 20] loss: 12.527\n",
      "[46, 40] loss: 10.542\n"
     ]
    },
    {
     "name": "stderr",
     "output_type": "stream",
     "text": [
      "100%|██████████| 4/4 [00:00<00:00, 17.52it/s]\n"
     ]
    },
    {
     "name": "stdout",
     "output_type": "stream",
     "text": [
      "Output:\n",
      " f1_h=0.56024\tprec_h=0.62505\trec_h=0.50760\n",
      "[47, 20] loss: 8.914\n",
      "[47, 40] loss: 6.891\n"
     ]
    },
    {
     "name": "stderr",
     "output_type": "stream",
     "text": [
      "100%|██████████| 4/4 [00:00<00:00, 17.37it/s]\n"
     ]
    },
    {
     "name": "stdout",
     "output_type": "stream",
     "text": [
      "Output:\n",
      " f1_h=0.56639\tprec_h=0.64440\trec_h=0.50524\n",
      "[48, 20] loss: 7.839\n",
      "[48, 40] loss: 6.892\n"
     ]
    },
    {
     "name": "stderr",
     "output_type": "stream",
     "text": [
      "100%|██████████| 4/4 [00:00<00:00, 17.52it/s]\n"
     ]
    },
    {
     "name": "stdout",
     "output_type": "stream",
     "text": [
      "Output:\n",
      " f1_h=0.56821\tprec_h=0.62709\trec_h=0.51943\n",
      "[49, 20] loss: 6.350\n",
      "[49, 40] loss: 9.403\n"
     ]
    },
    {
     "name": "stderr",
     "output_type": "stream",
     "text": [
      "100%|██████████| 4/4 [00:00<00:00, 17.35it/s]\n"
     ]
    },
    {
     "name": "stdout",
     "output_type": "stream",
     "text": [
      "Output:\n",
      " f1_h=0.56619\tprec_h=0.61884\trec_h=0.52180\n",
      "[50, 20] loss: 9.705\n",
      "[50, 40] loss: 6.294\n"
     ]
    },
    {
     "name": "stderr",
     "output_type": "stream",
     "text": [
      "100%|██████████| 4/4 [00:00<00:00, 17.42it/s]\n"
     ]
    },
    {
     "name": "stdout",
     "output_type": "stream",
     "text": [
      "Output:\n",
      " f1_h=0.56727\tprec_h=0.63333\trec_h=0.51369\n",
      "[51, 20] loss: 3.789\n",
      "[51, 40] loss: 6.716\n"
     ]
    },
    {
     "name": "stderr",
     "output_type": "stream",
     "text": [
      "100%|██████████| 4/4 [00:00<00:00, 17.55it/s]\n"
     ]
    },
    {
     "name": "stdout",
     "output_type": "stream",
     "text": [
      "Output:\n",
      " f1_h=0.54306\tprec_h=0.63723\trec_h=0.47313\n",
      "[52, 20] loss: 6.720\n",
      "[52, 40] loss: 5.170\n"
     ]
    },
    {
     "name": "stderr",
     "output_type": "stream",
     "text": [
      "100%|██████████| 4/4 [00:00<00:00, 17.55it/s]\n"
     ]
    },
    {
     "name": "stdout",
     "output_type": "stream",
     "text": [
      "Output:\n",
      " f1_h=0.56504\tprec_h=0.62983\trec_h=0.51234\n",
      "[53, 20] loss: 5.002\n",
      "[53, 40] loss: 4.513\n"
     ]
    },
    {
     "name": "stderr",
     "output_type": "stream",
     "text": [
      "100%|██████████| 4/4 [00:00<00:00, 17.46it/s]\n"
     ]
    },
    {
     "name": "stdout",
     "output_type": "stream",
     "text": [
      "Output:\n",
      " f1_h=0.55111\tprec_h=0.63875\trec_h=0.48462\n",
      "[54, 20] loss: 5.525\n",
      "[54, 40] loss: 3.958\n"
     ]
    },
    {
     "name": "stderr",
     "output_type": "stream",
     "text": [
      "100%|██████████| 4/4 [00:00<00:00, 17.60it/s]\n"
     ]
    },
    {
     "name": "stdout",
     "output_type": "stream",
     "text": [
      "Output:\n",
      " f1_h=0.56273\tprec_h=0.62870\trec_h=0.50929\n",
      "[55, 20] loss: 5.645\n",
      "[55, 40] loss: 3.962\n"
     ]
    },
    {
     "name": "stderr",
     "output_type": "stream",
     "text": [
      "100%|██████████| 4/4 [00:00<00:00, 17.44it/s]\n"
     ]
    },
    {
     "name": "stdout",
     "output_type": "stream",
     "text": [
      "Output:\n",
      " f1_h=0.55917\tprec_h=0.62087\trec_h=0.50862\n",
      "[56, 20] loss: 7.155\n",
      "[56, 40] loss: 6.423\n"
     ]
    },
    {
     "name": "stderr",
     "output_type": "stream",
     "text": [
      "100%|██████████| 4/4 [00:00<00:00, 17.42it/s]\n"
     ]
    },
    {
     "name": "stdout",
     "output_type": "stream",
     "text": [
      "Output:\n",
      " f1_h=0.55683\tprec_h=0.62958\trec_h=0.49916\n",
      "[57, 20] loss: 3.237\n",
      "[57, 40] loss: 5.310\n"
     ]
    },
    {
     "name": "stderr",
     "output_type": "stream",
     "text": [
      "100%|██████████| 4/4 [00:00<00:00, 17.38it/s]\n"
     ]
    },
    {
     "name": "stdout",
     "output_type": "stream",
     "text": [
      "Output:\n",
      " f1_h=0.55184\tprec_h=0.63895\trec_h=0.48564\n",
      "[58, 20] loss: 5.622\n",
      "[58, 40] loss: 5.071\n"
     ]
    },
    {
     "name": "stderr",
     "output_type": "stream",
     "text": [
      "100%|██████████| 4/4 [00:00<00:00, 17.43it/s]\n"
     ]
    },
    {
     "name": "stdout",
     "output_type": "stream",
     "text": [
      "Output:\n",
      " f1_h=0.55549\tprec_h=0.64464\trec_h=0.48800\n",
      "[59, 20] loss: 4.014\n",
      "[59, 40] loss: 2.862\n"
     ]
    },
    {
     "name": "stderr",
     "output_type": "stream",
     "text": [
      "100%|██████████| 4/4 [00:00<00:00, 17.43it/s]\n"
     ]
    },
    {
     "name": "stdout",
     "output_type": "stream",
     "text": [
      "Output:\n",
      " f1_h=0.55951\tprec_h=0.61626\trec_h=0.51234\n",
      "[60, 20] loss: 3.170\n",
      "[60, 40] loss: 3.745\n"
     ]
    },
    {
     "name": "stderr",
     "output_type": "stream",
     "text": [
      "100%|██████████| 4/4 [00:00<00:00, 17.61it/s]\n"
     ]
    },
    {
     "name": "stdout",
     "output_type": "stream",
     "text": [
      "Output:\n",
      " f1_h=0.55876\tprec_h=0.63617\trec_h=0.49814\n",
      "[61, 20] loss: 2.835\n",
      "[61, 40] loss: 3.631\n"
     ]
    },
    {
     "name": "stderr",
     "output_type": "stream",
     "text": [
      "100%|██████████| 4/4 [00:00<00:00, 17.50it/s]\n"
     ]
    },
    {
     "name": "stdout",
     "output_type": "stream",
     "text": [
      "Output:\n",
      " f1_h=0.56396\tprec_h=0.65332\trec_h=0.49611\n",
      "[62, 20] loss: 5.560\n",
      "[62, 40] loss: 2.800\n"
     ]
    },
    {
     "name": "stderr",
     "output_type": "stream",
     "text": [
      "100%|██████████| 4/4 [00:00<00:00, 17.27it/s]\n"
     ]
    },
    {
     "name": "stdout",
     "output_type": "stream",
     "text": [
      "Output:\n",
      " f1_h=0.55228\tprec_h=0.64190\trec_h=0.48462\n",
      "[63, 20] loss: 2.248\n",
      "[63, 40] loss: 2.616\n"
     ]
    },
    {
     "name": "stderr",
     "output_type": "stream",
     "text": [
      "100%|██████████| 4/4 [00:00<00:00, 17.52it/s]\n"
     ]
    },
    {
     "name": "stdout",
     "output_type": "stream",
     "text": [
      "Output:\n",
      " f1_h=0.55341\tprec_h=0.64735\trec_h=0.48327\n",
      "[64, 20] loss: 2.716\n",
      "[64, 40] loss: 4.753\n"
     ]
    },
    {
     "name": "stderr",
     "output_type": "stream",
     "text": [
      "100%|██████████| 4/4 [00:00<00:00, 16.59it/s]\n"
     ]
    },
    {
     "name": "stdout",
     "output_type": "stream",
     "text": [
      "Output:\n",
      " f1_h=0.56680\tprec_h=0.62222\trec_h=0.52045\n",
      "[65, 20] loss: 3.576\n",
      "[65, 40] loss: 5.328\n"
     ]
    },
    {
     "name": "stderr",
     "output_type": "stream",
     "text": [
      "100%|██████████| 4/4 [00:00<00:00, 16.83it/s]\n"
     ]
    },
    {
     "name": "stdout",
     "output_type": "stream",
     "text": [
      "Output:\n",
      " f1_h=0.56662\tprec_h=0.60925\trec_h=0.52957\n",
      "[66, 20] loss: 1.752\n",
      "[66, 40] loss: 4.508\n"
     ]
    },
    {
     "name": "stderr",
     "output_type": "stream",
     "text": [
      "100%|██████████| 4/4 [00:00<00:00, 16.43it/s]\n"
     ]
    },
    {
     "name": "stdout",
     "output_type": "stream",
     "text": [
      "Output:\n",
      " f1_h=0.54863\tprec_h=0.64462\trec_h=0.47753\n",
      "[67, 20] loss: 3.678\n",
      "[67, 40] loss: 3.464\n"
     ]
    },
    {
     "name": "stderr",
     "output_type": "stream",
     "text": [
      "100%|██████████| 4/4 [00:00<00:00, 16.65it/s]\n"
     ]
    },
    {
     "name": "stdout",
     "output_type": "stream",
     "text": [
      "Output:\n",
      " f1_h=0.55340\tprec_h=0.62511\trec_h=0.49645\n",
      "[68, 20] loss: 2.558\n",
      "[68, 40] loss: 3.010\n"
     ]
    },
    {
     "name": "stderr",
     "output_type": "stream",
     "text": [
      "100%|██████████| 4/4 [00:00<00:00, 17.18it/s]\n"
     ]
    },
    {
     "name": "stdout",
     "output_type": "stream",
     "text": [
      "Output:\n",
      " f1_h=0.56609\tprec_h=0.62490\trec_h=0.51740\n",
      "[69, 20] loss: 2.738\n",
      "[69, 40] loss: 3.357\n"
     ]
    },
    {
     "name": "stderr",
     "output_type": "stream",
     "text": [
      "100%|██████████| 4/4 [00:00<00:00, 16.78it/s]\n"
     ]
    },
    {
     "name": "stdout",
     "output_type": "stream",
     "text": [
      "Output:\n",
      " f1_h=0.55873\tprec_h=0.63068\trec_h=0.50152\n",
      "[70, 20] loss: 2.084\n",
      "[70, 40] loss: 3.334\n"
     ]
    },
    {
     "name": "stderr",
     "output_type": "stream",
     "text": [
      "100%|██████████| 4/4 [00:00<00:00, 17.01it/s]\n"
     ]
    },
    {
     "name": "stdout",
     "output_type": "stream",
     "text": [
      "Output:\n",
      " f1_h=0.55928\tprec_h=0.62731\trec_h=0.50456\n",
      "[71, 20] loss: 2.761\n",
      "[71, 40] loss: 1.526\n"
     ]
    },
    {
     "name": "stderr",
     "output_type": "stream",
     "text": [
      "100%|██████████| 4/4 [00:00<00:00, 16.96it/s]\n"
     ]
    },
    {
     "name": "stdout",
     "output_type": "stream",
     "text": [
      "Output:\n",
      " f1_h=0.55564\tprec_h=0.64862\trec_h=0.48597\n",
      "[72, 20] loss: 4.409\n",
      "[72, 40] loss: 2.670\n"
     ]
    },
    {
     "name": "stderr",
     "output_type": "stream",
     "text": [
      "100%|██████████| 4/4 [00:00<00:00, 17.27it/s]\n"
     ]
    },
    {
     "name": "stdout",
     "output_type": "stream",
     "text": [
      "Output:\n",
      " f1_h=0.55252\tprec_h=0.63668\trec_h=0.48800\n",
      "[73, 20] loss: 3.044\n",
      "[73, 40] loss: 3.439\n"
     ]
    },
    {
     "name": "stderr",
     "output_type": "stream",
     "text": [
      "100%|██████████| 4/4 [00:00<00:00, 17.46it/s]\n"
     ]
    },
    {
     "name": "stdout",
     "output_type": "stream",
     "text": [
      "Output:\n",
      " f1_h=0.55549\tprec_h=0.63322\trec_h=0.49476\n",
      "[74, 20] loss: 3.936\n",
      "[74, 40] loss: 1.848\n"
     ]
    },
    {
     "name": "stderr",
     "output_type": "stream",
     "text": [
      "100%|██████████| 4/4 [00:00<00:00, 16.92it/s]\n"
     ]
    },
    {
     "name": "stdout",
     "output_type": "stream",
     "text": [
      "Output:\n",
      " f1_h=0.56796\tprec_h=0.63556\trec_h=0.51335\n",
      "[75, 20] loss: 3.016\n",
      "[75, 40] loss: 2.848\n"
     ]
    },
    {
     "name": "stderr",
     "output_type": "stream",
     "text": [
      "100%|██████████| 4/4 [00:00<00:00, 17.29it/s]\n"
     ]
    },
    {
     "name": "stdout",
     "output_type": "stream",
     "text": [
      "Output:\n",
      " f1_h=0.54482\tprec_h=0.63599\trec_h=0.47651\n",
      "[76, 20] loss: 3.731\n",
      "[76, 40] loss: 3.414\n"
     ]
    },
    {
     "name": "stderr",
     "output_type": "stream",
     "text": [
      "100%|██████████| 4/4 [00:00<00:00, 17.41it/s]\n"
     ]
    },
    {
     "name": "stdout",
     "output_type": "stream",
     "text": [
      "Output:\n",
      " f1_h=0.57235\tprec_h=0.61313\trec_h=0.53667\n",
      "[77, 20] loss: 3.793\n",
      "[77, 40] loss: 9.319\n"
     ]
    },
    {
     "name": "stderr",
     "output_type": "stream",
     "text": [
      "100%|██████████| 4/4 [00:00<00:00, 16.18it/s]\n"
     ]
    },
    {
     "name": "stdout",
     "output_type": "stream",
     "text": [
      "Output:\n",
      " f1_h=0.52792\tprec_h=0.61643\trec_h=0.46164\n",
      "[78, 20] loss: 13.183\n",
      "[78, 40] loss: 20.134\n"
     ]
    },
    {
     "name": "stderr",
     "output_type": "stream",
     "text": [
      "100%|██████████| 4/4 [00:00<00:00, 17.09it/s]\n"
     ]
    },
    {
     "name": "stdout",
     "output_type": "stream",
     "text": [
      "Output:\n",
      " f1_h=0.55636\tprec_h=0.61748\trec_h=0.50625\n",
      "[79, 20] loss: 35.061\n",
      "[79, 40] loss: 18.344\n"
     ]
    },
    {
     "name": "stderr",
     "output_type": "stream",
     "text": [
      "100%|██████████| 4/4 [00:00<00:00,  9.66it/s]\n"
     ]
    },
    {
     "name": "stdout",
     "output_type": "stream",
     "text": [
      "Output:\n",
      " f1_h=0.56261\tprec_h=0.61600\trec_h=0.51774\n",
      "[80, 20] loss: 10.608\n",
      "[80, 40] loss: 8.655\n"
     ]
    },
    {
     "name": "stderr",
     "output_type": "stream",
     "text": [
      "100%|██████████| 4/4 [00:00<00:00, 17.22it/s]\n"
     ]
    },
    {
     "name": "stdout",
     "output_type": "stream",
     "text": [
      "Output:\n",
      " f1_h=0.55761\tprec_h=0.60880\trec_h=0.51436\n",
      "[81, 20] loss: 4.333\n",
      "[81, 40] loss: 2.090\n"
     ]
    },
    {
     "name": "stderr",
     "output_type": "stream",
     "text": [
      "100%|██████████| 4/4 [00:00<00:00, 17.57it/s]\n"
     ]
    },
    {
     "name": "stdout",
     "output_type": "stream",
     "text": [
      "Output:\n",
      " f1_h=0.56119\tprec_h=0.64364\trec_h=0.49747\n",
      "[82, 20] loss: 3.153\n",
      "[82, 40] loss: 2.644\n"
     ]
    },
    {
     "name": "stderr",
     "output_type": "stream",
     "text": [
      "100%|██████████| 4/4 [00:00<00:00, 17.58it/s]\n"
     ]
    },
    {
     "name": "stdout",
     "output_type": "stream",
     "text": [
      "Output:\n",
      " f1_h=0.55798\tprec_h=0.61747\trec_h=0.50896\n",
      "[83, 20] loss: 2.147\n",
      "[83, 40] loss: 2.812\n"
     ]
    },
    {
     "name": "stderr",
     "output_type": "stream",
     "text": [
      "100%|██████████| 4/4 [00:00<00:00, 17.37it/s]\n"
     ]
    },
    {
     "name": "stdout",
     "output_type": "stream",
     "text": [
      "Output:\n",
      " f1_h=0.56625\tprec_h=0.62480\trec_h=0.51774\n",
      "[84, 20] loss: 2.716\n",
      "[84, 40] loss: 2.132\n"
     ]
    },
    {
     "name": "stderr",
     "output_type": "stream",
     "text": [
      "100%|██████████| 4/4 [00:00<00:00, 17.60it/s]\n"
     ]
    },
    {
     "name": "stdout",
     "output_type": "stream",
     "text": [
      "Output:\n",
      " f1_h=0.55682\tprec_h=0.63613\trec_h=0.49510\n",
      "[85, 20] loss: 3.146\n",
      "[85, 40] loss: 1.916\n"
     ]
    },
    {
     "name": "stderr",
     "output_type": "stream",
     "text": [
      "100%|██████████| 4/4 [00:00<00:00, 17.49it/s]\n"
     ]
    },
    {
     "name": "stdout",
     "output_type": "stream",
     "text": [
      "Output:\n",
      " f1_h=0.56055\tprec_h=0.63805\trec_h=0.49983\n",
      "[86, 20] loss: 2.626\n",
      "[86, 40] loss: 1.937\n"
     ]
    },
    {
     "name": "stderr",
     "output_type": "stream",
     "text": [
      "100%|██████████| 4/4 [00:00<00:00, 17.27it/s]\n"
     ]
    },
    {
     "name": "stdout",
     "output_type": "stream",
     "text": [
      "Output:\n",
      " f1_h=0.56458\tprec_h=0.62170\trec_h=0.51707\n",
      "[87, 20] loss: 3.171\n",
      "[87, 40] loss: 2.168\n"
     ]
    },
    {
     "name": "stderr",
     "output_type": "stream",
     "text": [
      "100%|██████████| 4/4 [00:00<00:00, 17.19it/s]\n"
     ]
    },
    {
     "name": "stdout",
     "output_type": "stream",
     "text": [
      "Output:\n",
      " f1_h=0.56424\tprec_h=0.62937\trec_h=0.51132\n",
      "[88, 20] loss: 2.261\n",
      "[88, 40] loss: 3.645\n"
     ]
    },
    {
     "name": "stderr",
     "output_type": "stream",
     "text": [
      "100%|██████████| 4/4 [00:00<00:00, 17.42it/s]\n"
     ]
    },
    {
     "name": "stdout",
     "output_type": "stream",
     "text": [
      "Output:\n",
      " f1_h=0.56090\tprec_h=0.64062\trec_h=0.49882\n",
      "[89, 20] loss: 2.146\n",
      "[89, 40] loss: 2.257\n"
     ]
    },
    {
     "name": "stderr",
     "output_type": "stream",
     "text": [
      "100%|██████████| 4/4 [00:00<00:00, 16.88it/s]\n"
     ]
    },
    {
     "name": "stdout",
     "output_type": "stream",
     "text": [
      "Output:\n",
      " f1_h=0.56366\tprec_h=0.63311\trec_h=0.50794\n",
      "[90, 20] loss: 2.171\n",
      "[90, 40] loss: 2.973\n"
     ]
    },
    {
     "name": "stderr",
     "output_type": "stream",
     "text": [
      "100%|██████████| 4/4 [00:00<00:00, 16.74it/s]\n"
     ]
    },
    {
     "name": "stdout",
     "output_type": "stream",
     "text": [
      "Output:\n",
      " f1_h=0.56416\tprec_h=0.63176\trec_h=0.50963\n",
      "[91, 20] loss: 1.665\n",
      "[91, 40] loss: 2.262\n"
     ]
    },
    {
     "name": "stderr",
     "output_type": "stream",
     "text": [
      "100%|██████████| 4/4 [00:00<00:00, 16.76it/s]\n"
     ]
    },
    {
     "name": "stdout",
     "output_type": "stream",
     "text": [
      "Output:\n",
      " f1_h=0.56736\tprec_h=0.62602\trec_h=0.51876\n",
      "[92, 20] loss: 2.392\n",
      "[92, 40] loss: 2.529\n"
     ]
    },
    {
     "name": "stderr",
     "output_type": "stream",
     "text": [
      "100%|██████████| 4/4 [00:00<00:00, 16.86it/s]\n"
     ]
    },
    {
     "name": "stdout",
     "output_type": "stream",
     "text": [
      "Output:\n",
      " f1_h=0.55987\tprec_h=0.61421\trec_h=0.51436\n",
      "[93, 20] loss: 2.303\n",
      "[93, 40] loss: 2.928\n"
     ]
    },
    {
     "name": "stderr",
     "output_type": "stream",
     "text": [
      "100%|██████████| 4/4 [00:00<00:00, 16.98it/s]\n"
     ]
    },
    {
     "name": "stdout",
     "output_type": "stream",
     "text": [
      "Output:\n",
      " f1_h=0.57057\tprec_h=0.63746\trec_h=0.51639\n",
      "[94, 20] loss: 1.733\n",
      "[94, 40] loss: 1.766\n"
     ]
    },
    {
     "name": "stderr",
     "output_type": "stream",
     "text": [
      "100%|██████████| 4/4 [00:00<00:00, 16.90it/s]\n"
     ]
    },
    {
     "name": "stdout",
     "output_type": "stream",
     "text": [
      "Output:\n",
      " f1_h=0.56523\tprec_h=0.63339\trec_h=0.51031\n",
      "[95, 20] loss: 1.319\n",
      "[95, 40] loss: 1.848\n"
     ]
    },
    {
     "name": "stderr",
     "output_type": "stream",
     "text": [
      "100%|██████████| 4/4 [00:00<00:00, 17.54it/s]\n"
     ]
    },
    {
     "name": "stdout",
     "output_type": "stream",
     "text": [
      "Output:\n",
      " f1_h=0.56158\tprec_h=0.63907\trec_h=0.50084\n",
      "[96, 20] loss: 1.512\n",
      "[96, 40] loss: 1.775\n"
     ]
    },
    {
     "name": "stderr",
     "output_type": "stream",
     "text": [
      "100%|██████████| 4/4 [00:00<00:00, 16.64it/s]\n"
     ]
    },
    {
     "name": "stdout",
     "output_type": "stream",
     "text": [
      "Output:\n",
      " f1_h=0.56276\tprec_h=0.63613\trec_h=0.50456\n",
      "[97, 20] loss: 3.441\n",
      "[97, 40] loss: 1.468\n"
     ]
    },
    {
     "name": "stderr",
     "output_type": "stream",
     "text": [
      "100%|██████████| 4/4 [00:00<00:00, 16.75it/s]\n"
     ]
    },
    {
     "name": "stdout",
     "output_type": "stream",
     "text": [
      "Output:\n",
      " f1_h=0.56000\tprec_h=0.63392\trec_h=0.50152\n",
      "[98, 20] loss: 2.445\n",
      "[98, 40] loss: 1.364\n"
     ]
    },
    {
     "name": "stderr",
     "output_type": "stream",
     "text": [
      "100%|██████████| 4/4 [00:00<00:00, 17.67it/s]\n"
     ]
    },
    {
     "name": "stdout",
     "output_type": "stream",
     "text": [
      "Output:\n",
      " f1_h=0.56802\tprec_h=0.63315\trec_h=0.51504\n",
      "[99, 20] loss: 1.633\n",
      "[99, 40] loss: 2.116\n"
     ]
    },
    {
     "name": "stderr",
     "output_type": "stream",
     "text": [
      "100%|██████████| 4/4 [00:00<00:00, 17.05it/s]\n"
     ]
    },
    {
     "name": "stdout",
     "output_type": "stream",
     "text": [
      "Output:\n",
      " f1_h=0.56327\tprec_h=0.63371\trec_h=0.50693\n",
      "[100, 20] loss: 1.452\n",
      "[100, 40] loss: 2.507\n"
     ]
    },
    {
     "name": "stderr",
     "output_type": "stream",
     "text": [
      "100%|██████████| 4/4 [00:00<00:00, 16.43it/s]\n"
     ]
    },
    {
     "name": "stdout",
     "output_type": "stream",
     "text": [
      "Output:\n",
      " f1_h=0.56649\tprec_h=0.62986\trec_h=0.51470\n"
     ]
    }
   ],
   "source": [
    "from modules.nn.MultiModal import MultiModalBaseline\n",
    "\n",
    "model = MultiModalBaseline(img_feature_size=2048, text_feature_size=768)\n",
    "model.to(device)\n",
    "optimizer = torch.optim.Adam(model.parameters(), lr=0.0001)\n",
    "\n",
    "min_val_loss = float('inf')\n",
    "best_epoch = None\n",
    "\n",
    "train_loss_history = []\n",
    "val_loss_history = []\n",
    "\n",
    "for epoch in range(num_epochs):\n",
    "    model.train()\n",
    "    running_loss = 0.0\n",
    "    for batch_idx, batch in enumerate(train_dataloader):\n",
    "        \n",
    "        y_1, y_2, y_3 = batch['level_1_target'], batch['level_2_target'], batch['level_3_target']\n",
    "        y_4, y_5 = batch['level_4_target'], batch['level_5_target']\n",
    "        \n",
    "        \n",
    "        images_features = batch['image_features']\n",
    "        text_features = batch['text_features']\n",
    "        \n",
    "        \n",
    "        y_1, y_2, y_3, y_4, y_5 = y_1.to(device), y_2.to(device), y_3.to(device), y_4.to(device), y_5.to(device)\n",
    "        \n",
    "        images_features = images_features.to(device)\n",
    "        text_features = text_features.to(device)\n",
    "        \n",
    "        \n",
    "        optimizer.zero_grad()\n",
    "        pred_1, pred_2, pred_3, pred_4, pred_5 = model(text_features, images_features)\n",
    "        # loss_ = loss(pred_1, y_1) + loss(pred_2, y_2) + loss(pred_3, y_3) + loss(pred_4, y_4) + loss(pred_5, y_5)\n",
    "        \n",
    "        dloss = HL.calculate_dloss([pred_1, pred_2, pred_3, pred_4, pred_5], [y_1, y_2, y_3, y_4, y_5])\n",
    "        lloss = HL.calculate_lloss([pred_1, pred_2, pred_3, pred_4, pred_5], [y_1, y_2, y_3, y_4, y_5])\n",
    "\n",
    "        total_loss = lloss + dloss\n",
    "        # loss_.backward()\n",
    "        \n",
    "        total_loss.backward()\n",
    "        optimizer.step()\n",
    "        \n",
    "        running_loss += total_loss.detach().item()\n",
    "        \n",
    "        if batch_idx % 20 == 19:\n",
    "            print(f\"[{epoch + 1}, {batch_idx + 1}] loss: {running_loss / 20:.3f}\")\n",
    "            running_loss = 0.0\n",
    "            \n",
    "    running_loss /= len(train_dataloader)\n",
    "    \n",
    "    val_pred_file_path = './Predictions/val_predictions_subtask2a.json'\n",
    "    val_gold_file_path = './semeval2024_dev_release/subtask2a/validation.json'\n",
    "    evaluator_script = './scorer-baseline/subtask_1_2a.py'\n",
    "    validation_loss = evaluate_model(model, test_dataloader, val_pred_file_path, val_gold_file_path, evaluator_script,\n",
    "                   id2leaf_label_subtask_2a, validation=True)\n",
    "    \n",
    "    train_loss_history.append(running_loss)\n",
    "    val_loss_history.append(validation_loss)\n",
    "    \n",
    "    if validation_loss < min_val_loss:\n",
    "        min_val_loss = validation_loss\n",
    "        best_epoch = epoch\n",
    "        # torch.save(model.state_dict(), './models/subtask2a/best_subtask2a_baseline.pt')\n",
    "    "
   ]
  },
  {
   "cell_type": "markdown",
   "source": [
    "### Evaluation"
   ],
   "metadata": {
    "collapsed": false
   },
   "id": "95e01608d3353c26"
  },
  {
   "cell_type": "code",
   "outputs": [],
   "source": [
    "from tqdm import tqdm\n",
    "import json\n",
    "import subprocess\n",
    "from torch.utils.data import DataLoader"
   ],
   "metadata": {
    "collapsed": false,
    "ExecuteTime": {
     "end_time": "2024-05-07T03:30:01.910057Z",
     "start_time": "2024-05-07T03:30:01.907889Z"
    }
   },
   "id": "dec86cba1f1d44ec",
   "execution_count": 16
  },
  {
   "cell_type": "markdown",
   "source": [
    "### Baseline Evaluation (ResNet 50 + mBERT)"
   ],
   "metadata": {
    "collapsed": false
   },
   "id": "e051695e29daed15"
  },
  {
   "cell_type": "code",
   "outputs": [
    {
     "name": "stderr",
     "output_type": "stream",
     "text": [
      "100%|██████████| 2/2 [00:00<00:00, 39.93it/s]\n"
     ]
    },
    {
     "name": "stdout",
     "output_type": "stream",
     "text": [
      "Output:\n",
      " f1_h=0.44345\tprec_h=0.47793\trec_h=0.41362\n"
     ]
    }
   ],
   "source": [
    "ar_pred_file_path = './Predictions/subtask2a/ar_predictions_subtask2a.txt'\n",
    "ar_gold_file_path = './test_labels_ar_bg_md_version2/test_subtask2a_ar.json'\n",
    "evaluator_script = './scorer-baseline/subtask_1_2a.py'\n",
    "\n",
    "ar_test_data = process_json(ar_gold_file_path, techniques_to_level_2a, hierarchy_subtask_2a)\n",
    "ar_test_dataset = TestDataSet(df=ar_test_data, \n",
    "                          text_features_file='./TextFeatures/subtask2a/mBERT/ar_test_text_features.pkl',\n",
    "                          image_features_file='./ImageFeatures/ResNet/ar_test_images_features.pkl')\n",
    "\n",
    "ar_test_dataloader =  DataLoader(ar_test_dataset, batch_size=64, shuffle=True)\n",
    "\n",
    "evaluate_model(model, ar_test_dataloader, ar_pred_file_path, ar_gold_file_path, evaluator_script, \n",
    "               id2leaf_label_subtask_2a, format=5, validation=False, threshold=0.3)"
   ],
   "metadata": {
    "collapsed": false,
    "ExecuteTime": {
     "end_time": "2024-05-07T03:30:02.644580Z",
     "start_time": "2024-05-07T03:30:01.910748Z"
    }
   },
   "id": "c76319df23f4468",
   "execution_count": 17
  },
  {
   "cell_type": "code",
   "outputs": [
    {
     "name": "stderr",
     "output_type": "stream",
     "text": [
      "100%|██████████| 7/7 [00:00<00:00, 32.69it/s]\n"
     ]
    },
    {
     "name": "stdout",
     "output_type": "stream",
     "text": [
      "Output:\n",
      " f1_h=0.55941\tprec_h=0.65857\trec_h=0.48621\n"
     ]
    }
   ],
   "source": [
    "bg_pred_file_path = './Predictions/subtask2a/bg_predictions_subtask2a.txt'\n",
    "bg_gold_file_path = './test_labels_ar_bg_md_version2/test_subtask2a_bg.json'\n",
    "\n",
    "bg_test_data = process_json(bg_gold_file_path, techniques_to_level_2a, hierarchy_subtask_2a)\n",
    "bg_test_dataset = DataSet(bg_test_data, indexed_persuasion_techniques_2a, \n",
    "                           text_features_file='./TextFeatures/subtask2a/mBERT/bg_test_text_features.pkl',\n",
    "                          image_features_file='./ImageFeatures/ResNet/bulgarian_test_images_features.pkl')\n",
    "\n",
    "bg_test_dataloader = DataLoader(bg_test_dataset, batch_size=64, shuffle=True)\n",
    "\n",
    "evaluate_model(model, bg_test_dataloader, bg_pred_file_path, bg_gold_file_path, evaluator_script, \n",
    "               id2leaf_label_subtask_2a, threshold=0.3)"
   ],
   "metadata": {
    "collapsed": false,
    "ExecuteTime": {
     "end_time": "2024-05-07T03:30:03.589340Z",
     "start_time": "2024-05-07T03:30:02.646472Z"
    }
   },
   "id": "927ee73231994ee4",
   "execution_count": 18
  },
  {
   "cell_type": "code",
   "outputs": [
    {
     "name": "stderr",
     "output_type": "stream",
     "text": [
      "100%|██████████| 5/5 [00:00<00:00, 32.74it/s]\n"
     ]
    },
    {
     "name": "stdout",
     "output_type": "stream",
     "text": [
      "Output:\n",
      " f1_h=0.57655\tprec_h=0.68725\trec_h=0.49657\n"
     ]
    }
   ],
   "source": [
    "\n",
    "md_pred_file_path = './Predictions/subtask2a/md_predictions_subtask2a.txt'\n",
    "md_gold_file_path = 'test_labels_ar_bg_md_version2/test_subtask2a_md.json'\n",
    "\n",
    "md_test_data = process_json(md_gold_file_path, techniques_to_level_2a, hierarchy_subtask_2a)\n",
    "md_test_dataset = DataSet(md_test_data, indexed_persuasion_techniques_2a, \n",
    "                          text_features_file='./TextFeatures/subtask2a/mBERT/md_test_text_features.pkl',\n",
    "                          image_features_file='./ImageFeatures/ResNet/nm_test_images_features.pkl')\n",
    "\n",
    "md_test_dataloader = DataLoader(md_test_dataset, batch_size=64, shuffle=True)\n",
    "\n",
    "evaluate_model(model, md_test_dataloader, md_pred_file_path, md_gold_file_path, evaluator_script, \n",
    "               id2leaf_label_subtask_2a, threshold=0.3)"
   ],
   "metadata": {
    "collapsed": false,
    "ExecuteTime": {
     "end_time": "2024-05-07T03:30:04.439191Z",
     "start_time": "2024-05-07T03:30:03.590442Z"
    }
   },
   "id": "b27fd05e7d709f27",
   "execution_count": 19
  },
  {
   "cell_type": "code",
   "outputs": [
    {
     "name": "stderr",
     "output_type": "stream",
     "text": [
      "100%|██████████| 24/24 [00:00<00:00, 42.90it/s]\n"
     ]
    }
   ],
   "source": [
    "en_pred_file_path = './Predictions/subtask2a/en_predictions_subtask2a.txt'\n",
    "\n",
    "eng_test_data = process_test_json('./test_data/english/en_subtask2a_test_unlabeled.json')\n",
    "\n",
    "eng_test_dataset = TestDataSet(eng_test_data, \n",
    "                               './TextFeatures/subtask2a/mBERT/en_test_text_features.pkl',\n",
    "                               './ImageFeatures/ResNet/english_test_images_features.pkl')\n",
    "eng_test_dataloader = DataLoader(eng_test_dataset, batch_size=64, shuffle=True)\n",
    "\n",
    "evaluate_model(model, eng_test_dataloader, en_pred_file_path, None, evaluator_script, \n",
    "               id2leaf_label_subtask_2a, threshold=0.4)"
   ],
   "metadata": {
    "collapsed": false,
    "ExecuteTime": {
     "end_time": "2024-05-07T03:31:17.978481Z",
     "start_time": "2024-05-07T03:31:17.371068Z"
    }
   },
   "id": "2eb04d915a33936e",
   "execution_count": 21
  },
  {
   "cell_type": "markdown",
   "source": [
    "### OpenAI Small + CLIP"
   ],
   "metadata": {
    "collapsed": false
   },
   "id": "755032f1ec85c1aa"
  },
  {
   "cell_type": "code",
   "outputs": [
    {
     "data": {
      "text/plain": "<All keys matched successfully>"
     },
     "execution_count": 19,
     "metadata": {},
     "output_type": "execute_result"
    }
   ],
   "source": [
    "from modules.nn.MultiModal import MultiModalBaseline\n",
    "\n",
    "model = MultiModalBaseline(512, 1536)\n",
    "model.load_state_dict(torch.load('models/subtask2a/MultiModal-OpenAI-Small/splendid-sweep-4.pth'))"
   ],
   "metadata": {
    "collapsed": false,
    "ExecuteTime": {
     "end_time": "2024-04-27T21:15:00.036266Z",
     "start_time": "2024-04-27T21:14:59.803551Z"
    }
   },
   "id": "e31686a59f95223f",
   "execution_count": 19
  },
  {
   "cell_type": "code",
   "execution_count": 20,
   "id": "df3858d8-8c31-4306-8270-44ba225bea3c",
   "metadata": {
    "ExecuteTime": {
     "end_time": "2024-04-27T21:15:02.028153Z",
     "start_time": "2024-04-27T21:15:01.219612Z"
    }
   },
   "outputs": [
    {
     "name": "stderr",
     "output_type": "stream",
     "text": [
      "100%|██████████| 2/2 [00:00<00:00, 50.73it/s]\n"
     ]
    },
    {
     "name": "stdout",
     "output_type": "stream",
     "text": [
      "Output:\n",
      " f1_h=0.52780\tprec_h=0.47657\trec_h=0.59136\n"
     ]
    }
   ],
   "source": [
    "ar_pred_file_path = './Predictions/subtask2a/ar_predictions_subtask2a.txt'\n",
    "ar_gold_file_path = './test_labels_ar_bg_md_version2/test_subtask2a_ar.json'\n",
    "evaluator_script = './scorer-baseline/subtask_1_2a.py'\n",
    "\n",
    "ar_test_data = process_json(ar_gold_file_path, techniques_to_level_2a, hierarchy_subtask_2a)\n",
    "ar_test_dataset = TestDataSet(df=ar_test_data, \n",
    "                          text_features_file='./TextFeatures/subtask2a/text-embedding-3-small/ar_test_text_features.pkl',\n",
    "                          image_features_file='./ImageFeatures/CLIP-ViT/ar_test_images_features.pkl')\n",
    "\n",
    "ar_test_dataloader =  DataLoader(ar_test_dataset, batch_size=64, shuffle=True)\n",
    "\n",
    "evaluate_model(model, ar_test_dataloader, ar_pred_file_path, ar_gold_file_path, evaluator_script, \n",
    "               id2leaf_label_subtask_2a, format=5, validation=False, threshold=0.3)"
   ]
  },
  {
   "cell_type": "code",
   "execution_count": 21,
   "id": "da082eef-b1af-438f-a8bb-ba20b0958a82",
   "metadata": {
    "ExecuteTime": {
     "end_time": "2024-04-27T21:15:10.932591Z",
     "start_time": "2024-04-27T21:15:10.141745Z"
    }
   },
   "outputs": [
    {
     "name": "stderr",
     "output_type": "stream",
     "text": [
      "100%|██████████| 7/7 [00:00<00:00, 43.03it/s]\n"
     ]
    },
    {
     "name": "stdout",
     "output_type": "stream",
     "text": [
      "Output:\n",
      " f1_h=0.64443\tprec_h=0.64928\trec_h=0.63966\n"
     ]
    }
   ],
   "source": [
    "bg_pred_file_path = './Predictions/subtask2a/bg_predictions_subtask2a.txt'\n",
    "bg_gold_file_path = './test_labels_ar_bg_md_version2/test_subtask2a_bg.json'\n",
    "\n",
    "bg_test_data = process_json(bg_gold_file_path, techniques_to_level_2a, hierarchy_subtask_2a)\n",
    "bg_test_dataset = DataSet(bg_test_data, indexed_persuasion_techniques_2a, \n",
    "                           text_features_file='./TextFeatures/subtask2a/text-embedding-3-small/bg_test_text_features.pkl',\n",
    "                          image_features_file='./ImageFeatures/CLIP-ViT/bulgarian_test_images_features.pkl')\n",
    "\n",
    "bg_test_dataloader = DataLoader(bg_test_dataset, batch_size=64, shuffle=True)\n",
    "\n",
    "evaluate_model(model, bg_test_dataloader, bg_pred_file_path, bg_gold_file_path, evaluator_script, \n",
    "               id2leaf_label_subtask_2a, threshold=0.3)"
   ]
  },
  {
   "cell_type": "code",
   "execution_count": 22,
   "id": "d8d59d97-e954-4b1d-af02-e9bf1c2cd025",
   "metadata": {
    "ExecuteTime": {
     "end_time": "2024-04-27T21:15:31.861360Z",
     "start_time": "2024-04-27T21:15:31.033634Z"
    }
   },
   "outputs": [
    {
     "name": "stderr",
     "output_type": "stream",
     "text": [
      "100%|██████████| 5/5 [00:00<00:00, 44.21it/s]\n"
     ]
    },
    {
     "name": "stdout",
     "output_type": "stream",
     "text": [
      "Output:\n",
      " f1_h=0.67714\tprec_h=0.71721\trec_h=0.64130\n"
     ]
    }
   ],
   "source": [
    "\n",
    "md_pred_file_path = './Predictions/subtask2a/md_predictions_subtask2a.txt'\n",
    "md_gold_file_path = 'test_labels_ar_bg_md_version2/test_subtask2a_md.json'\n",
    "\n",
    "md_test_data = process_json(md_gold_file_path, techniques_to_level_2a, hierarchy_subtask_2a)\n",
    "md_test_dataset = DataSet(md_test_data, indexed_persuasion_techniques_2a, \n",
    "                          text_features_file='./TextFeatures/subtask2a/text-embedding-3-small/md_test_text_features.pkl',\n",
    "                          image_features_file='./ImageFeatures/CLIP-ViT/nm_test_images_features.pkl')\n",
    "\n",
    "md_test_dataloader = DataLoader(md_test_dataset, batch_size=64, shuffle=True)\n",
    "\n",
    "evaluate_model(model, md_test_dataloader, md_pred_file_path, md_gold_file_path, evaluator_script, \n",
    "               id2leaf_label_subtask_2a, threshold=0.3)"
   ]
  },
  {
   "cell_type": "code",
   "execution_count": 23,
   "id": "08ef5903-e3b7-4831-ba61-77d8861c9f72",
   "metadata": {
    "ExecuteTime": {
     "end_time": "2024-04-27T21:16:14.429458Z",
     "start_time": "2024-04-27T21:16:13.981033Z"
    }
   },
   "outputs": [
    {
     "name": "stderr",
     "output_type": "stream",
     "text": [
      "100%|██████████| 24/24 [00:00<00:00, 59.39it/s]\n"
     ]
    }
   ],
   "source": [
    "en_pred_file_path = './Predictions/subtask2a/en_predictions_subtask2a.txt'\n",
    "\n",
    "eng_test_data = process_test_json('./test_data/english/en_subtask2a_test_unlabeled.json')\n",
    "\n",
    "eng_test_dataset = TestDataSet(eng_test_data, \n",
    "                               './TextFeatures/subtask2a/text-embedding-3-small/en_test_text_features.pkl',\n",
    "                               './ImageFeatures/CLIP-ViT/english_test_images_features.pkl')\n",
    "eng_test_dataloader = DataLoader(eng_test_dataset, batch_size=64, shuffle=True)\n",
    "\n",
    "evaluate_model(model, eng_test_dataloader, en_pred_file_path, None, evaluator_script, \n",
    "               id2leaf_label_subtask_2a, threshold=0.4)"
   ]
  },
  {
   "cell_type": "markdown",
   "source": [
    "0.64640\t0.76090\t0.56184"
   ],
   "metadata": {
    "collapsed": false
   },
   "id": "afd4347daa9e51cb"
  },
  {
   "cell_type": "markdown",
   "source": [
    "### OpenAI Large + CLIP"
   ],
   "metadata": {
    "collapsed": false
   },
   "id": "e4913f477f98dc01"
  },
  {
   "cell_type": "code",
   "outputs": [
    {
     "data": {
      "text/plain": "<All keys matched successfully>"
     },
     "execution_count": 24,
     "metadata": {},
     "output_type": "execute_result"
    }
   ],
   "source": [
    "from modules.nn.MultiModal import MultiModalBaseline\n",
    "\n",
    "model = MultiModalBaseline(512, 3072)\n",
    "model.load_state_dict(torch.load('models/subtask2a/MultiModal-OpenAI-Large/fresh-sweep-3.pth'))"
   ],
   "metadata": {
    "collapsed": false,
    "ExecuteTime": {
     "end_time": "2024-04-27T21:17:55.760471Z",
     "start_time": "2024-04-27T21:17:55.308158Z"
    }
   },
   "id": "d31c5ce230988518",
   "execution_count": 24
  },
  {
   "cell_type": "code",
   "outputs": [
    {
     "name": "stderr",
     "output_type": "stream",
     "text": [
      "100%|██████████| 2/2 [00:00<00:00, 41.44it/s]\n"
     ]
    },
    {
     "name": "stdout",
     "output_type": "stream",
     "text": [
      "Output:\n",
      " f1_h=0.52197\tprec_h=0.44014\trec_h=0.64120\n"
     ]
    }
   ],
   "source": [
    "ar_pred_file_path = './Predictions/subtask2a/ar_predictions_subtask2a.txt'\n",
    "ar_gold_file_path = './test_labels_ar_bg_md_version2/test_subtask2a_ar.json'\n",
    "evaluator_script = './scorer-baseline/subtask_1_2a.py'\n",
    "\n",
    "ar_test_data = process_json(ar_gold_file_path, techniques_to_level_2a, hierarchy_subtask_2a)\n",
    "ar_test_dataset = TestDataSet(df=ar_test_data, \n",
    "                          text_features_file='./TextFeatures/subtask2a/text-embedding-3-large/ar_test_text_features.pkl',\n",
    "                          image_features_file='./ImageFeatures/CLIP-ViT/ar_test_images_features.pkl')\n",
    "\n",
    "ar_test_dataloader =  DataLoader(ar_test_dataset, batch_size=64, shuffle=True)\n",
    "\n",
    "evaluate_model(model, ar_test_dataloader, ar_pred_file_path, ar_gold_file_path, evaluator_script, \n",
    "               id2leaf_label_subtask_2a, format=5, validation=False, threshold=0.3)"
   ],
   "metadata": {
    "collapsed": false,
    "ExecuteTime": {
     "end_time": "2024-04-27T21:18:02.133451Z",
     "start_time": "2024-04-27T21:18:01.407410Z"
    }
   },
   "id": "5c8dfd30f0053645",
   "execution_count": 25
  },
  {
   "cell_type": "code",
   "outputs": [
    {
     "name": "stderr",
     "output_type": "stream",
     "text": [
      "100%|██████████| 7/7 [00:00<00:00, 37.81it/s]\n"
     ]
    },
    {
     "name": "stdout",
     "output_type": "stream",
     "text": [
      "Output:\n",
      " f1_h=0.65849\tprec_h=0.64199\trec_h=0.67586\n"
     ]
    }
   ],
   "source": [
    "bg_pred_file_path = './Predictions/subtask2a/bg_predictions_subtask2a.txt'\n",
    "bg_gold_file_path = './test_labels_ar_bg_md_version2/test_subtask2a_bg.json'\n",
    "\n",
    "bg_test_data = process_json(bg_gold_file_path, techniques_to_level_2a, hierarchy_subtask_2a)\n",
    "bg_test_dataset = DataSet(bg_test_data, indexed_persuasion_techniques_2a, \n",
    "                           text_features_file='./TextFeatures/subtask2a/text-embedding-3-large/bg_test_text_features.pkl',\n",
    "                          image_features_file='./ImageFeatures/CLIP-ViT/bulgarian_test_images_features.pkl')\n",
    "\n",
    "bg_test_dataloader = DataLoader(bg_test_dataset, batch_size=64, shuffle=True)\n",
    "\n",
    "evaluate_model(model, bg_test_dataloader, bg_pred_file_path, bg_gold_file_path, evaluator_script, \n",
    "               id2leaf_label_subtask_2a, threshold=0.3)"
   ],
   "metadata": {
    "collapsed": false,
    "ExecuteTime": {
     "end_time": "2024-04-27T21:18:11.951425Z",
     "start_time": "2024-04-27T21:18:10.982848Z"
    }
   },
   "id": "42d5053765edf09f",
   "execution_count": 26
  },
  {
   "cell_type": "code",
   "outputs": [
    {
     "name": "stderr",
     "output_type": "stream",
     "text": [
      "100%|██████████| 5/5 [00:00<00:00, 35.83it/s]\n"
     ]
    },
    {
     "name": "stdout",
     "output_type": "stream",
     "text": [
      "Output:\n",
      " f1_h=0.68926\tprec_h=0.73154\trec_h=0.65160\n"
     ]
    }
   ],
   "source": [
    "\n",
    "md_pred_file_path = './Predictions/subtask2a/md_predictions_subtask2a.txt'\n",
    "md_gold_file_path = 'test_labels_ar_bg_md_version2/test_subtask2a_md.json'\n",
    "\n",
    "md_test_data = process_json(md_gold_file_path, techniques_to_level_2a, hierarchy_subtask_2a)\n",
    "md_test_dataset = DataSet(md_test_data, indexed_persuasion_techniques_2a, \n",
    "                          text_features_file='./TextFeatures/subtask2a/text-embedding-3-large/md_test_text_features.pkl',\n",
    "                          image_features_file='./ImageFeatures/CLIP-ViT/nm_test_images_features.pkl')\n",
    "\n",
    "md_test_dataloader = DataLoader(md_test_dataset, batch_size=64, shuffle=True)\n",
    "\n",
    "evaluate_model(model, md_test_dataloader, md_pred_file_path, md_gold_file_path, evaluator_script, \n",
    "               id2leaf_label_subtask_2a, threshold=0.3)"
   ],
   "metadata": {
    "collapsed": false,
    "ExecuteTime": {
     "end_time": "2024-04-27T21:18:18.076720Z",
     "start_time": "2024-04-27T21:18:17.275198Z"
    }
   },
   "id": "34257e580e861230",
   "execution_count": 27
  },
  {
   "cell_type": "code",
   "outputs": [
    {
     "name": "stderr",
     "output_type": "stream",
     "text": [
      "100%|██████████| 24/24 [00:00<00:00, 46.77it/s]\n"
     ]
    }
   ],
   "source": [
    "en_pred_file_path = './Predictions/subtask2a/en_predictions_subtask2a.txt'\n",
    "\n",
    "eng_test_data = process_test_json('./test_data/english/en_subtask2a_test_unlabeled.json')\n",
    "\n",
    "eng_test_dataset = TestDataSet(eng_test_data, \n",
    "                               './TextFeatures/subtask2a/text-embedding-3-large/en_test_text_features.pkl',\n",
    "                               './ImageFeatures/CLIP-ViT/english_test_images_features.pkl')\n",
    "eng_test_dataloader = DataLoader(eng_test_dataset, batch_size=64, shuffle=True)\n",
    "\n",
    "evaluate_model(model, eng_test_dataloader, en_pred_file_path, None, evaluator_script, \n",
    "               id2leaf_label_subtask_2a, threshold=0.4)"
   ],
   "metadata": {
    "collapsed": false,
    "ExecuteTime": {
     "end_time": "2024-04-27T21:18:23.368302Z",
     "start_time": "2024-04-27T21:18:22.818442Z"
    }
   },
   "id": "7ed8e149277fbc8b",
   "execution_count": 28
  },
  {
   "cell_type": "markdown",
   "source": [
    "0.65305\t0.76524\t0.56955"
   ],
   "metadata": {
    "collapsed": false
   },
   "id": "1b8e953e96d355df"
  }
 ],
 "metadata": {
  "kernelspec": {
   "display_name": "Python 3 (ipykernel)",
   "language": "python",
   "name": "python3"
  },
  "language_info": {
   "codemirror_mode": {
    "name": "ipython",
    "version": 3
   },
   "file_extension": ".py",
   "mimetype": "text/x-python",
   "name": "python",
   "nbconvert_exporter": "python",
   "pygments_lexer": "ipython3",
   "version": "3.11.7"
  }
 },
 "nbformat": 4,
 "nbformat_minor": 5
}
