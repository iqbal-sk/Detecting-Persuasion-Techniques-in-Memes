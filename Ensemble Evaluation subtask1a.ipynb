{
 "cells": [
  {
   "cell_type": "code",
   "outputs": [],
   "source": [
    "from collections import deque\n",
    "\n",
    "import pandas as pd\n",
    "import matplotlib.pyplot as plt\n",
    "import numpy as np\n",
    "import torch\n",
    "from torch import nn\n",
    "import nltk\n",
    "from torch.utils.data import Dataset\n",
    "import pickle\n",
    "\n",
    "from utils.utils import *\n",
    "from utils.label_decoding import *\n",
    "from utils.HierarchicalLoss import *\n",
    "\n"
   ],
   "metadata": {
    "collapsed": false,
    "ExecuteTime": {
     "end_time": "2024-04-28T22:27:29.946815Z",
     "start_time": "2024-04-28T22:27:28.858664Z"
    }
   },
   "id": "e3d3d10c4b16b97d",
   "execution_count": 1
  },
  {
   "cell_type": "code",
   "outputs": [],
   "source": [
    "import torch\n",
    "import numpy as np\n",
    "import json\n",
    "from tqdm import tqdm\n",
    "import subprocess\n",
    "\n",
    "def evaluate_models(models, dataloader, pred_file_path, gold_file_path, \n",
    "                    evaluator_script_path, id2leaf_label, device, validation=False, format=None,\n",
    "                    threshold=0.3):\n",
    "    # Ensure all models are in evaluation mode\n",
    "    for model in models:\n",
    "        model.eval()\n",
    "    \n",
    "    predictions = []\n",
    "    total_loss = 0 if validation else None\n",
    "    HL = HierarchicalLoss(id2label=id2label_1, hierarchical_labels=hierarchy_1, persuasion_techniques=persuasion_techniques_1, device=device)\n",
    "    \n",
    "    with torch.no_grad():\n",
    "        for batch in tqdm(dataloader):\n",
    "            ids = batch['id'].detach().numpy().tolist() if not isinstance(batch['id'], list) else batch['id']\n",
    "            # mBERT_embeddings = batch['text_features_1'].to(device)\n",
    "            # RoBERTa_embeddings = batch['text_features_2'].to(device)\n",
    "            \n",
    "            # Collect predictions from all models\n",
    "            batch_predictions = []\n",
    "            \n",
    "            \n",
    "            for idx in range(len(models)):\n",
    "                try:\n",
    "                    model = models[idx]\n",
    "                    embeddings = batch[f'text_features_{idx}'].to(device)\n",
    "                    batch_predictions.append(model(embeddings))\n",
    "                except:\n",
    "                    model = models[idx]\n",
    "                    embeddings1 = batch[f'text_features_{1}']\n",
    "                    embeddings2 = batch[f'text_features_{idx}'].to(device)\n",
    "                    batch_predictions.append(model(embeddings1, embeddings2))\n",
    "                    \n",
    "                \n",
    "            # batch_predictions.append(model1(mBERT_embeddings))\n",
    "            # batch_predictions.append(model2(mBERT_embeddings, RoBERTa_embeddings))\n",
    "            \n",
    "            # Soft voting: average the predictions across models\n",
    "            \n",
    "            avg_preds = [torch.stack([model_preds[j] for model_preds in batch_predictions]).mean(0) for j in range(5)]\n",
    "            \n",
    "            pred_1, pred_2, pred_3, pred_4, pred_5 = avg_preds\n",
    "            \n",
    "            if validation:\n",
    "                y_1, y_2, y_3 = batch['level_1_target'], batch['level_2_target'], batch['level_3_target']\n",
    "                y_4, y_5 = batch['level_4_target'], batch['level_5_target']\n",
    "                y_1, y_2, y_3, y_4, y_5 = y_1.to(device), y_2.to(device), y_3.to(device), y_4.to(device), y_5.to(device)\n",
    "                \n",
    "                dloss = HL.calculate_dloss([pred_1, pred_2, pred_3, pred_4, pred_5], [y_1, y_2, y_3, y_4, y_5])\n",
    "                lloss = HL.calculate_lloss([pred_1, pred_2, pred_3, pred_4, pred_5], [y_1, y_2, y_3, y_4, y_5])\n",
    "                total_loss += (dloss + lloss).item()\n",
    "\n",
    "            # Threshold predictions for classification\n",
    "            pred_3 = (pred_3 > threshold).int().cpu().numpy()\n",
    "            pred_4 = (pred_4 > threshold).int().cpu().numpy()\n",
    "            pred_5 = (pred_5 > threshold).int().cpu().numpy()\n",
    "            # print(ids)\n",
    "            predictions += get_labels(id2leaf_label, ids, pred_3, pred_4, pred_5, format)\n",
    "\n",
    "    # Writing JSON data\n",
    "    with open(pred_file_path, 'w') as f:\n",
    "        json.dump(predictions, f, indent=4)\n",
    "    \n",
    "    if gold_file_path is not None:\n",
    "        command = [\"python3\", evaluator_script_path, \"--gold_file_path\", gold_file_path, \"--pred_file_path\", pred_file_path]\n",
    "        result = subprocess.run(command, capture_output=True, text=True)\n",
    "        if result.returncode == 0:\n",
    "            print(\"Output:\\n\", result.stdout)\n",
    "        else:\n",
    "            print(\"Error:\\n\", result.stderr)\n",
    "    \n",
    "    if validation:\n",
    "        return total_loss / len(dataloader)\n"
   ],
   "metadata": {
    "collapsed": true,
    "ExecuteTime": {
     "end_time": "2024-04-28T22:27:29.953090Z",
     "start_time": "2024-04-28T22:27:29.947435Z"
    }
   },
   "id": "initial_id",
   "execution_count": 2
  },
  {
   "cell_type": "markdown",
   "source": [
    "### mBERT"
   ],
   "metadata": {
    "collapsed": false
   },
   "id": "d55aa6ae5370cbe6"
  },
  {
   "cell_type": "code",
   "outputs": [
    {
     "data": {
      "text/plain": "<All keys matched successfully>"
     },
     "execution_count": 3,
     "metadata": {},
     "output_type": "execute_result"
    }
   ],
   "source": [
    "from modules.nn.mBERT import mBERT\n",
    "\n",
    "mBERT_model = mBERT()\n",
    "mBERT_model.load_state_dict(torch.load('./models/subtask1a/mBERT-200/ancient-sweep-5.pth'))"
   ],
   "metadata": {
    "collapsed": false,
    "ExecuteTime": {
     "end_time": "2024-04-28T22:27:29.989087Z",
     "start_time": "2024-04-28T22:27:29.953999Z"
    }
   },
   "id": "526bcf09371d3411",
   "execution_count": 3
  },
  {
   "cell_type": "markdown",
   "source": [
    "### XLM-RoBERTa"
   ],
   "metadata": {
    "collapsed": false
   },
   "id": "e56d2aae7e6b904f"
  },
  {
   "cell_type": "code",
   "outputs": [
    {
     "data": {
      "text/plain": "<All keys matched successfully>"
     },
     "execution_count": 20,
     "metadata": {},
     "output_type": "execute_result"
    }
   ],
   "source": [
    "from modules.nn.XLMRoBERTa import XLMRoBERTa\n",
    "\n",
    "XLMRoBERTa_model = XLMRoBERTa()\n",
    "XLMRoBERTa_model.load_state_dict(torch.load('./models/subtask1a/XLM-RoBERTa/radiant-sweep-4.pth'))"
   ],
   "metadata": {
    "collapsed": false,
    "ExecuteTime": {
     "end_time": "2024-04-29T00:20:11.383287Z",
     "start_time": "2024-04-29T00:20:11.343290Z"
    }
   },
   "id": "54424e61d14d223d",
   "execution_count": 20
  },
  {
   "cell_type": "markdown",
   "source": [
    "### XLNet"
   ],
   "metadata": {
    "collapsed": false
   },
   "id": "9e9c405aac8abd96"
  },
  {
   "cell_type": "code",
   "outputs": [
    {
     "data": {
      "text/plain": "<All keys matched successfully>"
     },
     "execution_count": 21,
     "metadata": {},
     "output_type": "execute_result"
    }
   ],
   "source": [
    "from modules.nn.XLNet import XLNet\n",
    "\n",
    "xlnet_model = XLNet()\n",
    "xlnet_model.load_state_dict(torch.load(\"./models/subtask1a/XLNet-200/fanciful-sweep-1.pth\"))"
   ],
   "metadata": {
    "collapsed": false,
    "ExecuteTime": {
     "end_time": "2024-04-29T00:20:12.183620Z",
     "start_time": "2024-04-29T00:20:12.142770Z"
    }
   },
   "id": "b5322564467d85d6",
   "execution_count": 21
  },
  {
   "cell_type": "markdown",
   "source": [
    "### openAi small "
   ],
   "metadata": {
    "collapsed": false
   },
   "id": "bb1f72a2c640ba9f"
  },
  {
   "cell_type": "code",
   "outputs": [
    {
     "data": {
      "text/plain": "<All keys matched successfully>"
     },
     "execution_count": 22,
     "metadata": {},
     "output_type": "execute_result"
    }
   ],
   "source": [
    "from modules.nn.OpenAiSmall import OpenAiSmall\n",
    "\n",
    "openai_small = OpenAiSmall()\n",
    "# openai_small.load_state_dict(torch.load('./models/subtask1a/text-embedding-3-small/openai_small-3.pth'))\n",
    "# openai_small.load_state_dict(torch.load(\"./models/subtask1a/openAI-Small/chocolate-sweep-8.pth\"))\n",
    "openai_small.load_state_dict(torch.load(\"./models/subtask1a/openAI-Small/crisp-sweep-2.pth\"))"
   ],
   "metadata": {
    "collapsed": false,
    "ExecuteTime": {
     "end_time": "2024-04-29T00:20:13.146117Z",
     "start_time": "2024-04-29T00:20:13.095582Z"
    }
   },
   "id": "55394a6c942ab569",
   "execution_count": 22
  },
  {
   "cell_type": "markdown",
   "source": [
    "### openai large"
   ],
   "metadata": {
    "collapsed": false
   },
   "id": "bc6da3242db5cdbe"
  },
  {
   "cell_type": "code",
   "outputs": [
    {
     "data": {
      "text/plain": "<All keys matched successfully>"
     },
     "execution_count": 23,
     "metadata": {},
     "output_type": "execute_result"
    }
   ],
   "source": [
    "from modules.nn.OpenAiLarge import OpenAiLarge\n",
    "\n",
    "    \n",
    "openai_large = OpenAiLarge()\n",
    "openai_large.load_state_dict(torch.load('./models/subtask1a/text-embedding-3-large/openai_large.pth'))\n",
    "# openai_large.load_state_dict(torch.load('./models/subtask1a/openAI-Large/trim-sweep-4.pth'))"
   ],
   "metadata": {
    "collapsed": false,
    "ExecuteTime": {
     "end_time": "2024-04-29T00:20:14.662763Z",
     "start_time": "2024-04-29T00:20:14.570974Z"
    }
   },
   "id": "57e0456a3aaabcd1",
   "execution_count": 23
  },
  {
   "cell_type": "markdown",
   "source": [
    "### openai large NER"
   ],
   "metadata": {
    "collapsed": false
   },
   "id": "dc18f1d4e302e808"
  },
  {
   "cell_type": "code",
   "outputs": [
    {
     "data": {
      "text/plain": "<All keys matched successfully>"
     },
     "execution_count": 24,
     "metadata": {},
     "output_type": "execute_result"
    }
   ],
   "source": [
    "from modules.nn.OpenAiLarge import OpenAiLargeNER\n",
    "\n",
    "openai_ner_model = OpenAiLargeNER()\n",
    "openai_ner_model.load_state_dict(torch.load('./models/subtask1a/openAI-Large-NER/misty-sweep-4.pth'))"
   ],
   "metadata": {
    "collapsed": false,
    "ExecuteTime": {
     "end_time": "2024-04-29T00:20:15.619704Z",
     "start_time": "2024-04-29T00:20:15.507389Z"
    }
   },
   "id": "fc1352d325ce7c53",
   "execution_count": 24
  },
  {
   "cell_type": "code",
   "outputs": [
    {
     "data": {
      "text/plain": "<All keys matched successfully>"
     },
     "execution_count": 25,
     "metadata": {},
     "output_type": "execute_result"
    }
   ],
   "source": [
    "from modules.nn.OpenAiLarge import OpenAiLargeMultiLingualNER\n",
    "\n",
    "openai_mner = OpenAiLargeMultiLingualNER()\n",
    "openai_mner.load_state_dict(torch.load('./models/subtask1a/openAI-Large-m-NER/gallant-sweep-7.pth'))"
   ],
   "metadata": {
    "collapsed": false,
    "ExecuteTime": {
     "end_time": "2024-04-29T00:20:17.385192Z",
     "start_time": "2024-04-29T00:20:17.276446Z"
    }
   },
   "id": "4536d1488a35ba92",
   "execution_count": 25
  },
  {
   "cell_type": "code",
   "outputs": [],
   "source": [
    "class TestDataSet(Dataset):\n",
    "    def __init__(self, df, features_files):\n",
    "        super(TestDataSet, self).__init__()\n",
    "        self.data_df = df\n",
    "        self.features_files = features_files\n",
    "        self.features_dict = []\n",
    "        \n",
    "        for features_file in features_files:\n",
    "            with open(features_file, 'rb') as f:\n",
    "                self.features_dict.append(pickle.load(f))\n",
    "        \n",
    "        \n",
    "    \n",
    "    def __len__(self):\n",
    "        return len(self.data_df)\n",
    "    \n",
    "    def __getitem__(self, idx):\n",
    "        id = self.data_df.iloc[idx]['id']\n",
    "        text = self.data_df.iloc[idx]['cleaned_text']\n",
    "        \n",
    "        features = {f'text_features_{idx}': self.features_dict[idx][id] for idx in range(len(self.features_files))}\n",
    "        \n",
    "        features['id'] = id\n",
    "        features['text'] = text\n",
    "        \n",
    "        return features"
   ],
   "metadata": {
    "collapsed": false,
    "ExecuteTime": {
     "end_time": "2024-04-28T22:27:42.291753Z",
     "start_time": "2024-04-28T22:27:42.287721Z"
    }
   },
   "id": "903c5dc2bc7c9ff9",
   "execution_count": 10
  },
  {
   "cell_type": "code",
   "outputs": [],
   "source": [
    "from torch.utils.data import DataLoader\n",
    "evaluator_script = './scorer-baseline/subtask_1_2a.py'"
   ],
   "metadata": {
    "collapsed": false,
    "ExecuteTime": {
     "end_time": "2024-04-28T22:29:30.946164Z",
     "start_time": "2024-04-28T22:29:30.943760Z"
    }
   },
   "id": "78566f1c32bf5c40",
   "execution_count": 14
  },
  {
   "cell_type": "markdown",
   "source": [
    "### text-embeddings-small + text-embeddings-large + text-embeddings-large-multilingual-ner"
   ],
   "metadata": {
    "collapsed": false
   },
   "id": "3be39b992ba4353b"
  },
  {
   "cell_type": "code",
   "outputs": [
    {
     "name": "stderr",
     "output_type": "stream",
     "text": [
      "100%|██████████| 7/7 [00:00<00:00, 35.18it/s]\n"
     ]
    },
    {
     "name": "stdout",
     "output_type": "stream",
     "text": [
      "Output:\n",
      " f1_h=0.45951\tprec_h=0.49609\trec_h=0.42796\n"
     ]
    }
   ],
   "source": [
    "bulgarian_pred_file_path = './Predictions/bulgarian_predictions_subtask1.txt'\n",
    "bulgarian_gold_file_path = './test_labels_ar_bg_md_version2/test_subtask1_bg.json'\n",
    "evaluator_script = './scorer-baseline/subtask_1_2a.py'\n",
    "\n",
    "bg_test_data = process_test_json(bulgarian_gold_file_path)\n",
    "\n",
    "\n",
    "features_files = ['TextFeatures/subtask1a/text-embedding-3-small/bg_test_text_features.pkl',\n",
    "                  'TextFeatures/subtask1a/text-embedding-3-large/bg_test_text_features.pkl',\n",
    "                  'TextFeatures/subtask1a/multilingual-ner/bg_test_text_features.pkl', \n",
    "                  'TextFeatures/subtask1a/mBERT/bg_test_text_features.pkl'\n",
    "                  ]\n",
    "\n",
    "bg_test_dataset = TestDataSet(bg_test_data, features_files)\n",
    "bg_test_dataloader = DataLoader(bg_test_dataset, batch_size=64, shuffle=True)\n",
    "\n",
    "evaluate_models([openai_small, openai_large, openai_mner], bg_test_dataloader,\n",
    "                bulgarian_pred_file_path, bulgarian_gold_file_path,\n",
    "               evaluator_script, id2leaf_label, validation=False, device=torch.device('cpu'), threshold=0.3)"
   ],
   "metadata": {
    "collapsed": false,
    "ExecuteTime": {
     "end_time": "2024-04-28T08:23:20.911082Z",
     "start_time": "2024-04-28T08:23:19.964482Z"
    }
   },
   "id": "1a24d34d0979bf36",
   "execution_count": 158
  },
  {
   "cell_type": "code",
   "outputs": [
    {
     "name": "stderr",
     "output_type": "stream",
     "text": [
      "100%|██████████| 5/5 [00:00<00:00, 55.34it/s]\n"
     ]
    },
    {
     "name": "stdout",
     "output_type": "stream",
     "text": [
      "Output:\n",
      " f1_h=0.42587\tprec_h=0.59341\trec_h=0.33210\n"
     ]
    }
   ],
   "source": [
    "macedonian_pred_file_path = './Predictions/macedonian_predictions_subtask1.txt'\n",
    "macedonian_gold_file_path = './test_labels_ar_bg_md_version2/test_subtask1_md.json'\n",
    "\n",
    "md_test_data = process_test_json(macedonian_gold_file_path)\n",
    "\n",
    "features_files = ['TextFeatures/subtask1a/text-embedding-3-small/md_test_text_features.pkl',\n",
    "                  'TextFeatures/subtask1a/text-embedding-3-large/md_test_text_features.pkl',\n",
    "                  'TextFeatures/subtask1a/multilingual-ner/md_test_text_features.pkl',\n",
    "                  'TextFeatures/subtask1a/mBERT/md_test_text_features.pkl']\n",
    "\n",
    "md_test_dataset = TestDataSet(md_test_data, features_files)\n",
    "md_test_dataloader = DataLoader(md_test_dataset, batch_size=64, shuffle=True)\n",
    "\n",
    "evaluate_models([openai_small, openai_large, openai_mner], md_test_dataloader,\n",
    "                macedonian_pred_file_path, macedonian_gold_file_path,\n",
    "               evaluator_script, id2leaf_label, validation=False, device=torch.device('cpu'), threshold=0.3)"
   ],
   "metadata": {
    "collapsed": false,
    "ExecuteTime": {
     "end_time": "2024-04-28T08:23:27.116525Z",
     "start_time": "2024-04-28T08:23:26.426388Z"
    }
   },
   "id": "344ebde8623c1f25",
   "execution_count": 159
  },
  {
   "cell_type": "code",
   "outputs": [
    {
     "name": "stderr",
     "output_type": "stream",
     "text": [
      "100%|██████████| 2/2 [00:00<00:00, 49.64it/s]\n"
     ]
    },
    {
     "name": "stdout",
     "output_type": "stream",
     "text": [
      "Output:\n",
      " f1_h=0.44079\tprec_h=0.41486\trec_h=0.47018\n"
     ]
    }
   ],
   "source": [
    "arabian_pred_file_path = './Predictions/arabian_predictions_subtask1.txt'\n",
    "arabian_gold_file_path = './test_labels_ar_bg_md_version2/test_subtask1_ar.json'\n",
    "\n",
    "ar_test_data = process_test_json(arabian_gold_file_path)\n",
    "\n",
    "features_files = [ 'TextFeatures/subtask1a/text-embedding-3-small/ar_test_text_features.pkl',\n",
    "                  'TextFeatures/subtask1a/text-embedding-3-large/ar_test_text_features.pkl',\n",
    "                  'TextFeatures/subtask1a/multilingual-ner/ar_test_text_features.pkl',\n",
    "                  'TextFeatures/subtask1a/mBERT/ar_test_text_features.pkl']\n",
    "\n",
    "ar_test_dataset = TestDataSet(ar_test_data, features_files)\n",
    "ar_test_dataloader = DataLoader(ar_test_dataset, batch_size=64, shuffle=True)\n",
    "\n",
    "evaluate_models([openai_small, openai_large, openai_mner], ar_test_dataloader, arabian_pred_file_path,\n",
    "                arabian_gold_file_path, evaluator_script, \n",
    "               id2leaf_label, format=5, validation=False, device=torch.device('cpu'), threshold=0.3)"
   ],
   "metadata": {
    "collapsed": false,
    "ExecuteTime": {
     "end_time": "2024-04-28T08:23:35.327094Z",
     "start_time": "2024-04-28T08:23:34.661635Z"
    }
   },
   "id": "a27b85a2d45ecbb2",
   "execution_count": 160
  },
  {
   "cell_type": "code",
   "outputs": [
    {
     "name": "stderr",
     "output_type": "stream",
     "text": [
      "100%|██████████| 12/12 [00:00<00:00, 33.22it/s]\n"
     ]
    }
   ],
   "source": [
    "en_pred_file_path = './Predictions/en_predictions_subtask1.txt'\n",
    "\n",
    "\n",
    "en_test_data = process_test_json('./test_data/english/en_subtask1_test_unlabeled.json')\n",
    "\n",
    "features_files = ['./TextFeatures/subtask1a/text-embedding-3-small/en_test_text_features.pkl',\n",
    "                  './TextFeatures/subtask1a/text-embedding-3-large/en_test_text_features.pkl', \n",
    "                  './TextFeatures/subtask1a/multilingual-ner/en_test_text_features.pkl', \n",
    "                  ]\n",
    "\n",
    "en_test_dataset = TestDataSet(en_test_data, features_files)\n",
    "\n",
    "en_test_dataloader = DataLoader(en_test_dataset, batch_size=128)\n",
    "\n",
    "evaluate_models([openai_small, openai_large, openai_mner],\n",
    "                en_test_dataloader, \n",
    "                en_pred_file_path, None, evaluator_script, id2leaf_label, validation=False,\n",
    "                device=torch.device('cpu'),\n",
    "                threshold=0.3)"
   ],
   "metadata": {
    "collapsed": false,
    "ExecuteTime": {
     "end_time": "2024-04-28T08:25:25.168625Z",
     "start_time": "2024-04-28T08:25:24.751883Z"
    }
   },
   "id": "6b9b1c74a5c257d3",
   "execution_count": 162
  },
  {
   "cell_type": "markdown",
   "source": [
    "0.64982\t0.66939\t0.63137"
   ],
   "metadata": {
    "collapsed": false
   },
   "id": "cce799750c2ac56f"
  },
  {
   "cell_type": "markdown",
   "source": [
    "### text-embeddings-small + text-embeddings-large + text-embeddings-large-multilingual-ner + mBERT"
   ],
   "metadata": {
    "collapsed": false
   },
   "id": "fc50cfbe6f00fa59"
  },
  {
   "cell_type": "code",
   "outputs": [
    {
     "name": "stderr",
     "output_type": "stream",
     "text": [
      "100%|██████████| 7/7 [00:00<00:00, 61.69it/s]\n"
     ]
    },
    {
     "name": "stdout",
     "output_type": "stream",
     "text": [
      "Output:\n",
      " f1_h=0.48411\tprec_h=0.50809\trec_h=0.46229\n"
     ]
    }
   ],
   "source": [
    "bulgarian_pred_file_path = './Predictions/bulgarian_predictions_subtask1.txt'\n",
    "bulgarian_gold_file_path = './test_labels_ar_bg_md_version2/test_subtask1_bg.json'\n",
    "evaluator_script = './scorer-baseline/subtask_1_2a.py'\n",
    "\n",
    "bg_test_data = process_test_json(bulgarian_gold_file_path)\n",
    "\n",
    "\n",
    "features_files = ['TextFeatures/subtask1a/text-embedding-3-small/bg_test_text_features.pkl',\n",
    "                  'TextFeatures/subtask1a/text-embedding-3-large/bg_test_text_features.pkl',\n",
    "                  'TextFeatures/subtask1a/multilingual-ner/bg_test_text_features.pkl', \n",
    "                  'TextFeatures/subtask1a/mBERT/bg_test_text_features.pkl'\n",
    "                  ]\n",
    "\n",
    "bg_test_dataset = TestDataSet(bg_test_data, features_files)\n",
    "bg_test_dataloader = DataLoader(bg_test_dataset, batch_size=64, shuffle=True)\n",
    "\n",
    "evaluate_models([openai_small, openai_large, openai_mner, mBERT_model], bg_test_dataloader,\n",
    "                bulgarian_pred_file_path, bulgarian_gold_file_path,\n",
    "               evaluator_script, id2leaf_label, validation=False, device=torch.device('cpu'), threshold=0.3)"
   ],
   "metadata": {
    "collapsed": false,
    "ExecuteTime": {
     "end_time": "2024-04-28T08:07:39.893467Z",
     "start_time": "2024-04-28T08:07:39.142713Z"
    }
   },
   "id": "86b5e9362c815fb6",
   "execution_count": 120
  },
  {
   "cell_type": "code",
   "outputs": [
    {
     "name": "stderr",
     "output_type": "stream",
     "text": [
      "100%|██████████| 5/5 [00:00<00:00, 44.22it/s]\n"
     ]
    },
    {
     "name": "stdout",
     "output_type": "stream",
     "text": [
      "Output:\n",
      " f1_h=0.46615\tprec_h=0.62218\trec_h=0.37269\n"
     ]
    }
   ],
   "source": [
    "macedonian_pred_file_path = './Predictions/macedonian_predictions_subtask1.txt'\n",
    "macedonian_gold_file_path = './test_labels_ar_bg_md_version2/test_subtask1_md.json'\n",
    "\n",
    "md_test_data = process_test_json(macedonian_gold_file_path)\n",
    "\n",
    "features_files = ['TextFeatures/subtask1a/text-embedding-3-small/md_test_text_features.pkl',\n",
    "                  'TextFeatures/subtask1a/text-embedding-3-large/md_test_text_features.pkl',\n",
    "                  'TextFeatures/subtask1a/multilingual-ner/md_test_text_features.pkl',\n",
    "                  'TextFeatures/subtask1a/mBERT/md_test_text_features.pkl']\n",
    "\n",
    "md_test_dataset = TestDataSet(md_test_data, features_files)\n",
    "md_test_dataloader = DataLoader(md_test_dataset, batch_size=64, shuffle=True)\n",
    "\n",
    "evaluate_models([openai_small, openai_large, openai_mner, mBERT_model], md_test_dataloader,\n",
    "                macedonian_pred_file_path, macedonian_gold_file_path,\n",
    "               evaluator_script, id2leaf_label, validation=False, device=torch.device('cpu'), threshold=0.3)"
   ],
   "metadata": {
    "collapsed": false,
    "ExecuteTime": {
     "end_time": "2024-04-28T08:09:52.362426Z",
     "start_time": "2024-04-28T08:09:51.522220Z"
    }
   },
   "id": "ae5c33a2f66e9d1d",
   "execution_count": 134
  },
  {
   "cell_type": "code",
   "outputs": [
    {
     "name": "stderr",
     "output_type": "stream",
     "text": [
      "100%|██████████| 2/2 [00:00<00:00, 51.00it/s]\n"
     ]
    },
    {
     "name": "stdout",
     "output_type": "stream",
     "text": [
      "Output:\n",
      " f1_h=0.44478\tprec_h=0.39510\trec_h=0.50877\n"
     ]
    }
   ],
   "source": [
    "arabian_pred_file_path = './Predictions/arabian_predictions_subtask1.txt'\n",
    "arabian_gold_file_path = './test_labels_ar_bg_md_version2/test_subtask1_ar.json'\n",
    "\n",
    "ar_test_data = process_test_json(arabian_gold_file_path)\n",
    "\n",
    "features_files = [ 'TextFeatures/subtask1a/text-embedding-3-small/ar_test_text_features.pkl',\n",
    "                  'TextFeatures/subtask1a/text-embedding-3-large/ar_test_text_features.pkl',\n",
    "                  'TextFeatures/subtask1a/multilingual-ner/ar_test_text_features.pkl',\n",
    "                  'TextFeatures/subtask1a/mBERT/ar_test_text_features.pkl']\n",
    "\n",
    "ar_test_dataset = TestDataSet(ar_test_data, features_files)\n",
    "ar_test_dataloader = DataLoader(ar_test_dataset, batch_size=64, shuffle=True)\n",
    "\n",
    "evaluate_models([openai_small, openai_large, openai_mner, mBERT_model], ar_test_dataloader, arabian_pred_file_path,\n",
    "                arabian_gold_file_path, evaluator_script, \n",
    "               id2leaf_label, format=5, validation=False, device=torch.device('cpu'), threshold=0.3)"
   ],
   "metadata": {
    "collapsed": false,
    "ExecuteTime": {
     "end_time": "2024-04-28T08:13:46.477887Z",
     "start_time": "2024-04-28T08:13:45.851609Z"
    }
   },
   "id": "1e955b004434054",
   "execution_count": 144
  },
  {
   "cell_type": "code",
   "outputs": [
    {
     "name": "stderr",
     "output_type": "stream",
     "text": [
      "100%|██████████| 12/12 [00:00<00:00, 26.42it/s]\n"
     ]
    }
   ],
   "source": [
    "en_pred_file_path = './Predictions/en_predictions_subtask1.txt'\n",
    "\n",
    "\n",
    "en_test_data = process_test_json('./test_data/english/en_subtask1_test_unlabeled.json')\n",
    "\n",
    "features_files = ['./TextFeatures/subtask1a/text-embedding-3-small/en_test_text_features.pkl',\n",
    "                  './TextFeatures/subtask1a/text-embedding-3-large/en_test_text_features.pkl', \n",
    "                  # './TextFeatures/subtask1a/BERT-NER/en_test_text_features.pkl', \n",
    "                  './TextFeatures/subtask1a/multilingual-ner/en_test_text_features.pkl', \n",
    "                  './TextFeatures/subtask1a/mBERT/en_test_text_features.pkl']\n",
    "\n",
    "en_test_dataset = TestDataSet(en_test_data, features_files)\n",
    "\n",
    "en_test_dataloader = DataLoader(en_test_dataset, batch_size=128)\n",
    "\n",
    "evaluate_models([openai_small, openai_large, openai_mner, mBERT_model],\n",
    "                en_test_dataloader, \n",
    "                en_pred_file_path, None, evaluator_script, id2leaf_label, validation=False,\n",
    "                device=torch.device('cpu'),\n",
    "                threshold=0.3)"
   ],
   "metadata": {
    "collapsed": false,
    "ExecuteTime": {
     "end_time": "2024-04-28T08:27:18.807527Z",
     "start_time": "2024-04-28T08:27:18.248406Z"
    }
   },
   "id": "7a287b458b25bdcd",
   "execution_count": 163
  },
  {
   "cell_type": "markdown",
   "source": [
    "0.65706\t0.68876\t0.62815"
   ],
   "metadata": {
    "collapsed": false
   },
   "id": "cc90761d8b312412"
  },
  {
   "cell_type": "markdown",
   "source": [
    "### text-embeddings-small + text-embeddings-large + text-embeddings-large-multilingual-ner + mBERT + BERT-ner\n",
    "\n",
    "Only for English"
   ],
   "metadata": {
    "collapsed": false
   },
   "id": "20a614e5783d9ad8"
  },
  {
   "cell_type": "code",
   "outputs": [
    {
     "name": "stderr",
     "output_type": "stream",
     "text": [
      "100%|██████████| 12/12 [00:00<00:00, 20.40it/s]\n"
     ]
    }
   ],
   "source": [
    "en_pred_file_path = './Predictions/en_predictions_subtask1.txt'\n",
    "\n",
    "\n",
    "en_test_data = process_test_json('./test_data/english/en_subtask1_test_unlabeled.json')\n",
    "\n",
    "features_files = ['./TextFeatures/subtask1a/text-embedding-3-small/en_test_text_features.pkl',\n",
    "                  './TextFeatures/subtask1a/text-embedding-3-large/en_test_text_features.pkl', \n",
    "                  './TextFeatures/subtask1a/BERT-NER/en_test_text_features.pkl', \n",
    "                  './TextFeatures/subtask1a/multilingual-ner/en_test_text_features.pkl', \n",
    "                  './TextFeatures/subtask1a/mBERT/en_test_text_features.pkl']\n",
    "\n",
    "en_test_dataset = TestDataSet(en_test_data, features_files)\n",
    "\n",
    "en_test_dataloader = DataLoader(en_test_dataset, batch_size=128)\n",
    "\n",
    "evaluate_models([openai_small, openai_large, openai_ner_model, openai_mner, mBERT_model],\n",
    "                en_test_dataloader, \n",
    "                en_pred_file_path, None, evaluator_script, id2leaf_label, validation=False,\n",
    "                device=torch.device('cpu'),\n",
    "                threshold=0.3)"
   ],
   "metadata": {
    "collapsed": false,
    "ExecuteTime": {
     "end_time": "2024-04-29T00:21:04.129116Z",
     "start_time": "2024-04-29T00:21:03.481197Z"
    }
   },
   "id": "af9eea48c2df85da",
   "execution_count": 28
  },
  {
   "cell_type": "markdown",
   "source": [
    "0.66143\t0.69620\t0.62997"
   ],
   "metadata": {
    "collapsed": false
   },
   "id": "f5c3639b145d1905"
  },
  {
   "cell_type": "code",
   "outputs": [
    {
     "name": "stdout",
     "output_type": "stream",
     "text": [
      "(1536,)\n",
      "(3072,)\n",
      "(1024,)\n",
      "(768,)\n",
      "(768,)\n"
     ]
    }
   ],
   "source": [
    "en_test_dataset[0].keys()\n",
    "\n",
    "for i in range(5):\n",
    "    print(en_test_dataset[0][f'text_features_{i}'].shape)"
   ],
   "metadata": {
    "collapsed": false,
    "ExecuteTime": {
     "end_time": "2024-04-29T00:26:31.919475Z",
     "start_time": "2024-04-29T00:26:31.916980Z"
    }
   },
   "id": "88d18fd9112e7482",
   "execution_count": 31
  },
  {
   "cell_type": "code",
   "outputs": [
    {
     "name": "stderr",
     "output_type": "stream",
     "text": [
      "100%|██████████| 8/8 [00:00<00:00, 21.03it/s]\n"
     ]
    },
    {
     "name": "stdout",
     "output_type": "stream",
     "text": [
      "Output:\n",
      " f1_h=0.63375\tprec_h=0.67708\trec_h=0.59563\n"
     ]
    }
   ],
   "source": [
    "en_dev_pred_file_path = './Predictions/ensemble_en_dev_predictions_subtask1.txt'\n",
    "en_dev_gold_file_path = './dev_gold_labels/dev_subtask1_en.json'\n",
    "\n",
    "\n",
    "en_dev_test_data = process_test_json(en_dev_gold_file_path)\n",
    "\n",
    "features_files = ['./TextFeatures/subtask1a/text-embedding-3-small/en_dev_text_features.pkl',\n",
    "                  './TextFeatures/subtask1a/text-embedding-3-large/en_dev_text_features.pkl', \n",
    "                  './TextFeatures/subtask1a/BERT-NER/en_dev_text_features.pkl', \n",
    "                  './TextFeatures/subtask1a/multilingual-ner/en_dev_text_features.pkl', \n",
    "                  './TextFeatures/subtask1a/mBERT/en_dev_text_features.pkl']\n",
    "\n",
    "en_dev_test_dataset = TestDataSet(en_dev_test_data, features_files)\n",
    "\n",
    "en_dev_test_dataloader = DataLoader(en_dev_test_dataset, batch_size=128)\n",
    "\n",
    "evaluate_models([openai_small, openai_large, openai_ner_model, openai_mner, mBERT_model],\n",
    "                en_dev_test_dataloader, \n",
    "                en_dev_pred_file_path, en_dev_gold_file_path, evaluator_script, id2leaf_label, validation=False,\n",
    "                device=torch.device('cpu'),\n",
    "                threshold=0.3)"
   ],
   "metadata": {
    "collapsed": false,
    "ExecuteTime": {
     "end_time": "2024-04-29T01:33:56.828291Z",
     "start_time": "2024-04-29T01:33:55.755363Z"
    }
   },
   "id": "a5da61b55e1b9d6d",
   "execution_count": 41
  },
  {
   "cell_type": "code",
   "outputs": [
    {
     "name": "stdout",
     "output_type": "stream",
     "text": [
      "(1536,)\n",
      "(3072,)\n",
      "(1024,)\n",
      "(768,)\n",
      "(768,)\n"
     ]
    }
   ],
   "source": [
    "en_dev_test_dataset[0].keys()\n",
    "\n",
    "for i in range(5):\n",
    "    print(en_dev_test_dataset[0][f'text_features_{i}'].shape)"
   ],
   "metadata": {
    "collapsed": false,
    "ExecuteTime": {
     "end_time": "2024-04-29T00:44:08.826632Z",
     "start_time": "2024-04-29T00:44:08.823876Z"
    }
   },
   "id": "9bed83799a1888d6",
   "execution_count": 35
  },
  {
   "cell_type": "code",
   "outputs": [
    {
     "data": {
      "text/plain": "<Figure size 1200x800 with 5 Axes>",
      "image/png": "[encoded data removed]"
     },
     "metadata": {},
     "output_type": "display_data"
    }
   ],
   "source": [
    "import torch\n",
    "import torch.nn as nn\n",
    "import numpy as np\n",
    "import matplotlib.pyplot as plt\n",
    "\n",
    "# Define a simple neural network model for multi-label classification\n",
    "class SimpleNN(nn.Module):\n",
    "    def __init__(self):\n",
    "        super(SimpleNN, self).__init__()\n",
    "        self.linear = nn.Linear(10, 5)  # Example: input features=10, output features=5 (5 labels)\n",
    "\n",
    "    def forward(self, x):\n",
    "        return torch.sigmoid(self.linear(x))  # Sigmoid activation for multi-label classification\n",
    "\n",
    "# Initialize the model\n",
    "model = SimpleNN()\n",
    "\n",
    "# Generate a batch of dummy data\n",
    "batch_size = 100\n",
    "dummy_data = torch.randn(batch_size, 10)\n",
    "\n",
    "# Get predictions\n",
    "model.eval()  # Set the model to evaluation mode\n",
    "with torch.no_grad():\n",
    "    predictions = model(dummy_data)\n",
    "\n",
    "# Print the predictions\n",
    "# print(\"Predictions:\")\n",
    "# print(predictions)\n",
    "\n",
    "# Plot the distribution of predictions for each label\n",
    "plt.figure(figsize=(12, 8))\n",
    "for i in range(predictions.shape[1]):  # Loop over each label\n",
    "    plt.subplot(2, 3, i+1)  # Create a subplot for each label\n",
    "    plt.hist(predictions[:, i].numpy(), bins=10, alpha=0.75, color='blue')\n",
    "    plt.title(f'Label {i} Predictions')\n",
    "    plt.xlabel('Probability')\n",
    "    plt.ylabel('Count')\n",
    "\n",
    "plt.tight_layout()\n",
    "plt.show()\n"
   ],
   "metadata": {
    "collapsed": false,
    "ExecuteTime": {
     "end_time": "2024-04-24T21:49:09.080434Z",
     "start_time": "2024-04-24T21:49:08.525221Z"
    }
   },
   "id": "9cb6ee657db77c8a",
   "execution_count": 64
  },
  {
   "cell_type": "code",
   "outputs": [],
   "source": [],
   "metadata": {
    "collapsed": false
   },
   "id": "a09c9674cf17e22f"
  }
 ],
 "metadata": {
  "kernelspec": {
   "display_name": "Python 3",
   "language": "python",
   "name": "python3"
  },
  "language_info": {
   "codemirror_mode": {
    "name": "ipython",
    "version": 2
   },
   "file_extension": ".py",
   "mimetype": "text/x-python",
   "name": "python",
   "nbconvert_exporter": "python",
   "pygments_lexer": "ipython2",
   "version": "2.7.6"
  }
 },
 "nbformat": 4,
 "nbformat_minor": 5
}
