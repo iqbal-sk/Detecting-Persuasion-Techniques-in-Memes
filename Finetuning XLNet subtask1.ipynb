{
 "cells": [
  {
   "cell_type": "code",
   "execution_count": 1,
   "id": "initial_id",
   "metadata": {
    "collapsed": true,
    "ExecuteTime": {
     "end_time": "2024-04-22T06:26:45.711726Z",
     "start_time": "2024-04-22T06:26:44.516203Z"
    }
   },
   "outputs": [],
   "source": [
    "from collections import deque\n",
    "\n",
    "import pandas as pd\n",
    "import matplotlib.pyplot as plt\n",
    "import numpy as np\n",
    "import torch\n",
    "from torch import nn\n",
    "import nltk\n",
    "from torch.utils.data import Dataset\n",
    "import pickle\n",
    "\n",
    "from utils.utils import *\n",
    "from utils.label_decoding import *\n",
    "from utils.HierarchicalLoss import *"
   ]
  },
  {
   "cell_type": "markdown",
   "source": [
    "# SubTask 1"
   ],
   "metadata": {
    "collapsed": false
   },
   "id": "e60ad07d99dbae78"
  },
  {
   "cell_type": "code",
   "outputs": [],
   "source": [
    "class DataSet(Dataset):\n",
    "    def __init__(self, df, labels_at_level, features_file):\n",
    "        super(DataSet, self).__init__()\n",
    "        self.data_df = df\n",
    "        self.labels_at_level = labels_at_level\n",
    "        self.features_file = features_file\n",
    "        self.features_dict = None\n",
    "        with open(features_file, 'rb') as f:\n",
    "            self.features_dict = pickle.load(f)\n",
    "    \n",
    "    def __len__(self):\n",
    "        return len(self.data_df)\n",
    "    \n",
    "    def __getitem__(self, idx):\n",
    "        id = self.data_df.iloc[idx]['id']\n",
    "        text = self.data_df.iloc[idx]['cleaned_text']\n",
    "        level_1_target = self.encode(self.data_df.iloc[idx]['Level 1'], 1)\n",
    "        level_2_target = self.encode(self.data_df.iloc[idx]['Level 2'], 2)\n",
    "        level_3_target = self.encode(self.data_df.iloc[idx]['Level 3'], 3)\n",
    "        level_4_target = self.encode(self.data_df.iloc[idx]['Level 4'], 4)\n",
    "        level_5_target = self.encode(self.data_df.iloc[idx]['Level 5'], 5)\n",
    "            \n",
    "        \n",
    "        return {'id': id,\n",
    "                'text': text, \n",
    "                'text_features': self.features_dict[id],\n",
    "                'level_1_target': level_1_target, \n",
    "                'level_2_target': level_2_target, \n",
    "                'level_3_target': level_3_target, \n",
    "                'level_4_target': level_4_target, \n",
    "                'level_5_target': level_5_target }\n",
    "\n",
    "    def encode(self, labels, level):\n",
    "        level_ = f'Level {level}'\n",
    "        \n",
    "        target = torch.zeros(len(self.labels_at_level[level_])+1)\n",
    "        \n",
    "        for label in labels:\n",
    "            label_idx = self.labels_at_level[level_][label]\n",
    "            target[label_idx] = 1\n",
    "        \n",
    "        if len(labels) == 0:\n",
    "            target[-1] = 1\n",
    "        \n",
    "        return target"
   ],
   "metadata": {
    "collapsed": false,
    "ExecuteTime": {
     "end_time": "2024-04-22T06:26:45.717381Z",
     "start_time": "2024-04-22T06:26:45.712617Z"
    }
   },
   "id": "ca9a0fc432e64d68",
   "execution_count": 2
  },
  {
   "cell_type": "code",
   "outputs": [],
   "source": [
    "class TestDataSet(Dataset):\n",
    "    def __init__(self, df, features_file):\n",
    "        super(TestDataSet, self).__init__()\n",
    "        self.data_df = df\n",
    "        self.features_file = features_file\n",
    "        self.features_dict = None\n",
    "        with open(features_file, 'rb') as f:\n",
    "            self.features_dict = pickle.load(f)\n",
    "    \n",
    "    def __len__(self):\n",
    "        return len(self.data_df)\n",
    "    \n",
    "    def __getitem__(self, idx):\n",
    "        id = self.data_df.iloc[idx]['id']\n",
    "        text = self.data_df.iloc[idx]['cleaned_text']\n",
    "        \n",
    "        return {'id': id,\n",
    "                'text': text, \n",
    "                'text_features': self.features_dict[id] }"
   ],
   "metadata": {
    "collapsed": false,
    "ExecuteTime": {
     "end_time": "2024-04-22T06:26:45.721493Z",
     "start_time": "2024-04-22T06:26:45.718859Z"
    }
   },
   "id": "6eac351a60082cf4",
   "execution_count": 3
  },
  {
   "cell_type": "code",
   "outputs": [],
   "source": [
    "class Baseline(torch.nn.Module):\n",
    "    def __init__(self):\n",
    "        super(Baseline, self).__init__()\n",
    "        \n",
    "        # self.embeddings = BertModel.from_pretrained(\"bert-base-multilingual-cased\")\n",
    "        \n",
    "        # for param in self.embeddings.parameters():\n",
    "        #     param.requires_grad = False\n",
    "        \n",
    "        dropout_rate = 0.15\n",
    "        \n",
    "        self.linear_level1 = nn.Sequential(nn.Linear(1024, 1024), nn.ReLU(), nn.Dropout(dropout_rate),\n",
    "                                           nn.Linear(1024, 512), nn.ReLU(), nn.Dropout(dropout_rate),\n",
    "                                           nn.Linear(512, 128), nn.ReLU())\n",
    "        \n",
    "        self.linear_level2 = nn.Sequential(nn.Linear(1024, 1024), nn.ReLU(), nn.Dropout(dropout_rate),\n",
    "                                           nn.Linear(1024, 512), nn.ReLU(), nn.Dropout(dropout_rate),\n",
    "                                           nn.Linear(512, 128), nn.ReLU())\n",
    "        self.linear_level3 = nn.Sequential(nn.Linear(1024, 1024), nn.ReLU(), nn.Dropout(dropout_rate),\n",
    "                                           nn.Linear(1024, 512), nn.ReLU(), nn.Dropout(dropout_rate),\n",
    "                                           nn.Linear(512, 128), nn.ReLU())\n",
    "        self.linear_level4 = nn.Sequential(nn.Linear(1024, 1024), nn.ReLU(), nn.Dropout(dropout_rate),\n",
    "                                           nn.Linear(1024, 512), nn.ReLU(), nn.Dropout(dropout_rate),\n",
    "                                           nn.Linear(512, 128), nn.ReLU())\n",
    "        self.linear_level5 = nn.Sequential(nn.Linear(1024, 1024), nn.ReLU(), nn.Dropout(dropout_rate),\n",
    "                                           nn.Linear(1024, 512), nn.ReLU(), nn.Dropout(dropout_rate),\n",
    "                                           nn.Linear(512, 128), nn.ReLU())\n",
    "\n",
    "        self.sigmoid_reg1 = nn.Sequential(nn.Linear(128, 2))\n",
    "        self.sigmoid_reg2 = nn.Sequential(nn.Linear(128*2, 4))\n",
    "        self.sigmoid_reg3 = nn.Sequential(nn.Linear(128*3, 13), nn.Sigmoid())\n",
    "        self.sigmoid_reg4 = nn.Sequential(nn.Linear(128*4, 13), nn.Sigmoid())\n",
    "        self.sigmoid_reg5 = nn.Sequential(nn.Linear(128*5, 7), nn.Sigmoid())\n",
    "        \n",
    "        \n",
    "    def forward(self, embeddings):\n",
    "        # embeddings = self.embeddings(input_ids, attention_mask, token_type_ids)\n",
    "        \n",
    "        # embeddings = embeddings.last_hidden_state[:, 0, :]\n",
    "        \n",
    "        lvl1_rep = self.linear_level1(embeddings)\n",
    "        lvl2_rep = self.linear_level2(embeddings)\n",
    "        lvl3_rep = self.linear_level3(embeddings)\n",
    "        lvl4_rep = self.linear_level4(embeddings)\n",
    "        lvl5_rep = self.linear_level5(embeddings)\n",
    "        \n",
    "        lvl1_pred = self.sigmoid_reg1(lvl1_rep)\n",
    "        lvl2_pred = self.sigmoid_reg2(torch.cat((lvl1_rep, lvl2_rep), dim=1))\n",
    "        lvl3_pred = self.sigmoid_reg3(torch.cat((lvl1_rep, lvl2_rep, lvl3_rep), dim=1))\n",
    "        lvl4_pred = self.sigmoid_reg4(torch.cat((lvl1_rep, lvl2_rep, lvl3_rep, lvl4_rep), dim=1))\n",
    "        lvl5_pred = self.sigmoid_reg5(torch.cat((lvl1_rep, lvl2_rep, lvl3_rep, lvl4_rep, lvl5_rep), dim=1))\n",
    "        \n",
    "        return lvl1_pred, lvl2_pred, lvl3_pred, lvl4_pred, lvl5_pred"
   ],
   "metadata": {
    "collapsed": false,
    "ExecuteTime": {
     "end_time": "2024-04-22T06:26:45.729226Z",
     "start_time": "2024-04-22T06:26:45.722167Z"
    }
   },
   "id": "b1932b9eee6e3e3e",
   "execution_count": 4
  },
  {
   "cell_type": "code",
   "outputs": [],
   "source": [
    "def evaluate_model(model, dataloader, pred_file_path, gold_file_path, \n",
    "                   evaluator_script_path, id2leaf_label, format=None,validation=False, HL=None, batchsize=None):\n",
    "    model.eval()\n",
    "    predictions = []\n",
    "    \n",
    "    # HL = HierarchicalLoss(id2label=id2label_1, hierarchical_labels=hierarchy_1, persuasion_techniques=persuasion_techniques_1, device=device)\n",
    "    total_loss = 0\n",
    "    \n",
    "    \n",
    "    with torch.no_grad():\n",
    "        \n",
    "        for batch in dataloader:\n",
    "            if not isinstance(batch['id'], list):\n",
    "                ids = batch['id'].detach().numpy().tolist()\n",
    "            else:\n",
    "                ids = batch['id']\n",
    "        \n",
    "            embeddings = batch['text_features']\n",
    "            embeddings = embeddings.to(device)\n",
    "            pred_1, pred_2, pred_3, pred_4, pred_5 = model(embeddings)\n",
    "            \n",
    "            if validation:\n",
    "                y_1, y_2, y_3 = batch['level_1_target'], batch['level_2_target'], batch['level_3_target']\n",
    "                y_4, y_5 = batch['level_4_target'], batch['level_5_target']\n",
    "                \n",
    "                y_1, y_2, y_3, y_4, y_5 = y_1.to(device), y_2.to(device), y_3.to(device), y_4.to(device), y_5.to(device)\n",
    "                \n",
    "                dloss = HL.calculate_dloss([pred_1, pred_2, pred_3, pred_4, pred_5], [y_1, y_2, y_3, y_4, y_5])\n",
    "                lloss = HL.calculate_lloss([pred_1, pred_2, pred_3, pred_4, pred_5], [y_1, y_2, y_3, y_4, y_5])\n",
    "                \n",
    "                total_loss += (dloss + lloss).detach().cpu().item()\n",
    "                \n",
    "            pred_3 = (pred_3.cpu().detach().numpy() > 0.4).astype(int)\n",
    "            pred_4 = (pred_4.cpu().detach().numpy() > 0.4).astype(int)\n",
    "            pred_5 = (pred_5.cpu().detach().numpy() > 0.4).astype(int)\n",
    "            \n",
    "            predictions += get_labels(id2leaf_label, ids, pred_3, pred_4, pred_5, format)\n",
    "\n",
    "        # Writing JSON data\n",
    "        with open(pred_file_path, 'w') as f:\n",
    "            json.dump(predictions, f, indent=4)\n",
    "        \n",
    "        if gold_file_path is None:\n",
    "            return\n",
    "        \n",
    "        prec_h, rec_h, f1_h = evaluate_h(pred_file_path, gold_file_path)\n",
    "        # print(\"f1_h={:.5f}\\tprec_h={:.5f}\\trec_h={:.5f}\".format(f1_h, prec_h, rec_h))\n",
    "        if validation:\n",
    "            return prec_h, rec_h, f1_h, total_loss / (len(dataloader) * batchsize)\n",
    "            \n",
    "        # command = [\n",
    "        #         \"python3\", evaluator_script_path,\n",
    "        #         \"--gold_file_path\", gold_file_path,\n",
    "        #         \"--pred_file_path\", pred_file_path\n",
    "        # ]\n",
    "        # \n",
    "        # result = subprocess.run(command, capture_output=True, text=True)\n",
    "        # \n",
    "        # if result.returncode == 0:\n",
    "        #     print(\"Output:\\n\", result.stdout)\n",
    "        # else:\n",
    "        #     print(\"Error:\\n\", result.stderr)\n",
    "        #     \n",
    "        \n",
    "    "
   ],
   "metadata": {
    "collapsed": false,
    "ExecuteTime": {
     "end_time": "2024-04-22T06:26:45.735660Z",
     "start_time": "2024-04-22T06:26:45.730239Z"
    }
   },
   "id": "ec033c418f6dd4da",
   "execution_count": 5
  },
  {
   "cell_type": "code",
   "outputs": [],
   "source": [
    "from torch.utils.data import DataLoader\n",
    "\n",
    "train_json = './semeval2024_dev_release/subtask1/train.json'\n",
    "validation_json = './semeval2024_dev_release/subtask1/validation.json'\n",
    "\n",
    "train_data = process_json(train_json, techniques_to_level_1, hierarchy_1)\n",
    "# val_data = \n",
    "validation_data = process_json(validation_json, techniques_to_level_1, hierarchy_1)\n",
    "\n",
    "\n",
    "training_dataset = DataSet(train_data, indexed_persuasion_techniques_1, \n",
    "                           './TextFeatures/subtask1a/XLNet/train_text_features.pkl')\n",
    "validation_dataset = DataSet(validation_data, indexed_persuasion_techniques_1, \n",
    "                             './TextFeatures/subtask1a/XLNet/validation_text_features.pkl')"
   ],
   "metadata": {
    "collapsed": false,
    "ExecuteTime": {
     "end_time": "2024-04-22T06:26:46.423077Z",
     "start_time": "2024-04-22T06:26:45.736407Z"
    }
   },
   "id": "ad284fce512b8868",
   "execution_count": 6
  },
  {
   "cell_type": "code",
   "outputs": [
    {
     "name": "stdout",
     "output_type": "stream",
     "text": [
      "Using MPS\n"
     ]
    }
   ],
   "source": [
    "device = get_device()\n",
    "\n",
    "device = torch.device('cpu')"
   ],
   "metadata": {
    "collapsed": false,
    "ExecuteTime": {
     "end_time": "2024-04-22T06:26:46.445199Z",
     "start_time": "2024-04-22T06:26:46.424739Z"
    }
   },
   "id": "20d17410814334b2",
   "execution_count": 7
  },
  {
   "cell_type": "code",
   "outputs": [
    {
     "name": "stderr",
     "output_type": "stream",
     "text": [
      "\u001B[34m\u001B[1mwandb\u001B[0m: Currently logged in as: \u001B[33miqbal_shaik\u001B[0m (\u001B[33mphoenix_nlp\u001B[0m). Use \u001B[1m`wandb login --relogin`\u001B[0m to force relogin\n"
     ]
    },
    {
     "name": "stdout",
     "output_type": "stream",
     "text": [
      "Create sweep with ID: th5z4up4\n",
      "Sweep URL: https://wandb.ai/phoenix_nlp/FineTuning-XLNet-250-epoch/sweeps/th5z4up4\n"
     ]
    }
   ],
   "source": [
    "import wandb\n",
    "\n",
    "# Initialize WandB and log in to your account\n",
    "wandb.login()\n",
    "\n",
    "sweep_config = {\n",
    "    'method': 'bayes',  # Using Bayesian optimization\n",
    "    'metric': {\n",
    "        'name': 'val_loss',\n",
    "        'goal': 'minimize'\n",
    "    },\n",
    "    'parameters': {\n",
    "        'learning_rate': {\n",
    "            'min': 1e-5,\n",
    "            'max': 1e-3\n",
    "        },\n",
    "        'batch_size': {\n",
    "            'values': [128, 256]\n",
    "        },\n",
    "        'optimizer': {\n",
    "            'values': ['adam']\n",
    "        },\n",
    "        'beta1': {  # Relevant for Adam\n",
    "            'min': 0.85,\n",
    "            'max': 0.95\n",
    "        },\n",
    "        # 'momentum': {  # Relevant for SGD\n",
    "        #     'min': 0.8,\n",
    "        #     'max': 0.99\n",
    "        # }\n",
    "        'alpha': {\n",
    "            'min': 0.5,\n",
    "            'max': 1.0\n",
    "        },\n",
    "        'beta': {\n",
    "            'min': 0.5,\n",
    "            'max': 1.0\n",
    "        },\n",
    "        'threshold': {\n",
    "            'min': 0.6,\n",
    "            'max': 0.8\n",
    "            }\n",
    "    }\n",
    "}\n",
    "\n",
    "sweep_id = wandb.sweep(sweep_config, project=\"FineTuning-XLNet-250-epoch\")\n",
    "# sweep_id = '44uz6ydx'"
   ],
   "metadata": {
    "collapsed": false,
    "ExecuteTime": {
     "end_time": "2024-04-22T06:26:49.800618Z",
     "start_time": "2024-04-22T06:26:46.446006Z"
    }
   },
   "id": "883d6589842ebf61",
   "execution_count": 8
  },
  {
   "cell_type": "code",
   "outputs": [],
   "source": [
    "models_dir = './models/subtask1a/XLNet-200/'\n",
    "num_epochs = 250"
   ],
   "metadata": {
    "collapsed": false,
    "ExecuteTime": {
     "end_time": "2024-04-22T06:26:49.805280Z",
     "start_time": "2024-04-22T06:26:49.803305Z"
    }
   },
   "id": "485514e379b90032",
   "execution_count": 9
  },
  {
   "cell_type": "code",
   "outputs": [],
   "source": [
    "from tqdm import tqdm\n",
    "import json\n",
    "import subprocess\n",
    "from subtask_1_2a import *\n",
    "\n",
    "def train():\n",
    "    \n",
    "    wandb.init()\n",
    "\n",
    "    # Use WandB configurations\n",
    "    config = wandb.config\n",
    "    batch_size = config.batch_size\n",
    "    learning_rate = config.learning_rate\n",
    "    \n",
    "    train_dataloader = DataLoader(training_dataset, batch_size=batch_size, shuffle=True)\n",
    "    validation_dataloader = DataLoader(validation_dataset, batch_size=batch_size, shuffle=True)\n",
    "    \n",
    "    model = Baseline()\n",
    "    model.to(device)\n",
    "    \n",
    "    optimizer = None\n",
    "    \n",
    "    if config.optimizer == 'adam':\n",
    "        optimizer = torch.optim.Adam(\n",
    "            model.parameters(),\n",
    "            lr=learning_rate,\n",
    "            betas=(config.beta1, 0.999)\n",
    "        )\n",
    "    elif config.optimizer == 'sgd':\n",
    "        optimizer = torch.optim.SGD(\n",
    "            model.parameters(),\n",
    "            lr=learning_rate,\n",
    "            momentum=config.momentum\n",
    "        )\n",
    "        \n",
    "    HL = HierarchicalLoss(id2label=id2label_1, hierarchical_labels=hierarchy_1,\n",
    "                          persuasion_techniques=persuasion_techniques_1, device=device, \n",
    "                          alpha=config.alpha, beta=config.beta, threshold=config.threshold)\n",
    "    \n",
    "    for epoch in range(num_epochs):\n",
    "        model.train()\n",
    "        running_loss = 0.0\n",
    "        for batch_idx, batch in enumerate(train_dataloader):\n",
    "            \n",
    "            y_1, y_2, y_3 = batch['level_1_target'], batch['level_2_target'], batch['level_3_target']\n",
    "            y_4, y_5 = batch['level_4_target'], batch['level_5_target']\n",
    "            \n",
    "            embeddings = batch['text_features']\n",
    "            embeddings = embeddings.to(device)\n",
    "            y_1, y_2, y_3, y_4, y_5 = y_1.to(device), y_2.to(device), y_3.to(device), y_4.to(device), y_5.to(device)\n",
    "            \n",
    "            \n",
    "            optimizer.zero_grad()\n",
    "            pred_1, pred_2, pred_3, pred_4, pred_5 = model(embeddings)\n",
    "            \n",
    "            dloss = HL.calculate_dloss([pred_1, pred_2, pred_3, pred_4, pred_5], [y_1, y_2, y_3, y_4, y_5])\n",
    "            lloss = HL.calculate_lloss([pred_1, pred_2, pred_3, pred_4, pred_5], [y_1, y_2, y_3, y_4, y_5])\n",
    "    \n",
    "            total_loss = lloss + dloss\n",
    "            \n",
    "            total_loss.backward()\n",
    "            optimizer.step()\n",
    "            \n",
    "            running_loss += total_loss.detach().item()\n",
    "            \n",
    "            # if batch_idx % 20 == 19:\n",
    "            #     print(f\"[{epoch + 1}, {batch_idx + 1}] loss: {running_loss / 20:.3f}\")\n",
    "            #     running_loss = 0.0\n",
    "        \n",
    "        running_loss /= (len(train_dataloader) * batch_size)\n",
    "        \n",
    "        val_pred_file_path = './Predictions/val_predictions_subtask.json'\n",
    "        val_gold_file_path = './semeval2024_dev_release/subtask1/validation.json'\n",
    "        evaluator_script = './scorer-baseline/subtask_1_2a.py'\n",
    "        \n",
    "        prec_h, rec_h, f1_h, validation_loss = evaluate_model(model, validation_dataloader, val_pred_file_path, \n",
    "                                         val_gold_file_path, evaluator_script,id2leaf_label,\n",
    "                                         validation=True, HL=HL, batchsize=batch_size)\n",
    "        \n",
    "        if epoch % 50 == 49:\n",
    "            print(f'[{epoch+1}/{num_epochs}]')\n",
    "            print(\"f1_h={:.5f}\\tprec_h={:.5f}\\trec_h={:.5f}\".format(f1_h, prec_h, rec_h))\n",
    "        \n",
    "        # Log training metrics\n",
    "        wandb.log({\"epoch\": epoch, \"train_loss\": running_loss})\n",
    "        wandb.log({\"val_loss\": validation_loss})\n",
    "        wandb.log({\"h_precision\": prec_h, \"h_recall\": rec_h, \"h_f1-score\":f1_h})\n",
    "        \n",
    "    \n",
    "    torch.save(model.state_dict(), f\"{models_dir}{wandb.run.name}.pth\")\n",
    "    wandb.join()"
   ],
   "metadata": {
    "collapsed": false,
    "ExecuteTime": {
     "end_time": "2024-04-22T06:26:49.880715Z",
     "start_time": "2024-04-22T06:26:49.806Z"
    }
   },
   "id": "d5df83d5c933d40e",
   "execution_count": 10
  },
  {
   "cell_type": "code",
   "outputs": [
    {
     "name": "stderr",
     "output_type": "stream",
     "text": [
      "\u001B[34m\u001B[1mwandb\u001B[0m: Agent Starting Run: fhi4vd63 with config:\n",
      "\u001B[34m\u001B[1mwandb\u001B[0m: \talpha: 0.5328816362719954\n",
      "\u001B[34m\u001B[1mwandb\u001B[0m: \tbatch_size: 128\n",
      "\u001B[34m\u001B[1mwandb\u001B[0m: \tbeta: 0.625107673229499\n",
      "\u001B[34m\u001B[1mwandb\u001B[0m: \tbeta1: 0.9319098101765652\n",
      "\u001B[34m\u001B[1mwandb\u001B[0m: \tlearning_rate: 0.0004098600267649725\n",
      "\u001B[34m\u001B[1mwandb\u001B[0m: \toptimizer: adam\n",
      "\u001B[34m\u001B[1mwandb\u001B[0m: \tthreshold: 0.6029156395974248\n"
     ]
    },
    {
     "data": {
      "text/plain": "<IPython.core.display.HTML object>",
      "text/html": "Tracking run with wandb version 0.16.6"
     },
     "metadata": {},
     "output_type": "display_data"
    },
    {
     "data": {
      "text/plain": "<IPython.core.display.HTML object>",
      "text/html": "Run data is saved locally in <code>/Users/iqbal/Desktop/Python Assignments/Detecting-Persuasion-Techniques-in-Memes/wandb/run-20240422_022651-fhi4vd63</code>"
     },
     "metadata": {},
     "output_type": "display_data"
    },
    {
     "data": {
      "text/plain": "<IPython.core.display.HTML object>",
      "text/html": "Syncing run <strong><a href='https://wandb.ai/phoenix_nlp/FineTuning-XLNet-250-epoch/runs/fhi4vd63' target=\"_blank\">dutiful-sweep-1</a></strong> to <a href='https://wandb.ai/phoenix_nlp/FineTuning-XLNet-250-epoch' target=\"_blank\">Weights & Biases</a> (<a href='https://wandb.me/run' target=\"_blank\">docs</a>)<br/>Sweep page: <a href='https://wandb.ai/phoenix_nlp/FineTuning-XLNet-250-epoch/sweeps/th5z4up4' target=\"_blank\">https://wandb.ai/phoenix_nlp/FineTuning-XLNet-250-epoch/sweeps/th5z4up4</a>"
     },
     "metadata": {},
     "output_type": "display_data"
    },
    {
     "data": {
      "text/plain": "<IPython.core.display.HTML object>",
      "text/html": " View project at <a href='https://wandb.ai/phoenix_nlp/FineTuning-XLNet-250-epoch' target=\"_blank\">https://wandb.ai/phoenix_nlp/FineTuning-XLNet-250-epoch</a>"
     },
     "metadata": {},
     "output_type": "display_data"
    },
    {
     "data": {
      "text/plain": "<IPython.core.display.HTML object>",
      "text/html": " View sweep at <a href='https://wandb.ai/phoenix_nlp/FineTuning-XLNet-250-epoch/sweeps/th5z4up4' target=\"_blank\">https://wandb.ai/phoenix_nlp/FineTuning-XLNet-250-epoch/sweeps/th5z4up4</a>"
     },
     "metadata": {},
     "output_type": "display_data"
    },
    {
     "data": {
      "text/plain": "<IPython.core.display.HTML object>",
      "text/html": " View run at <a href='https://wandb.ai/phoenix_nlp/FineTuning-XLNet-250-epoch/runs/fhi4vd63' target=\"_blank\">https://wandb.ai/phoenix_nlp/FineTuning-XLNet-250-epoch/runs/fhi4vd63</a>"
     },
     "metadata": {},
     "output_type": "display_data"
    },
    {
     "name": "stdout",
     "output_type": "stream",
     "text": [
      "[50/250]\n",
      "f1_h=0.48550\tprec_h=0.56349\trec_h=0.42648\n",
      "[100/250]\n",
      "f1_h=0.51859\tprec_h=0.56567\trec_h=0.47874\n",
      "[150/250]\n",
      "f1_h=0.51398\tprec_h=0.55844\trec_h=0.47609\n",
      "[200/250]\n",
      "f1_h=0.50229\tprec_h=0.52042\trec_h=0.48539\n",
      "[250/250]\n",
      "f1_h=0.51333\tprec_h=0.52889\trec_h=0.49867\n"
     ]
    },
    {
     "data": {
      "text/plain": "VBox(children=(Label(value='0.001 MB of 0.001 MB uploaded\\r'), FloatProgress(value=1.0, max=1.0)))",
      "application/vnd.jupyter.widget-view+json": {
       "version_major": 2,
       "version_minor": 0,
       "model_id": "48d9284e1c574cf880964d7c32fa1965"
      }
     },
     "metadata": {},
     "output_type": "display_data"
    },
    {
     "data": {
      "text/plain": "<IPython.core.display.HTML object>",
      "text/html": "<style>\n    table.wandb td:nth-child(1) { padding: 0 10px; text-align: left ; width: auto;} td:nth-child(2) {text-align: left ; width: 100%}\n    .wandb-row { display: flex; flex-direction: row; flex-wrap: wrap; justify-content: flex-start; width: 100% }\n    .wandb-col { display: flex; flex-direction: column; flex-basis: 100%; flex: 1; padding: 10px; }\n    </style>\n<div class=\"wandb-row\"><div class=\"wandb-col\"><h3>Run history:</h3><br/><table class=\"wandb\"><tr><td>epoch</td><td>▁▁▁▂▂▂▂▂▂▃▃▃▃▃▄▄▄▄▄▄▅▅▅▅▅▅▆▆▆▆▆▇▇▇▇▇▇███</td></tr><tr><td>h_f1-score</td><td>▁▇▇▇███▇█▇███████▇▇██▇█████████▇████▇█▇█</td></tr><tr><td>h_precision</td><td>█▅▄▃▃▂▂▃▂▃▂▂▂▂▂▂▁▂▂▁▁▂▂▂▂▁▂▂▁▁▁▁▁▂▂▁▁▁▂▂</td></tr><tr><td>h_recall</td><td>▁▆▆▆▇▇▇▇█▇▇▇▇▇▇▇▇▇▇██▇▇▇████▇██▇██▇▇▇▇▇▇</td></tr><tr><td>train_loss</td><td>█▇▅▃▂▂▁▁▁▁▁▁▁▁▁▁▁▁▁▁▁▁▁▁▁▁▁▁▁▁▁▁▁▁▁▁▁▁▁▁</td></tr><tr><td>val_loss</td><td>▇▁▂▃▁▃▆▂▇▅▅▅▆▆▄▄▆▇█▆█▅▆▅▆▄█▆▆▄▄▄▇▆▃▄▆▆▅▄</td></tr></table><br/></div><div class=\"wandb-col\"><h3>Run summary:</h3><br/><table class=\"wandb\"><tr><td>epoch</td><td>249</td></tr><tr><td>h_f1-score</td><td>0.51333</td></tr><tr><td>h_precision</td><td>0.52889</td></tr><tr><td>h_recall</td><td>0.49867</td></tr><tr><td>train_loss</td><td>0.05861</td></tr><tr><td>val_loss</td><td>5.24164</td></tr></table><br/></div></div>"
     },
     "metadata": {},
     "output_type": "display_data"
    },
    {
     "data": {
      "text/plain": "<IPython.core.display.HTML object>",
      "text/html": " View run <strong style=\"color:#cdcd00\">dutiful-sweep-1</strong> at: <a href='https://wandb.ai/phoenix_nlp/FineTuning-XLNet-250-epoch/runs/fhi4vd63' target=\"_blank\">https://wandb.ai/phoenix_nlp/FineTuning-XLNet-250-epoch/runs/fhi4vd63</a><br/> View project at: <a href='https://wandb.ai/phoenix_nlp/FineTuning-XLNet-250-epoch' target=\"_blank\">https://wandb.ai/phoenix_nlp/FineTuning-XLNet-250-epoch</a><br/>Synced 5 W&B file(s), 0 media file(s), 0 artifact file(s) and 0 other file(s)"
     },
     "metadata": {},
     "output_type": "display_data"
    },
    {
     "data": {
      "text/plain": "<IPython.core.display.HTML object>",
      "text/html": "Find logs at: <code>./wandb/run-20240422_022651-fhi4vd63/logs</code>"
     },
     "metadata": {},
     "output_type": "display_data"
    },
    {
     "name": "stderr",
     "output_type": "stream",
     "text": [
      "\u001B[34m\u001B[1mwandb\u001B[0m: Sweep Agent: Waiting for job.\n",
      "\u001B[34m\u001B[1mwandb\u001B[0m: Job received.\n",
      "\u001B[34m\u001B[1mwandb\u001B[0m: Agent Starting Run: ut60amw5 with config:\n",
      "\u001B[34m\u001B[1mwandb\u001B[0m: \talpha: 0.9913930660362298\n",
      "\u001B[34m\u001B[1mwandb\u001B[0m: \tbatch_size: 256\n",
      "\u001B[34m\u001B[1mwandb\u001B[0m: \tbeta: 0.5496886952192024\n",
      "\u001B[34m\u001B[1mwandb\u001B[0m: \tbeta1: 0.9071609101063982\n",
      "\u001B[34m\u001B[1mwandb\u001B[0m: \tlearning_rate: 0.00091771763122179\n",
      "\u001B[34m\u001B[1mwandb\u001B[0m: \toptimizer: adam\n",
      "\u001B[34m\u001B[1mwandb\u001B[0m: \tthreshold: 0.7726805360531108\n"
     ]
    },
    {
     "data": {
      "text/plain": "<IPython.core.display.HTML object>",
      "text/html": "Tracking run with wandb version 0.16.6"
     },
     "metadata": {},
     "output_type": "display_data"
    },
    {
     "data": {
      "text/plain": "<IPython.core.display.HTML object>",
      "text/html": "Run data is saved locally in <code>/Users/iqbal/Desktop/Python Assignments/Detecting-Persuasion-Techniques-in-Memes/wandb/run-20240422_024321-ut60amw5</code>"
     },
     "metadata": {},
     "output_type": "display_data"
    },
    {
     "data": {
      "text/plain": "<IPython.core.display.HTML object>",
      "text/html": "Syncing run <strong><a href='https://wandb.ai/phoenix_nlp/FineTuning-XLNet-250-epoch/runs/ut60amw5' target=\"_blank\">glad-sweep-2</a></strong> to <a href='https://wandb.ai/phoenix_nlp/FineTuning-XLNet-250-epoch' target=\"_blank\">Weights & Biases</a> (<a href='https://wandb.me/run' target=\"_blank\">docs</a>)<br/>Sweep page: <a href='https://wandb.ai/phoenix_nlp/FineTuning-XLNet-250-epoch/sweeps/th5z4up4' target=\"_blank\">https://wandb.ai/phoenix_nlp/FineTuning-XLNet-250-epoch/sweeps/th5z4up4</a>"
     },
     "metadata": {},
     "output_type": "display_data"
    },
    {
     "data": {
      "text/plain": "<IPython.core.display.HTML object>",
      "text/html": " View project at <a href='https://wandb.ai/phoenix_nlp/FineTuning-XLNet-250-epoch' target=\"_blank\">https://wandb.ai/phoenix_nlp/FineTuning-XLNet-250-epoch</a>"
     },
     "metadata": {},
     "output_type": "display_data"
    },
    {
     "data": {
      "text/plain": "<IPython.core.display.HTML object>",
      "text/html": " View sweep at <a href='https://wandb.ai/phoenix_nlp/FineTuning-XLNet-250-epoch/sweeps/th5z4up4' target=\"_blank\">https://wandb.ai/phoenix_nlp/FineTuning-XLNet-250-epoch/sweeps/th5z4up4</a>"
     },
     "metadata": {},
     "output_type": "display_data"
    },
    {
     "data": {
      "text/plain": "<IPython.core.display.HTML object>",
      "text/html": " View run at <a href='https://wandb.ai/phoenix_nlp/FineTuning-XLNet-250-epoch/runs/ut60amw5' target=\"_blank\">https://wandb.ai/phoenix_nlp/FineTuning-XLNet-250-epoch/runs/ut60amw5</a>"
     },
     "metadata": {},
     "output_type": "display_data"
    },
    {
     "name": "stdout",
     "output_type": "stream",
     "text": [
      "[50/250]\n",
      "f1_h=0.48289\tprec_h=0.54349\trec_h=0.43446\n",
      "[100/250]\n",
      "f1_h=0.50268\tprec_h=0.52967\trec_h=0.47830\n",
      "[150/250]\n",
      "f1_h=0.48888\tprec_h=0.53834\trec_h=0.44774\n",
      "[200/250]\n",
      "f1_h=0.51152\tprec_h=0.53314\trec_h=0.49159\n",
      "[250/250]\n",
      "f1_h=0.52120\tprec_h=0.53712\trec_h=0.50620\n"
     ]
    },
    {
     "data": {
      "text/plain": "VBox(children=(Label(value='0.007 MB of 0.007 MB uploaded\\r'), FloatProgress(value=1.0, max=1.0)))",
      "application/vnd.jupyter.widget-view+json": {
       "version_major": 2,
       "version_minor": 0,
       "model_id": "3aa5b4c0a3cf49ca88cd66edbbc69a7d"
      }
     },
     "metadata": {},
     "output_type": "display_data"
    },
    {
     "data": {
      "text/plain": "<IPython.core.display.HTML object>",
      "text/html": "<style>\n    table.wandb td:nth-child(1) { padding: 0 10px; text-align: left ; width: auto;} td:nth-child(2) {text-align: left ; width: 100%}\n    .wandb-row { display: flex; flex-direction: row; flex-wrap: wrap; justify-content: flex-start; width: 100% }\n    .wandb-col { display: flex; flex-direction: column; flex-basis: 100%; flex: 1; padding: 10px; }\n    </style>\n<div class=\"wandb-row\"><div class=\"wandb-col\"><h3>Run history:</h3><br/><table class=\"wandb\"><tr><td>epoch</td><td>▁▁▁▂▂▂▂▂▂▃▃▃▃▃▄▄▄▄▄▄▅▅▅▅▅▅▆▆▆▆▆▇▇▇▇▇▇███</td></tr><tr><td>h_f1-score</td><td>▁▆▇█▇█▇█▇█▇▇▇██▇▇▇██▇█▇▇█▇██▇▇▇██████▇██</td></tr><tr><td>h_precision</td><td>▅█▄▃▃▃▃▁▂▂▂▃▂▂▂▂▃▂▂▃▂▃▂▂▂▃▃▃▃▂▂▂▃▂▂▂▃▁▂▂</td></tr><tr><td>h_recall</td><td>▁▄▆█▇▇▇█▇█▇▇▇▇▇▇▇▇▇█▇▇▇▆▇▇▇▇▇▇▇█▇██▇▇▇██</td></tr><tr><td>train_loss</td><td>█▇▅▄▃▂▂▂▁▁▁▁▁▁▁▁▁▁▁▁▁▁▁▁▁▁▁▁▁▁▁▁▁▁▁▁▁▁▁▁</td></tr><tr><td>val_loss</td><td>█▅▃▃▂▃▃▆▅▄▅▄▃▄▆▄▄▄▅▄▄▃▃▄▂▁▂▂▂▃▂▄▁▄▂▄▅▅▃▁</td></tr></table><br/></div><div class=\"wandb-col\"><h3>Run summary:</h3><br/><table class=\"wandb\"><tr><td>epoch</td><td>249</td></tr><tr><td>h_f1-score</td><td>0.5212</td></tr><tr><td>h_precision</td><td>0.53712</td></tr><tr><td>h_recall</td><td>0.5062</td></tr><tr><td>train_loss</td><td>0.09978</td></tr><tr><td>val_loss</td><td>4.7526</td></tr></table><br/></div></div>"
     },
     "metadata": {},
     "output_type": "display_data"
    },
    {
     "data": {
      "text/plain": "<IPython.core.display.HTML object>",
      "text/html": " View run <strong style=\"color:#cdcd00\">glad-sweep-2</strong> at: <a href='https://wandb.ai/phoenix_nlp/FineTuning-XLNet-250-epoch/runs/ut60amw5' target=\"_blank\">https://wandb.ai/phoenix_nlp/FineTuning-XLNet-250-epoch/runs/ut60amw5</a><br/> View project at: <a href='https://wandb.ai/phoenix_nlp/FineTuning-XLNet-250-epoch' target=\"_blank\">https://wandb.ai/phoenix_nlp/FineTuning-XLNet-250-epoch</a><br/>Synced 5 W&B file(s), 0 media file(s), 0 artifact file(s) and 0 other file(s)"
     },
     "metadata": {},
     "output_type": "display_data"
    },
    {
     "data": {
      "text/plain": "<IPython.core.display.HTML object>",
      "text/html": "Find logs at: <code>./wandb/run-20240422_024321-ut60amw5/logs</code>"
     },
     "metadata": {},
     "output_type": "display_data"
    },
    {
     "name": "stderr",
     "output_type": "stream",
     "text": [
      "\u001B[34m\u001B[1mwandb\u001B[0m: Agent Starting Run: 7i923cbe with config:\n",
      "\u001B[34m\u001B[1mwandb\u001B[0m: \talpha: 0.9984195187612744\n",
      "\u001B[34m\u001B[1mwandb\u001B[0m: \tbatch_size: 256\n",
      "\u001B[34m\u001B[1mwandb\u001B[0m: \tbeta: 0.6670966656987594\n",
      "\u001B[34m\u001B[1mwandb\u001B[0m: \tbeta1: 0.9286959301675918\n",
      "\u001B[34m\u001B[1mwandb\u001B[0m: \tlearning_rate: 0.00023905460602819623\n",
      "\u001B[34m\u001B[1mwandb\u001B[0m: \toptimizer: adam\n",
      "\u001B[34m\u001B[1mwandb\u001B[0m: \tthreshold: 0.6635299249934175\n"
     ]
    },
    {
     "data": {
      "text/plain": "<IPython.core.display.HTML object>",
      "text/html": "Tracking run with wandb version 0.16.6"
     },
     "metadata": {},
     "output_type": "display_data"
    },
    {
     "data": {
      "text/plain": "<IPython.core.display.HTML object>",
      "text/html": "Run data is saved locally in <code>/Users/iqbal/Desktop/Python Assignments/Detecting-Persuasion-Techniques-in-Memes/wandb/run-20240422_025617-7i923cbe</code>"
     },
     "metadata": {},
     "output_type": "display_data"
    },
    {
     "data": {
      "text/plain": "<IPython.core.display.HTML object>",
      "text/html": "Syncing run <strong><a href='https://wandb.ai/phoenix_nlp/FineTuning-XLNet-250-epoch/runs/7i923cbe' target=\"_blank\">rich-sweep-3</a></strong> to <a href='https://wandb.ai/phoenix_nlp/FineTuning-XLNet-250-epoch' target=\"_blank\">Weights & Biases</a> (<a href='https://wandb.me/run' target=\"_blank\">docs</a>)<br/>Sweep page: <a href='https://wandb.ai/phoenix_nlp/FineTuning-XLNet-250-epoch/sweeps/th5z4up4' target=\"_blank\">https://wandb.ai/phoenix_nlp/FineTuning-XLNet-250-epoch/sweeps/th5z4up4</a>"
     },
     "metadata": {},
     "output_type": "display_data"
    },
    {
     "data": {
      "text/plain": "<IPython.core.display.HTML object>",
      "text/html": " View project at <a href='https://wandb.ai/phoenix_nlp/FineTuning-XLNet-250-epoch' target=\"_blank\">https://wandb.ai/phoenix_nlp/FineTuning-XLNet-250-epoch</a>"
     },
     "metadata": {},
     "output_type": "display_data"
    },
    {
     "data": {
      "text/plain": "<IPython.core.display.HTML object>",
      "text/html": " View sweep at <a href='https://wandb.ai/phoenix_nlp/FineTuning-XLNet-250-epoch/sweeps/th5z4up4' target=\"_blank\">https://wandb.ai/phoenix_nlp/FineTuning-XLNet-250-epoch/sweeps/th5z4up4</a>"
     },
     "metadata": {},
     "output_type": "display_data"
    },
    {
     "data": {
      "text/plain": "<IPython.core.display.HTML object>",
      "text/html": " View run at <a href='https://wandb.ai/phoenix_nlp/FineTuning-XLNet-250-epoch/runs/7i923cbe' target=\"_blank\">https://wandb.ai/phoenix_nlp/FineTuning-XLNet-250-epoch/runs/7i923cbe</a>"
     },
     "metadata": {},
     "output_type": "display_data"
    },
    {
     "name": "stdout",
     "output_type": "stream",
     "text": [
      "[50/250]\n",
      "f1_h=0.50994\tprec_h=0.54781\trec_h=0.47697\n",
      "[100/250]\n",
      "f1_h=0.47670\tprec_h=0.56081\trec_h=0.41453\n",
      "[150/250]\n",
      "f1_h=0.49610\tprec_h=0.57501\trec_h=0.43623\n",
      "[200/250]\n",
      "f1_h=0.50655\tprec_h=0.54822\trec_h=0.47077\n",
      "[250/250]\n",
      "f1_h=0.49201\tprec_h=0.55273\trec_h=0.44331\n"
     ]
    },
    {
     "data": {
      "text/plain": "VBox(children=(Label(value='0.007 MB of 0.007 MB uploaded\\r'), FloatProgress(value=1.0, max=1.0)))",
      "application/vnd.jupyter.widget-view+json": {
       "version_major": 2,
       "version_minor": 0,
       "model_id": "04dee072a3f14216b42fa8c8117d75e6"
      }
     },
     "metadata": {},
     "output_type": "display_data"
    },
    {
     "data": {
      "text/plain": "<IPython.core.display.HTML object>",
      "text/html": "<style>\n    table.wandb td:nth-child(1) { padding: 0 10px; text-align: left ; width: auto;} td:nth-child(2) {text-align: left ; width: 100%}\n    .wandb-row { display: flex; flex-direction: row; flex-wrap: wrap; justify-content: flex-start; width: 100% }\n    .wandb-col { display: flex; flex-direction: column; flex-basis: 100%; flex: 1; padding: 10px; }\n    </style>\n<div class=\"wandb-row\"><div class=\"wandb-col\"><h3>Run history:</h3><br/><table class=\"wandb\"><tr><td>epoch</td><td>▁▁▁▂▂▂▂▂▂▃▃▃▃▃▄▄▄▄▄▄▅▅▅▅▅▅▆▆▆▆▆▇▇▇▇▇▇███</td></tr><tr><td>h_f1-score</td><td>▁▆▆▇▇▇█▇▇██▇█▇██▇███▇████▇▇███████▇▇█▇█▇</td></tr><tr><td>h_precision</td><td>▄▇█▇▄▅▄▃▂▂▃▂▁▃▂▃▃▁▂▂▃▂▂▂▂▂▁▁▂▂▁▂▂▂▂▃▃▁▃▃</td></tr><tr><td>h_recall</td><td>▁▄▅▆▆▆▇▆▆█▇▇█▇▇▇▇██▇▇▇▇▇▇▇▇▇▇▇▇▇▇▇▇▇▇▇▇▇</td></tr><tr><td>train_loss</td><td>█▇▆▅▄▃▃▂▂▂▁▁▁▁▁▁▁▁▁▁▁▁▁▁▁▁▁▁▁▁▁▁▁▁▁▁▁▁▁▁</td></tr><tr><td>val_loss</td><td>█▆▃▂▄▃▁▂▃▃▅▄▆▅▅▂▃▇▅▅▆▆▅▅▅▄▇▃▇▆▅▆▇█▇▅▇▅▅▅</td></tr></table><br/></div><div class=\"wandb-col\"><h3>Run summary:</h3><br/><table class=\"wandb\"><tr><td>epoch</td><td>249</td></tr><tr><td>h_f1-score</td><td>0.49201</td></tr><tr><td>h_precision</td><td>0.55273</td></tr><tr><td>h_recall</td><td>0.44331</td></tr><tr><td>train_loss</td><td>0.07229</td></tr><tr><td>val_loss</td><td>5.59022</td></tr></table><br/></div></div>"
     },
     "metadata": {},
     "output_type": "display_data"
    },
    {
     "data": {
      "text/plain": "<IPython.core.display.HTML object>",
      "text/html": " View run <strong style=\"color:#cdcd00\">rich-sweep-3</strong> at: <a href='https://wandb.ai/phoenix_nlp/FineTuning-XLNet-250-epoch/runs/7i923cbe' target=\"_blank\">https://wandb.ai/phoenix_nlp/FineTuning-XLNet-250-epoch/runs/7i923cbe</a><br/> View project at: <a href='https://wandb.ai/phoenix_nlp/FineTuning-XLNet-250-epoch' target=\"_blank\">https://wandb.ai/phoenix_nlp/FineTuning-XLNet-250-epoch</a><br/>Synced 5 W&B file(s), 0 media file(s), 0 artifact file(s) and 0 other file(s)"
     },
     "metadata": {},
     "output_type": "display_data"
    },
    {
     "data": {
      "text/plain": "<IPython.core.display.HTML object>",
      "text/html": "Find logs at: <code>./wandb/run-20240422_025617-7i923cbe/logs</code>"
     },
     "metadata": {},
     "output_type": "display_data"
    },
    {
     "name": "stderr",
     "output_type": "stream",
     "text": [
      "\u001B[34m\u001B[1mwandb\u001B[0m: Agent Starting Run: pejfvxr9 with config:\n",
      "\u001B[34m\u001B[1mwandb\u001B[0m: \talpha: 0.9340969856911232\n",
      "\u001B[34m\u001B[1mwandb\u001B[0m: \tbatch_size: 128\n",
      "\u001B[34m\u001B[1mwandb\u001B[0m: \tbeta: 0.7910533622555236\n",
      "\u001B[34m\u001B[1mwandb\u001B[0m: \tbeta1: 0.8693688237118415\n",
      "\u001B[34m\u001B[1mwandb\u001B[0m: \tlearning_rate: 0.0001609740373469136\n",
      "\u001B[34m\u001B[1mwandb\u001B[0m: \toptimizer: adam\n",
      "\u001B[34m\u001B[1mwandb\u001B[0m: \tthreshold: 0.6247977280702973\n"
     ]
    },
    {
     "data": {
      "text/plain": "<IPython.core.display.HTML object>",
      "text/html": "Tracking run with wandb version 0.16.6"
     },
     "metadata": {},
     "output_type": "display_data"
    },
    {
     "data": {
      "text/plain": "<IPython.core.display.HTML object>",
      "text/html": "Run data is saved locally in <code>/Users/iqbal/Desktop/Python Assignments/Detecting-Persuasion-Techniques-in-Memes/wandb/run-20240422_030854-pejfvxr9</code>"
     },
     "metadata": {},
     "output_type": "display_data"
    },
    {
     "data": {
      "text/plain": "<IPython.core.display.HTML object>",
      "text/html": "Syncing run <strong><a href='https://wandb.ai/phoenix_nlp/FineTuning-XLNet-250-epoch/runs/pejfvxr9' target=\"_blank\">usual-sweep-4</a></strong> to <a href='https://wandb.ai/phoenix_nlp/FineTuning-XLNet-250-epoch' target=\"_blank\">Weights & Biases</a> (<a href='https://wandb.me/run' target=\"_blank\">docs</a>)<br/>Sweep page: <a href='https://wandb.ai/phoenix_nlp/FineTuning-XLNet-250-epoch/sweeps/th5z4up4' target=\"_blank\">https://wandb.ai/phoenix_nlp/FineTuning-XLNet-250-epoch/sweeps/th5z4up4</a>"
     },
     "metadata": {},
     "output_type": "display_data"
    },
    {
     "data": {
      "text/plain": "<IPython.core.display.HTML object>",
      "text/html": " View project at <a href='https://wandb.ai/phoenix_nlp/FineTuning-XLNet-250-epoch' target=\"_blank\">https://wandb.ai/phoenix_nlp/FineTuning-XLNet-250-epoch</a>"
     },
     "metadata": {},
     "output_type": "display_data"
    },
    {
     "data": {
      "text/plain": "<IPython.core.display.HTML object>",
      "text/html": " View sweep at <a href='https://wandb.ai/phoenix_nlp/FineTuning-XLNet-250-epoch/sweeps/th5z4up4' target=\"_blank\">https://wandb.ai/phoenix_nlp/FineTuning-XLNet-250-epoch/sweeps/th5z4up4</a>"
     },
     "metadata": {},
     "output_type": "display_data"
    },
    {
     "data": {
      "text/plain": "<IPython.core.display.HTML object>",
      "text/html": " View run at <a href='https://wandb.ai/phoenix_nlp/FineTuning-XLNet-250-epoch/runs/pejfvxr9' target=\"_blank\">https://wandb.ai/phoenix_nlp/FineTuning-XLNet-250-epoch/runs/pejfvxr9</a>"
     },
     "metadata": {},
     "output_type": "display_data"
    },
    {
     "name": "stdout",
     "output_type": "stream",
     "text": [
      "[50/250]\n",
      "f1_h=0.51248\tprec_h=0.55916\trec_h=0.47298\n",
      "[100/250]\n",
      "f1_h=0.50681\tprec_h=0.55065\trec_h=0.46944\n"
     ]
    },
    {
     "name": "stderr",
     "output_type": "stream",
     "text": [
      "\u001B[34m\u001B[1mwandb\u001B[0m: \u001B[32m\u001B[41mERROR\u001B[0m Error while calling W&B API: context deadline exceeded (<Response [500]>)\n"
     ]
    },
    {
     "name": "stdout",
     "output_type": "stream",
     "text": [
      "[150/250]\n",
      "f1_h=0.50969\tprec_h=0.56257\trec_h=0.46590\n",
      "[200/250]\n",
      "f1_h=0.52095\tprec_h=0.53315\trec_h=0.50930\n",
      "[250/250]\n",
      "f1_h=0.50107\tprec_h=0.54199\trec_h=0.46590\n"
     ]
    },
    {
     "data": {
      "text/plain": "VBox(children=(Label(value='0.001 MB of 0.001 MB uploaded\\r'), FloatProgress(value=1.0, max=1.0)))",
      "application/vnd.jupyter.widget-view+json": {
       "version_major": 2,
       "version_minor": 0,
       "model_id": "4587523aabda4a18b1b88715c04c7cba"
      }
     },
     "metadata": {},
     "output_type": "display_data"
    },
    {
     "data": {
      "text/plain": "<IPython.core.display.HTML object>",
      "text/html": "<style>\n    table.wandb td:nth-child(1) { padding: 0 10px; text-align: left ; width: auto;} td:nth-child(2) {text-align: left ; width: 100%}\n    .wandb-row { display: flex; flex-direction: row; flex-wrap: wrap; justify-content: flex-start; width: 100% }\n    .wandb-col { display: flex; flex-direction: column; flex-basis: 100%; flex: 1; padding: 10px; }\n    </style>\n<div class=\"wandb-row\"><div class=\"wandb-col\"><h3>Run history:</h3><br/><table class=\"wandb\"><tr><td>epoch</td><td>▁▁▁▂▂▂▂▂▂▃▃▃▃▃▄▄▄▄▄▄▅▅▅▅▅▅▆▆▆▆▆▇▇▇▇▇▇███</td></tr><tr><td>h_f1-score</td><td>▁▅▇▇▇██▇█▇▇████▇█▇▇▇█████████▇▇▇▇██▇█▇▇█</td></tr><tr><td>h_precision</td><td>▆█▅▅▄▄▃▃▁▃▃▃▃▂▂▃▃▃▂▃▃▃▃▂▃▃▂▃▂▃▃▃▃▂▂▃▂▂▃▂</td></tr><tr><td>h_recall</td><td>▁▄▆▆▆▇▇▇█▇▇▇▇█▇▇▇▇▇▇▇▇██▇▇▇▇▇▇▇▆▇▇▇▇▇▇▇▇</td></tr><tr><td>train_loss</td><td>█▇▆▄▄▃▂▂▂▁▁▁▁▁▁▁▁▁▁▁▁▁▁▁▁▁▁▁▁▁▁▁▁▁▁▁▁▁▁▁</td></tr><tr><td>val_loss</td><td>▄▁▃▂▂▂▃▂▄▃▃▄▅▇▅▄▃▄▅▆▆▃▆▇▆▃▄▄▄▁▄▄▅▅█▄▇▃▃▄</td></tr></table><br/></div><div class=\"wandb-col\"><h3>Run summary:</h3><br/><table class=\"wandb\"><tr><td>epoch</td><td>249</td></tr><tr><td>h_f1-score</td><td>0.50107</td></tr><tr><td>h_precision</td><td>0.54199</td></tr><tr><td>h_recall</td><td>0.4659</td></tr><tr><td>train_loss</td><td>0.09316</td></tr><tr><td>val_loss</td><td>7.56273</td></tr></table><br/></div></div>"
     },
     "metadata": {},
     "output_type": "display_data"
    },
    {
     "data": {
      "text/plain": "<IPython.core.display.HTML object>",
      "text/html": " View run <strong style=\"color:#cdcd00\">usual-sweep-4</strong> at: <a href='https://wandb.ai/phoenix_nlp/FineTuning-XLNet-250-epoch/runs/pejfvxr9' target=\"_blank\">https://wandb.ai/phoenix_nlp/FineTuning-XLNet-250-epoch/runs/pejfvxr9</a><br/> View project at: <a href='https://wandb.ai/phoenix_nlp/FineTuning-XLNet-250-epoch' target=\"_blank\">https://wandb.ai/phoenix_nlp/FineTuning-XLNet-250-epoch</a><br/>Synced 5 W&B file(s), 0 media file(s), 0 artifact file(s) and 0 other file(s)"
     },
     "metadata": {},
     "output_type": "display_data"
    },
    {
     "data": {
      "text/plain": "<IPython.core.display.HTML object>",
      "text/html": "Find logs at: <code>./wandb/run-20240422_030854-pejfvxr9/logs</code>"
     },
     "metadata": {},
     "output_type": "display_data"
    },
    {
     "name": "stderr",
     "output_type": "stream",
     "text": [
      "\u001B[34m\u001B[1mwandb\u001B[0m: Agent Starting Run: 7rgiwnxx with config:\n",
      "\u001B[34m\u001B[1mwandb\u001B[0m: \talpha: 0.6528033057378441\n",
      "\u001B[34m\u001B[1mwandb\u001B[0m: \tbatch_size: 256\n",
      "\u001B[34m\u001B[1mwandb\u001B[0m: \tbeta: 0.9756793544083928\n",
      "\u001B[34m\u001B[1mwandb\u001B[0m: \tbeta1: 0.938711279814244\n",
      "\u001B[34m\u001B[1mwandb\u001B[0m: \tlearning_rate: 0.0004208487209873777\n",
      "\u001B[34m\u001B[1mwandb\u001B[0m: \toptimizer: adam\n",
      "\u001B[34m\u001B[1mwandb\u001B[0m: \tthreshold: 0.7831049814244941\n"
     ]
    },
    {
     "data": {
      "text/plain": "<IPython.core.display.HTML object>",
      "text/html": "Tracking run with wandb version 0.16.6"
     },
     "metadata": {},
     "output_type": "display_data"
    },
    {
     "data": {
      "text/plain": "<IPython.core.display.HTML object>",
      "text/html": "Run data is saved locally in <code>/Users/iqbal/Desktop/Python Assignments/Detecting-Persuasion-Techniques-in-Memes/wandb/run-20240422_032542-7rgiwnxx</code>"
     },
     "metadata": {},
     "output_type": "display_data"
    },
    {
     "data": {
      "text/plain": "<IPython.core.display.HTML object>",
      "text/html": "Syncing run <strong><a href='https://wandb.ai/phoenix_nlp/FineTuning-XLNet-250-epoch/runs/7rgiwnxx' target=\"_blank\">smart-sweep-5</a></strong> to <a href='https://wandb.ai/phoenix_nlp/FineTuning-XLNet-250-epoch' target=\"_blank\">Weights & Biases</a> (<a href='https://wandb.me/run' target=\"_blank\">docs</a>)<br/>Sweep page: <a href='https://wandb.ai/phoenix_nlp/FineTuning-XLNet-250-epoch/sweeps/th5z4up4' target=\"_blank\">https://wandb.ai/phoenix_nlp/FineTuning-XLNet-250-epoch/sweeps/th5z4up4</a>"
     },
     "metadata": {},
     "output_type": "display_data"
    },
    {
     "data": {
      "text/plain": "<IPython.core.display.HTML object>",
      "text/html": " View project at <a href='https://wandb.ai/phoenix_nlp/FineTuning-XLNet-250-epoch' target=\"_blank\">https://wandb.ai/phoenix_nlp/FineTuning-XLNet-250-epoch</a>"
     },
     "metadata": {},
     "output_type": "display_data"
    },
    {
     "data": {
      "text/plain": "<IPython.core.display.HTML object>",
      "text/html": " View sweep at <a href='https://wandb.ai/phoenix_nlp/FineTuning-XLNet-250-epoch/sweeps/th5z4up4' target=\"_blank\">https://wandb.ai/phoenix_nlp/FineTuning-XLNet-250-epoch/sweeps/th5z4up4</a>"
     },
     "metadata": {},
     "output_type": "display_data"
    },
    {
     "data": {
      "text/plain": "<IPython.core.display.HTML object>",
      "text/html": " View run at <a href='https://wandb.ai/phoenix_nlp/FineTuning-XLNet-250-epoch/runs/7rgiwnxx' target=\"_blank\">https://wandb.ai/phoenix_nlp/FineTuning-XLNet-250-epoch/runs/7rgiwnxx</a>"
     },
     "metadata": {},
     "output_type": "display_data"
    },
    {
     "name": "stdout",
     "output_type": "stream",
     "text": [
      "[50/250]\n",
      "f1_h=0.52661\tprec_h=0.55676\trec_h=0.49956\n",
      "[100/250]\n",
      "f1_h=0.49788\tprec_h=0.53056\trec_h=0.46900\n",
      "[150/250]\n",
      "f1_h=0.50048\tprec_h=0.54795\trec_h=0.46058\n",
      "[200/250]\n",
      "f1_h=0.51411\tprec_h=0.54312\trec_h=0.48804\n",
      "[250/250]\n",
      "f1_h=0.50643\tprec_h=0.54794\trec_h=0.47077\n"
     ]
    },
    {
     "data": {
      "text/plain": "VBox(children=(Label(value='0.006 MB of 0.007 MB uploaded\\r'), FloatProgress(value=0.8071059079771304, max=1.0…",
      "application/vnd.jupyter.widget-view+json": {
       "version_major": 2,
       "version_minor": 0,
       "model_id": "c011e068809d4a329a744fc72b195497"
      }
     },
     "metadata": {},
     "output_type": "display_data"
    },
    {
     "data": {
      "text/plain": "<IPython.core.display.HTML object>",
      "text/html": "<style>\n    table.wandb td:nth-child(1) { padding: 0 10px; text-align: left ; width: auto;} td:nth-child(2) {text-align: left ; width: 100%}\n    .wandb-row { display: flex; flex-direction: row; flex-wrap: wrap; justify-content: flex-start; width: 100% }\n    .wandb-col { display: flex; flex-direction: column; flex-basis: 100%; flex: 1; padding: 10px; }\n    </style>\n<div class=\"wandb-row\"><div class=\"wandb-col\"><h3>Run history:</h3><br/><table class=\"wandb\"><tr><td>epoch</td><td>▁▁▁▂▂▂▂▂▂▃▃▃▃▃▄▄▄▄▄▄▅▅▅▅▅▅▆▆▆▆▆▇▇▇▇▇▇███</td></tr><tr><td>h_f1-score</td><td>▁▅▇▇█▇███▇███▇▇██████████▇████▇██████▇██</td></tr><tr><td>h_precision</td><td>▅█▅▅▅▄▃▃▃▃▂▂▂▃▃▃▂▂▃▂▂▂▃▄▃▃▂▃▂▂▂▃▃▃▁▂▃▂▁▂</td></tr><tr><td>h_recall</td><td>▁▄▆▆▇▇▇█▇▇██▇▇▇▇▇▇▇▇▇▇▇▇▇▇█▇▇█▇▇█▇▇▇▇▇█▇</td></tr><tr><td>train_loss</td><td>█▇▆▅▄▃▂▂▂▁▁▁▁▁▁▁▁▁▁▁▁▁▁▁▁▁▁▁▁▁▁▁▁▁▁▁▁▁▁▁</td></tr><tr><td>val_loss</td><td>█▅▄▅▂▂▂▃▂▃▃▅▁▂▁▃▅▃▃▃▅▄▃▂▃▂▃▄▅▄▃▃▄▃▄▄▃▂▆▄</td></tr></table><br/></div><div class=\"wandb-col\"><h3>Run summary:</h3><br/><table class=\"wandb\"><tr><td>epoch</td><td>249</td></tr><tr><td>h_f1-score</td><td>0.50643</td></tr><tr><td>h_precision</td><td>0.54794</td></tr><tr><td>h_recall</td><td>0.47077</td></tr><tr><td>train_loss</td><td>0.08884</td></tr><tr><td>val_loss</td><td>8.00998</td></tr></table><br/></div></div>"
     },
     "metadata": {},
     "output_type": "display_data"
    },
    {
     "data": {
      "text/plain": "<IPython.core.display.HTML object>",
      "text/html": " View run <strong style=\"color:#cdcd00\">smart-sweep-5</strong> at: <a href='https://wandb.ai/phoenix_nlp/FineTuning-XLNet-250-epoch/runs/7rgiwnxx' target=\"_blank\">https://wandb.ai/phoenix_nlp/FineTuning-XLNet-250-epoch/runs/7rgiwnxx</a><br/> View project at: <a href='https://wandb.ai/phoenix_nlp/FineTuning-XLNet-250-epoch' target=\"_blank\">https://wandb.ai/phoenix_nlp/FineTuning-XLNet-250-epoch</a><br/>Synced 5 W&B file(s), 0 media file(s), 0 artifact file(s) and 0 other file(s)"
     },
     "metadata": {},
     "output_type": "display_data"
    },
    {
     "data": {
      "text/plain": "<IPython.core.display.HTML object>",
      "text/html": "Find logs at: <code>./wandb/run-20240422_032542-7rgiwnxx/logs</code>"
     },
     "metadata": {},
     "output_type": "display_data"
    }
   ],
   "source": [
    "def main():\n",
    "    wandb.agent(sweep_id, train, count=5)\n",
    "\n",
    "if __name__ == \"__main__\":\n",
    "    main()"
   ],
   "metadata": {
    "collapsed": false,
    "ExecuteTime": {
     "end_time": "2024-04-22T07:38:32.227478Z",
     "start_time": "2024-04-22T06:26:49.881714Z"
    }
   },
   "id": "52f1db23db548f9",
   "execution_count": 11
  },
  {
   "cell_type": "markdown",
   "source": [],
   "metadata": {
    "collapsed": false
   },
   "id": "d0417b96dff129df"
  },
  {
   "cell_type": "code",
   "outputs": [
    {
     "data": {
      "text/plain": "Baseline(\n  (linear_level1): Sequential(\n    (0): Linear(in_features=1024, out_features=1024, bias=True)\n    (1): ReLU()\n    (2): Dropout(p=0.15, inplace=False)\n    (3): Linear(in_features=1024, out_features=512, bias=True)\n    (4): ReLU()\n    (5): Dropout(p=0.15, inplace=False)\n    (6): Linear(in_features=512, out_features=128, bias=True)\n    (7): ReLU()\n  )\n  (linear_level2): Sequential(\n    (0): Linear(in_features=1024, out_features=1024, bias=True)\n    (1): ReLU()\n    (2): Dropout(p=0.15, inplace=False)\n    (3): Linear(in_features=1024, out_features=512, bias=True)\n    (4): ReLU()\n    (5): Dropout(p=0.15, inplace=False)\n    (6): Linear(in_features=512, out_features=128, bias=True)\n    (7): ReLU()\n  )\n  (linear_level3): Sequential(\n    (0): Linear(in_features=1024, out_features=1024, bias=True)\n    (1): ReLU()\n    (2): Dropout(p=0.15, inplace=False)\n    (3): Linear(in_features=1024, out_features=512, bias=True)\n    (4): ReLU()\n    (5): Dropout(p=0.15, inplace=False)\n    (6): Linear(in_features=512, out_features=128, bias=True)\n    (7): ReLU()\n  )\n  (linear_level4): Sequential(\n    (0): Linear(in_features=1024, out_features=1024, bias=True)\n    (1): ReLU()\n    (2): Dropout(p=0.15, inplace=False)\n    (3): Linear(in_features=1024, out_features=512, bias=True)\n    (4): ReLU()\n    (5): Dropout(p=0.15, inplace=False)\n    (6): Linear(in_features=512, out_features=128, bias=True)\n    (7): ReLU()\n  )\n  (linear_level5): Sequential(\n    (0): Linear(in_features=1024, out_features=1024, bias=True)\n    (1): ReLU()\n    (2): Dropout(p=0.15, inplace=False)\n    (3): Linear(in_features=1024, out_features=512, bias=True)\n    (4): ReLU()\n    (5): Dropout(p=0.15, inplace=False)\n    (6): Linear(in_features=512, out_features=128, bias=True)\n    (7): ReLU()\n  )\n  (sigmoid_reg1): Sequential(\n    (0): Linear(in_features=128, out_features=2, bias=True)\n  )\n  (sigmoid_reg2): Sequential(\n    (0): Linear(in_features=256, out_features=4, bias=True)\n  )\n  (sigmoid_reg3): Sequential(\n    (0): Linear(in_features=384, out_features=13, bias=True)\n    (1): Sigmoid()\n  )\n  (sigmoid_reg4): Sequential(\n    (0): Linear(in_features=512, out_features=13, bias=True)\n    (1): Sigmoid()\n  )\n  (sigmoid_reg5): Sequential(\n    (0): Linear(in_features=640, out_features=7, bias=True)\n    (1): Sigmoid()\n  )\n)"
     },
     "execution_count": 12,
     "metadata": {},
     "output_type": "execute_result"
    }
   ],
   "source": [
    "model = Baseline()\n",
    "model.to(device)"
   ],
   "metadata": {
    "collapsed": false,
    "ExecuteTime": {
     "end_time": "2024-04-22T07:38:32.262094Z",
     "start_time": "2024-04-22T07:38:32.228519Z"
    }
   },
   "id": "e2c9ee30ccc05e5c",
   "execution_count": 12
  },
  {
   "cell_type": "code",
   "outputs": [
    {
     "data": {
      "text/plain": "<All keys matched successfully>"
     },
     "execution_count": 13,
     "metadata": {},
     "output_type": "execute_result"
    }
   ],
   "source": [
    "model.load_state_dict(torch.load('./models/subtask1a/XLNet-200/fanciful-sweep-1.pth', map_location=device))"
   ],
   "metadata": {
    "collapsed": false,
    "ExecuteTime": {
     "end_time": "2024-04-22T07:38:32.281186Z",
     "start_time": "2024-04-22T07:38:32.262946Z"
    }
   },
   "id": "343faa5498257f2a",
   "execution_count": 13
  },
  {
   "cell_type": "code",
   "outputs": [],
   "source": [
    "from tqdm import tqdm\n",
    "import json\n",
    "import subprocess\n",
    "\n",
    "bulgarian_pred_file_path = './Predictions/bulgarian_predictions_subtask1.json'\n",
    "bulgarian_gold_file_path = './test_labels_ar_bg_md_version2/test_subtask1_bg.json'\n",
    "evaluator_script = './scorer-baseline/subtask_1_2a.py'\n",
    "\n",
    "bg_test_data = process_test_json(bulgarian_gold_file_path)\n",
    "\n",
    "\n",
    "bg_test_dataset = TestDataSet(bg_test_data, './TextFeatures/subtask1a/XLNet/bg_test_text_features.pkl')\n",
    "bg_test_dataloader = DataLoader(bg_test_dataset, batch_size=64, shuffle=True)\n",
    "\n",
    "evaluate_model(model, bg_test_dataloader, bulgarian_pred_file_path, bulgarian_gold_file_path,\n",
    "               evaluator_script, id2leaf_label, validation=False)"
   ],
   "metadata": {
    "collapsed": false,
    "ExecuteTime": {
     "end_time": "2024-04-22T07:38:32.358429Z",
     "start_time": "2024-04-22T07:38:32.281828Z"
    }
   },
   "id": "c44de7fe2a145abc",
   "execution_count": 14
  },
  {
   "cell_type": "code",
   "outputs": [],
   "source": [
    "en_pred_file_path = './Predictions/en_predictions_subtask1.txt'\n",
    "\n",
    "en_test_data = process_test_json('./test_data/english/en_subtask1_test_unlabeled.json')\n",
    "\n",
    "en_test_dataset = TestDataSet(en_test_data, './TextFeatures/subtask1a/XLNet/en_test_text_features.pkl')\n",
    "en_test_dataloader = DataLoader(en_test_dataset, batch_size=64, shuffle=True)\n",
    "\n",
    "evaluate_model(model, en_test_dataloader, en_pred_file_path, None, evaluator_script, id2leaf_label, validation=False)"
   ],
   "metadata": {
    "collapsed": false,
    "ExecuteTime": {
     "end_time": "2024-04-22T07:38:32.602034Z",
     "start_time": "2024-04-22T07:38:32.359339Z"
    }
   },
   "id": "86db77a58893a225",
   "execution_count": 15
  },
  {
   "cell_type": "code",
   "outputs": [],
   "source": [],
   "metadata": {
    "collapsed": false,
    "ExecuteTime": {
     "end_time": "2024-04-22T07:38:32.604089Z",
     "start_time": "2024-04-22T07:38:32.602772Z"
    }
   },
   "id": "9f660b6799413fe2",
   "execution_count": 15
  }
 ],
 "metadata": {
  "kernelspec": {
   "display_name": "Python 3",
   "language": "python",
   "name": "python3"
  },
  "language_info": {
   "codemirror_mode": {
    "name": "ipython",
    "version": 2
   },
   "file_extension": ".py",
   "mimetype": "text/x-python",
   "name": "python",
   "nbconvert_exporter": "python",
   "pygments_lexer": "ipython2",
   "version": "2.7.6"
  }
 },
 "nbformat": 4,
 "nbformat_minor": 5
}
