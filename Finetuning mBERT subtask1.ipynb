{
 "cells": [
  {
   "cell_type": "code",
   "execution_count": 1,
   "id": "initial_id",
   "metadata": {
    "collapsed": true,
    "ExecuteTime": {
     "end_time": "2024-04-28T20:29:17.590995Z",
     "start_time": "2024-04-28T20:29:15.347063Z"
    }
   },
   "outputs": [],
   "source": [
    "from collections import deque\n",
    "\n",
    "import pandas as pd\n",
    "import matplotlib.pyplot as plt\n",
    "import numpy as np\n",
    "import torch\n",
    "from torch import nn\n",
    "import nltk\n",
    "from torch.utils.data import Dataset\n",
    "import pickle\n",
    "\n",
    "from utils.utils import *\n",
    "from utils.label_decoding import *\n",
    "from utils.HierarchicalLoss import *"
   ]
  },
  {
   "cell_type": "markdown",
   "source": [
    "# SubTask 1"
   ],
   "metadata": {
    "collapsed": false
   },
   "id": "e60ad07d99dbae78"
  },
  {
   "cell_type": "code",
   "outputs": [],
   "source": [
    "class DataSet(Dataset):\n",
    "    def __init__(self, df, labels_at_level, features_file):\n",
    "        super(DataSet, self).__init__()\n",
    "        self.data_df = df\n",
    "        self.labels_at_level = labels_at_level\n",
    "        self.features_file = features_file\n",
    "        self.features_dict = None\n",
    "        with open(features_file, 'rb') as f:\n",
    "            self.features_dict = pickle.load(f)\n",
    "    \n",
    "    def __len__(self):\n",
    "        return len(self.data_df)\n",
    "    \n",
    "    def __getitem__(self, idx):\n",
    "        id = self.data_df.iloc[idx]['id']\n",
    "        text = self.data_df.iloc[idx]['cleaned_text']\n",
    "        level_1_target = self.encode(self.data_df.iloc[idx]['Level 1'], 1)\n",
    "        level_2_target = self.encode(self.data_df.iloc[idx]['Level 2'], 2)\n",
    "        level_3_target = self.encode(self.data_df.iloc[idx]['Level 3'], 3)\n",
    "        level_4_target = self.encode(self.data_df.iloc[idx]['Level 4'], 4)\n",
    "        level_5_target = self.encode(self.data_df.iloc[idx]['Level 5'], 5)\n",
    "            \n",
    "        \n",
    "        return {'id': id,\n",
    "                'text': text, \n",
    "                'text_features': self.features_dict[id],\n",
    "                'level_1_target': level_1_target, \n",
    "                'level_2_target': level_2_target, \n",
    "                'level_3_target': level_3_target, \n",
    "                'level_4_target': level_4_target, \n",
    "                'level_5_target': level_5_target }\n",
    "\n",
    "    def encode(self, labels, level):\n",
    "        level_ = f'Level {level}'\n",
    "        \n",
    "        target = torch.zeros(len(self.labels_at_level[level_])+1)\n",
    "        \n",
    "        for label in labels:\n",
    "            label_idx = self.labels_at_level[level_][label]\n",
    "            target[label_idx] = 1\n",
    "        \n",
    "        if len(labels) == 0:\n",
    "            target[-1] = 1\n",
    "        \n",
    "        return target"
   ],
   "metadata": {
    "collapsed": false,
    "ExecuteTime": {
     "end_time": "2024-04-28T20:29:17.596142Z",
     "start_time": "2024-04-28T20:29:17.592329Z"
    }
   },
   "id": "ca9a0fc432e64d68",
   "execution_count": 2
  },
  {
   "cell_type": "code",
   "outputs": [],
   "source": [
    "class TestDataSet(Dataset):\n",
    "    def __init__(self, df, features_file):\n",
    "        super(TestDataSet, self).__init__()\n",
    "        self.data_df = df\n",
    "        self.features_file = features_file\n",
    "        self.features_dict = None\n",
    "        with open(features_file, 'rb') as f:\n",
    "            self.features_dict = pickle.load(f)\n",
    "    \n",
    "    def __len__(self):\n",
    "        return len(self.data_df)\n",
    "    \n",
    "    def __getitem__(self, idx):\n",
    "        id = self.data_df.iloc[idx]['id']\n",
    "        text = self.data_df.iloc[idx]['cleaned_text']\n",
    "        \n",
    "        return {'id': id,\n",
    "                'text': text, \n",
    "                'text_features': self.features_dict[id] }"
   ],
   "metadata": {
    "collapsed": false,
    "ExecuteTime": {
     "end_time": "2024-04-28T20:29:17.599151Z",
     "start_time": "2024-04-28T20:29:17.596744Z"
    }
   },
   "id": "6eac351a60082cf4",
   "execution_count": 3
  },
  {
   "cell_type": "code",
   "outputs": [],
   "source": [
    "def evaluate_model(model, dataloader, pred_file_path, gold_file_path, \n",
    "                   evaluator_script_path, id2leaf_label, format=None,validation=False,\n",
    "                   HL=None, batchsize=None, threshold=0.6):\n",
    "    model.eval()\n",
    "    predictions = []\n",
    "    \n",
    "    # HL = HierarchicalLoss(id2label=id2label_1, hierarchical_labels=hierarchy_1, persuasion_techniques=persuasion_techniques_1, device=device)\n",
    "    total_loss = 0\n",
    "    \n",
    "    \n",
    "    with torch.no_grad():\n",
    "        \n",
    "        for batch in dataloader:\n",
    "            if not isinstance(batch['id'], list):\n",
    "                ids = batch['id'].detach().numpy().tolist()\n",
    "            else:\n",
    "                ids = batch['id']\n",
    "        \n",
    "            embeddings = batch['text_features']\n",
    "            embeddings = embeddings.to(device)\n",
    "            pred_1, pred_2, pred_3, pred_4, pred_5 = model(embeddings)\n",
    "            \n",
    "            if validation:\n",
    "                y_1, y_2, y_3 = batch['level_1_target'], batch['level_2_target'], batch['level_3_target']\n",
    "                y_4, y_5 = batch['level_4_target'], batch['level_5_target']\n",
    "                \n",
    "                y_1, y_2, y_3, y_4, y_5 = y_1.to(device), y_2.to(device), y_3.to(device), y_4.to(device), y_5.to(device)\n",
    "                \n",
    "                dloss = HL.calculate_dloss([pred_1, pred_2, pred_3, pred_4, pred_5], [y_1, y_2, y_3, y_4, y_5])\n",
    "                lloss = HL.calculate_lloss([pred_1, pred_2, pred_3, pred_4, pred_5], [y_1, y_2, y_3, y_4, y_5])\n",
    "                \n",
    "                total_loss += (dloss + lloss).detach().cpu().item()\n",
    "                \n",
    "            pred_3 = (pred_3.cpu().detach().numpy() > threshold).astype(int)\n",
    "            pred_4 = (pred_4.cpu().detach().numpy() > threshold).astype(int)\n",
    "            pred_5 = (pred_5.cpu().detach().numpy() > threshold).astype(int)\n",
    "            \n",
    "            predictions += get_labels(id2leaf_label, ids, pred_3, pred_4, pred_5, format)\n",
    "\n",
    "        # Writing JSON data\n",
    "        with open(pred_file_path, 'w') as f:\n",
    "            json.dump(predictions, f, indent=4)\n",
    "        \n",
    "        if gold_file_path is None:\n",
    "            return\n",
    "        \n",
    "        prec_h, rec_h, f1_h = evaluate_h(pred_file_path, gold_file_path)\n",
    "        print(\"f1_h={:.5f}\\tprec_h={:.5f}\\trec_h={:.5f}\".format(f1_h, prec_h, rec_h))\n",
    "        if validation:\n",
    "            return prec_h, rec_h, f1_h, total_loss / (len(dataloader) * batchsize)\n",
    "            \n",
    "        # command = [\n",
    "        #         \"python3\", evaluator_script_path,\n",
    "        #         \"--gold_file_path\", gold_file_path,\n",
    "        #         \"--pred_file_path\", pred_file_path\n",
    "        # ]\n",
    "        # \n",
    "        # result = subprocess.run(command, capture_output=True, text=True)\n",
    "        # \n",
    "        # if result.returncode == 0:\n",
    "        #     print(\"Output:\\n\", result.stdout)\n",
    "        # else:\n",
    "        #     print(\"Error:\\n\", result.stderr)\n",
    "        #     \n",
    "        \n",
    "    "
   ],
   "metadata": {
    "collapsed": false,
    "ExecuteTime": {
     "end_time": "2024-04-28T20:29:17.604324Z",
     "start_time": "2024-04-28T20:29:17.600281Z"
    }
   },
   "id": "ec033c418f6dd4da",
   "execution_count": 4
  },
  {
   "cell_type": "code",
   "outputs": [],
   "source": [
    "from torch.utils.data import DataLoader\n",
    "\n",
    "train_json = './semeval2024_dev_release/subtask1/train.json'\n",
    "validation_json = './semeval2024_dev_release/subtask1/validation.json'\n",
    "\n",
    "train_data = process_json(train_json, techniques_to_level_1, hierarchy_1)\n",
    "# val_data = \n",
    "validation_data = process_json(validation_json, techniques_to_level_1, hierarchy_1)\n",
    "\n",
    "\n",
    "training_dataset = DataSet(train_data, indexed_persuasion_techniques_1, \n",
    "                           './TextFeatures/subtask1a/mBERT/train_text_features.pkl')\n",
    "validation_dataset = DataSet(validation_data, indexed_persuasion_techniques_1, \n",
    "                             './TextFeatures/subtask1a/mBERT/validation_text_features.pkl')"
   ],
   "metadata": {
    "collapsed": false,
    "ExecuteTime": {
     "end_time": "2024-04-22T06:27:17.872887Z",
     "start_time": "2024-04-22T06:27:17.167169Z"
    }
   },
   "id": "ad284fce512b8868",
   "execution_count": 6
  },
  {
   "cell_type": "code",
   "outputs": [
    {
     "name": "stdout",
     "output_type": "stream",
     "text": [
      "Using MPS\n"
     ]
    }
   ],
   "source": [
    "device = get_device()\n",
    "\n",
    "device = torch.device('cpu')"
   ],
   "metadata": {
    "collapsed": false,
    "ExecuteTime": {
     "end_time": "2024-04-28T20:29:22.836309Z",
     "start_time": "2024-04-28T20:29:22.816608Z"
    }
   },
   "id": "20d17410814334b2",
   "execution_count": 5
  },
  {
   "cell_type": "code",
   "outputs": [
    {
     "name": "stderr",
     "output_type": "stream",
     "text": [
      "\u001B[34m\u001B[1mwandb\u001B[0m: Currently logged in as: \u001B[33miqbal_shaik\u001B[0m (\u001B[33mphoenix_nlp\u001B[0m). Use \u001B[1m`wandb login --relogin`\u001B[0m to force relogin\n"
     ]
    },
    {
     "name": "stdout",
     "output_type": "stream",
     "text": [
      "Create sweep with ID: lftu2ej4\n",
      "Sweep URL: https://wandb.ai/phoenix_nlp/FineTuning-mBERT-200-epoch/sweeps/lftu2ej4\n"
     ]
    }
   ],
   "source": [
    "import wandb\n",
    "\n",
    "# Initialize WandB and log in to your account\n",
    "wandb.login()\n",
    "\n",
    "sweep_config = {\n",
    "    'method': 'bayes',  # Using Bayesian optimization\n",
    "    'metric': {\n",
    "        'name': 'val_loss',\n",
    "        'goal': 'minimize'\n",
    "    },\n",
    "    'parameters': {\n",
    "        'learning_rate': {\n",
    "            'min': 1e-5,\n",
    "            'max': 1e-3\n",
    "        },\n",
    "        'batch_size': {\n",
    "            'values': [128, 256]\n",
    "        },\n",
    "        'optimizer': {\n",
    "            'values': ['adam']\n",
    "        },\n",
    "        'beta1': {  # Relevant for Adam\n",
    "            'min': 0.85,\n",
    "            'max': 0.95\n",
    "        },\n",
    "        # 'momentum': {  # Relevant for SGD\n",
    "        #     'min': 0.8,\n",
    "        #     'max': 0.99\n",
    "        # }\n",
    "        'alpha': {\n",
    "            'min': 0.5,\n",
    "            'max': 1.0\n",
    "        },\n",
    "        'beta': {\n",
    "            'min': 0.5,\n",
    "            'max': 1.0\n",
    "        },\n",
    "        'threshold':{\n",
    "            'min': 0.6,\n",
    "            'max': 0.8\n",
    "            }\n",
    "        \n",
    "    }\n",
    "}\n",
    "\n",
    "sweep_id = wandb.sweep(sweep_config, project=\"FineTuning-mBERT-200-epoch\")\n",
    "# sweep_id = '44uz6ydx'"
   ],
   "metadata": {
    "collapsed": false,
    "ExecuteTime": {
     "end_time": "2024-04-22T06:27:19.821537Z",
     "start_time": "2024-04-22T06:27:17.890326Z"
    }
   },
   "id": "883d6589842ebf61",
   "execution_count": 8
  },
  {
   "cell_type": "code",
   "outputs": [],
   "source": [
    "models_dir = './models/subtask1a/mBERT-200/'\n",
    "num_epochs = 200"
   ],
   "metadata": {
    "collapsed": false,
    "ExecuteTime": {
     "end_time": "2024-04-22T06:27:19.824666Z",
     "start_time": "2024-04-22T06:27:19.822553Z"
    }
   },
   "id": "485514e379b90032",
   "execution_count": 9
  },
  {
   "cell_type": "code",
   "outputs": [],
   "source": [
    "from tqdm import tqdm\n",
    "import json\n",
    "import subprocess\n",
    "from subtask_1_2a import *\n",
    "\n",
    "from modules.nn.mBERT import mBERT\n",
    "\n",
    "def train():\n",
    "    \n",
    "    wandb.init()\n",
    "\n",
    "    # Use WandB configurations\n",
    "    config = wandb.config\n",
    "    batch_size = config.batch_size\n",
    "    learning_rate = config.learning_rate\n",
    "    \n",
    "    train_dataloader = DataLoader(training_dataset, batch_size=batch_size, shuffle=True)\n",
    "    validation_dataloader = DataLoader(validation_dataset, batch_size=batch_size, shuffle=True)\n",
    "    \n",
    "    model = mBERT()\n",
    "    model.to(device)\n",
    "    \n",
    "    optimizer = None\n",
    "    \n",
    "    if config.optimizer == 'adam':\n",
    "        optimizer = torch.optim.Adam(\n",
    "            model.parameters(),\n",
    "            lr=learning_rate,\n",
    "            betas=(config.beta1, 0.999)\n",
    "        )\n",
    "    elif config.optimizer == 'sgd':\n",
    "        optimizer = torch.optim.SGD(\n",
    "            model.parameters(),\n",
    "            lr=learning_rate,\n",
    "            momentum=config.momentum\n",
    "        )\n",
    "        \n",
    "    HL = HierarchicalLoss(id2label=id2label_1, hierarchical_labels=hierarchy_1,\n",
    "                          persuasion_techniques=persuasion_techniques_1, device=device, \n",
    "                          alpha=config.alpha, beta=config.beta, threshold=config.threshold)\n",
    "    \n",
    "    for epoch in range(num_epochs):\n",
    "        model.train()\n",
    "        running_loss = 0.0\n",
    "        for batch_idx, batch in enumerate(train_dataloader):\n",
    "            \n",
    "            y_1, y_2, y_3 = batch['level_1_target'], batch['level_2_target'], batch['level_3_target']\n",
    "            y_4, y_5 = batch['level_4_target'], batch['level_5_target']\n",
    "            \n",
    "            embeddings = batch['text_features']\n",
    "            embeddings = embeddings.to(device)\n",
    "            y_1, y_2, y_3, y_4, y_5 = y_1.to(device), y_2.to(device), y_3.to(device), y_4.to(device), y_5.to(device)\n",
    "            \n",
    "            \n",
    "            optimizer.zero_grad()\n",
    "            pred_1, pred_2, pred_3, pred_4, pred_5 = model(embeddings)\n",
    "            \n",
    "            dloss = HL.calculate_dloss([pred_1, pred_2, pred_3, pred_4, pred_5], [y_1, y_2, y_3, y_4, y_5])\n",
    "            lloss = HL.calculate_lloss([pred_1, pred_2, pred_3, pred_4, pred_5], [y_1, y_2, y_3, y_4, y_5])\n",
    "    \n",
    "            total_loss = lloss + dloss\n",
    "            \n",
    "            total_loss.backward()\n",
    "            optimizer.step()\n",
    "            \n",
    "            running_loss += total_loss.detach().item()\n",
    "            \n",
    "            # if batch_idx % 20 == 19:\n",
    "            #     print(f\"[{epoch + 1}, {batch_idx + 1}] loss: {running_loss / 20:.3f}\")\n",
    "            #     running_loss = 0.0\n",
    "        \n",
    "        running_loss /= (len(train_dataloader) * batch_size)\n",
    "        \n",
    "        val_pred_file_path = './Predictions/val_predictions_subtask1.json'\n",
    "        val_gold_file_path = './semeval2024_dev_release/subtask1/validation.json'\n",
    "        evaluator_script = './scorer-baseline/subtask_1_2a.py'\n",
    "        \n",
    "        prec_h, rec_h, f1_h, validation_loss = evaluate_model(model, validation_dataloader, val_pred_file_path, \n",
    "                                         val_gold_file_path, evaluator_script,id2leaf_label,\n",
    "                                         validation=True, HL=HL, batchsize=batch_size)\n",
    "        \n",
    "        if epoch % 50 == 49:\n",
    "            print(f'[{epoch+1}/{num_epochs}]')\n",
    "            print(\"f1_h={:.5f}\\tprec_h={:.5f}\\trec_h={:.5f}\".format(f1_h, prec_h, rec_h))\n",
    "        \n",
    "        # Log training metrics\n",
    "        wandb.log({\"epoch\": epoch, \"train_loss\": running_loss})\n",
    "        wandb.log({\"val_loss\": validation_loss})\n",
    "        wandb.log({\"h_precision\": prec_h, \"h_recall\": rec_h, \"h_f1-score\":f1_h})\n",
    "        \n",
    "    \n",
    "    torch.save(model.state_dict(), f\"{models_dir}{wandb.run.name}.pth\")\n",
    "    wandb.join()"
   ],
   "metadata": {
    "collapsed": false,
    "ExecuteTime": {
     "end_time": "2024-04-22T06:27:19.905811Z",
     "start_time": "2024-04-22T06:27:19.826734Z"
    }
   },
   "id": "d5df83d5c933d40e",
   "execution_count": 10
  },
  {
   "cell_type": "code",
   "outputs": [
    {
     "name": "stderr",
     "output_type": "stream",
     "text": [
      "\u001B[34m\u001B[1mwandb\u001B[0m: Agent Starting Run: 3847loy7 with config:\n",
      "\u001B[34m\u001B[1mwandb\u001B[0m: \talpha: 0.6907160287074812\n",
      "\u001B[34m\u001B[1mwandb\u001B[0m: \tbatch_size: 256\n",
      "\u001B[34m\u001B[1mwandb\u001B[0m: \tbeta: 0.5609451396964716\n",
      "\u001B[34m\u001B[1mwandb\u001B[0m: \tbeta1: 0.9119580642548668\n",
      "\u001B[34m\u001B[1mwandb\u001B[0m: \tlearning_rate: 0.00025252807109908345\n",
      "\u001B[34m\u001B[1mwandb\u001B[0m: \toptimizer: adam\n",
      "\u001B[34m\u001B[1mwandb\u001B[0m: \tthreshold: 0.7710184089072092\n"
     ]
    },
    {
     "data": {
      "text/plain": "<IPython.core.display.HTML object>",
      "text/html": "Tracking run with wandb version 0.16.6"
     },
     "metadata": {},
     "output_type": "display_data"
    },
    {
     "data": {
      "text/plain": "<IPython.core.display.HTML object>",
      "text/html": "Run data is saved locally in <code>/Users/iqbal/Desktop/Python Assignments/Detecting-Persuasion-Techniques-in-Memes/wandb/run-20240422_022721-3847loy7</code>"
     },
     "metadata": {},
     "output_type": "display_data"
    },
    {
     "data": {
      "text/plain": "<IPython.core.display.HTML object>",
      "text/html": "Syncing run <strong><a href='https://wandb.ai/phoenix_nlp/FineTuning-mBERT-200-epoch/runs/3847loy7' target=\"_blank\">fanciful-sweep-1</a></strong> to <a href='https://wandb.ai/phoenix_nlp/FineTuning-mBERT-200-epoch' target=\"_blank\">Weights & Biases</a> (<a href='https://wandb.me/run' target=\"_blank\">docs</a>)<br/>Sweep page: <a href='https://wandb.ai/phoenix_nlp/FineTuning-mBERT-200-epoch/sweeps/lftu2ej4' target=\"_blank\">https://wandb.ai/phoenix_nlp/FineTuning-mBERT-200-epoch/sweeps/lftu2ej4</a>"
     },
     "metadata": {},
     "output_type": "display_data"
    },
    {
     "data": {
      "text/plain": "<IPython.core.display.HTML object>",
      "text/html": " View project at <a href='https://wandb.ai/phoenix_nlp/FineTuning-mBERT-200-epoch' target=\"_blank\">https://wandb.ai/phoenix_nlp/FineTuning-mBERT-200-epoch</a>"
     },
     "metadata": {},
     "output_type": "display_data"
    },
    {
     "data": {
      "text/plain": "<IPython.core.display.HTML object>",
      "text/html": " View sweep at <a href='https://wandb.ai/phoenix_nlp/FineTuning-mBERT-200-epoch/sweeps/lftu2ej4' target=\"_blank\">https://wandb.ai/phoenix_nlp/FineTuning-mBERT-200-epoch/sweeps/lftu2ej4</a>"
     },
     "metadata": {},
     "output_type": "display_data"
    },
    {
     "data": {
      "text/plain": "<IPython.core.display.HTML object>",
      "text/html": " View run at <a href='https://wandb.ai/phoenix_nlp/FineTuning-mBERT-200-epoch/runs/3847loy7' target=\"_blank\">https://wandb.ai/phoenix_nlp/FineTuning-mBERT-200-epoch/runs/3847loy7</a>"
     },
     "metadata": {},
     "output_type": "display_data"
    },
    {
     "name": "stdout",
     "output_type": "stream",
     "text": [
      "[50/200]\n",
      "f1_h=0.44412\tprec_h=0.66815\trec_h=0.33260\n",
      "[100/200]\n",
      "f1_h=0.48864\tprec_h=0.61632\trec_h=0.40478\n",
      "[150/200]\n",
      "f1_h=0.52488\tprec_h=0.58087\trec_h=0.47874\n",
      "[200/200]\n",
      "f1_h=0.50782\tprec_h=0.56652\trec_h=0.46014\n"
     ]
    },
    {
     "data": {
      "text/plain": "VBox(children=(Label(value='0.001 MB of 0.001 MB uploaded\\r'), FloatProgress(value=1.0, max=1.0)))",
      "application/vnd.jupyter.widget-view+json": {
       "version_major": 2,
       "version_minor": 0,
       "model_id": "71a9c9372f33437f98cfdbb49f4b852e"
      }
     },
     "metadata": {},
     "output_type": "display_data"
    },
    {
     "data": {
      "text/plain": "<IPython.core.display.HTML object>",
      "text/html": "<style>\n    table.wandb td:nth-child(1) { padding: 0 10px; text-align: left ; width: auto;} td:nth-child(2) {text-align: left ; width: 100%}\n    .wandb-row { display: flex; flex-direction: row; flex-wrap: wrap; justify-content: flex-start; width: 100% }\n    .wandb-col { display: flex; flex-direction: column; flex-basis: 100%; flex: 1; padding: 10px; }\n    </style>\n<div class=\"wandb-row\"><div class=\"wandb-col\"><h3>Run history:</h3><br/><table class=\"wandb\"><tr><td>epoch</td><td>▁▁▁▁▂▂▂▂▂▃▃▃▃▃▃▄▄▄▄▄▅▅▅▅▅▅▆▆▆▆▆▇▇▇▇▇▇███</td></tr><tr><td>h_f1-score</td><td>▁▄▅▅▆▆▇▇▇▇▇▇█████▇██▇███████████████████</td></tr><tr><td>h_precision</td><td>▁▇████▇▇▇▇▇▇▇▇▇▇▇▇▇▇▇▇▇▇▇▇▇▆▆▇▇▇▇▇▇▇▇▇▇▇</td></tr><tr><td>h_recall</td><td>▁▃▃▄▅▄▆▅▆▇▆▆▇▇▇▇▇▆▇█▇█▇▇▇█▇█████▇█▇▇▇▇▇▇</td></tr><tr><td>train_loss</td><td>█▇▇▆▆▆▆▆▆▆▅▅▅▅▅▅▄▄▄▄▄▃▃▃▃▃▃▃▃▂▂▂▂▂▂▂▁▁▁▁</td></tr><tr><td>val_loss</td><td>█▅▄▃▃▃▃▄▃▄▃▄▃▃▃▃▃▃▃▃▃▂▃▂▂▂▂▂▃▂▁▁▂▂▂▂▁▂▃▂</td></tr></table><br/></div><div class=\"wandb-col\"><h3>Run summary:</h3><br/><table class=\"wandb\"><tr><td>epoch</td><td>199</td></tr><tr><td>h_f1-score</td><td>0.50782</td></tr><tr><td>h_precision</td><td>0.56652</td></tr><tr><td>h_recall</td><td>0.46014</td></tr><tr><td>train_loss</td><td>1.33679</td></tr><tr><td>val_loss</td><td>4.48727</td></tr></table><br/></div></div>"
     },
     "metadata": {},
     "output_type": "display_data"
    },
    {
     "data": {
      "text/plain": "<IPython.core.display.HTML object>",
      "text/html": " View run <strong style=\"color:#cdcd00\">fanciful-sweep-1</strong> at: <a href='https://wandb.ai/phoenix_nlp/FineTuning-mBERT-200-epoch/runs/3847loy7' target=\"_blank\">https://wandb.ai/phoenix_nlp/FineTuning-mBERT-200-epoch/runs/3847loy7</a><br/> View project at: <a href='https://wandb.ai/phoenix_nlp/FineTuning-mBERT-200-epoch' target=\"_blank\">https://wandb.ai/phoenix_nlp/FineTuning-mBERT-200-epoch</a><br/>Synced 5 W&B file(s), 0 media file(s), 0 artifact file(s) and 0 other file(s)"
     },
     "metadata": {},
     "output_type": "display_data"
    },
    {
     "data": {
      "text/plain": "<IPython.core.display.HTML object>",
      "text/html": "Find logs at: <code>./wandb/run-20240422_022721-3847loy7/logs</code>"
     },
     "metadata": {},
     "output_type": "display_data"
    },
    {
     "name": "stderr",
     "output_type": "stream",
     "text": [
      "\u001B[34m\u001B[1mwandb\u001B[0m: Agent Starting Run: c22tos9z with config:\n",
      "\u001B[34m\u001B[1mwandb\u001B[0m: \talpha: 0.95772054344116\n",
      "\u001B[34m\u001B[1mwandb\u001B[0m: \tbatch_size: 128\n",
      "\u001B[34m\u001B[1mwandb\u001B[0m: \tbeta: 0.9232250756169256\n",
      "\u001B[34m\u001B[1mwandb\u001B[0m: \tbeta1: 0.8820015212800097\n",
      "\u001B[34m\u001B[1mwandb\u001B[0m: \tlearning_rate: 0.0002334758964183666\n",
      "\u001B[34m\u001B[1mwandb\u001B[0m: \toptimizer: adam\n",
      "\u001B[34m\u001B[1mwandb\u001B[0m: \tthreshold: 0.6084638898462581\n"
     ]
    },
    {
     "data": {
      "text/plain": "<IPython.core.display.HTML object>",
      "text/html": "Tracking run with wandb version 0.16.6"
     },
     "metadata": {},
     "output_type": "display_data"
    },
    {
     "data": {
      "text/plain": "<IPython.core.display.HTML object>",
      "text/html": "Run data is saved locally in <code>/Users/iqbal/Desktop/Python Assignments/Detecting-Persuasion-Techniques-in-Memes/wandb/run-20240422_023729-c22tos9z</code>"
     },
     "metadata": {},
     "output_type": "display_data"
    },
    {
     "data": {
      "text/plain": "<IPython.core.display.HTML object>",
      "text/html": "Syncing run <strong><a href='https://wandb.ai/phoenix_nlp/FineTuning-mBERT-200-epoch/runs/c22tos9z' target=\"_blank\">woven-sweep-2</a></strong> to <a href='https://wandb.ai/phoenix_nlp/FineTuning-mBERT-200-epoch' target=\"_blank\">Weights & Biases</a> (<a href='https://wandb.me/run' target=\"_blank\">docs</a>)<br/>Sweep page: <a href='https://wandb.ai/phoenix_nlp/FineTuning-mBERT-200-epoch/sweeps/lftu2ej4' target=\"_blank\">https://wandb.ai/phoenix_nlp/FineTuning-mBERT-200-epoch/sweeps/lftu2ej4</a>"
     },
     "metadata": {},
     "output_type": "display_data"
    },
    {
     "data": {
      "text/plain": "<IPython.core.display.HTML object>",
      "text/html": " View project at <a href='https://wandb.ai/phoenix_nlp/FineTuning-mBERT-200-epoch' target=\"_blank\">https://wandb.ai/phoenix_nlp/FineTuning-mBERT-200-epoch</a>"
     },
     "metadata": {},
     "output_type": "display_data"
    },
    {
     "data": {
      "text/plain": "<IPython.core.display.HTML object>",
      "text/html": " View sweep at <a href='https://wandb.ai/phoenix_nlp/FineTuning-mBERT-200-epoch/sweeps/lftu2ej4' target=\"_blank\">https://wandb.ai/phoenix_nlp/FineTuning-mBERT-200-epoch/sweeps/lftu2ej4</a>"
     },
     "metadata": {},
     "output_type": "display_data"
    },
    {
     "data": {
      "text/plain": "<IPython.core.display.HTML object>",
      "text/html": " View run at <a href='https://wandb.ai/phoenix_nlp/FineTuning-mBERT-200-epoch/runs/c22tos9z' target=\"_blank\">https://wandb.ai/phoenix_nlp/FineTuning-mBERT-200-epoch/runs/c22tos9z</a>"
     },
     "metadata": {},
     "output_type": "display_data"
    },
    {
     "name": "stdout",
     "output_type": "stream",
     "text": [
      "[50/200]\n",
      "f1_h=0.49436\tprec_h=0.62842\trec_h=0.40744\n",
      "[100/200]\n",
      "f1_h=0.50803\tprec_h=0.58633\trec_h=0.44818\n",
      "[150/200]\n",
      "f1_h=0.48371\tprec_h=0.55716\trec_h=0.42737\n",
      "[200/200]\n",
      "f1_h=0.52390\tprec_h=0.54441\trec_h=0.50487\n"
     ]
    },
    {
     "data": {
      "text/plain": "VBox(children=(Label(value='0.001 MB of 0.001 MB uploaded\\r'), FloatProgress(value=1.0, max=1.0)))",
      "application/vnd.jupyter.widget-view+json": {
       "version_major": 2,
       "version_minor": 0,
       "model_id": "b6cee6d2fc74488d80b7ebd09204d3f3"
      }
     },
     "metadata": {},
     "output_type": "display_data"
    },
    {
     "data": {
      "text/plain": "<IPython.core.display.HTML object>",
      "text/html": "<style>\n    table.wandb td:nth-child(1) { padding: 0 10px; text-align: left ; width: auto;} td:nth-child(2) {text-align: left ; width: 100%}\n    .wandb-row { display: flex; flex-direction: row; flex-wrap: wrap; justify-content: flex-start; width: 100% }\n    .wandb-col { display: flex; flex-direction: column; flex-basis: 100%; flex: 1; padding: 10px; }\n    </style>\n<div class=\"wandb-row\"><div class=\"wandb-col\"><h3>Run history:</h3><br/><table class=\"wandb\"><tr><td>epoch</td><td>▁▁▁▁▂▂▂▂▂▃▃▃▃▃▃▄▄▄▄▄▅▅▅▅▅▅▆▆▆▆▆▇▇▇▇▇▇███</td></tr><tr><td>h_f1-score</td><td>▁▄▅▆▆▆▆▇▇▇▇▇█▇▇█▇▇█▇████████████████████</td></tr><tr><td>h_precision</td><td>▁███▇▇▇▆▇▇▇▇▆▇▇▆▇▆▆▆▆▆▆▆▆▆▆▆▆▆▆▆▆▆▆▆▆▆▆▆</td></tr><tr><td>h_recall</td><td>▁▃▄▄▅▅▄▆▆▆▆▆▇▆▆▇▆▇▇▇▇▇▇▇█▇▇█▇██▇▇▇▇▇▇▇▇█</td></tr><tr><td>train_loss</td><td>█▇▆▆▆▆▆▆▅▅▅▅▅▄▄▄▄▄▃▃▃▃▃▃▃▂▂▂▂▂▂▂▂▁▁▁▁▁▁▁</td></tr><tr><td>val_loss</td><td>█▃▂▂▂▁▂▁▃▁▁▂▂▂▂▃▂▂▄▁▂▂▃▂▂▂▂▃▂▂▂▂▂▂▄▂▂▂▃▃</td></tr></table><br/></div><div class=\"wandb-col\"><h3>Run summary:</h3><br/><table class=\"wandb\"><tr><td>epoch</td><td>199</td></tr><tr><td>h_f1-score</td><td>0.5239</td></tr><tr><td>h_precision</td><td>0.54441</td></tr><tr><td>h_recall</td><td>0.50487</td></tr><tr><td>train_loss</td><td>1.16977</td></tr><tr><td>val_loss</td><td>7.38166</td></tr></table><br/></div></div>"
     },
     "metadata": {},
     "output_type": "display_data"
    },
    {
     "data": {
      "text/plain": "<IPython.core.display.HTML object>",
      "text/html": " View run <strong style=\"color:#cdcd00\">woven-sweep-2</strong> at: <a href='https://wandb.ai/phoenix_nlp/FineTuning-mBERT-200-epoch/runs/c22tos9z' target=\"_blank\">https://wandb.ai/phoenix_nlp/FineTuning-mBERT-200-epoch/runs/c22tos9z</a><br/> View project at: <a href='https://wandb.ai/phoenix_nlp/FineTuning-mBERT-200-epoch' target=\"_blank\">https://wandb.ai/phoenix_nlp/FineTuning-mBERT-200-epoch</a><br/>Synced 5 W&B file(s), 0 media file(s), 0 artifact file(s) and 0 other file(s)"
     },
     "metadata": {},
     "output_type": "display_data"
    },
    {
     "data": {
      "text/plain": "<IPython.core.display.HTML object>",
      "text/html": "Find logs at: <code>./wandb/run-20240422_023729-c22tos9z/logs</code>"
     },
     "metadata": {},
     "output_type": "display_data"
    },
    {
     "name": "stderr",
     "output_type": "stream",
     "text": [
      "\u001B[34m\u001B[1mwandb\u001B[0m: Agent Starting Run: vgd6j6dy with config:\n",
      "\u001B[34m\u001B[1mwandb\u001B[0m: \talpha: 0.9147558374225776\n",
      "\u001B[34m\u001B[1mwandb\u001B[0m: \tbatch_size: 256\n",
      "\u001B[34m\u001B[1mwandb\u001B[0m: \tbeta: 0.8785164538883192\n",
      "\u001B[34m\u001B[1mwandb\u001B[0m: \tbeta1: 0.9044540477206732\n",
      "\u001B[34m\u001B[1mwandb\u001B[0m: \tlearning_rate: 0.0009607166616819854\n",
      "\u001B[34m\u001B[1mwandb\u001B[0m: \toptimizer: adam\n",
      "\u001B[34m\u001B[1mwandb\u001B[0m: \tthreshold: 0.7456376984546297\n"
     ]
    },
    {
     "data": {
      "text/plain": "<IPython.core.display.HTML object>",
      "text/html": "Tracking run with wandb version 0.16.6"
     },
     "metadata": {},
     "output_type": "display_data"
    },
    {
     "data": {
      "text/plain": "<IPython.core.display.HTML object>",
      "text/html": "Run data is saved locally in <code>/Users/iqbal/Desktop/Python Assignments/Detecting-Persuasion-Techniques-in-Memes/wandb/run-20240422_025017-vgd6j6dy</code>"
     },
     "metadata": {},
     "output_type": "display_data"
    },
    {
     "data": {
      "text/plain": "<IPython.core.display.HTML object>",
      "text/html": "Syncing run <strong><a href='https://wandb.ai/phoenix_nlp/FineTuning-mBERT-200-epoch/runs/vgd6j6dy' target=\"_blank\">rural-sweep-3</a></strong> to <a href='https://wandb.ai/phoenix_nlp/FineTuning-mBERT-200-epoch' target=\"_blank\">Weights & Biases</a> (<a href='https://wandb.me/run' target=\"_blank\">docs</a>)<br/>Sweep page: <a href='https://wandb.ai/phoenix_nlp/FineTuning-mBERT-200-epoch/sweeps/lftu2ej4' target=\"_blank\">https://wandb.ai/phoenix_nlp/FineTuning-mBERT-200-epoch/sweeps/lftu2ej4</a>"
     },
     "metadata": {},
     "output_type": "display_data"
    },
    {
     "data": {
      "text/plain": "<IPython.core.display.HTML object>",
      "text/html": " View project at <a href='https://wandb.ai/phoenix_nlp/FineTuning-mBERT-200-epoch' target=\"_blank\">https://wandb.ai/phoenix_nlp/FineTuning-mBERT-200-epoch</a>"
     },
     "metadata": {},
     "output_type": "display_data"
    },
    {
     "data": {
      "text/plain": "<IPython.core.display.HTML object>",
      "text/html": " View sweep at <a href='https://wandb.ai/phoenix_nlp/FineTuning-mBERT-200-epoch/sweeps/lftu2ej4' target=\"_blank\">https://wandb.ai/phoenix_nlp/FineTuning-mBERT-200-epoch/sweeps/lftu2ej4</a>"
     },
     "metadata": {},
     "output_type": "display_data"
    },
    {
     "data": {
      "text/plain": "<IPython.core.display.HTML object>",
      "text/html": " View run at <a href='https://wandb.ai/phoenix_nlp/FineTuning-mBERT-200-epoch/runs/vgd6j6dy' target=\"_blank\">https://wandb.ai/phoenix_nlp/FineTuning-mBERT-200-epoch/runs/vgd6j6dy</a>"
     },
     "metadata": {},
     "output_type": "display_data"
    },
    {
     "name": "stdout",
     "output_type": "stream",
     "text": [
      "[50/200]\n",
      "f1_h=0.52219\tprec_h=0.58899\trec_h=0.46900\n",
      "[100/200]\n",
      "f1_h=0.48780\tprec_h=0.61779\trec_h=0.40301\n",
      "[150/200]\n",
      "f1_h=0.50639\tprec_h=0.55585\trec_h=0.46501\n",
      "[200/200]\n",
      "f1_h=0.50861\tprec_h=0.56186\trec_h=0.46457\n"
     ]
    },
    {
     "data": {
      "text/plain": "VBox(children=(Label(value='0.001 MB of 0.001 MB uploaded\\r'), FloatProgress(value=1.0, max=1.0)))",
      "application/vnd.jupyter.widget-view+json": {
       "version_major": 2,
       "version_minor": 0,
       "model_id": "24983bce3c0e4b53913abc4954cc5841"
      }
     },
     "metadata": {},
     "output_type": "display_data"
    },
    {
     "data": {
      "text/plain": "<IPython.core.display.HTML object>",
      "text/html": "<style>\n    table.wandb td:nth-child(1) { padding: 0 10px; text-align: left ; width: auto;} td:nth-child(2) {text-align: left ; width: 100%}\n    .wandb-row { display: flex; flex-direction: row; flex-wrap: wrap; justify-content: flex-start; width: 100% }\n    .wandb-col { display: flex; flex-direction: column; flex-basis: 100%; flex: 1; padding: 10px; }\n    </style>\n<div class=\"wandb-row\"><div class=\"wandb-col\"><h3>Run history:</h3><br/><table class=\"wandb\"><tr><td>epoch</td><td>▁▁▁▁▂▂▂▂▂▃▃▃▃▃▃▄▄▄▄▄▅▅▅▅▅▅▆▆▆▆▆▇▇▇▇▇▇███</td></tr><tr><td>h_f1-score</td><td>▁▄▄▇▆▆▇▇▇▇▇████████▇██▇▇▇█▇█▇███▇▇▇█▇▇██</td></tr><tr><td>h_precision</td><td>▂▅█▂▅▅▃▄▄▄▃▃▂▂▂▂▂▂▂▂▂▁▃▃▃▂▃▁▂▂▂▂▁▂▂▁▂▂▂▂</td></tr><tr><td>h_recall</td><td>▁▃▃▆▅▅▆▆▆▆▆▇▇██▇██▇▇██▇▇▇█▆█▇▇█▇▇▇▇█▇▇█▇</td></tr><tr><td>train_loss</td><td>█▇▆▆▆▆▆▆▅▅▅▅▅▄▄▄▄▄▄▃▃▃▃▃▃▃▃▃▂▂▂▂▂▂▂▂▁▂▁▁</td></tr><tr><td>val_loss</td><td>█▅▃▃▃▄▃▃▃▃▅▃▃▃▃▃▃▃▂▂▂▂▃▂▁▂▁▂▂▂▂▁▂▁▂▁▂▂▁▁</td></tr></table><br/></div><div class=\"wandb-col\"><h3>Run summary:</h3><br/><table class=\"wandb\"><tr><td>epoch</td><td>199</td></tr><tr><td>h_f1-score</td><td>0.50861</td></tr><tr><td>h_precision</td><td>0.56186</td></tr><tr><td>h_recall</td><td>0.46457</td></tr><tr><td>train_loss</td><td>2.57776</td></tr><tr><td>val_loss</td><td>6.85464</td></tr></table><br/></div></div>"
     },
     "metadata": {},
     "output_type": "display_data"
    },
    {
     "data": {
      "text/plain": "<IPython.core.display.HTML object>",
      "text/html": " View run <strong style=\"color:#cdcd00\">rural-sweep-3</strong> at: <a href='https://wandb.ai/phoenix_nlp/FineTuning-mBERT-200-epoch/runs/vgd6j6dy' target=\"_blank\">https://wandb.ai/phoenix_nlp/FineTuning-mBERT-200-epoch/runs/vgd6j6dy</a><br/> View project at: <a href='https://wandb.ai/phoenix_nlp/FineTuning-mBERT-200-epoch' target=\"_blank\">https://wandb.ai/phoenix_nlp/FineTuning-mBERT-200-epoch</a><br/>Synced 5 W&B file(s), 0 media file(s), 0 artifact file(s) and 0 other file(s)"
     },
     "metadata": {},
     "output_type": "display_data"
    },
    {
     "data": {
      "text/plain": "<IPython.core.display.HTML object>",
      "text/html": "Find logs at: <code>./wandb/run-20240422_025017-vgd6j6dy/logs</code>"
     },
     "metadata": {},
     "output_type": "display_data"
    },
    {
     "name": "stderr",
     "output_type": "stream",
     "text": [
      "\u001B[34m\u001B[1mwandb\u001B[0m: Sweep Agent: Waiting for job.\n",
      "\u001B[34m\u001B[1mwandb\u001B[0m: Job received.\n",
      "\u001B[34m\u001B[1mwandb\u001B[0m: Agent Starting Run: z3q6cajj with config:\n",
      "\u001B[34m\u001B[1mwandb\u001B[0m: \talpha: 0.590279264545452\n",
      "\u001B[34m\u001B[1mwandb\u001B[0m: \tbatch_size: 256\n",
      "\u001B[34m\u001B[1mwandb\u001B[0m: \tbeta: 0.6461561942017204\n",
      "\u001B[34m\u001B[1mwandb\u001B[0m: \tbeta1: 0.9196321389903744\n",
      "\u001B[34m\u001B[1mwandb\u001B[0m: \tlearning_rate: 7.713525403661424e-05\n",
      "\u001B[34m\u001B[1mwandb\u001B[0m: \toptimizer: adam\n",
      "\u001B[34m\u001B[1mwandb\u001B[0m: \tthreshold: 0.7339877663261996\n"
     ]
    },
    {
     "data": {
      "text/plain": "<IPython.core.display.HTML object>",
      "text/html": "Tracking run with wandb version 0.16.6"
     },
     "metadata": {},
     "output_type": "display_data"
    },
    {
     "data": {
      "text/plain": "<IPython.core.display.HTML object>",
      "text/html": "Run data is saved locally in <code>/Users/iqbal/Desktop/Python Assignments/Detecting-Persuasion-Techniques-in-Memes/wandb/run-20240422_030028-z3q6cajj</code>"
     },
     "metadata": {},
     "output_type": "display_data"
    },
    {
     "data": {
      "text/plain": "<IPython.core.display.HTML object>",
      "text/html": "Syncing run <strong><a href='https://wandb.ai/phoenix_nlp/FineTuning-mBERT-200-epoch/runs/z3q6cajj' target=\"_blank\">true-sweep-4</a></strong> to <a href='https://wandb.ai/phoenix_nlp/FineTuning-mBERT-200-epoch' target=\"_blank\">Weights & Biases</a> (<a href='https://wandb.me/run' target=\"_blank\">docs</a>)<br/>Sweep page: <a href='https://wandb.ai/phoenix_nlp/FineTuning-mBERT-200-epoch/sweeps/lftu2ej4' target=\"_blank\">https://wandb.ai/phoenix_nlp/FineTuning-mBERT-200-epoch/sweeps/lftu2ej4</a>"
     },
     "metadata": {},
     "output_type": "display_data"
    },
    {
     "data": {
      "text/plain": "<IPython.core.display.HTML object>",
      "text/html": " View project at <a href='https://wandb.ai/phoenix_nlp/FineTuning-mBERT-200-epoch' target=\"_blank\">https://wandb.ai/phoenix_nlp/FineTuning-mBERT-200-epoch</a>"
     },
     "metadata": {},
     "output_type": "display_data"
    },
    {
     "data": {
      "text/plain": "<IPython.core.display.HTML object>",
      "text/html": " View sweep at <a href='https://wandb.ai/phoenix_nlp/FineTuning-mBERT-200-epoch/sweeps/lftu2ej4' target=\"_blank\">https://wandb.ai/phoenix_nlp/FineTuning-mBERT-200-epoch/sweeps/lftu2ej4</a>"
     },
     "metadata": {},
     "output_type": "display_data"
    },
    {
     "data": {
      "text/plain": "<IPython.core.display.HTML object>",
      "text/html": " View run at <a href='https://wandb.ai/phoenix_nlp/FineTuning-mBERT-200-epoch/runs/z3q6cajj' target=\"_blank\">https://wandb.ai/phoenix_nlp/FineTuning-mBERT-200-epoch/runs/z3q6cajj</a>"
     },
     "metadata": {},
     "output_type": "display_data"
    },
    {
     "name": "stdout",
     "output_type": "stream",
     "text": [
      "[50/200]\n",
      "f1_h=0.38044\tprec_h=0.65059\trec_h=0.26882\n",
      "[100/200]\n",
      "f1_h=0.45488\tprec_h=0.64396\trec_h=0.35164\n",
      "[150/200]\n",
      "f1_h=0.49259\tprec_h=0.59672\trec_h=0.41940\n",
      "[200/200]\n",
      "f1_h=0.49506\tprec_h=0.57767\trec_h=0.43313\n"
     ]
    },
    {
     "data": {
      "text/plain": "VBox(children=(Label(value='0.001 MB of 0.001 MB uploaded\\r'), FloatProgress(value=1.0, max=1.0)))",
      "application/vnd.jupyter.widget-view+json": {
       "version_major": 2,
       "version_minor": 0,
       "model_id": "cedcd1ac376a42399d67fe1a7f679900"
      }
     },
     "metadata": {},
     "output_type": "display_data"
    },
    {
     "data": {
      "text/plain": "<IPython.core.display.HTML object>",
      "text/html": "<style>\n    table.wandb td:nth-child(1) { padding: 0 10px; text-align: left ; width: auto;} td:nth-child(2) {text-align: left ; width: 100%}\n    .wandb-row { display: flex; flex-direction: row; flex-wrap: wrap; justify-content: flex-start; width: 100% }\n    .wandb-col { display: flex; flex-direction: column; flex-basis: 100%; flex: 1; padding: 10px; }\n    </style>\n<div class=\"wandb-row\"><div class=\"wandb-col\"><h3>Run history:</h3><br/><table class=\"wandb\"><tr><td>epoch</td><td>▁▁▁▁▂▂▂▂▂▃▃▃▃▃▃▄▄▄▄▄▅▅▅▅▅▅▆▆▆▆▆▇▇▇▇▇▇███</td></tr><tr><td>h_f1-score</td><td>▁▁▃▄▅▅▅▅▆▅▆▆▆▇▇▇▇▇▇▇██▇██████▇███▇██████</td></tr><tr><td>h_precision</td><td>▁▁▆▇████▇██▇▇▇▇▇▇▇▇▇▇▇▇▇▇▇▇▇▇▇▇▇▇▇▆▇▇▇▆▇</td></tr><tr><td>h_recall</td><td>▁▁▂▃▄▄▄▄▅▄▅▅▅▆▆▆▆▆▆▆▇▇▇▇▇▇▇▇▇▇▇▇▇▇███▇██</td></tr><tr><td>train_loss</td><td>██▇▇▆▆▆▆▆▆▅▅▅▅▅▅▅▅▄▄▄▄▃▃▃▃▃▃▂▂▂▂▂▂▂▁▁▁▁▁</td></tr><tr><td>val_loss</td><td>██▆▆▄▃▃▂▂▂▂▃▃▂▂▂▃▃▂▃▂▃▃▃▂▁▂▂▂▃▃▂▃▂▂▁▂▂▂▁</td></tr></table><br/></div><div class=\"wandb-col\"><h3>Run summary:</h3><br/><table class=\"wandb\"><tr><td>epoch</td><td>199</td></tr><tr><td>h_f1-score</td><td>0.49506</td></tr><tr><td>h_precision</td><td>0.57767</td></tr><tr><td>h_recall</td><td>0.43313</td></tr><tr><td>train_loss</td><td>2.78615</td></tr><tr><td>val_loss</td><td>5.20493</td></tr></table><br/></div></div>"
     },
     "metadata": {},
     "output_type": "display_data"
    },
    {
     "data": {
      "text/plain": "<IPython.core.display.HTML object>",
      "text/html": " View run <strong style=\"color:#cdcd00\">true-sweep-4</strong> at: <a href='https://wandb.ai/phoenix_nlp/FineTuning-mBERT-200-epoch/runs/z3q6cajj' target=\"_blank\">https://wandb.ai/phoenix_nlp/FineTuning-mBERT-200-epoch/runs/z3q6cajj</a><br/> View project at: <a href='https://wandb.ai/phoenix_nlp/FineTuning-mBERT-200-epoch' target=\"_blank\">https://wandb.ai/phoenix_nlp/FineTuning-mBERT-200-epoch</a><br/>Synced 5 W&B file(s), 0 media file(s), 0 artifact file(s) and 0 other file(s)"
     },
     "metadata": {},
     "output_type": "display_data"
    },
    {
     "data": {
      "text/plain": "<IPython.core.display.HTML object>",
      "text/html": "Find logs at: <code>./wandb/run-20240422_030028-z3q6cajj/logs</code>"
     },
     "metadata": {},
     "output_type": "display_data"
    },
    {
     "name": "stderr",
     "output_type": "stream",
     "text": [
      "\u001B[34m\u001B[1mwandb\u001B[0m: Sweep Agent: Waiting for job.\n",
      "\u001B[34m\u001B[1mwandb\u001B[0m: Job received.\n",
      "\u001B[34m\u001B[1mwandb\u001B[0m: Agent Starting Run: 3q002z39 with config:\n",
      "\u001B[34m\u001B[1mwandb\u001B[0m: \talpha: 0.7506952354988633\n",
      "\u001B[34m\u001B[1mwandb\u001B[0m: \tbatch_size: 256\n",
      "\u001B[34m\u001B[1mwandb\u001B[0m: \tbeta: 0.5138291870972287\n",
      "\u001B[34m\u001B[1mwandb\u001B[0m: \tbeta1: 0.9071820579300244\n",
      "\u001B[34m\u001B[1mwandb\u001B[0m: \tlearning_rate: 0.0002281542631937321\n",
      "\u001B[34m\u001B[1mwandb\u001B[0m: \toptimizer: adam\n",
      "\u001B[34m\u001B[1mwandb\u001B[0m: \tthreshold: 0.7534216296440339\n"
     ]
    },
    {
     "data": {
      "text/plain": "<IPython.core.display.HTML object>",
      "text/html": "Tracking run with wandb version 0.16.6"
     },
     "metadata": {},
     "output_type": "display_data"
    },
    {
     "data": {
      "text/plain": "<IPython.core.display.HTML object>",
      "text/html": "Run data is saved locally in <code>/Users/iqbal/Desktop/Python Assignments/Detecting-Persuasion-Techniques-in-Memes/wandb/run-20240422_031051-3q002z39</code>"
     },
     "metadata": {},
     "output_type": "display_data"
    },
    {
     "data": {
      "text/plain": "<IPython.core.display.HTML object>",
      "text/html": "Syncing run <strong><a href='https://wandb.ai/phoenix_nlp/FineTuning-mBERT-200-epoch/runs/3q002z39' target=\"_blank\">gallant-sweep-5</a></strong> to <a href='https://wandb.ai/phoenix_nlp/FineTuning-mBERT-200-epoch' target=\"_blank\">Weights & Biases</a> (<a href='https://wandb.me/run' target=\"_blank\">docs</a>)<br/>Sweep page: <a href='https://wandb.ai/phoenix_nlp/FineTuning-mBERT-200-epoch/sweeps/lftu2ej4' target=\"_blank\">https://wandb.ai/phoenix_nlp/FineTuning-mBERT-200-epoch/sweeps/lftu2ej4</a>"
     },
     "metadata": {},
     "output_type": "display_data"
    },
    {
     "data": {
      "text/plain": "<IPython.core.display.HTML object>",
      "text/html": " View project at <a href='https://wandb.ai/phoenix_nlp/FineTuning-mBERT-200-epoch' target=\"_blank\">https://wandb.ai/phoenix_nlp/FineTuning-mBERT-200-epoch</a>"
     },
     "metadata": {},
     "output_type": "display_data"
    },
    {
     "data": {
      "text/plain": "<IPython.core.display.HTML object>",
      "text/html": " View sweep at <a href='https://wandb.ai/phoenix_nlp/FineTuning-mBERT-200-epoch/sweeps/lftu2ej4' target=\"_blank\">https://wandb.ai/phoenix_nlp/FineTuning-mBERT-200-epoch/sweeps/lftu2ej4</a>"
     },
     "metadata": {},
     "output_type": "display_data"
    },
    {
     "data": {
      "text/plain": "<IPython.core.display.HTML object>",
      "text/html": " View run at <a href='https://wandb.ai/phoenix_nlp/FineTuning-mBERT-200-epoch/runs/3q002z39' target=\"_blank\">https://wandb.ai/phoenix_nlp/FineTuning-mBERT-200-epoch/runs/3q002z39</a>"
     },
     "metadata": {},
     "output_type": "display_data"
    },
    {
     "name": "stdout",
     "output_type": "stream",
     "text": [
      "[50/200]\n",
      "f1_h=0.44373\tprec_h=0.65598\trec_h=0.33525\n",
      "[100/200]\n",
      "f1_h=0.50699\tprec_h=0.54508\trec_h=0.47387\n",
      "[150/200]\n",
      "f1_h=0.50864\tprec_h=0.58569\trec_h=0.44951\n",
      "[200/200]\n",
      "f1_h=0.52282\tprec_h=0.57841\trec_h=0.47697\n"
     ]
    },
    {
     "data": {
      "text/plain": "VBox(children=(Label(value='0.001 MB of 0.007 MB uploaded\\r'), FloatProgress(value=0.14875239923224567, max=1.…",
      "application/vnd.jupyter.widget-view+json": {
       "version_major": 2,
       "version_minor": 0,
       "model_id": "bd337290782b4e6b90ecab34693d0619"
      }
     },
     "metadata": {},
     "output_type": "display_data"
    },
    {
     "data": {
      "text/plain": "<IPython.core.display.HTML object>",
      "text/html": "<style>\n    table.wandb td:nth-child(1) { padding: 0 10px; text-align: left ; width: auto;} td:nth-child(2) {text-align: left ; width: 100%}\n    .wandb-row { display: flex; flex-direction: row; flex-wrap: wrap; justify-content: flex-start; width: 100% }\n    .wandb-col { display: flex; flex-direction: column; flex-basis: 100%; flex: 1; padding: 10px; }\n    </style>\n<div class=\"wandb-row\"><div class=\"wandb-col\"><h3>Run history:</h3><br/><table class=\"wandb\"><tr><td>epoch</td><td>▁▁▁▁▂▂▂▂▂▃▃▃▃▃▃▄▄▄▄▄▅▅▅▅▅▅▆▆▆▆▆▇▇▇▇▇▇███</td></tr><tr><td>h_f1-score</td><td>▁▄▄▆▆▆▆▇▆▇▇▇▇▇█▇████▇█▇▇▇▇██████████████</td></tr><tr><td>h_precision</td><td>▁▇█▇███▇█▇▇▇▇▇▇▇▆▇▇▇▇▇▇▆▇▆▆▇▆▇▇▇▆▇▇▆▆▆▆▇</td></tr><tr><td>h_recall</td><td>▁▃▃▅▄▄▅▆▄▆▅▆▆▆▇▆▇▇▇▇▇▇▇▇▇▇▇▇▇▇▇▇█▇▇▇██▇▇</td></tr><tr><td>train_loss</td><td>█▇▇▆▆▆▆▆▆▅▅▅▅▅▅▄▄▄▄▄▄▃▃▃▃▃▃▂▂▂▂▂▂▂▂▂▁▁▁▁</td></tr><tr><td>val_loss</td><td>█▅▃▄▃▃▄▃▄▄▄▃▃▄▃▃▃▂▂▂▃▂▂▃▂▂▂▂▂▂▁▂▂▁▂▂▂▂▂▁</td></tr></table><br/></div><div class=\"wandb-col\"><h3>Run summary:</h3><br/><table class=\"wandb\"><tr><td>epoch</td><td>199</td></tr><tr><td>h_f1-score</td><td>0.52282</td></tr><tr><td>h_precision</td><td>0.57841</td></tr><tr><td>h_recall</td><td>0.47697</td></tr><tr><td>train_loss</td><td>1.27615</td></tr><tr><td>val_loss</td><td>3.87842</td></tr></table><br/></div></div>"
     },
     "metadata": {},
     "output_type": "display_data"
    },
    {
     "data": {
      "text/plain": "<IPython.core.display.HTML object>",
      "text/html": " View run <strong style=\"color:#cdcd00\">gallant-sweep-5</strong> at: <a href='https://wandb.ai/phoenix_nlp/FineTuning-mBERT-200-epoch/runs/3q002z39' target=\"_blank\">https://wandb.ai/phoenix_nlp/FineTuning-mBERT-200-epoch/runs/3q002z39</a><br/> View project at: <a href='https://wandb.ai/phoenix_nlp/FineTuning-mBERT-200-epoch' target=\"_blank\">https://wandb.ai/phoenix_nlp/FineTuning-mBERT-200-epoch</a><br/>Synced 5 W&B file(s), 0 media file(s), 0 artifact file(s) and 0 other file(s)"
     },
     "metadata": {},
     "output_type": "display_data"
    },
    {
     "data": {
      "text/plain": "<IPython.core.display.HTML object>",
      "text/html": "Find logs at: <code>./wandb/run-20240422_031051-3q002z39/logs</code>"
     },
     "metadata": {},
     "output_type": "display_data"
    },
    {
     "name": "stderr",
     "output_type": "stream",
     "text": [
      "\u001B[34m\u001B[1mwandb\u001B[0m: Agent Starting Run: 8t3ds83x with config:\n",
      "\u001B[34m\u001B[1mwandb\u001B[0m: \talpha: 0.8677869267809326\n",
      "\u001B[34m\u001B[1mwandb\u001B[0m: \tbatch_size: 256\n",
      "\u001B[34m\u001B[1mwandb\u001B[0m: \tbeta: 0.5059341829943669\n",
      "\u001B[34m\u001B[1mwandb\u001B[0m: \tbeta1: 0.9027912215750044\n",
      "\u001B[34m\u001B[1mwandb\u001B[0m: \tlearning_rate: 0.00012293892506413828\n",
      "\u001B[34m\u001B[1mwandb\u001B[0m: \toptimizer: adam\n",
      "\u001B[34m\u001B[1mwandb\u001B[0m: \tthreshold: 0.6877841600738422\n"
     ]
    },
    {
     "data": {
      "text/plain": "VBox(children=(Label(value='Waiting for wandb.init()...\\r'), FloatProgress(value=0.011148506488896398, max=1.0…",
      "application/vnd.jupyter.widget-view+json": {
       "version_major": 2,
       "version_minor": 0,
       "model_id": "73861e09cc4745c7907e4f1e302aa7d3"
      }
     },
     "metadata": {},
     "output_type": "display_data"
    },
    {
     "data": {
      "text/plain": "<IPython.core.display.HTML object>",
      "text/html": "Tracking run with wandb version 0.16.6"
     },
     "metadata": {},
     "output_type": "display_data"
    },
    {
     "data": {
      "text/plain": "<IPython.core.display.HTML object>",
      "text/html": "Run data is saved locally in <code>/Users/iqbal/Desktop/Python Assignments/Detecting-Persuasion-Techniques-in-Memes/wandb/run-20240422_032114-8t3ds83x</code>"
     },
     "metadata": {},
     "output_type": "display_data"
    },
    {
     "data": {
      "text/plain": "<IPython.core.display.HTML object>",
      "text/html": "Syncing run <strong><a href='https://wandb.ai/phoenix_nlp/FineTuning-mBERT-200-epoch/runs/8t3ds83x' target=\"_blank\">driven-sweep-6</a></strong> to <a href='https://wandb.ai/phoenix_nlp/FineTuning-mBERT-200-epoch' target=\"_blank\">Weights & Biases</a> (<a href='https://wandb.me/run' target=\"_blank\">docs</a>)<br/>Sweep page: <a href='https://wandb.ai/phoenix_nlp/FineTuning-mBERT-200-epoch/sweeps/lftu2ej4' target=\"_blank\">https://wandb.ai/phoenix_nlp/FineTuning-mBERT-200-epoch/sweeps/lftu2ej4</a>"
     },
     "metadata": {},
     "output_type": "display_data"
    },
    {
     "data": {
      "text/plain": "<IPython.core.display.HTML object>",
      "text/html": " View project at <a href='https://wandb.ai/phoenix_nlp/FineTuning-mBERT-200-epoch' target=\"_blank\">https://wandb.ai/phoenix_nlp/FineTuning-mBERT-200-epoch</a>"
     },
     "metadata": {},
     "output_type": "display_data"
    },
    {
     "data": {
      "text/plain": "<IPython.core.display.HTML object>",
      "text/html": " View sweep at <a href='https://wandb.ai/phoenix_nlp/FineTuning-mBERT-200-epoch/sweeps/lftu2ej4' target=\"_blank\">https://wandb.ai/phoenix_nlp/FineTuning-mBERT-200-epoch/sweeps/lftu2ej4</a>"
     },
     "metadata": {},
     "output_type": "display_data"
    },
    {
     "data": {
      "text/plain": "<IPython.core.display.HTML object>",
      "text/html": " View run at <a href='https://wandb.ai/phoenix_nlp/FineTuning-mBERT-200-epoch/runs/8t3ds83x' target=\"_blank\">https://wandb.ai/phoenix_nlp/FineTuning-mBERT-200-epoch/runs/8t3ds83x</a>"
     },
     "metadata": {},
     "output_type": "display_data"
    },
    {
     "name": "stdout",
     "output_type": "stream",
     "text": [
      "[50/200]\n",
      "f1_h=0.37907\tprec_h=0.67808\trec_h=0.26306\n",
      "[100/200]\n",
      "f1_h=0.49055\tprec_h=0.59077\trec_h=0.41940\n",
      "[150/200]\n",
      "f1_h=0.48263\tprec_h=0.59468\trec_h=0.40611\n",
      "[200/200]\n",
      "f1_h=0.51295\tprec_h=0.57874\trec_h=0.46058\n"
     ]
    },
    {
     "data": {
      "text/plain": "VBox(children=(Label(value='0.001 MB of 0.001 MB uploaded\\r'), FloatProgress(value=1.0, max=1.0)))",
      "application/vnd.jupyter.widget-view+json": {
       "version_major": 2,
       "version_minor": 0,
       "model_id": "2078ba2f66064f0bafca881d430e019d"
      }
     },
     "metadata": {},
     "output_type": "display_data"
    },
    {
     "data": {
      "text/plain": "<IPython.core.display.HTML object>",
      "text/html": "<style>\n    table.wandb td:nth-child(1) { padding: 0 10px; text-align: left ; width: auto;} td:nth-child(2) {text-align: left ; width: 100%}\n    .wandb-row { display: flex; flex-direction: row; flex-wrap: wrap; justify-content: flex-start; width: 100% }\n    .wandb-col { display: flex; flex-direction: column; flex-basis: 100%; flex: 1; padding: 10px; }\n    </style>\n<div class=\"wandb-row\"><div class=\"wandb-col\"><h3>Run history:</h3><br/><table class=\"wandb\"><tr><td>epoch</td><td>▁▁▁▁▂▂▂▂▂▃▃▃▃▃▃▄▄▄▄▄▅▅▅▅▅▅▆▆▆▆▆▇▇▇▇▇▇███</td></tr><tr><td>h_f1-score</td><td>▁▁▅▅▆▆▆▆▆▇▇▆▇▇▇▇▇▇█▇█▇▇▇█████▇███▇██████</td></tr><tr><td>h_precision</td><td>▁▁▇██████▇▇█▇▇▇▇▇▇▇▇▇▇▇▇▇▇▇▇▇▇▇▇▇▇▇▇▇▇▇▇</td></tr><tr><td>h_recall</td><td>▁▁▄▄▅▅▅▅▅▆▆▅▆▆▆▇▆▇▇▆▇▇▇▇▇▇▇██▇▇▇█▇█▇▇▇██</td></tr><tr><td>train_loss</td><td>██▇▇▆▆▆▆▆▅▅▅▅▅▅▄▄▄▄▄▃▃▃▃▃▃▂▂▂▂▂▂▂▂▂▁▁▁▁▁</td></tr><tr><td>val_loss</td><td>█▇▇▃▂▁▂▂▃▁▃▃▃▂▃▃▄▂▂▃▁▂▂▃▂▁▃▁▁▂▂▁▂▂▂▁▁▁▂▁</td></tr></table><br/></div><div class=\"wandb-col\"><h3>Run summary:</h3><br/><table class=\"wandb\"><tr><td>epoch</td><td>199</td></tr><tr><td>h_f1-score</td><td>0.51295</td></tr><tr><td>h_precision</td><td>0.57874</td></tr><tr><td>h_recall</td><td>0.46058</td></tr><tr><td>train_loss</td><td>1.5806</td></tr><tr><td>val_loss</td><td>3.99516</td></tr></table><br/></div></div>"
     },
     "metadata": {},
     "output_type": "display_data"
    },
    {
     "data": {
      "text/plain": "<IPython.core.display.HTML object>",
      "text/html": " View run <strong style=\"color:#cdcd00\">driven-sweep-6</strong> at: <a href='https://wandb.ai/phoenix_nlp/FineTuning-mBERT-200-epoch/runs/8t3ds83x' target=\"_blank\">https://wandb.ai/phoenix_nlp/FineTuning-mBERT-200-epoch/runs/8t3ds83x</a><br/> View project at: <a href='https://wandb.ai/phoenix_nlp/FineTuning-mBERT-200-epoch' target=\"_blank\">https://wandb.ai/phoenix_nlp/FineTuning-mBERT-200-epoch</a><br/>Synced 5 W&B file(s), 0 media file(s), 0 artifact file(s) and 0 other file(s)"
     },
     "metadata": {},
     "output_type": "display_data"
    },
    {
     "data": {
      "text/plain": "<IPython.core.display.HTML object>",
      "text/html": "Find logs at: <code>./wandb/run-20240422_032114-8t3ds83x/logs</code>"
     },
     "metadata": {},
     "output_type": "display_data"
    },
    {
     "name": "stderr",
     "output_type": "stream",
     "text": [
      "\u001B[34m\u001B[1mwandb\u001B[0m: Sweep Agent: Waiting for job.\n",
      "\u001B[34m\u001B[1mwandb\u001B[0m: Job received.\n",
      "\u001B[34m\u001B[1mwandb\u001B[0m: Agent Starting Run: 3341j3i6 with config:\n",
      "\u001B[34m\u001B[1mwandb\u001B[0m: \talpha: 0.7904404970059192\n",
      "\u001B[34m\u001B[1mwandb\u001B[0m: \tbatch_size: 256\n",
      "\u001B[34m\u001B[1mwandb\u001B[0m: \tbeta: 0.577806359706779\n",
      "\u001B[34m\u001B[1mwandb\u001B[0m: \tbeta1: 0.8543993772492797\n",
      "\u001B[34m\u001B[1mwandb\u001B[0m: \tlearning_rate: 2.074851088199188e-05\n",
      "\u001B[34m\u001B[1mwandb\u001B[0m: \toptimizer: adam\n",
      "\u001B[34m\u001B[1mwandb\u001B[0m: \tthreshold: 0.787412798836406\n"
     ]
    },
    {
     "data": {
      "text/plain": "<IPython.core.display.HTML object>",
      "text/html": "Tracking run with wandb version 0.16.6"
     },
     "metadata": {},
     "output_type": "display_data"
    },
    {
     "data": {
      "text/plain": "<IPython.core.display.HTML object>",
      "text/html": "Run data is saved locally in <code>/Users/iqbal/Desktop/Python Assignments/Detecting-Persuasion-Techniques-in-Memes/wandb/run-20240422_033135-3341j3i6</code>"
     },
     "metadata": {},
     "output_type": "display_data"
    },
    {
     "data": {
      "text/plain": "<IPython.core.display.HTML object>",
      "text/html": "Syncing run <strong><a href='https://wandb.ai/phoenix_nlp/FineTuning-mBERT-200-epoch/runs/3341j3i6' target=\"_blank\">golden-sweep-7</a></strong> to <a href='https://wandb.ai/phoenix_nlp/FineTuning-mBERT-200-epoch' target=\"_blank\">Weights & Biases</a> (<a href='https://wandb.me/run' target=\"_blank\">docs</a>)<br/>Sweep page: <a href='https://wandb.ai/phoenix_nlp/FineTuning-mBERT-200-epoch/sweeps/lftu2ej4' target=\"_blank\">https://wandb.ai/phoenix_nlp/FineTuning-mBERT-200-epoch/sweeps/lftu2ej4</a>"
     },
     "metadata": {},
     "output_type": "display_data"
    },
    {
     "data": {
      "text/plain": "<IPython.core.display.HTML object>",
      "text/html": " View project at <a href='https://wandb.ai/phoenix_nlp/FineTuning-mBERT-200-epoch' target=\"_blank\">https://wandb.ai/phoenix_nlp/FineTuning-mBERT-200-epoch</a>"
     },
     "metadata": {},
     "output_type": "display_data"
    },
    {
     "data": {
      "text/plain": "<IPython.core.display.HTML object>",
      "text/html": " View sweep at <a href='https://wandb.ai/phoenix_nlp/FineTuning-mBERT-200-epoch/sweeps/lftu2ej4' target=\"_blank\">https://wandb.ai/phoenix_nlp/FineTuning-mBERT-200-epoch/sweeps/lftu2ej4</a>"
     },
     "metadata": {},
     "output_type": "display_data"
    },
    {
     "data": {
      "text/plain": "<IPython.core.display.HTML object>",
      "text/html": " View run at <a href='https://wandb.ai/phoenix_nlp/FineTuning-mBERT-200-epoch/runs/3341j3i6' target=\"_blank\">https://wandb.ai/phoenix_nlp/FineTuning-mBERT-200-epoch/runs/3341j3i6</a>"
     },
     "metadata": {},
     "output_type": "display_data"
    },
    {
     "name": "stdout",
     "output_type": "stream",
     "text": [
      "[50/200]\n",
      "f1_h=0.24049\tprec_h=0.66004\trec_h=0.14703\n",
      "[100/200]\n",
      "f1_h=0.33345\tprec_h=0.69620\trec_h=0.21922\n",
      "[150/200]\n",
      "f1_h=0.38418\tprec_h=0.67295\trec_h=0.26882\n",
      "[200/200]\n",
      "f1_h=0.40507\tprec_h=0.67111\trec_h=0.29008\n"
     ]
    },
    {
     "data": {
      "text/plain": "VBox(children=(Label(value='0.001 MB of 0.001 MB uploaded\\r'), FloatProgress(value=1.0, max=1.0)))",
      "application/vnd.jupyter.widget-view+json": {
       "version_major": 2,
       "version_minor": 0,
       "model_id": "e91915486610441fb033d331c836402b"
      }
     },
     "metadata": {},
     "output_type": "display_data"
    },
    {
     "data": {
      "text/plain": "<IPython.core.display.HTML object>",
      "text/html": "<style>\n    table.wandb td:nth-child(1) { padding: 0 10px; text-align: left ; width: auto;} td:nth-child(2) {text-align: left ; width: 100%}\n    .wandb-row { display: flex; flex-direction: row; flex-wrap: wrap; justify-content: flex-start; width: 100% }\n    .wandb-col { display: flex; flex-direction: column; flex-basis: 100%; flex: 1; padding: 10px; }\n    </style>\n<div class=\"wandb-row\"><div class=\"wandb-col\"><h3>Run history:</h3><br/><table class=\"wandb\"><tr><td>epoch</td><td>▁▁▁▁▂▂▂▂▂▃▃▃▃▃▃▄▄▄▄▄▅▅▅▅▅▅▆▆▆▆▆▇▇▇▇▇▇███</td></tr><tr><td>h_f1-score</td><td>▆▁▁▁▁▁▂▃▄▄▅▅▆▇▇▇▇▇▇▇▇▇▇▇▇▇▇▇▇▇▇██▇▇█████</td></tr><tr><td>h_precision</td><td>▃▁▁▁▁▁▇▇▇▇▇██████████████▇█▇███████▇▇▇▇▇</td></tr><tr><td>h_recall</td><td>█▁▁▁▁▁▁▂▂▂▂▂▂▃▃▃▃▃▃▃▃▃▃▃▃▃▃▃▃▃▃▃▃▃▃▃▃▃▃▃</td></tr><tr><td>train_loss</td><td>████▆▅▅▅▅▄▄▄▃▃▃▃▃▂▂▂▂▂▂▂▂▂▂▂▂▂▂▂▁▁▁▁▁▁▁▁</td></tr><tr><td>val_loss</td><td>████▅▄▄▄▄▄▄▄▃▂▂▂▁▁▁▁▁▁▁▁▁▁▁▁▁▁▁▂▁▁▁▁▁▁▂▁</td></tr></table><br/></div><div class=\"wandb-col\"><h3>Run summary:</h3><br/><table class=\"wandb\"><tr><td>epoch</td><td>199</td></tr><tr><td>h_f1-score</td><td>0.40507</td></tr><tr><td>h_precision</td><td>0.67111</td></tr><tr><td>h_recall</td><td>0.29008</td></tr><tr><td>train_loss</td><td>4.33904</td></tr><tr><td>val_loss</td><td>4.96276</td></tr></table><br/></div></div>"
     },
     "metadata": {},
     "output_type": "display_data"
    },
    {
     "data": {
      "text/plain": "<IPython.core.display.HTML object>",
      "text/html": " View run <strong style=\"color:#cdcd00\">golden-sweep-7</strong> at: <a href='https://wandb.ai/phoenix_nlp/FineTuning-mBERT-200-epoch/runs/3341j3i6' target=\"_blank\">https://wandb.ai/phoenix_nlp/FineTuning-mBERT-200-epoch/runs/3341j3i6</a><br/> View project at: <a href='https://wandb.ai/phoenix_nlp/FineTuning-mBERT-200-epoch' target=\"_blank\">https://wandb.ai/phoenix_nlp/FineTuning-mBERT-200-epoch</a><br/>Synced 5 W&B file(s), 0 media file(s), 0 artifact file(s) and 0 other file(s)"
     },
     "metadata": {},
     "output_type": "display_data"
    },
    {
     "data": {
      "text/plain": "<IPython.core.display.HTML object>",
      "text/html": "Find logs at: <code>./wandb/run-20240422_033135-3341j3i6/logs</code>"
     },
     "metadata": {},
     "output_type": "display_data"
    },
    {
     "name": "stderr",
     "output_type": "stream",
     "text": [
      "\u001B[34m\u001B[1mwandb\u001B[0m: Agent Starting Run: kijbqvnu with config:\n",
      "\u001B[34m\u001B[1mwandb\u001B[0m: \talpha: 0.8449557538786105\n",
      "\u001B[34m\u001B[1mwandb\u001B[0m: \tbatch_size: 256\n",
      "\u001B[34m\u001B[1mwandb\u001B[0m: \tbeta: 0.5238261098206018\n",
      "\u001B[34m\u001B[1mwandb\u001B[0m: \tbeta1: 0.9495473942931524\n",
      "\u001B[34m\u001B[1mwandb\u001B[0m: \tlearning_rate: 7.729019970085519e-05\n",
      "\u001B[34m\u001B[1mwandb\u001B[0m: \toptimizer: adam\n",
      "\u001B[34m\u001B[1mwandb\u001B[0m: \tthreshold: 0.7800005241374003\n"
     ]
    },
    {
     "data": {
      "text/plain": "<IPython.core.display.HTML object>",
      "text/html": "Tracking run with wandb version 0.16.6"
     },
     "metadata": {},
     "output_type": "display_data"
    },
    {
     "data": {
      "text/plain": "<IPython.core.display.HTML object>",
      "text/html": "Run data is saved locally in <code>/Users/iqbal/Desktop/Python Assignments/Detecting-Persuasion-Techniques-in-Memes/wandb/run-20240422_034204-kijbqvnu</code>"
     },
     "metadata": {},
     "output_type": "display_data"
    },
    {
     "data": {
      "text/plain": "<IPython.core.display.HTML object>",
      "text/html": "Syncing run <strong><a href='https://wandb.ai/phoenix_nlp/FineTuning-mBERT-200-epoch/runs/kijbqvnu' target=\"_blank\">silvery-sweep-8</a></strong> to <a href='https://wandb.ai/phoenix_nlp/FineTuning-mBERT-200-epoch' target=\"_blank\">Weights & Biases</a> (<a href='https://wandb.me/run' target=\"_blank\">docs</a>)<br/>Sweep page: <a href='https://wandb.ai/phoenix_nlp/FineTuning-mBERT-200-epoch/sweeps/lftu2ej4' target=\"_blank\">https://wandb.ai/phoenix_nlp/FineTuning-mBERT-200-epoch/sweeps/lftu2ej4</a>"
     },
     "metadata": {},
     "output_type": "display_data"
    },
    {
     "data": {
      "text/plain": "<IPython.core.display.HTML object>",
      "text/html": " View project at <a href='https://wandb.ai/phoenix_nlp/FineTuning-mBERT-200-epoch' target=\"_blank\">https://wandb.ai/phoenix_nlp/FineTuning-mBERT-200-epoch</a>"
     },
     "metadata": {},
     "output_type": "display_data"
    },
    {
     "data": {
      "text/plain": "<IPython.core.display.HTML object>",
      "text/html": " View sweep at <a href='https://wandb.ai/phoenix_nlp/FineTuning-mBERT-200-epoch/sweeps/lftu2ej4' target=\"_blank\">https://wandb.ai/phoenix_nlp/FineTuning-mBERT-200-epoch/sweeps/lftu2ej4</a>"
     },
     "metadata": {},
     "output_type": "display_data"
    },
    {
     "data": {
      "text/plain": "<IPython.core.display.HTML object>",
      "text/html": " View run at <a href='https://wandb.ai/phoenix_nlp/FineTuning-mBERT-200-epoch/runs/kijbqvnu' target=\"_blank\">https://wandb.ai/phoenix_nlp/FineTuning-mBERT-200-epoch/runs/kijbqvnu</a>"
     },
     "metadata": {},
     "output_type": "display_data"
    },
    {
     "name": "stdout",
     "output_type": "stream",
     "text": [
      "[50/200]\n",
      "f1_h=0.38788\tprec_h=0.65784\trec_h=0.27502\n",
      "[100/200]\n",
      "f1_h=0.46695\tprec_h=0.63075\trec_h=0.37068\n",
      "[150/200]\n",
      "f1_h=0.45139\tprec_h=0.62045\trec_h=0.35474\n",
      "[200/200]\n",
      "f1_h=0.47948\tprec_h=0.60775\trec_h=0.39593\n"
     ]
    },
    {
     "data": {
      "text/plain": "VBox(children=(Label(value='0.001 MB of 0.001 MB uploaded\\r'), FloatProgress(value=1.0, max=1.0)))",
      "application/vnd.jupyter.widget-view+json": {
       "version_major": 2,
       "version_minor": 0,
       "model_id": "ee935a8eebc842db9a92489eb9112ada"
      }
     },
     "metadata": {},
     "output_type": "display_data"
    },
    {
     "data": {
      "text/plain": "<IPython.core.display.HTML object>",
      "text/html": "<style>\n    table.wandb td:nth-child(1) { padding: 0 10px; text-align: left ; width: auto;} td:nth-child(2) {text-align: left ; width: 100%}\n    .wandb-row { display: flex; flex-direction: row; flex-wrap: wrap; justify-content: flex-start; width: 100% }\n    .wandb-col { display: flex; flex-direction: column; flex-basis: 100%; flex: 1; padding: 10px; }\n    </style>\n<div class=\"wandb-row\"><div class=\"wandb-col\"><h3>Run history:</h3><br/><table class=\"wandb\"><tr><td>epoch</td><td>▁▁▁▁▂▂▂▂▂▃▃▃▃▃▃▄▄▄▄▄▅▅▅▅▅▅▆▆▆▆▆▇▇▇▇▇▇███</td></tr><tr><td>h_f1-score</td><td>▁▁▂▃▅▅▆▆▆▅▆▆▆▆▇▇▇▇▇▇██▇▇████████████████</td></tr><tr><td>h_precision</td><td>▁▁▆▇██████████▇▇▇▇▇▇▇▇▇▇▇▇▇▇▇▇▇▇▆▇▇▇▇▇▇▇</td></tr><tr><td>h_recall</td><td>▁▁▂▂▄▄▄▄▄▄▅▅▅▅▆▆▆▆▆▇▇▇▇▇▇▇█▇▇▇▇▇████▇██▇</td></tr><tr><td>train_loss</td><td>▇█▇▆▆▆▅▅▅▅▅▅▅▅▅▄▄▄▄▄▄▄▃▃▃▃▃▃▂▂▂▂▂▂▂▂▁▁▁▁</td></tr><tr><td>val_loss</td><td>▅█▅▅▄▄▂▂▂▂▂▂▂▂▂▂▂▂▂▂▂▂▂▂▂▂▂▂▂▂▂▂▁▂▁▂▁▁▂▁</td></tr></table><br/></div><div class=\"wandb-col\"><h3>Run summary:</h3><br/><table class=\"wandb\"><tr><td>epoch</td><td>199</td></tr><tr><td>h_f1-score</td><td>0.47948</td></tr><tr><td>h_precision</td><td>0.60775</td></tr><tr><td>h_recall</td><td>0.39593</td></tr><tr><td>train_loss</td><td>2.42743</td></tr><tr><td>val_loss</td><td>4.28473</td></tr></table><br/></div></div>"
     },
     "metadata": {},
     "output_type": "display_data"
    },
    {
     "data": {
      "text/plain": "<IPython.core.display.HTML object>",
      "text/html": " View run <strong style=\"color:#cdcd00\">silvery-sweep-8</strong> at: <a href='https://wandb.ai/phoenix_nlp/FineTuning-mBERT-200-epoch/runs/kijbqvnu' target=\"_blank\">https://wandb.ai/phoenix_nlp/FineTuning-mBERT-200-epoch/runs/kijbqvnu</a><br/> View project at: <a href='https://wandb.ai/phoenix_nlp/FineTuning-mBERT-200-epoch' target=\"_blank\">https://wandb.ai/phoenix_nlp/FineTuning-mBERT-200-epoch</a><br/>Synced 5 W&B file(s), 0 media file(s), 0 artifact file(s) and 0 other file(s)"
     },
     "metadata": {},
     "output_type": "display_data"
    },
    {
     "data": {
      "text/plain": "<IPython.core.display.HTML object>",
      "text/html": "Find logs at: <code>./wandb/run-20240422_034204-kijbqvnu/logs</code>"
     },
     "metadata": {},
     "output_type": "display_data"
    },
    {
     "name": "stderr",
     "output_type": "stream",
     "text": [
      "\u001B[34m\u001B[1mwandb\u001B[0m: Agent Starting Run: kkx37jb0 with config:\n",
      "\u001B[34m\u001B[1mwandb\u001B[0m: \talpha: 0.7894307959645357\n",
      "\u001B[34m\u001B[1mwandb\u001B[0m: \tbatch_size: 128\n",
      "\u001B[34m\u001B[1mwandb\u001B[0m: \tbeta: 0.5185437578472254\n",
      "\u001B[34m\u001B[1mwandb\u001B[0m: \tbeta1: 0.9450773951338626\n",
      "\u001B[34m\u001B[1mwandb\u001B[0m: \tlearning_rate: 4.1941852010293864e-05\n",
      "\u001B[34m\u001B[1mwandb\u001B[0m: \toptimizer: adam\n",
      "\u001B[34m\u001B[1mwandb\u001B[0m: \tthreshold: 0.7791764590302983\n"
     ]
    },
    {
     "data": {
      "text/plain": "<IPython.core.display.HTML object>",
      "text/html": "Tracking run with wandb version 0.16.6"
     },
     "metadata": {},
     "output_type": "display_data"
    },
    {
     "data": {
      "text/plain": "<IPython.core.display.HTML object>",
      "text/html": "Run data is saved locally in <code>/Users/iqbal/Desktop/Python Assignments/Detecting-Persuasion-Techniques-in-Memes/wandb/run-20240422_035238-kkx37jb0</code>"
     },
     "metadata": {},
     "output_type": "display_data"
    },
    {
     "data": {
      "text/plain": "<IPython.core.display.HTML object>",
      "text/html": "Syncing run <strong><a href='https://wandb.ai/phoenix_nlp/FineTuning-mBERT-200-epoch/runs/kkx37jb0' target=\"_blank\">curious-sweep-9</a></strong> to <a href='https://wandb.ai/phoenix_nlp/FineTuning-mBERT-200-epoch' target=\"_blank\">Weights & Biases</a> (<a href='https://wandb.me/run' target=\"_blank\">docs</a>)<br/>Sweep page: <a href='https://wandb.ai/phoenix_nlp/FineTuning-mBERT-200-epoch/sweeps/lftu2ej4' target=\"_blank\">https://wandb.ai/phoenix_nlp/FineTuning-mBERT-200-epoch/sweeps/lftu2ej4</a>"
     },
     "metadata": {},
     "output_type": "display_data"
    },
    {
     "data": {
      "text/plain": "<IPython.core.display.HTML object>",
      "text/html": " View project at <a href='https://wandb.ai/phoenix_nlp/FineTuning-mBERT-200-epoch' target=\"_blank\">https://wandb.ai/phoenix_nlp/FineTuning-mBERT-200-epoch</a>"
     },
     "metadata": {},
     "output_type": "display_data"
    },
    {
     "data": {
      "text/plain": "<IPython.core.display.HTML object>",
      "text/html": " View sweep at <a href='https://wandb.ai/phoenix_nlp/FineTuning-mBERT-200-epoch/sweeps/lftu2ej4' target=\"_blank\">https://wandb.ai/phoenix_nlp/FineTuning-mBERT-200-epoch/sweeps/lftu2ej4</a>"
     },
     "metadata": {},
     "output_type": "display_data"
    },
    {
     "data": {
      "text/plain": "<IPython.core.display.HTML object>",
      "text/html": " View run at <a href='https://wandb.ai/phoenix_nlp/FineTuning-mBERT-200-epoch/runs/kkx37jb0' target=\"_blank\">https://wandb.ai/phoenix_nlp/FineTuning-mBERT-200-epoch/runs/kkx37jb0</a>"
     },
     "metadata": {},
     "output_type": "display_data"
    },
    {
     "name": "stdout",
     "output_type": "stream",
     "text": [
      "[50/200]\n",
      "f1_h=0.37296\tprec_h=0.67439\trec_h=0.25775\n",
      "[100/200]\n",
      "f1_h=0.46889\tprec_h=0.67051\trec_h=0.36050\n",
      "[150/200]\n",
      "f1_h=0.46904\tprec_h=0.61494\trec_h=0.37910\n",
      "[200/200]\n",
      "f1_h=0.48574\tprec_h=0.58562\trec_h=0.41497\n"
     ]
    },
    {
     "data": {
      "text/plain": "VBox(children=(Label(value='0.001 MB of 0.007 MB uploaded\\r'), FloatProgress(value=0.15477888730385164, max=1.…",
      "application/vnd.jupyter.widget-view+json": {
       "version_major": 2,
       "version_minor": 0,
       "model_id": "32ad1dccb7d146d3a186842445af8173"
      }
     },
     "metadata": {},
     "output_type": "display_data"
    },
    {
     "data": {
      "text/plain": "<IPython.core.display.HTML object>",
      "text/html": "<style>\n    table.wandb td:nth-child(1) { padding: 0 10px; text-align: left ; width: auto;} td:nth-child(2) {text-align: left ; width: 100%}\n    .wandb-row { display: flex; flex-direction: row; flex-wrap: wrap; justify-content: flex-start; width: 100% }\n    .wandb-col { display: flex; flex-direction: column; flex-basis: 100%; flex: 1; padding: 10px; }\n    </style>\n<div class=\"wandb-row\"><div class=\"wandb-col\"><h3>Run history:</h3><br/><table class=\"wandb\"><tr><td>epoch</td><td>▁▁▁▁▂▂▂▂▂▃▃▃▃▃▃▄▄▄▄▄▅▅▅▅▅▅▆▆▆▆▆▇▇▇▇▇▇███</td></tr><tr><td>h_f1-score</td><td>▁▁▃▄▅▆▆▆▆▆▇▆▆▇▇▇▇██▇▇██▇█▇██████▇███████</td></tr><tr><td>h_precision</td><td>▁▁▇▇██████▇████▇██▇██▇▇▇▇▇▇▇▇▇▇▇▇▇▇▇▇▇▇▇</td></tr><tr><td>h_recall</td><td>▁▁▃▃▄▄▅▅▅▅▆▅▅▆▆▆▆▇▇▇▆▇▇▇▇▇▇▇▇▇██▇███████</td></tr><tr><td>train_loss</td><td>██▇▆▆▅▅▅▅▅▅▅▅▅▅▄▄▄▄▄▄▄▃▃▃▃▃▃▃▂▂▂▂▂▂▁▁▁▁▁</td></tr><tr><td>val_loss</td><td>██▅▄▃▃▃▂▂▂▂▂▂▂▂▃▂▃▂▂▃▂▂▃▂▂▂▂▂▂▂▂▁▂▂▂▂▁▂▁</td></tr></table><br/></div><div class=\"wandb-col\"><h3>Run summary:</h3><br/><table class=\"wandb\"><tr><td>epoch</td><td>199</td></tr><tr><td>h_f1-score</td><td>0.48574</td></tr><tr><td>h_precision</td><td>0.58562</td></tr><tr><td>h_recall</td><td>0.41497</td></tr><tr><td>train_loss</td><td>2.55291</td></tr><tr><td>val_loss</td><td>4.25294</td></tr></table><br/></div></div>"
     },
     "metadata": {},
     "output_type": "display_data"
    },
    {
     "data": {
      "text/plain": "<IPython.core.display.HTML object>",
      "text/html": " View run <strong style=\"color:#cdcd00\">curious-sweep-9</strong> at: <a href='https://wandb.ai/phoenix_nlp/FineTuning-mBERT-200-epoch/runs/kkx37jb0' target=\"_blank\">https://wandb.ai/phoenix_nlp/FineTuning-mBERT-200-epoch/runs/kkx37jb0</a><br/> View project at: <a href='https://wandb.ai/phoenix_nlp/FineTuning-mBERT-200-epoch' target=\"_blank\">https://wandb.ai/phoenix_nlp/FineTuning-mBERT-200-epoch</a><br/>Synced 5 W&B file(s), 0 media file(s), 0 artifact file(s) and 0 other file(s)"
     },
     "metadata": {},
     "output_type": "display_data"
    },
    {
     "data": {
      "text/plain": "<IPython.core.display.HTML object>",
      "text/html": "Find logs at: <code>./wandb/run-20240422_035238-kkx37jb0/logs</code>"
     },
     "metadata": {},
     "output_type": "display_data"
    },
    {
     "name": "stderr",
     "output_type": "stream",
     "text": [
      "\u001B[34m\u001B[1mwandb\u001B[0m: Agent Starting Run: ye1aikcf with config:\n",
      "\u001B[34m\u001B[1mwandb\u001B[0m: \talpha: 0.8392937146792514\n",
      "\u001B[34m\u001B[1mwandb\u001B[0m: \tbatch_size: 128\n",
      "\u001B[34m\u001B[1mwandb\u001B[0m: \tbeta: 0.5339939946285632\n",
      "\u001B[34m\u001B[1mwandb\u001B[0m: \tbeta1: 0.9499741014246776\n",
      "\u001B[34m\u001B[1mwandb\u001B[0m: \tlearning_rate: 3.525676834479531e-05\n",
      "\u001B[34m\u001B[1mwandb\u001B[0m: \toptimizer: adam\n",
      "\u001B[34m\u001B[1mwandb\u001B[0m: \tthreshold: 0.765536675376864\n"
     ]
    },
    {
     "data": {
      "text/plain": "<IPython.core.display.HTML object>",
      "text/html": "Tracking run with wandb version 0.16.6"
     },
     "metadata": {},
     "output_type": "display_data"
    },
    {
     "data": {
      "text/plain": "<IPython.core.display.HTML object>",
      "text/html": "Run data is saved locally in <code>/Users/iqbal/Desktop/Python Assignments/Detecting-Persuasion-Techniques-in-Memes/wandb/run-20240422_040436-ye1aikcf</code>"
     },
     "metadata": {},
     "output_type": "display_data"
    },
    {
     "data": {
      "text/plain": "<IPython.core.display.HTML object>",
      "text/html": "Syncing run <strong><a href='https://wandb.ai/phoenix_nlp/FineTuning-mBERT-200-epoch/runs/ye1aikcf' target=\"_blank\">morning-sweep-10</a></strong> to <a href='https://wandb.ai/phoenix_nlp/FineTuning-mBERT-200-epoch' target=\"_blank\">Weights & Biases</a> (<a href='https://wandb.me/run' target=\"_blank\">docs</a>)<br/>Sweep page: <a href='https://wandb.ai/phoenix_nlp/FineTuning-mBERT-200-epoch/sweeps/lftu2ej4' target=\"_blank\">https://wandb.ai/phoenix_nlp/FineTuning-mBERT-200-epoch/sweeps/lftu2ej4</a>"
     },
     "metadata": {},
     "output_type": "display_data"
    },
    {
     "data": {
      "text/plain": "<IPython.core.display.HTML object>",
      "text/html": " View project at <a href='https://wandb.ai/phoenix_nlp/FineTuning-mBERT-200-epoch' target=\"_blank\">https://wandb.ai/phoenix_nlp/FineTuning-mBERT-200-epoch</a>"
     },
     "metadata": {},
     "output_type": "display_data"
    },
    {
     "data": {
      "text/plain": "<IPython.core.display.HTML object>",
      "text/html": " View sweep at <a href='https://wandb.ai/phoenix_nlp/FineTuning-mBERT-200-epoch/sweeps/lftu2ej4' target=\"_blank\">https://wandb.ai/phoenix_nlp/FineTuning-mBERT-200-epoch/sweeps/lftu2ej4</a>"
     },
     "metadata": {},
     "output_type": "display_data"
    },
    {
     "data": {
      "text/plain": "<IPython.core.display.HTML object>",
      "text/html": " View run at <a href='https://wandb.ai/phoenix_nlp/FineTuning-mBERT-200-epoch/runs/ye1aikcf' target=\"_blank\">https://wandb.ai/phoenix_nlp/FineTuning-mBERT-200-epoch/runs/ye1aikcf</a>"
     },
     "metadata": {},
     "output_type": "display_data"
    },
    {
     "name": "stdout",
     "output_type": "stream",
     "text": [
      "[50/200]\n",
      "f1_h=0.34646\tprec_h=0.70325\trec_h=0.22985\n",
      "[100/200]\n",
      "f1_h=0.41420\tprec_h=0.68330\trec_h=0.29717\n",
      "[150/200]\n",
      "f1_h=0.44458\tprec_h=0.67942\trec_h=0.33038\n",
      "[200/200]\n",
      "f1_h=0.48643\tprec_h=0.61859\trec_h=0.40080\n"
     ]
    },
    {
     "data": {
      "text/plain": "VBox(children=(Label(value='0.001 MB of 0.001 MB uploaded\\r'), FloatProgress(value=1.0, max=1.0)))",
      "application/vnd.jupyter.widget-view+json": {
       "version_major": 2,
       "version_minor": 0,
       "model_id": "f14eba2ccd3147809f86ec1e1f0667b3"
      }
     },
     "metadata": {},
     "output_type": "display_data"
    },
    {
     "data": {
      "text/plain": "<IPython.core.display.HTML object>",
      "text/html": "<style>\n    table.wandb td:nth-child(1) { padding: 0 10px; text-align: left ; width: auto;} td:nth-child(2) {text-align: left ; width: 100%}\n    .wandb-row { display: flex; flex-direction: row; flex-wrap: wrap; justify-content: flex-start; width: 100% }\n    .wandb-col { display: flex; flex-direction: column; flex-basis: 100%; flex: 1; padding: 10px; }\n    </style>\n<div class=\"wandb-row\"><div class=\"wandb-col\"><h3>Run history:</h3><br/><table class=\"wandb\"><tr><td>epoch</td><td>▁▁▁▁▂▂▂▂▂▃▃▃▃▃▃▄▄▄▄▄▅▅▅▅▅▅▆▆▆▆▆▇▇▇▇▇▇███</td></tr><tr><td>h_f1-score</td><td>▁▁▂▃▄▄▅▆▆▆▆▆▆▇▆▇▇▆▇▇▇▇█▇▇▇█▇██▇▇█████▇██</td></tr><tr><td>h_precision</td><td>▁▁▆▇▇█████████████▇█▇█▇▇▇▇▇▇▇▇▇▇▇▇▇▇▇▇▇▇</td></tr><tr><td>h_recall</td><td>▁▁▂▂▃▃▄▅▅▅▅▅▅▆▆▆▆▅▆▆▆▆█▇▇▇▇▇▇▇▇▆▇██▇▇▇██</td></tr><tr><td>train_loss</td><td>▇█▇▆▆▆▅▅▅▅▅▅▅▄▄▄▄▄▄▄▄▄▄▃▃▃▃▃▂▂▂▂▂▂▂▁▁▁▁▁</td></tr><tr><td>val_loss</td><td>▅█▄▄▄▃▂▂▂▂▁▂▂▂▂▁▂▂▂▂▂▂▂▂▂▂▂▁▂▂▂▂▂▂▁▁▂▃▁▁</td></tr></table><br/></div><div class=\"wandb-col\"><h3>Run summary:</h3><br/><table class=\"wandb\"><tr><td>epoch</td><td>199</td></tr><tr><td>h_f1-score</td><td>0.48643</td></tr><tr><td>h_precision</td><td>0.61859</td></tr><tr><td>h_recall</td><td>0.4008</td></tr><tr><td>train_loss</td><td>2.88469</td></tr><tr><td>val_loss</td><td>4.47264</td></tr></table><br/></div></div>"
     },
     "metadata": {},
     "output_type": "display_data"
    },
    {
     "data": {
      "text/plain": "<IPython.core.display.HTML object>",
      "text/html": " View run <strong style=\"color:#cdcd00\">morning-sweep-10</strong> at: <a href='https://wandb.ai/phoenix_nlp/FineTuning-mBERT-200-epoch/runs/ye1aikcf' target=\"_blank\">https://wandb.ai/phoenix_nlp/FineTuning-mBERT-200-epoch/runs/ye1aikcf</a><br/> View project at: <a href='https://wandb.ai/phoenix_nlp/FineTuning-mBERT-200-epoch' target=\"_blank\">https://wandb.ai/phoenix_nlp/FineTuning-mBERT-200-epoch</a><br/>Synced 5 W&B file(s), 0 media file(s), 0 artifact file(s) and 0 other file(s)"
     },
     "metadata": {},
     "output_type": "display_data"
    },
    {
     "data": {
      "text/plain": "<IPython.core.display.HTML object>",
      "text/html": "Find logs at: <code>./wandb/run-20240422_040436-ye1aikcf/logs</code>"
     },
     "metadata": {},
     "output_type": "display_data"
    },
    {
     "name": "stderr",
     "output_type": "stream",
     "text": [
      "\u001B[34m\u001B[1mwandb\u001B[0m: Agent Starting Run: 54jwt0c4 with config:\n",
      "\u001B[34m\u001B[1mwandb\u001B[0m: \talpha: 0.8941070471424057\n",
      "\u001B[34m\u001B[1mwandb\u001B[0m: \tbatch_size: 256\n",
      "\u001B[34m\u001B[1mwandb\u001B[0m: \tbeta: 0.5181915616888193\n",
      "\u001B[34m\u001B[1mwandb\u001B[0m: \tbeta1: 0.9422587530422476\n",
      "\u001B[34m\u001B[1mwandb\u001B[0m: \tlearning_rate: 6.563138535930895e-05\n",
      "\u001B[34m\u001B[1mwandb\u001B[0m: \toptimizer: adam\n",
      "\u001B[34m\u001B[1mwandb\u001B[0m: \tthreshold: 0.7214368443873793\n"
     ]
    },
    {
     "data": {
      "text/plain": "<IPython.core.display.HTML object>",
      "text/html": "Tracking run with wandb version 0.16.6"
     },
     "metadata": {},
     "output_type": "display_data"
    },
    {
     "data": {
      "text/plain": "<IPython.core.display.HTML object>",
      "text/html": "Run data is saved locally in <code>/Users/iqbal/Desktop/Python Assignments/Detecting-Persuasion-Techniques-in-Memes/wandb/run-20240422_041627-54jwt0c4</code>"
     },
     "metadata": {},
     "output_type": "display_data"
    },
    {
     "data": {
      "text/plain": "<IPython.core.display.HTML object>",
      "text/html": "Syncing run <strong><a href='https://wandb.ai/phoenix_nlp/FineTuning-mBERT-200-epoch/runs/54jwt0c4' target=\"_blank\">colorful-sweep-11</a></strong> to <a href='https://wandb.ai/phoenix_nlp/FineTuning-mBERT-200-epoch' target=\"_blank\">Weights & Biases</a> (<a href='https://wandb.me/run' target=\"_blank\">docs</a>)<br/>Sweep page: <a href='https://wandb.ai/phoenix_nlp/FineTuning-mBERT-200-epoch/sweeps/lftu2ej4' target=\"_blank\">https://wandb.ai/phoenix_nlp/FineTuning-mBERT-200-epoch/sweeps/lftu2ej4</a>"
     },
     "metadata": {},
     "output_type": "display_data"
    },
    {
     "data": {
      "text/plain": "<IPython.core.display.HTML object>",
      "text/html": " View project at <a href='https://wandb.ai/phoenix_nlp/FineTuning-mBERT-200-epoch' target=\"_blank\">https://wandb.ai/phoenix_nlp/FineTuning-mBERT-200-epoch</a>"
     },
     "metadata": {},
     "output_type": "display_data"
    },
    {
     "data": {
      "text/plain": "<IPython.core.display.HTML object>",
      "text/html": " View sweep at <a href='https://wandb.ai/phoenix_nlp/FineTuning-mBERT-200-epoch/sweeps/lftu2ej4' target=\"_blank\">https://wandb.ai/phoenix_nlp/FineTuning-mBERT-200-epoch/sweeps/lftu2ej4</a>"
     },
     "metadata": {},
     "output_type": "display_data"
    },
    {
     "data": {
      "text/plain": "<IPython.core.display.HTML object>",
      "text/html": " View run at <a href='https://wandb.ai/phoenix_nlp/FineTuning-mBERT-200-epoch/runs/54jwt0c4' target=\"_blank\">https://wandb.ai/phoenix_nlp/FineTuning-mBERT-200-epoch/runs/54jwt0c4</a>"
     },
     "metadata": {},
     "output_type": "display_data"
    },
    {
     "name": "stdout",
     "output_type": "stream",
     "text": [
      "[50/200]\n",
      "f1_h=0.36516\tprec_h=0.67221\trec_h=0.25066\n",
      "[100/200]\n",
      "f1_h=0.41383\tprec_h=0.65703\trec_h=0.30204\n",
      "[150/200]\n",
      "f1_h=0.46302\tprec_h=0.61420\trec_h=0.37157\n",
      "[200/200]\n",
      "f1_h=0.50386\tprec_h=0.60049\trec_h=0.43401\n"
     ]
    },
    {
     "data": {
      "text/plain": "VBox(children=(Label(value='0.001 MB of 0.007 MB uploaded\\r'), FloatProgress(value=0.1487320082248115, max=1.0…",
      "application/vnd.jupyter.widget-view+json": {
       "version_major": 2,
       "version_minor": 0,
       "model_id": "a6e1cd95e251486aa8203d6f8ed8bb45"
      }
     },
     "metadata": {},
     "output_type": "display_data"
    },
    {
     "data": {
      "text/plain": "<IPython.core.display.HTML object>",
      "text/html": "<style>\n    table.wandb td:nth-child(1) { padding: 0 10px; text-align: left ; width: auto;} td:nth-child(2) {text-align: left ; width: 100%}\n    .wandb-row { display: flex; flex-direction: row; flex-wrap: wrap; justify-content: flex-start; width: 100% }\n    .wandb-col { display: flex; flex-direction: column; flex-basis: 100%; flex: 1; padding: 10px; }\n    </style>\n<div class=\"wandb-row\"><div class=\"wandb-col\"><h3>Run history:</h3><br/><table class=\"wandb\"><tr><td>epoch</td><td>▁▁▁▁▂▂▂▂▂▃▃▃▃▃▃▄▄▄▄▄▅▅▅▅▅▅▆▆▆▆▆▇▇▇▇▇▇███</td></tr><tr><td>h_f1-score</td><td>▁▁▂▃▅▅▅▅▆▆▆▆▆▆▆▇▇▇▇▇▇▇▇▇▇█▇█████▇███████</td></tr><tr><td>h_precision</td><td>▁▁▆▇▇▇██████████▇▇▇▇▇▇▇▇▇▇▇▇▇▇▇▇▇▇▇▇▇▇▇▇</td></tr><tr><td>h_recall</td><td>▁▁▁▂▄▄▄▄▅▅▅▅▅▅▅▆▆▆▆▆▆▆▇▇▇▇▆▇▇█▇▇▇▇▇███▇█</td></tr><tr><td>train_loss</td><td>██▇▇▆▆▆▅▅▅▅▅▅▅▅▅▅▄▄▄▄▄▄▃▃▃▃▃▂▂▂▂▂▂▂▂▁▁▁▁</td></tr><tr><td>val_loss</td><td>██▆▆▆▄▃▃▂▂▁▂▃▂▃▂▃▂▂▃▃▃▃▃▂▂▃▂▂▁▂▂▄▂▁▂▁▁▁▁</td></tr></table><br/></div><div class=\"wandb-col\"><h3>Run summary:</h3><br/><table class=\"wandb\"><tr><td>epoch</td><td>199</td></tr><tr><td>h_f1-score</td><td>0.50386</td></tr><tr><td>h_precision</td><td>0.60049</td></tr><tr><td>h_recall</td><td>0.43401</td></tr><tr><td>train_loss</td><td>2.47316</td></tr><tr><td>val_loss</td><td>4.21044</td></tr></table><br/></div></div>"
     },
     "metadata": {},
     "output_type": "display_data"
    },
    {
     "data": {
      "text/plain": "<IPython.core.display.HTML object>",
      "text/html": " View run <strong style=\"color:#cdcd00\">colorful-sweep-11</strong> at: <a href='https://wandb.ai/phoenix_nlp/FineTuning-mBERT-200-epoch/runs/54jwt0c4' target=\"_blank\">https://wandb.ai/phoenix_nlp/FineTuning-mBERT-200-epoch/runs/54jwt0c4</a><br/> View project at: <a href='https://wandb.ai/phoenix_nlp/FineTuning-mBERT-200-epoch' target=\"_blank\">https://wandb.ai/phoenix_nlp/FineTuning-mBERT-200-epoch</a><br/>Synced 5 W&B file(s), 0 media file(s), 0 artifact file(s) and 0 other file(s)"
     },
     "metadata": {},
     "output_type": "display_data"
    },
    {
     "data": {
      "text/plain": "<IPython.core.display.HTML object>",
      "text/html": "Find logs at: <code>./wandb/run-20240422_041627-54jwt0c4/logs</code>"
     },
     "metadata": {},
     "output_type": "display_data"
    },
    {
     "name": "stderr",
     "output_type": "stream",
     "text": [
      "\u001B[34m\u001B[1mwandb\u001B[0m: Sweep Agent: Waiting for job.\n",
      "\u001B[34m\u001B[1mwandb\u001B[0m: Job received.\n",
      "\u001B[34m\u001B[1mwandb\u001B[0m: Agent Starting Run: 9p217tg0 with config:\n",
      "\u001B[34m\u001B[1mwandb\u001B[0m: \talpha: 0.8864253517248777\n",
      "\u001B[34m\u001B[1mwandb\u001B[0m: \tbatch_size: 256\n",
      "\u001B[34m\u001B[1mwandb\u001B[0m: \tbeta: 0.5157787788308356\n",
      "\u001B[34m\u001B[1mwandb\u001B[0m: \tbeta1: 0.9415484280060994\n",
      "\u001B[34m\u001B[1mwandb\u001B[0m: \tlearning_rate: 3.952402814278007e-05\n",
      "\u001B[34m\u001B[1mwandb\u001B[0m: \toptimizer: adam\n",
      "\u001B[34m\u001B[1mwandb\u001B[0m: \tthreshold: 0.7992183713854618\n"
     ]
    },
    {
     "data": {
      "text/plain": "<IPython.core.display.HTML object>",
      "text/html": "Tracking run with wandb version 0.16.6"
     },
     "metadata": {},
     "output_type": "display_data"
    },
    {
     "data": {
      "text/plain": "<IPython.core.display.HTML object>",
      "text/html": "Run data is saved locally in <code>/Users/iqbal/Desktop/Python Assignments/Detecting-Persuasion-Techniques-in-Memes/wandb/run-20240422_042633-9p217tg0</code>"
     },
     "metadata": {},
     "output_type": "display_data"
    },
    {
     "data": {
      "text/plain": "<IPython.core.display.HTML object>",
      "text/html": "Syncing run <strong><a href='https://wandb.ai/phoenix_nlp/FineTuning-mBERT-200-epoch/runs/9p217tg0' target=\"_blank\">cool-sweep-12</a></strong> to <a href='https://wandb.ai/phoenix_nlp/FineTuning-mBERT-200-epoch' target=\"_blank\">Weights & Biases</a> (<a href='https://wandb.me/run' target=\"_blank\">docs</a>)<br/>Sweep page: <a href='https://wandb.ai/phoenix_nlp/FineTuning-mBERT-200-epoch/sweeps/lftu2ej4' target=\"_blank\">https://wandb.ai/phoenix_nlp/FineTuning-mBERT-200-epoch/sweeps/lftu2ej4</a>"
     },
     "metadata": {},
     "output_type": "display_data"
    },
    {
     "data": {
      "text/plain": "<IPython.core.display.HTML object>",
      "text/html": " View project at <a href='https://wandb.ai/phoenix_nlp/FineTuning-mBERT-200-epoch' target=\"_blank\">https://wandb.ai/phoenix_nlp/FineTuning-mBERT-200-epoch</a>"
     },
     "metadata": {},
     "output_type": "display_data"
    },
    {
     "data": {
      "text/plain": "<IPython.core.display.HTML object>",
      "text/html": " View sweep at <a href='https://wandb.ai/phoenix_nlp/FineTuning-mBERT-200-epoch/sweeps/lftu2ej4' target=\"_blank\">https://wandb.ai/phoenix_nlp/FineTuning-mBERT-200-epoch/sweeps/lftu2ej4</a>"
     },
     "metadata": {},
     "output_type": "display_data"
    },
    {
     "data": {
      "text/plain": "<IPython.core.display.HTML object>",
      "text/html": " View run at <a href='https://wandb.ai/phoenix_nlp/FineTuning-mBERT-200-epoch/runs/9p217tg0' target=\"_blank\">https://wandb.ai/phoenix_nlp/FineTuning-mBERT-200-epoch/runs/9p217tg0</a>"
     },
     "metadata": {},
     "output_type": "display_data"
    },
    {
     "name": "stdout",
     "output_type": "stream",
     "text": [
      "[50/200]\n",
      "f1_h=0.33266\tprec_h=0.69382\trec_h=0.21878\n"
     ]
    },
    {
     "name": "stderr",
     "output_type": "stream",
     "text": [
      "\u001B[34m\u001B[1mwandb\u001B[0m: Ctrl + C detected. Stopping sweep.\n"
     ]
    }
   ],
   "source": [
    "def main():\n",
    "    wandb.agent(sweep_id, train, count=20)\n",
    "\n",
    "if __name__ == \"__main__\":\n",
    "    main()"
   ],
   "metadata": {
    "collapsed": false,
    "ExecuteTime": {
     "end_time": "2024-04-22T08:29:40.218838Z",
     "start_time": "2024-04-22T06:27:19.906955Z"
    }
   },
   "id": "52f1db23db548f9",
   "execution_count": 11
  },
  {
   "cell_type": "markdown",
   "source": [],
   "metadata": {
    "collapsed": false
   },
   "id": "d0417b96dff129df"
  },
  {
   "cell_type": "markdown",
   "source": [
    "### Evaluation"
   ],
   "metadata": {
    "collapsed": false
   },
   "id": "d9554984f63d5e1f"
  },
  {
   "cell_type": "markdown",
   "source": [
    "### multilingual BERT"
   ],
   "metadata": {
    "collapsed": false
   },
   "id": "baaa0f25af5cb59d"
  },
  {
   "cell_type": "code",
   "outputs": [
    {
     "data": {
      "text/plain": "<All keys matched successfully>"
     },
     "execution_count": 39,
     "metadata": {},
     "output_type": "execute_result"
    }
   ],
   "source": [
    "from modules.nn.mBERT import mBERT\n",
    "from torch.utils.data import DataLoader\n",
    "\n",
    "model = mBERT()\n",
    "device = torch.device('cpu')\n",
    "\n",
    "model.load_state_dict(torch.load('./models/subtask1a/mBERT-200/fanciful-sweep-1.pth'))"
   ],
   "metadata": {
    "collapsed": false,
    "ExecuteTime": {
     "end_time": "2024-04-29T01:28:55.439825Z",
     "start_time": "2024-04-29T01:28:55.393857Z"
    }
   },
   "id": "646acda29efa6df",
   "execution_count": 39
  },
  {
   "cell_type": "markdown",
   "source": [
    "#### Bulgarian"
   ],
   "metadata": {
    "collapsed": false
   },
   "id": "dd4a9cd139e22d43"
  },
  {
   "cell_type": "code",
   "outputs": [
    {
     "name": "stdout",
     "output_type": "stream",
     "text": [
      "f1_h=0.42486\tprec_h=0.41434\trec_h=0.43593\n"
     ]
    }
   ],
   "source": [
    "from tqdm import tqdm\n",
    "import json\n",
    "import subprocess\n",
    "from subtask_1_2a import *\n",
    "\n",
    "bulgarian_pred_file_path = './Predictions/bulgarian_predictions_subtask1.txt'\n",
    "bulgarian_gold_file_path = './test_labels_ar_bg_md_version2/test_subtask1_bg.json'\n",
    "evaluator_script = './scorer-baseline/subtask_1_2a.py'\n",
    "\n",
    "bg_test_data = process_test_json(bulgarian_gold_file_path)\n",
    "\n",
    "\n",
    "bg_test_dataset = TestDataSet(bg_test_data, './TextFeatures/subtask1a/mBERT/bg_test_text_features.pkl')\n",
    "bg_test_dataloader = DataLoader(bg_test_dataset, batch_size=64, shuffle=True)\n",
    "\n",
    "evaluate_model(model, bg_test_dataloader, bulgarian_pred_file_path, bulgarian_gold_file_path,\n",
    "               evaluator_script, id2leaf_label, validation=False, threshold=0.3)"
   ],
   "metadata": {
    "collapsed": false,
    "ExecuteTime": {
     "end_time": "2024-04-28T22:35:13.475895Z",
     "start_time": "2024-04-28T22:35:13.409545Z"
    }
   },
   "id": "49adc7f9850aa039",
   "execution_count": 12
  },
  {
   "cell_type": "markdown",
   "source": [
    "#### North Macedonian"
   ],
   "metadata": {
    "collapsed": false
   },
   "id": "e82a8718635ae811"
  },
  {
   "cell_type": "code",
   "outputs": [
    {
     "name": "stdout",
     "output_type": "stream",
     "text": [
      "f1_h=0.40270\tprec_h=0.44678\trec_h=0.36654\n"
     ]
    }
   ],
   "source": [
    "macedonian_pred_file_path = './Predictions/macedonian_predictions_subtask1.txt'\n",
    "macedonian_gold_file_path = './test_labels_ar_bg_md_version2/test_subtask1_md.json'\n",
    "\n",
    "md_test_data = process_test_json(macedonian_gold_file_path)\n",
    "\n",
    "md_test_dataset = TestDataSet(md_test_data, './TextFeatures/subtask1a/mBERT/md_test_text_features.pkl')\n",
    "md_test_dataloader = DataLoader(md_test_dataset, batch_size=64, shuffle=True)\n",
    "\n",
    "evaluate_model(model, md_test_dataloader, macedonian_pred_file_path, macedonian_gold_file_path,\n",
    "               evaluator_script, id2leaf_label, validation=False, threshold=0.3)"
   ],
   "metadata": {
    "collapsed": false,
    "ExecuteTime": {
     "end_time": "2024-04-28T22:35:16.368227Z",
     "start_time": "2024-04-28T22:35:16.322880Z"
    }
   },
   "id": "405d0e2b77139f7e",
   "execution_count": 13
  },
  {
   "cell_type": "markdown",
   "source": [
    "#### Arabian"
   ],
   "metadata": {
    "collapsed": false
   },
   "id": "65d8fb43407554e1"
  },
  {
   "cell_type": "code",
   "outputs": [
    {
     "name": "stdout",
     "output_type": "stream",
     "text": [
      "f1_h=0.26642\tprec_h=0.27757\trec_h=0.25614\n"
     ]
    }
   ],
   "source": [
    "arabian_pred_file_path = './Predictions/arabian_predictions_subtask1.txt'\n",
    "arabian_gold_file_path = './test_labels_ar_bg_md_version2/test_subtask1_ar.json'\n",
    "\n",
    "ar_test_data = process_test_json(arabian_gold_file_path)\n",
    "\n",
    "ar_test_dataset = TestDataSet(ar_test_data, './TextFeatures/subtask1a/mBERT/ar_test_text_features.pkl')\n",
    "ar_test_dataloader = DataLoader(ar_test_dataset, batch_size=128, shuffle=True)\n",
    "\n",
    "evaluate_model(model, ar_test_dataloader, arabian_pred_file_path, arabian_gold_file_path, evaluator_script, \n",
    "               id2leaf_label, format=5, validation=False, threshold=0.3)"
   ],
   "metadata": {
    "collapsed": false,
    "ExecuteTime": {
     "end_time": "2024-04-28T22:35:18.833520Z",
     "start_time": "2024-04-28T22:35:18.811109Z"
    }
   },
   "id": "9e026a20bf3436d8",
   "execution_count": 14
  },
  {
   "cell_type": "markdown",
   "source": [
    "#### English"
   ],
   "metadata": {
    "collapsed": false
   },
   "id": "91bcd874493202c4"
  },
  {
   "cell_type": "code",
   "outputs": [],
   "source": [
    "en_pred_file_path = './Predictions/en_predictions_subtask1.txt'\n",
    "\n",
    "en_test_data = process_test_json('./test_data/english/en_subtask1_test_unlabeled.json')\n",
    "\n",
    "en_test_dataset = TestDataSet(en_test_data, './TextFeatures/subtask1a/mBERT/en_test_text_features.pkl')\n",
    "en_test_dataloader = DataLoader(en_test_dataset, batch_size=16, shuffle=True)\n",
    "\n",
    "evaluate_model(model, en_test_dataloader, en_pred_file_path, None, evaluator_script, id2leaf_label, validation=False)"
   ],
   "metadata": {
    "collapsed": false,
    "ExecuteTime": {
     "end_time": "2024-04-28T20:29:46.154099Z",
     "start_time": "2024-04-28T20:29:45.788648Z"
    }
   },
   "id": "eb7e034e7dc148e",
   "execution_count": 10
  },
  {
   "cell_type": "markdown",
   "source": [
    "0.48871\t0.64459\t0.39354"
   ],
   "metadata": {
    "collapsed": false
   },
   "id": "ef7ecf2bfe830dba"
  },
  {
   "cell_type": "code",
   "outputs": [
    {
     "name": "stdout",
     "output_type": "stream",
     "text": [
      "f1_h=0.47108\tprec_h=0.63688\trec_h=0.37378\n"
     ]
    }
   ],
   "source": [
    "en_dev_pred_file_path = './Predictions/mBERT_en_dev_predictions_subtask1.txt'\n",
    "en_dev_gold_file_path = './dev_gold_labels/dev_subtask1_en.json'\n",
    "\n",
    "en_dev_test_data = process_test_json(en_dev_gold_file_path)\n",
    "\n",
    "en_dev_test_dataset = TestDataSet(en_dev_test_data, './TextFeatures/subtask1a/mBERT/en_dev_text_features.pkl')\n",
    "en_dev_test_dataloader = DataLoader(en_dev_test_dataset, batch_size=16, shuffle=True)\n",
    "\n",
    "evaluate_model(model, en_dev_test_dataloader, en_dev_pred_file_path, en_dev_gold_file_path,\n",
    "               evaluator_script, id2leaf_label, validation=False)"
   ],
   "metadata": {
    "collapsed": false,
    "ExecuteTime": {
     "end_time": "2024-04-29T01:32:01.680434Z",
     "start_time": "2024-04-29T01:32:01.400644Z"
    }
   },
   "id": "e7a8373213953f98",
   "execution_count": 41
  },
  {
   "cell_type": "markdown",
   "source": [
    "### XLM-RoBERTa"
   ],
   "metadata": {
    "collapsed": false
   },
   "id": "c49776cafd78d1f3"
  },
  {
   "cell_type": "code",
   "outputs": [
    {
     "data": {
      "text/plain": "<All keys matched successfully>"
     },
     "execution_count": 37,
     "metadata": {},
     "output_type": "execute_result"
    }
   ],
   "source": [
    "from modules.nn.XLMRoBERTa import XLMRoBERTa\n",
    "\n",
    "model = XLMRoBERTa()\n",
    "device = torch.device('cpu')\n",
    "\n",
    "model.load_state_dict(torch.load('./models/subtask1a/XLM-RoBERTa/expert-sweep-1.pth'))"
   ],
   "metadata": {
    "collapsed": false,
    "ExecuteTime": {
     "end_time": "2024-04-29T01:28:48.891022Z",
     "start_time": "2024-04-29T01:28:48.838207Z"
    }
   },
   "id": "e3ffb788fb1d86a9",
   "execution_count": 37
  },
  {
   "cell_type": "markdown",
   "source": [
    "#### Bulgarian"
   ],
   "metadata": {
    "collapsed": false
   },
   "id": "cb742335bb7fc99f"
  },
  {
   "cell_type": "code",
   "outputs": [
    {
     "name": "stdout",
     "output_type": "stream",
     "text": [
      "f1_h=0.23920\tprec_h=0.31744\trec_h=0.19191\n"
     ]
    }
   ],
   "source": [
    "bulgarian_pred_file_path = './Predictions/bulgarian_predictions_subtask1.txt'\n",
    "bulgarian_gold_file_path = './test_labels_ar_bg_md_version2/test_subtask1_bg.json'\n",
    "evaluator_script = './scorer-baseline/subtask_1_2a.py'\n",
    "\n",
    "bg_test_data = process_test_json(bulgarian_gold_file_path)\n",
    "\n",
    "\n",
    "bg_test_dataset = TestDataSet(bg_test_data, './TextFeatures/subtask1a/XLM-RoBERTa/bg_test_text_features.pkl')\n",
    "bg_test_dataloader = DataLoader(bg_test_dataset, batch_size=64, shuffle=True)\n",
    "\n",
    "evaluate_model(model, bg_test_dataloader, bulgarian_pred_file_path, bulgarian_gold_file_path,\n",
    "               evaluator_script, id2leaf_label, validation=False, threshold=0.3)"
   ],
   "metadata": {
    "collapsed": false,
    "ExecuteTime": {
     "end_time": "2024-04-28T07:27:19.177300Z",
     "start_time": "2024-04-28T07:27:19.109431Z"
    }
   },
   "id": "255c0c015ea1bbf",
   "execution_count": 24
  },
  {
   "cell_type": "markdown",
   "source": [
    "#### North Macedonian"
   ],
   "metadata": {
    "collapsed": false
   },
   "id": "a507cac719480584"
  },
  {
   "cell_type": "code",
   "outputs": [
    {
     "name": "stdout",
     "output_type": "stream",
     "text": [
      "f1_h=0.25316\tprec_h=0.24823\trec_h=0.25830\n"
     ]
    }
   ],
   "source": [
    "macedonian_pred_file_path = './Predictions/macedonian_predictions_subtask1.txt'\n",
    "macedonian_gold_file_path = './test_labels_ar_bg_md_version2/test_subtask1_md.json'\n",
    "\n",
    "md_test_data = process_test_json(macedonian_gold_file_path)\n",
    "\n",
    "md_test_dataset = TestDataSet(md_test_data, './TextFeatures/subtask1a/XLM-RoBERTa/md_test_text_features.pkl')\n",
    "md_test_dataloader = DataLoader(md_test_dataset, batch_size=64, shuffle=True)\n",
    "\n",
    "evaluate_model(model, md_test_dataloader, macedonian_pred_file_path, macedonian_gold_file_path,\n",
    "               evaluator_script, id2leaf_label, validation=False, threshold=0.3)"
   ],
   "metadata": {
    "collapsed": false,
    "ExecuteTime": {
     "end_time": "2024-04-28T07:29:03.667718Z",
     "start_time": "2024-04-28T07:29:03.619245Z"
    }
   },
   "id": "e390d24f6a191629",
   "execution_count": 25
  },
  {
   "cell_type": "markdown",
   "source": [
    "#### Arabian"
   ],
   "metadata": {
    "collapsed": false
   },
   "id": "31909143716b0dbc"
  },
  {
   "cell_type": "code",
   "outputs": [
    {
     "name": "stdout",
     "output_type": "stream",
     "text": [
      "f1_h=0.32424\tprec_h=0.28533\trec_h=0.37544\n"
     ]
    }
   ],
   "source": [
    "arabian_pred_file_path = './Predictions/arabian_predictions_subtask1.txt'\n",
    "arabian_gold_file_path = './test_labels_ar_bg_md_version2/test_subtask1_ar.json'\n",
    "\n",
    "ar_test_data = process_test_json(arabian_gold_file_path)\n",
    "\n",
    "ar_test_dataset = TestDataSet(ar_test_data, './TextFeatures/subtask1a/XLM-RoBERTa/ar_test_text_features.pkl')\n",
    "ar_test_dataloader = DataLoader(ar_test_dataset, batch_size=128, shuffle=True)\n",
    "\n",
    "evaluate_model(model, ar_test_dataloader, arabian_pred_file_path, arabian_gold_file_path, evaluator_script, \n",
    "               id2leaf_label, format=5, validation=False, threshold=0.3)"
   ],
   "metadata": {
    "collapsed": false,
    "ExecuteTime": {
     "end_time": "2024-04-28T07:29:11.609564Z",
     "start_time": "2024-04-28T07:29:11.583232Z"
    }
   },
   "id": "d4a83a78a1a463f5",
   "execution_count": 26
  },
  {
   "cell_type": "markdown",
   "source": [
    "#### English"
   ],
   "metadata": {
    "collapsed": false
   },
   "id": "ff345d614335c5f7"
  },
  {
   "cell_type": "code",
   "outputs": [],
   "source": [
    "en_pred_file_path = './Predictions/en_predictions_subtask1.txt'\n",
    "\n",
    "en_test_data = process_test_json('./test_data/english/en_subtask1_test_unlabeled.json')\n",
    "\n",
    "en_test_dataset = TestDataSet(en_test_data, './TextFeatures/subtask1a/XLM-RoBERTa/en_test_text_features.pkl')\n",
    "en_test_dataloader = DataLoader(en_test_dataset, batch_size=16, shuffle=True)\n",
    "\n",
    "evaluate_model(model, en_test_dataloader, en_pred_file_path, None, evaluator_script, id2leaf_label, validation=False)"
   ],
   "metadata": {
    "collapsed": false,
    "ExecuteTime": {
     "end_time": "2024-04-28T07:29:19.240425Z",
     "start_time": "2024-04-28T07:29:18.838372Z"
    }
   },
   "id": "a8b2212486beb808",
   "execution_count": 27
  },
  {
   "cell_type": "markdown",
   "source": [
    "0.46873\t0.62090\t0.37647"
   ],
   "metadata": {
    "collapsed": false
   },
   "id": "5845c5b7db794613"
  },
  {
   "cell_type": "code",
   "outputs": [
    {
     "name": "stdout",
     "output_type": "stream",
     "text": [
      "f1_h=0.45310\tprec_h=0.60863\trec_h=0.36087\n"
     ]
    }
   ],
   "source": [
    "en_dev_pred_file_path = './Predictions/en_dev_predictions_subtask1.txt'\n",
    "en_dev_gold_file_path = './dev_gold_labels/dev_subtask1_en.json'\n",
    "\n",
    "en_dev_test_data = process_test_json(en_dev_gold_file_path)\n",
    "\n",
    "en_dev_test_dataset = TestDataSet(en_dev_test_data, './TextFeatures/subtask1a/XLM-RoBERTa/en_dev_text_features.pkl')\n",
    "en_dev_test_dataloader = DataLoader(en_dev_test_dataset, batch_size=16, shuffle=True)\n",
    "\n",
    "evaluate_model(model, en_dev_test_dataloader, en_dev_pred_file_path, en_dev_gold_file_path,\n",
    "               evaluator_script, id2leaf_label, validation=False)"
   ],
   "metadata": {
    "collapsed": false,
    "ExecuteTime": {
     "end_time": "2024-04-29T01:28:51.155326Z",
     "start_time": "2024-04-29T01:28:50.883993Z"
    }
   },
   "id": "c52a243cbdf75c34",
   "execution_count": 38
  },
  {
   "cell_type": "markdown",
   "source": [
    "### text-embeddings-small"
   ],
   "metadata": {
    "collapsed": false
   },
   "id": "43239050363b426a"
  },
  {
   "cell_type": "code",
   "outputs": [
    {
     "data": {
      "text/plain": "<All keys matched successfully>"
     },
     "execution_count": 26,
     "metadata": {},
     "output_type": "execute_result"
    }
   ],
   "source": [
    "from modules.nn.OpenAiSmall import OpenAiSmall\n",
    "\n",
    "model = OpenAiSmall()\n",
    "device = torch.device('cpu')\n",
    "\n",
    "model.load_state_dict(torch.load('./models/subtask1a/openAI-Small/crisp-sweep-2.pth'))"
   ],
   "metadata": {
    "collapsed": false,
    "ExecuteTime": {
     "end_time": "2024-04-28T23:59:49.599930Z",
     "start_time": "2024-04-28T23:59:49.542934Z"
    }
   },
   "id": "974135bd5e2d9d5b",
   "execution_count": 26
  },
  {
   "cell_type": "markdown",
   "source": [
    "#### Bulgarian"
   ],
   "metadata": {
    "collapsed": false
   },
   "id": "127cdcf4656893b4"
  },
  {
   "cell_type": "code",
   "outputs": [
    {
     "name": "stdout",
     "output_type": "stream",
     "text": [
      "f1_h=0.43489\tprec_h=0.45970\trec_h=0.41263\n"
     ]
    }
   ],
   "source": [
    "bulgarian_pred_file_path = './Predictions/bulgarian_predictions_subtask1.txt'\n",
    "bulgarian_gold_file_path = './test_labels_ar_bg_md_version2/test_subtask1_bg.json'\n",
    "evaluator_script = './scorer-baseline/subtask_1_2a.py'\n",
    "\n",
    "bg_test_data = process_test_json(bulgarian_gold_file_path)\n",
    "\n",
    "\n",
    "bg_test_dataset = TestDataSet(bg_test_data, './TextFeatures/subtask1a/text-embedding-3-small/bg_test_text_features.pkl')\n",
    "bg_test_dataloader = DataLoader(bg_test_dataset, batch_size=64, shuffle=True)\n",
    "\n",
    "evaluate_model(model, bg_test_dataloader, bulgarian_pred_file_path, bulgarian_gold_file_path,\n",
    "               evaluator_script, id2leaf_label, validation=False, threshold=0.3)"
   ],
   "metadata": {
    "collapsed": false,
    "ExecuteTime": {
     "end_time": "2024-04-28T07:35:35.618555Z",
     "start_time": "2024-04-28T07:35:35.546558Z"
    }
   },
   "id": "98cda1b0b8f86d70",
   "execution_count": 29
  },
  {
   "cell_type": "markdown",
   "source": [
    "#### North Macedonian"
   ],
   "metadata": {
    "collapsed": false
   },
   "id": "47fa3eaa6c523ade"
  },
  {
   "cell_type": "code",
   "outputs": [
    {
     "name": "stdout",
     "output_type": "stream",
     "text": [
      "f1_h=0.38950\tprec_h=0.47849\trec_h=0.32841\n"
     ]
    }
   ],
   "source": [
    "macedonian_pred_file_path = './Predictions/macedonian_predictions_subtask1.txt'\n",
    "macedonian_gold_file_path = './test_labels_ar_bg_md_version2/test_subtask1_md.json'\n",
    "\n",
    "md_test_data = process_test_json(macedonian_gold_file_path)\n",
    "\n",
    "md_test_dataset = TestDataSet(md_test_data, './TextFeatures/subtask1a/text-embedding-3-small/md_test_text_features.pkl')\n",
    "md_test_dataloader = DataLoader(md_test_dataset, batch_size=64, shuffle=True)\n",
    "\n",
    "evaluate_model(model, md_test_dataloader, macedonian_pred_file_path, macedonian_gold_file_path,\n",
    "               evaluator_script, id2leaf_label, validation=False, threshold=0.3)"
   ],
   "metadata": {
    "collapsed": false,
    "ExecuteTime": {
     "end_time": "2024-04-28T07:35:53.664577Z",
     "start_time": "2024-04-28T07:35:53.614022Z"
    }
   },
   "id": "158f11059cdca0f2",
   "execution_count": 30
  },
  {
   "cell_type": "markdown",
   "source": [
    "#### Arabian"
   ],
   "metadata": {
    "collapsed": false
   },
   "id": "1067446520080c95"
  },
  {
   "cell_type": "code",
   "outputs": [
    {
     "name": "stdout",
     "output_type": "stream",
     "text": [
      "f1_h=0.37881\tprec_h=0.34911\trec_h=0.41404\n"
     ]
    }
   ],
   "source": [
    "arabian_pred_file_path = './Predictions/arabian_predictions_subtask1.txt'\n",
    "arabian_gold_file_path = './test_labels_ar_bg_md_version2/test_subtask1_ar.json'\n",
    "\n",
    "ar_test_data = process_test_json(arabian_gold_file_path)\n",
    "\n",
    "ar_test_dataset = TestDataSet(ar_test_data, './TextFeatures/subtask1a/text-embedding-3-small/ar_test_text_features.pkl')\n",
    "ar_test_dataloader = DataLoader(ar_test_dataset, batch_size=128, shuffle=True)\n",
    "\n",
    "evaluate_model(model, ar_test_dataloader, arabian_pred_file_path, arabian_gold_file_path, evaluator_script, \n",
    "               id2leaf_label, format=5, validation=False, threshold=0.3)"
   ],
   "metadata": {
    "collapsed": false,
    "ExecuteTime": {
     "end_time": "2024-04-28T07:36:01.711761Z",
     "start_time": "2024-04-28T07:36:01.685306Z"
    }
   },
   "id": "ac7eb28521ddccf7",
   "execution_count": 31
  },
  {
   "cell_type": "markdown",
   "source": [
    "#### English"
   ],
   "metadata": {
    "collapsed": false
   },
   "id": "7a9a409ba8241b0c"
  },
  {
   "cell_type": "code",
   "outputs": [],
   "source": [
    "en_pred_file_path = './Predictions/en_predictions_subtask1.txt'\n",
    "\n",
    "en_test_data = process_test_json('./test_data/english/en_subtask1_test_unlabeled.json')\n",
    "\n",
    "en_test_dataset = TestDataSet(en_test_data, './TextFeatures/subtask1a/text-embedding-3-small/en_test_text_features.pkl')\n",
    "en_test_dataloader = DataLoader(en_test_dataset, batch_size=16, shuffle=True)\n",
    "\n",
    "evaluate_model(model, en_test_dataloader, en_pred_file_path, None, evaluator_script, id2leaf_label, validation=False)"
   ],
   "metadata": {
    "collapsed": false,
    "ExecuteTime": {
     "end_time": "2024-04-28T07:36:11.123338Z",
     "start_time": "2024-04-28T07:36:10.674325Z"
    }
   },
   "id": "796e27dea7cadc7",
   "execution_count": 32
  },
  {
   "cell_type": "markdown",
   "source": [
    "0.50858\t0.73861\t0.38780"
   ],
   "metadata": {
    "collapsed": false
   },
   "id": "4389c30e567dc162"
  },
  {
   "cell_type": "code",
   "outputs": [
    {
     "name": "stdout",
     "output_type": "stream",
     "text": [
      "f1_h=0.49366\tprec_h=0.73151\trec_h=0.37253\n"
     ]
    }
   ],
   "source": [
    "en_dev_pred_file_path = './Predictions/en_dev_predictions_subtask1.txt'\n",
    "en_dev_gold_file_path = './dev_gold_labels/dev_subtask1_en.json'\n",
    "\n",
    "en_dev_test_data = process_test_json(en_dev_gold_file_path)\n",
    "\n",
    "en_dev_test_dataset = TestDataSet(en_dev_test_data,\n",
    "                                  './TextFeatures/subtask1a/text-embedding-3-small/en_dev_text_features.pkl')\n",
    "en_dev_test_dataloader = DataLoader(en_dev_test_dataset, batch_size=16, shuffle=True)\n",
    "\n",
    "evaluate_model(model, en_dev_test_dataloader, en_dev_pred_file_path, en_dev_gold_file_path,\n",
    "               evaluator_script, id2leaf_label, validation=False)"
   ],
   "metadata": {
    "collapsed": false,
    "ExecuteTime": {
     "end_time": "2024-04-29T00:00:11.189255Z",
     "start_time": "2024-04-29T00:00:10.879191Z"
    }
   },
   "id": "c873e242b6f28aaf",
   "execution_count": 27
  },
  {
   "cell_type": "markdown",
   "source": [
    "### text-embeddings-Large"
   ],
   "metadata": {
    "collapsed": false
   },
   "id": "68cfc249eed7e46b"
  },
  {
   "cell_type": "code",
   "outputs": [
    {
     "data": {
      "text/plain": "<All keys matched successfully>"
     },
     "execution_count": 33,
     "metadata": {},
     "output_type": "execute_result"
    }
   ],
   "source": [
    "from modules.nn.OpenAiLarge import OpenAiLarge\n",
    "\n",
    "model = OpenAiLarge()\n",
    "device = torch.device('cpu')\n",
    "\n",
    "model.load_state_dict(torch.load('./models/subtask1a/openAI-Large/trim-sweep-4.pth'))"
   ],
   "metadata": {
    "collapsed": false,
    "ExecuteTime": {
     "end_time": "2024-04-28T07:37:49.623470Z",
     "start_time": "2024-04-28T07:37:49.511444Z"
    }
   },
   "id": "b65260198b9aa67c",
   "execution_count": 33
  },
  {
   "cell_type": "markdown",
   "source": [
    "#### Bulgarian"
   ],
   "metadata": {
    "collapsed": false
   },
   "id": "d8a98648998d0a41"
  },
  {
   "cell_type": "code",
   "outputs": [
    {
     "name": "stdout",
     "output_type": "stream",
     "text": [
      "f1_h=0.44044\tprec_h=0.43883\trec_h=0.44206\n"
     ]
    }
   ],
   "source": [
    "bulgarian_pred_file_path = './Predictions/bulgarian_predictions_subtask1.txt'\n",
    "bulgarian_gold_file_path = './test_labels_ar_bg_md_version2/test_subtask1_bg.json'\n",
    "evaluator_script = './scorer-baseline/subtask_1_2a.py'\n",
    "\n",
    "bg_test_data = process_test_json(bulgarian_gold_file_path)\n",
    "\n",
    "\n",
    "bg_test_dataset = TestDataSet(bg_test_data, './TextFeatures/subtask1a/text-embedding-3-large/bg_test_text_features.pkl')\n",
    "bg_test_dataloader = DataLoader(bg_test_dataset, batch_size=64, shuffle=True)\n",
    "\n",
    "evaluate_model(model, bg_test_dataloader, bulgarian_pred_file_path, bulgarian_gold_file_path,\n",
    "               evaluator_script, id2leaf_label, validation=False, threshold=0.3)"
   ],
   "metadata": {
    "collapsed": false,
    "ExecuteTime": {
     "end_time": "2024-04-28T07:38:01.819150Z",
     "start_time": "2024-04-28T07:38:01.740023Z"
    }
   },
   "id": "1380cb9a3b6d4158",
   "execution_count": 35
  },
  {
   "cell_type": "markdown",
   "source": [
    "#### North Macedonian"
   ],
   "metadata": {
    "collapsed": false
   },
   "id": "21b7943c1ed70fa1"
  },
  {
   "cell_type": "code",
   "outputs": [
    {
     "name": "stdout",
     "output_type": "stream",
     "text": [
      "f1_h=0.38544\tprec_h=0.58838\trec_h=0.28659\n"
     ]
    }
   ],
   "source": [
    "macedonian_pred_file_path = './Predictions/macedonian_predictions_subtask1.txt'\n",
    "macedonian_gold_file_path = './test_labels_ar_bg_md_version2/test_subtask1_md.json'\n",
    "\n",
    "md_test_data = process_test_json(macedonian_gold_file_path)\n",
    "\n",
    "md_test_dataset = TestDataSet(md_test_data, './TextFeatures/subtask1a/text-embedding-3-large/md_test_text_features.pkl')\n",
    "md_test_dataloader = DataLoader(md_test_dataset, batch_size=64, shuffle=True)\n",
    "\n",
    "evaluate_model(model, md_test_dataloader, macedonian_pred_file_path, macedonian_gold_file_path,\n",
    "               evaluator_script, id2leaf_label, validation=False, threshold=0.3)"
   ],
   "metadata": {
    "collapsed": false,
    "ExecuteTime": {
     "end_time": "2024-04-28T07:38:09.137659Z",
     "start_time": "2024-04-28T07:38:09.075541Z"
    }
   },
   "id": "dd7caaafdb33b7d3",
   "execution_count": 36
  },
  {
   "cell_type": "markdown",
   "source": [
    "#### Arabian"
   ],
   "metadata": {
    "collapsed": false
   },
   "id": "ceed9f44ab9a70fa"
  },
  {
   "cell_type": "code",
   "outputs": [
    {
     "name": "stdout",
     "output_type": "stream",
     "text": [
      "f1_h=0.38660\tprec_h=0.30550\trec_h=0.52632\n"
     ]
    }
   ],
   "source": [
    "arabian_pred_file_path = './Predictions/arabian_predictions_subtask1.txt'\n",
    "arabian_gold_file_path = './test_labels_ar_bg_md_version2/test_subtask1_ar.json'\n",
    "\n",
    "ar_test_data = process_test_json(arabian_gold_file_path)\n",
    "\n",
    "ar_test_dataset = TestDataSet(ar_test_data, './TextFeatures/subtask1a/text-embedding-3-large/ar_test_text_features.pkl')\n",
    "ar_test_dataloader = DataLoader(ar_test_dataset, batch_size=128, shuffle=True)\n",
    "\n",
    "evaluate_model(model, ar_test_dataloader, arabian_pred_file_path, arabian_gold_file_path, evaluator_script, \n",
    "               id2leaf_label, format=5, validation=False, threshold=0.3)"
   ],
   "metadata": {
    "collapsed": false,
    "ExecuteTime": {
     "end_time": "2024-04-28T07:38:18.963480Z",
     "start_time": "2024-04-28T07:38:18.935345Z"
    }
   },
   "id": "ed43490a17dcd485",
   "execution_count": 37
  },
  {
   "cell_type": "markdown",
   "source": [
    "#### English"
   ],
   "metadata": {
    "collapsed": false
   },
   "id": "785f4ec48590ef41"
  },
  {
   "cell_type": "code",
   "outputs": [],
   "source": [
    "en_pred_file_path = './Predictions/en_predictions_subtask1.txt'\n",
    "\n",
    "en_test_data = process_test_json('./test_data/english/en_subtask1_test_unlabeled.json')\n",
    "\n",
    "en_test_dataset = TestDataSet(en_test_data, './TextFeatures/subtask1a/text-embedding-3-large/en_test_text_features.pkl')\n",
    "en_test_dataloader = DataLoader(en_test_dataset, batch_size=16, shuffle=True)\n",
    "\n",
    "evaluate_model(model, en_test_dataloader, en_pred_file_path, None, evaluator_script, id2leaf_label, validation=False)"
   ],
   "metadata": {
    "collapsed": false,
    "ExecuteTime": {
     "end_time": "2024-04-28T07:38:27.797574Z",
     "start_time": "2024-04-28T07:38:26.970172Z"
    }
   },
   "id": "f06adcf23e894fb3",
   "execution_count": 38
  },
  {
   "cell_type": "markdown",
   "source": [
    "0.52069\t0.75674\t0.39689"
   ],
   "metadata": {
    "collapsed": false
   },
   "id": "6e50860ffd1bc3c5"
  }
 ],
 "metadata": {
  "kernelspec": {
   "display_name": "Python 3",
   "language": "python",
   "name": "python3"
  },
  "language_info": {
   "codemirror_mode": {
    "name": "ipython",
    "version": 2
   },
   "file_extension": ".py",
   "mimetype": "text/x-python",
   "name": "python",
   "nbconvert_exporter": "python",
   "pygments_lexer": "ipython2",
   "version": "2.7.6"
  }
 },
 "nbformat": 4,
 "nbformat_minor": 5
}
